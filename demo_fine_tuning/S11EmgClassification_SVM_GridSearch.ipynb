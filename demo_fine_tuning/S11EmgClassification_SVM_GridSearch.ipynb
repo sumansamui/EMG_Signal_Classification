{
 "cells": [
  {
   "cell_type": "code",
   "execution_count": 1,
   "metadata": {},
   "outputs": [],
   "source": [
    "%matplotlib inline\n",
    "\n",
    "import numpy as np\n",
    "import pandas as pd\n",
    "import matplotlib.pyplot as plt\n",
    "import math\n",
    "from sklearn.preprocessing import StandardScaler\n",
    "from sklearn.model_selection import GridSearchCV\n",
    "from sklearn.svm import SVC\n",
    "from sklearn.metrics import accuracy_score, f1_score, recall_score,precision_score, classification_report, confusion_matrix\n",
    "import collections\n",
    "from sklearn.model_selection import cross_val_predict\n",
    "from sklearn.metrics import precision_recall_curve, roc_curve\n",
    "from sklearn.multiclass import OneVsRestClassifier\n",
    "from sklearn.preprocessing import label_binarize\n",
    "\n",
    "np.random.seed(1337)  # for reproducibility"
   ]
  },
  {
   "cell_type": "code",
   "execution_count": 2,
   "metadata": {},
   "outputs": [],
   "source": [
    "\n",
    "def load_dataset(file_train, file_test):\n",
    "    \n",
    "    df_train = pd.read_excel(file_train,header=None)\n",
    "    \n",
    "    df_train=df_train.sample(frac=1)\n",
    "\n",
    "    X_train, Y_train = format_data(df_train)\n",
    "\n",
    "    df_test = pd.read_excel(file_test,header=None)\n",
    "    \n",
    "    df_test=df_test.sample(frac=1)\n",
    "\n",
    "    X_test, Y_test = format_data(df_test)\n",
    "\n",
    "    return X_train, Y_train, X_test, Y_test\n",
    "\n",
    "\n",
    "def format_data(df):\n",
    "    \n",
    "    X = np.array(df.drop(df.columns[-1], 1))\n",
    "\n",
    "\n",
    "    Y = np.array(df[df.columns[-1]])\n",
    "\n",
    "    \n",
    "    Y=Y-1\n",
    "\n",
    "    return X,Y\n"
   ]
  },
  {
   "cell_type": "code",
   "execution_count": 3,
   "metadata": {},
   "outputs": [],
   "source": [
    "train_set_file = 'S11_trainset_P135_all.xls'\n",
    "\n",
    "\n",
    "test_set_file = 'S11_cvset_P12345_20.xls'\n",
    "\n",
    "\n",
    "X_train, Y_train, X_test, Y_test = load_dataset(train_set_file,test_set_file)"
   ]
  },
  {
   "cell_type": "code",
   "execution_count": 4,
   "metadata": {},
   "outputs": [
    {
     "name": "stdout",
     "output_type": "stream",
     "text": [
      "(28368, 42)\n",
      "(28368,)\n",
      "(7040, 42)\n",
      "(7040,)\n"
     ]
    }
   ],
   "source": [
    "print(X_train.shape)\n",
    "print(Y_train.shape)\n",
    "\n",
    "print(X_test.shape)\n",
    "print(Y_test.shape)"
   ]
  },
  {
   "cell_type": "code",
   "execution_count": 48,
   "metadata": {},
   "outputs": [
    {
     "data": {
      "text/plain": [
       "8"
      ]
     },
     "execution_count": 48,
     "metadata": {},
     "output_type": "execute_result"
    }
   ],
   "source": [
    "no_of_classes=np.unique(Y_train).size\n",
    "no_of_classes"
   ]
  },
  {
   "cell_type": "code",
   "execution_count": 2,
   "metadata": {},
   "outputs": [],
   "source": [
    "X_train = np.load('X_train.npy') \n",
    "\n",
    "Y_train = np.load('Y_train.npy')\n",
    "\n",
    "X_test = np.load('X_test.npy')\n",
    "\n",
    "Y_test = np.load('Y_test.npy')"
   ]
  },
  {
   "cell_type": "code",
   "execution_count": 3,
   "metadata": {},
   "outputs": [],
   "source": [
    "scaler = StandardScaler()\n",
    "X_train = scaler.fit_transform(X_train)\n",
    "X_test = scaler.fit_transform(X_test)"
   ]
  },
  {
   "cell_type": "markdown",
   "metadata": {},
   "source": [
    "# GridSearch"
   ]
  },
  {
   "cell_type": "code",
   "execution_count": 26,
   "metadata": {
    "collapsed": true
   },
   "outputs": [],
   "source": [
    "param_grid={'C': [0.1, 1, 10, 100, 1000],'gamma': ['scale','auto', 0.00001, 0.0001, 0.001,0.01,0.1,1,5]}"
   ]
  },
  {
   "cell_type": "code",
   "execution_count": 6,
   "metadata": {},
   "outputs": [],
   "source": [
    "svm_clf=SVC(kernel='rbf')"
   ]
  },
  {
   "cell_type": "code",
   "execution_count": 28,
   "metadata": {
    "collapsed": true
   },
   "outputs": [],
   "source": [
    "grid_search = GridSearchCV(svm_clf, param_grid, scoring='accuracy', cv = 5, verbose=5,return_train_score=True)"
   ]
  },
  {
   "cell_type": "code",
   "execution_count": 29,
   "metadata": {},
   "outputs": [
    {
     "name": "stdout",
     "output_type": "stream",
     "text": [
      "Fitting 5 folds for each of 45 candidates, totalling 225 fits\n",
      "[CV] C=0.1, gamma=scale ..............................................\n"
     ]
    },
    {
     "name": "stderr",
     "output_type": "stream",
     "text": [
      "[Parallel(n_jobs=1)]: Using backend SequentialBackend with 1 concurrent workers.\n"
     ]
    },
    {
     "name": "stdout",
     "output_type": "stream",
     "text": [
      "[CV]  C=0.1, gamma=scale, score=(train=0.997, test=0.995), total=  11.7s\n",
      "[CV] C=0.1, gamma=scale ..............................................\n"
     ]
    },
    {
     "name": "stderr",
     "output_type": "stream",
     "text": [
      "[Parallel(n_jobs=1)]: Done   1 out of   1 | elapsed:   21.6s remaining:    0.0s\n"
     ]
    },
    {
     "name": "stdout",
     "output_type": "stream",
     "text": [
      "[CV]  C=0.1, gamma=scale, score=(train=0.997, test=0.996), total=  11.8s\n",
      "[CV] C=0.1, gamma=scale ..............................................\n"
     ]
    },
    {
     "name": "stderr",
     "output_type": "stream",
     "text": [
      "[Parallel(n_jobs=1)]: Done   2 out of   2 | elapsed:   45.8s remaining:    0.0s\n"
     ]
    },
    {
     "name": "stdout",
     "output_type": "stream",
     "text": [
      "[CV]  C=0.1, gamma=scale, score=(train=0.997, test=0.996), total=  12.7s\n",
      "[CV] C=0.1, gamma=scale ..............................................\n"
     ]
    },
    {
     "name": "stderr",
     "output_type": "stream",
     "text": [
      "[Parallel(n_jobs=1)]: Done   3 out of   3 | elapsed:  1.2min remaining:    0.0s\n"
     ]
    },
    {
     "name": "stdout",
     "output_type": "stream",
     "text": [
      "[CV]  C=0.1, gamma=scale, score=(train=0.997, test=0.997), total=   9.7s\n",
      "[CV] C=0.1, gamma=scale ..............................................\n"
     ]
    },
    {
     "name": "stderr",
     "output_type": "stream",
     "text": [
      "[Parallel(n_jobs=1)]: Done   4 out of   4 | elapsed:  1.5min remaining:    0.0s\n"
     ]
    },
    {
     "name": "stdout",
     "output_type": "stream",
     "text": [
      "[CV]  C=0.1, gamma=scale, score=(train=0.996, test=0.998), total=  13.0s\n",
      "[CV] C=0.1, gamma=auto ...............................................\n",
      "[CV]  C=0.1, gamma=auto, score=(train=0.997, test=0.995), total=  11.7s\n",
      "[CV] C=0.1, gamma=auto ...............................................\n",
      "[CV]  C=0.1, gamma=auto, score=(train=0.997, test=0.996), total=  10.0s\n",
      "[CV] C=0.1, gamma=auto ...............................................\n",
      "[CV]  C=0.1, gamma=auto, score=(train=0.997, test=0.996), total=  10.8s\n",
      "[CV] C=0.1, gamma=auto ...............................................\n",
      "[CV]  C=0.1, gamma=auto, score=(train=0.997, test=0.997), total=  14.3s\n",
      "[CV] C=0.1, gamma=auto ...............................................\n",
      "[CV]  C=0.1, gamma=auto, score=(train=0.996, test=0.998), total=  10.4s\n",
      "[CV] C=0.1, gamma=1e-05 ..............................................\n",
      "[CV]  C=0.1, gamma=1e-05, score=(train=0.126, test=0.126), total= 2.1min\n",
      "[CV] C=0.1, gamma=1e-05 ..............................................\n",
      "[CV]  C=0.1, gamma=1e-05, score=(train=0.126, test=0.126), total= 2.1min\n",
      "[CV] C=0.1, gamma=1e-05 ..............................................\n",
      "[CV]  C=0.1, gamma=1e-05, score=(train=0.126, test=0.126), total= 2.1min\n",
      "[CV] C=0.1, gamma=1e-05 ..............................................\n",
      "[CV]  C=0.1, gamma=1e-05, score=(train=0.126, test=0.126), total= 2.0min\n",
      "[CV] C=0.1, gamma=1e-05 ..............................................\n",
      "[CV]  C=0.1, gamma=1e-05, score=(train=0.126, test=0.126), total= 2.0min\n",
      "[CV] C=0.1, gamma=0.0001 .............................................\n",
      "[CV]  C=0.1, gamma=0.0001, score=(train=0.812, test=0.810), total= 1.6min\n",
      "[CV] C=0.1, gamma=0.0001 .............................................\n",
      "[CV]  C=0.1, gamma=0.0001, score=(train=0.805, test=0.813), total= 1.8min\n",
      "[CV] C=0.1, gamma=0.0001 .............................................\n",
      "[CV]  C=0.1, gamma=0.0001, score=(train=0.805, test=0.811), total= 1.1min\n",
      "[CV] C=0.1, gamma=0.0001 .............................................\n",
      "[CV]  C=0.1, gamma=0.0001, score=(train=0.816, test=0.804), total= 1.6min\n",
      "[CV] C=0.1, gamma=0.0001 .............................................\n",
      "[CV]  C=0.1, gamma=0.0001, score=(train=0.818, test=0.821), total= 1.9min\n",
      "[CV] C=0.1, gamma=0.001 ..............................................\n",
      "[CV]  C=0.1, gamma=0.001, score=(train=0.970, test=0.969), total=  47.9s\n",
      "[CV] C=0.1, gamma=0.001 ..............................................\n",
      "[CV]  C=0.1, gamma=0.001, score=(train=0.972, test=0.970), total=  45.3s\n",
      "[CV] C=0.1, gamma=0.001 ..............................................\n",
      "[CV]  C=0.1, gamma=0.001, score=(train=0.970, test=0.972), total=  44.5s\n",
      "[CV] C=0.1, gamma=0.001 ..............................................\n",
      "[CV]  C=0.1, gamma=0.001, score=(train=0.969, test=0.966), total=  42.2s\n",
      "[CV] C=0.1, gamma=0.001 ..............................................\n",
      "[CV]  C=0.1, gamma=0.001, score=(train=0.969, test=0.972), total=  44.4s\n",
      "[CV] C=0.1, gamma=0.01 ...............................................\n",
      "[CV]  C=0.1, gamma=0.01, score=(train=0.995, test=0.993), total=  15.7s\n",
      "[CV] C=0.1, gamma=0.01 ...............................................\n",
      "[CV]  C=0.1, gamma=0.01, score=(train=0.994, test=0.993), total=  14.2s\n",
      "[CV] C=0.1, gamma=0.01 ...............................................\n",
      "[CV]  C=0.1, gamma=0.01, score=(train=0.994, test=0.995), total=  16.4s\n",
      "[CV] C=0.1, gamma=0.01 ...............................................\n",
      "[CV]  C=0.1, gamma=0.01, score=(train=0.995, test=0.995), total=  12.0s\n",
      "[CV] C=0.1, gamma=0.01 ...............................................\n",
      "[CV]  C=0.1, gamma=0.01, score=(train=0.994, test=0.995), total=  14.3s\n",
      "[CV] C=0.1, gamma=0.1 ................................................\n",
      "[CV]  C=0.1, gamma=0.1, score=(train=0.997, test=0.995), total=  28.0s\n",
      "[CV] C=0.1, gamma=0.1 ................................................\n",
      "[CV]  C=0.1, gamma=0.1, score=(train=0.997, test=0.996), total=  26.9s\n",
      "[CV] C=0.1, gamma=0.1 ................................................\n",
      "[CV]  C=0.1, gamma=0.1, score=(train=0.997, test=0.996), total=  27.8s\n",
      "[CV] C=0.1, gamma=0.1 ................................................\n",
      "[CV]  C=0.1, gamma=0.1, score=(train=0.997, test=0.995), total=  26.4s\n",
      "[CV] C=0.1, gamma=0.1 ................................................\n",
      "[CV]  C=0.1, gamma=0.1, score=(train=0.996, test=0.995), total=  30.2s\n",
      "[CV] C=0.1, gamma=1 ..................................................\n",
      "[CV] .. C=0.1, gamma=1, score=(train=0.126, test=0.126), total= 2.4min\n",
      "[CV] C=0.1, gamma=1 ..................................................\n",
      "[CV] .. C=0.1, gamma=1, score=(train=0.126, test=0.126), total= 2.2min\n",
      "[CV] C=0.1, gamma=1 ..................................................\n",
      "[CV] .. C=0.1, gamma=1, score=(train=0.126, test=0.126), total= 2.4min\n",
      "[CV] C=0.1, gamma=1 ..................................................\n",
      "[CV] .. C=0.1, gamma=1, score=(train=0.126, test=0.126), total= 2.4min\n",
      "[CV] C=0.1, gamma=1 ..................................................\n",
      "[CV] .. C=0.1, gamma=1, score=(train=0.126, test=0.126), total= 1.8min\n",
      "[CV] C=0.1, gamma=5 ..................................................\n",
      "[CV] .. C=0.1, gamma=5, score=(train=0.126, test=0.126), total= 2.1min\n",
      "[CV] C=0.1, gamma=5 ..................................................\n",
      "[CV] .. C=0.1, gamma=5, score=(train=0.126, test=0.126), total= 2.3min\n",
      "[CV] C=0.1, gamma=5 ..................................................\n",
      "[CV] .. C=0.1, gamma=5, score=(train=0.126, test=0.126), total= 2.6min\n",
      "[CV] C=0.1, gamma=5 ..................................................\n",
      "[CV] .. C=0.1, gamma=5, score=(train=0.126, test=0.126), total= 2.5min\n",
      "[CV] C=0.1, gamma=5 ..................................................\n",
      "[CV] .. C=0.1, gamma=5, score=(train=0.126, test=0.126), total= 2.8min\n",
      "[CV] C=1, gamma=scale ................................................\n",
      "[CV]  C=1, gamma=scale, score=(train=0.999, test=0.998), total=   5.5s\n",
      "[CV] C=1, gamma=scale ................................................\n",
      "[CV]  C=1, gamma=scale, score=(train=0.999, test=0.999), total=   6.4s\n",
      "[CV] C=1, gamma=scale ................................................\n",
      "[CV]  C=1, gamma=scale, score=(train=0.999, test=0.998), total=   6.6s\n",
      "[CV] C=1, gamma=scale ................................................\n",
      "[CV]  C=1, gamma=scale, score=(train=0.999, test=0.999), total=   6.6s\n",
      "[CV] C=1, gamma=scale ................................................\n",
      "[CV]  C=1, gamma=scale, score=(train=0.999, test=0.999), total=   4.9s\n",
      "[CV] C=1, gamma=auto .................................................\n",
      "[CV] . C=1, gamma=auto, score=(train=0.999, test=0.998), total=   6.5s\n",
      "[CV] C=1, gamma=auto .................................................\n",
      "[CV] . C=1, gamma=auto, score=(train=0.999, test=0.999), total=   6.4s\n",
      "[CV] C=1, gamma=auto .................................................\n",
      "[CV] . C=1, gamma=auto, score=(train=0.999, test=0.998), total=   6.5s\n",
      "[CV] C=1, gamma=auto .................................................\n",
      "[CV] . C=1, gamma=auto, score=(train=0.999, test=0.999), total=   6.2s\n",
      "[CV] C=1, gamma=auto .................................................\n",
      "[CV] . C=1, gamma=auto, score=(train=0.999, test=0.999), total=   5.9s\n",
      "[CV] C=1, gamma=1e-05 ................................................\n",
      "[CV]  C=1, gamma=1e-05, score=(train=0.817, test=0.816), total= 2.2min\n",
      "[CV] C=1, gamma=1e-05 ................................................\n",
      "[CV]  C=1, gamma=1e-05, score=(train=0.810, test=0.816), total= 2.2min\n",
      "[CV] C=1, gamma=1e-05 ................................................\n",
      "[CV]  C=1, gamma=1e-05, score=(train=0.809, test=0.813), total= 2.5min\n",
      "[CV] C=1, gamma=1e-05 ................................................\n",
      "[CV]  C=1, gamma=1e-05, score=(train=0.819, test=0.809), total= 2.4min\n",
      "[CV] C=1, gamma=1e-05 ................................................\n",
      "[CV]  C=1, gamma=1e-05, score=(train=0.822, test=0.824), total= 2.2min\n",
      "[CV] C=1, gamma=0.0001 ...............................................\n",
      "[CV]  C=1, gamma=0.0001, score=(train=0.970, test=0.969), total=  56.3s\n",
      "[CV] C=1, gamma=0.0001 ...............................................\n",
      "[CV]  C=1, gamma=0.0001, score=(train=0.972, test=0.971), total=  58.6s\n",
      "[CV] C=1, gamma=0.0001 ...............................................\n",
      "[CV]  C=1, gamma=0.0001, score=(train=0.971, test=0.973), total=  51.9s\n",
      "[CV] C=1, gamma=0.0001 ...............................................\n",
      "[CV]  C=1, gamma=0.0001, score=(train=0.969, test=0.967), total=  56.7s\n",
      "[CV] C=1, gamma=0.0001 ...............................................\n",
      "[CV]  C=1, gamma=0.0001, score=(train=0.970, test=0.973), total=  54.0s\n",
      "[CV] C=1, gamma=0.001 ................................................\n",
      "[CV]  C=1, gamma=0.001, score=(train=0.991, test=0.990), total=  17.4s\n",
      "[CV] C=1, gamma=0.001 ................................................\n",
      "[CV]  C=1, gamma=0.001, score=(train=0.990, test=0.989), total=  17.3s\n",
      "[CV] C=1, gamma=0.001 ................................................\n",
      "[CV]  C=1, gamma=0.001, score=(train=0.991, test=0.990), total=  16.0s\n",
      "[CV] C=1, gamma=0.001 ................................................\n",
      "[CV]  C=1, gamma=0.001, score=(train=0.990, test=0.992), total=  17.2s\n",
      "[CV] C=1, gamma=0.001 ................................................\n",
      "[CV]  C=1, gamma=0.001, score=(train=0.990, test=0.991), total=  17.4s\n",
      "[CV] C=1, gamma=0.01 .................................................\n",
      "[CV] . C=1, gamma=0.01, score=(train=0.998, test=0.997), total=   5.7s\n",
      "[CV] C=1, gamma=0.01 .................................................\n",
      "[CV] . C=1, gamma=0.01, score=(train=0.998, test=0.998), total=   5.4s\n",
      "[CV] C=1, gamma=0.01 .................................................\n",
      "[CV] . C=1, gamma=0.01, score=(train=0.999, test=0.997), total=   5.6s\n",
      "[CV] C=1, gamma=0.01 .................................................\n",
      "[CV] . C=1, gamma=0.01, score=(train=0.998, test=0.999), total=   5.9s\n",
      "[CV] C=1, gamma=0.01 .................................................\n",
      "[CV] . C=1, gamma=0.01, score=(train=0.998, test=0.999), total=   6.2s\n",
      "[CV] C=1, gamma=0.1 ..................................................\n",
      "[CV] .. C=1, gamma=0.1, score=(train=1.000, test=0.999), total=  22.2s\n",
      "[CV] C=1, gamma=0.1 ..................................................\n",
      "[CV] .. C=1, gamma=0.1, score=(train=1.000, test=0.998), total=  23.0s\n",
      "[CV] C=1, gamma=0.1 ..................................................\n",
      "[CV] .. C=1, gamma=0.1, score=(train=1.000, test=0.999), total=  23.9s\n",
      "[CV] C=1, gamma=0.1 ..................................................\n",
      "[CV] .. C=1, gamma=0.1, score=(train=1.000, test=0.999), total=  24.5s\n",
      "[CV] C=1, gamma=0.1 ..................................................\n",
      "[CV] .. C=1, gamma=0.1, score=(train=1.000, test=0.999), total=  23.5s\n",
      "[CV] C=1, gamma=1 ....................................................\n",
      "[CV] .... C=1, gamma=1, score=(train=1.000, test=0.694), total= 3.6min\n",
      "[CV] C=1, gamma=1 ....................................................\n",
      "[CV] .... C=1, gamma=1, score=(train=1.000, test=0.693), total= 3.6min\n",
      "[CV] C=1, gamma=1 ....................................................\n",
      "[CV] .... C=1, gamma=1, score=(train=1.000, test=0.673), total= 3.7min\n",
      "[CV] C=1, gamma=1 ....................................................\n",
      "[CV] .... C=1, gamma=1, score=(train=1.000, test=0.676), total= 3.6min\n",
      "[CV] C=1, gamma=1 ....................................................\n",
      "[CV] .... C=1, gamma=1, score=(train=1.000, test=0.692), total= 3.6min\n",
      "[CV] C=1, gamma=5 ....................................................\n",
      "[CV] .... C=1, gamma=5, score=(train=1.000, test=0.136), total= 3.8min\n",
      "[CV] C=1, gamma=5 ....................................................\n",
      "[CV] .... C=1, gamma=5, score=(train=1.000, test=0.137), total= 3.8min\n",
      "[CV] C=1, gamma=5 ....................................................\n",
      "[CV] .... C=1, gamma=5, score=(train=1.000, test=0.135), total= 3.8min\n",
      "[CV] C=1, gamma=5 ....................................................\n",
      "[CV] .... C=1, gamma=5, score=(train=1.000, test=0.140), total= 3.6min\n",
      "[CV] C=1, gamma=5 ....................................................\n",
      "[CV] .... C=1, gamma=5, score=(train=1.000, test=0.140), total= 3.8min\n",
      "[CV] C=10, gamma=scale ...............................................\n",
      "[CV]  C=10, gamma=scale, score=(train=1.000, test=0.999), total=   5.6s\n",
      "[CV] C=10, gamma=scale ...............................................\n",
      "[CV]  C=10, gamma=scale, score=(train=1.000, test=0.999), total=   5.7s\n",
      "[CV] C=10, gamma=scale ...............................................\n",
      "[CV]  C=10, gamma=scale, score=(train=1.000, test=1.000), total=   5.4s\n",
      "[CV] C=10, gamma=scale ...............................................\n",
      "[CV]  C=10, gamma=scale, score=(train=1.000, test=1.000), total=   4.7s\n",
      "[CV] C=10, gamma=scale ...............................................\n",
      "[CV]  C=10, gamma=scale, score=(train=1.000, test=1.000), total=   5.4s\n",
      "[CV] C=10, gamma=auto ................................................\n",
      "[CV]  C=10, gamma=auto, score=(train=1.000, test=0.999), total=   5.3s\n",
      "[CV] C=10, gamma=auto ................................................\n",
      "[CV]  C=10, gamma=auto, score=(train=1.000, test=0.999), total=   5.7s\n",
      "[CV] C=10, gamma=auto ................................................\n",
      "[CV]  C=10, gamma=auto, score=(train=1.000, test=1.000), total=   5.4s\n",
      "[CV] C=10, gamma=auto ................................................\n",
      "[CV]  C=10, gamma=auto, score=(train=1.000, test=1.000), total=   5.9s\n",
      "[CV] C=10, gamma=auto ................................................\n",
      "[CV]  C=10, gamma=auto, score=(train=1.000, test=1.000), total=   4.6s\n",
      "[CV] C=10, gamma=1e-05 ...............................................\n",
      "[CV]  C=10, gamma=1e-05, score=(train=0.970, test=0.969), total=  57.6s\n",
      "[CV] C=10, gamma=1e-05 ...............................................\n",
      "[CV]  C=10, gamma=1e-05, score=(train=0.972, test=0.971), total=  56.8s\n",
      "[CV] C=10, gamma=1e-05 ...............................................\n",
      "[CV]  C=10, gamma=1e-05, score=(train=0.971, test=0.973), total=  58.2s\n",
      "[CV] C=10, gamma=1e-05 ...............................................\n",
      "[CV]  C=10, gamma=1e-05, score=(train=0.969, test=0.966), total=  56.3s\n",
      "[CV] C=10, gamma=1e-05 ...............................................\n",
      "[CV]  C=10, gamma=1e-05, score=(train=0.970, test=0.973), total=  47.6s\n",
      "[CV] C=10, gamma=0.0001 ..............................................\n",
      "[CV]  C=10, gamma=0.0001, score=(train=0.990, test=0.989), total=  12.8s\n",
      "[CV] C=10, gamma=0.0001 ..............................................\n",
      "[CV]  C=10, gamma=0.0001, score=(train=0.990, test=0.989), total=  10.1s\n",
      "[CV] C=10, gamma=0.0001 ..............................................\n",
      "[CV]  C=10, gamma=0.0001, score=(train=0.990, test=0.990), total=  13.8s\n",
      "[CV] C=10, gamma=0.0001 ..............................................\n",
      "[CV]  C=10, gamma=0.0001, score=(train=0.990, test=0.991), total=  14.0s\n",
      "[CV] C=10, gamma=0.0001 ..............................................\n",
      "[CV]  C=10, gamma=0.0001, score=(train=0.990, test=0.991), total=  15.1s\n",
      "[CV] C=10, gamma=0.001 ...............................................\n",
      "[CV]  C=10, gamma=0.001, score=(train=0.998, test=0.997), total=   3.7s\n",
      "[CV] C=10, gamma=0.001 ...............................................\n",
      "[CV]  C=10, gamma=0.001, score=(train=0.998, test=0.997), total=   3.9s\n",
      "[CV] C=10, gamma=0.001 ...............................................\n",
      "[CV]  C=10, gamma=0.001, score=(train=0.998, test=0.998), total=   4.0s\n",
      "[CV] C=10, gamma=0.001 ...............................................\n",
      "[CV]  C=10, gamma=0.001, score=(train=0.998, test=0.999), total=   4.5s\n",
      "[CV] C=10, gamma=0.001 ...............................................\n",
      "[CV]  C=10, gamma=0.001, score=(train=0.998, test=0.999), total=   5.2s\n",
      "[CV] C=10, gamma=0.01 ................................................\n",
      "[CV]  C=10, gamma=0.01, score=(train=1.000, test=0.999), total=   3.0s\n",
      "[CV] C=10, gamma=0.01 ................................................\n",
      "[CV]  C=10, gamma=0.01, score=(train=1.000, test=0.999), total=   2.8s\n",
      "[CV] C=10, gamma=0.01 ................................................\n",
      "[CV]  C=10, gamma=0.01, score=(train=1.000, test=0.999), total=   2.7s\n",
      "[CV] C=10, gamma=0.01 ................................................\n",
      "[CV]  C=10, gamma=0.01, score=(train=1.000, test=1.000), total=   3.1s\n",
      "[CV] C=10, gamma=0.01 ................................................\n",
      "[CV]  C=10, gamma=0.01, score=(train=0.999, test=1.000), total=   3.1s\n",
      "[CV] C=10, gamma=0.1 .................................................\n",
      "[CV] . C=10, gamma=0.1, score=(train=1.000, test=0.999), total=  19.9s\n",
      "[CV] C=10, gamma=0.1 .................................................\n",
      "[CV] . C=10, gamma=0.1, score=(train=1.000, test=0.999), total=  19.1s\n",
      "[CV] C=10, gamma=0.1 .................................................\n",
      "[CV] . C=10, gamma=0.1, score=(train=1.000, test=0.999), total=  17.3s\n",
      "[CV] C=10, gamma=0.1 .................................................\n",
      "[CV] . C=10, gamma=0.1, score=(train=1.000, test=1.000), total=  18.4s\n",
      "[CV] C=10, gamma=0.1 .................................................\n",
      "[CV] . C=10, gamma=0.1, score=(train=1.000, test=0.999), total=  18.6s\n",
      "[CV] C=10, gamma=1 ...................................................\n",
      "[CV] ... C=10, gamma=1, score=(train=1.000, test=0.721), total= 3.0min\n",
      "[CV] C=10, gamma=1 ...................................................\n",
      "[CV] ... C=10, gamma=1, score=(train=1.000, test=0.716), total= 2.7min\n",
      "[CV] C=10, gamma=1 ...................................................\n",
      "[CV] ... C=10, gamma=1, score=(train=1.000, test=0.698), total= 3.1min\n",
      "[CV] C=10, gamma=1 ...................................................\n",
      "[CV] ... C=10, gamma=1, score=(train=1.000, test=0.706), total= 2.9min\n",
      "[CV] C=10, gamma=1 ...................................................\n",
      "[CV] ... C=10, gamma=1, score=(train=1.000, test=0.718), total= 2.9min\n",
      "[CV] C=10, gamma=5 ...................................................\n",
      "[CV] ... C=10, gamma=5, score=(train=1.000, test=0.143), total= 3.6min\n",
      "[CV] C=10, gamma=5 ...................................................\n",
      "[CV] ... C=10, gamma=5, score=(train=1.000, test=0.144), total= 3.6min\n",
      "[CV] C=10, gamma=5 ...................................................\n",
      "[CV] ... C=10, gamma=5, score=(train=1.000, test=0.141), total= 3.6min\n",
      "[CV] C=10, gamma=5 ...................................................\n",
      "[CV] ... C=10, gamma=5, score=(train=1.000, test=0.147), total= 3.5min\n",
      "[CV] C=10, gamma=5 ...................................................\n",
      "[CV] ... C=10, gamma=5, score=(train=1.000, test=0.147), total= 3.6min\n",
      "[CV] C=100, gamma=scale ..............................................\n",
      "[CV]  C=100, gamma=scale, score=(train=1.000, test=0.999), total=   5.1s\n",
      "[CV] C=100, gamma=scale ..............................................\n",
      "[CV]  C=100, gamma=scale, score=(train=1.000, test=0.999), total=   5.1s\n",
      "[CV] C=100, gamma=scale ..............................................\n",
      "[CV]  C=100, gamma=scale, score=(train=1.000, test=1.000), total=   5.6s\n",
      "[CV] C=100, gamma=scale ..............................................\n",
      "[CV]  C=100, gamma=scale, score=(train=1.000, test=0.999), total=   5.6s\n",
      "[CV] C=100, gamma=scale ..............................................\n",
      "[CV]  C=100, gamma=scale, score=(train=1.000, test=0.999), total=   4.9s\n",
      "[CV] C=100, gamma=auto ...............................................\n",
      "[CV]  C=100, gamma=auto, score=(train=1.000, test=0.999), total=   5.4s\n",
      "[CV] C=100, gamma=auto ...............................................\n",
      "[CV]  C=100, gamma=auto, score=(train=1.000, test=0.999), total=   5.2s\n",
      "[CV] C=100, gamma=auto ...............................................\n",
      "[CV]  C=100, gamma=auto, score=(train=1.000, test=1.000), total=   5.6s\n",
      "[CV] C=100, gamma=auto ...............................................\n",
      "[CV]  C=100, gamma=auto, score=(train=1.000, test=0.999), total=   5.4s\n",
      "[CV] C=100, gamma=auto ...............................................\n",
      "[CV]  C=100, gamma=auto, score=(train=1.000, test=0.999), total=   5.4s\n",
      "[CV] C=100, gamma=1e-05 ..............................................\n",
      "[CV]  C=100, gamma=1e-05, score=(train=0.990, test=0.989), total=  15.9s\n",
      "[CV] C=100, gamma=1e-05 ..............................................\n",
      "[CV]  C=100, gamma=1e-05, score=(train=0.990, test=0.988), total=  17.2s\n",
      "[CV] C=100, gamma=1e-05 ..............................................\n",
      "[CV]  C=100, gamma=1e-05, score=(train=0.990, test=0.990), total=  15.8s\n",
      "[CV] C=100, gamma=1e-05 ..............................................\n",
      "[CV]  C=100, gamma=1e-05, score=(train=0.990, test=0.991), total=  15.1s\n",
      "[CV] C=100, gamma=1e-05 ..............................................\n",
      "[CV]  C=100, gamma=1e-05, score=(train=0.990, test=0.991), total=  13.7s\n",
      "[CV] C=100, gamma=0.0001 .............................................\n",
      "[CV]  C=100, gamma=0.0001, score=(train=0.998, test=0.997), total=   4.5s\n",
      "[CV] C=100, gamma=0.0001 .............................................\n",
      "[CV]  C=100, gamma=0.0001, score=(train=0.998, test=0.997), total=   4.6s\n",
      "[CV] C=100, gamma=0.0001 .............................................\n",
      "[CV]  C=100, gamma=0.0001, score=(train=0.998, test=0.998), total=   4.3s\n",
      "[CV] C=100, gamma=0.0001 .............................................\n",
      "[CV]  C=100, gamma=0.0001, score=(train=0.998, test=0.999), total=   5.2s\n",
      "[CV] C=100, gamma=0.0001 .............................................\n",
      "[CV]  C=100, gamma=0.0001, score=(train=0.998, test=0.999), total=   4.8s\n",
      "[CV] C=100, gamma=0.001 ..............................................\n",
      "[CV]  C=100, gamma=0.001, score=(train=1.000, test=0.999), total=   2.7s\n",
      "[CV] C=100, gamma=0.001 ..............................................\n",
      "[CV]  C=100, gamma=0.001, score=(train=0.999, test=0.999), total=   2.8s\n",
      "[CV] C=100, gamma=0.001 ..............................................\n",
      "[CV]  C=100, gamma=0.001, score=(train=0.999, test=0.999), total=   2.2s\n",
      "[CV] C=100, gamma=0.001 ..............................................\n",
      "[CV]  C=100, gamma=0.001, score=(train=0.999, test=1.000), total=   3.1s\n",
      "[CV] C=100, gamma=0.001 ..............................................\n",
      "[CV]  C=100, gamma=0.001, score=(train=0.999, test=1.000), total=   1.8s\n",
      "[CV] C=100, gamma=0.01 ...............................................\n",
      "[CV]  C=100, gamma=0.01, score=(train=1.000, test=0.999), total=   3.3s\n",
      "[CV] C=100, gamma=0.01 ...............................................\n",
      "[CV]  C=100, gamma=0.01, score=(train=1.000, test=0.999), total=   3.4s\n",
      "[CV] C=100, gamma=0.01 ...............................................\n",
      "[CV]  C=100, gamma=0.01, score=(train=1.000, test=1.000), total=   3.0s\n",
      "[CV] C=100, gamma=0.01 ...............................................\n",
      "[CV]  C=100, gamma=0.01, score=(train=1.000, test=0.999), total=   3.7s\n",
      "[CV] C=100, gamma=0.01 ...............................................\n",
      "[CV]  C=100, gamma=0.01, score=(train=1.000, test=0.999), total=   3.7s\n",
      "[CV] C=100, gamma=0.1 ................................................\n",
      "[CV]  C=100, gamma=0.1, score=(train=1.000, test=0.999), total=  23.6s\n",
      "[CV] C=100, gamma=0.1 ................................................\n",
      "[CV]  C=100, gamma=0.1, score=(train=1.000, test=0.999), total=  24.5s\n",
      "[CV] C=100, gamma=0.1 ................................................\n",
      "[CV]  C=100, gamma=0.1, score=(train=1.000, test=0.999), total=  23.2s\n",
      "[CV] C=100, gamma=0.1 ................................................\n",
      "[CV]  C=100, gamma=0.1, score=(train=1.000, test=1.000), total=  24.1s\n",
      "[CV] C=100, gamma=0.1 ................................................\n",
      "[CV]  C=100, gamma=0.1, score=(train=1.000, test=0.999), total=  23.5s\n",
      "[CV] C=100, gamma=1 ..................................................\n",
      "[CV] .. C=100, gamma=1, score=(train=1.000, test=0.721), total= 3.5min\n",
      "[CV] C=100, gamma=1 ..................................................\n",
      "[CV] .. C=100, gamma=1, score=(train=1.000, test=0.716), total= 3.6min\n",
      "[CV] C=100, gamma=1 ..................................................\n",
      "[CV] .. C=100, gamma=1, score=(train=1.000, test=0.698), total= 3.5min\n",
      "[CV] C=100, gamma=1 ..................................................\n",
      "[CV] .. C=100, gamma=1, score=(train=1.000, test=0.706), total= 3.0min\n",
      "[CV] C=100, gamma=1 ..................................................\n",
      "[CV] .. C=100, gamma=1, score=(train=1.000, test=0.718), total= 3.5min\n",
      "[CV] C=100, gamma=5 ..................................................\n",
      "[CV] .. C=100, gamma=5, score=(train=1.000, test=0.143), total= 3.6min\n",
      "[CV] C=100, gamma=5 ..................................................\n",
      "[CV] .. C=100, gamma=5, score=(train=1.000, test=0.144), total= 3.5min\n",
      "[CV] C=100, gamma=5 ..................................................\n",
      "[CV] .. C=100, gamma=5, score=(train=1.000, test=0.141), total= 2.9min\n",
      "[CV] C=100, gamma=5 ..................................................\n",
      "[CV] .. C=100, gamma=5, score=(train=1.000, test=0.147), total= 2.4min\n",
      "[CV] C=100, gamma=5 ..................................................\n",
      "[CV] .. C=100, gamma=5, score=(train=1.000, test=0.147), total= 2.3min\n",
      "[CV] C=1000, gamma=scale .............................................\n",
      "[CV]  C=1000, gamma=scale, score=(train=1.000, test=0.999), total=   3.0s\n",
      "[CV] C=1000, gamma=scale .............................................\n",
      "[CV]  C=1000, gamma=scale, score=(train=1.000, test=0.999), total=   4.0s\n",
      "[CV] C=1000, gamma=scale .............................................\n",
      "[CV]  C=1000, gamma=scale, score=(train=1.000, test=1.000), total=   3.7s\n",
      "[CV] C=1000, gamma=scale .............................................\n",
      "[CV]  C=1000, gamma=scale, score=(train=1.000, test=0.999), total=   3.9s\n",
      "[CV] C=1000, gamma=scale .............................................\n",
      "[CV]  C=1000, gamma=scale, score=(train=1.000, test=0.999), total=   3.8s\n",
      "[CV] C=1000, gamma=auto ..............................................\n",
      "[CV]  C=1000, gamma=auto, score=(train=1.000, test=0.999), total=   3.7s\n",
      "[CV] C=1000, gamma=auto ..............................................\n",
      "[CV]  C=1000, gamma=auto, score=(train=1.000, test=0.999), total=   4.1s\n",
      "[CV] C=1000, gamma=auto ..............................................\n",
      "[CV]  C=1000, gamma=auto, score=(train=1.000, test=1.000), total=   4.8s\n",
      "[CV] C=1000, gamma=auto ..............................................\n",
      "[CV]  C=1000, gamma=auto, score=(train=1.000, test=0.999), total=   2.8s\n",
      "[CV] C=1000, gamma=auto ..............................................\n",
      "[CV]  C=1000, gamma=auto, score=(train=1.000, test=0.999), total=   2.2s\n",
      "[CV] C=1000, gamma=1e-05 .............................................\n",
      "[CV]  C=1000, gamma=1e-05, score=(train=0.998, test=0.997), total=   2.2s\n",
      "[CV] C=1000, gamma=1e-05 .............................................\n",
      "[CV]  C=1000, gamma=1e-05, score=(train=0.998, test=0.997), total=   2.2s\n",
      "[CV] C=1000, gamma=1e-05 .............................................\n",
      "[CV]  C=1000, gamma=1e-05, score=(train=0.998, test=0.998), total=   2.2s\n",
      "[CV] C=1000, gamma=1e-05 .............................................\n",
      "[CV]  C=1000, gamma=1e-05, score=(train=0.998, test=0.999), total=   4.5s\n",
      "[CV] C=1000, gamma=1e-05 .............................................\n",
      "[CV]  C=1000, gamma=1e-05, score=(train=0.998, test=0.999), total=   5.3s\n",
      "[CV] C=1000, gamma=0.0001 ............................................\n",
      "[CV]  C=1000, gamma=0.0001, score=(train=0.999, test=0.999), total=   2.0s\n",
      "[CV] C=1000, gamma=0.0001 ............................................\n",
      "[CV]  C=1000, gamma=0.0001, score=(train=0.999, test=0.998), total=   1.5s\n",
      "[CV] C=1000, gamma=0.0001 ............................................\n",
      "[CV]  C=1000, gamma=0.0001, score=(train=0.999, test=0.999), total=   3.0s\n",
      "[CV] C=1000, gamma=0.0001 ............................................\n",
      "[CV]  C=1000, gamma=0.0001, score=(train=0.999, test=1.000), total=   2.0s\n",
      "[CV] C=1000, gamma=0.0001 ............................................\n",
      "[CV]  C=1000, gamma=0.0001, score=(train=0.999, test=1.000), total=   2.2s\n",
      "[CV] C=1000, gamma=0.001 .............................................\n",
      "[CV]  C=1000, gamma=0.001, score=(train=1.000, test=0.999), total=   1.6s\n",
      "[CV] C=1000, gamma=0.001 .............................................\n",
      "[CV]  C=1000, gamma=0.001, score=(train=1.000, test=0.999), total=   1.5s\n",
      "[CV] C=1000, gamma=0.001 .............................................\n",
      "[CV]  C=1000, gamma=0.001, score=(train=1.000, test=0.999), total=   1.3s\n",
      "[CV] C=1000, gamma=0.001 .............................................\n",
      "[CV]  C=1000, gamma=0.001, score=(train=1.000, test=1.000), total=   2.4s\n",
      "[CV] C=1000, gamma=0.001 .............................................\n",
      "[CV]  C=1000, gamma=0.001, score=(train=1.000, test=0.999), total=   1.6s\n",
      "[CV] C=1000, gamma=0.01 ..............................................\n",
      "[CV]  C=1000, gamma=0.01, score=(train=1.000, test=0.998), total=   1.6s\n",
      "[CV] C=1000, gamma=0.01 ..............................................\n",
      "[CV]  C=1000, gamma=0.01, score=(train=1.000, test=0.999), total=   1.4s\n",
      "[CV] C=1000, gamma=0.01 ..............................................\n",
      "[CV]  C=1000, gamma=0.01, score=(train=1.000, test=1.000), total=   1.4s\n",
      "[CV] C=1000, gamma=0.01 ..............................................\n",
      "[CV]  C=1000, gamma=0.01, score=(train=1.000, test=0.999), total=   1.4s\n",
      "[CV] C=1000, gamma=0.01 ..............................................\n",
      "[CV]  C=1000, gamma=0.01, score=(train=1.000, test=0.999), total=   1.4s\n",
      "[CV] C=1000, gamma=0.1 ...............................................\n",
      "[CV]  C=1000, gamma=0.1, score=(train=1.000, test=0.999), total=   9.7s\n",
      "[CV] C=1000, gamma=0.1 ...............................................\n",
      "[CV]  C=1000, gamma=0.1, score=(train=1.000, test=0.999), total=  17.4s\n",
      "[CV] C=1000, gamma=0.1 ...............................................\n",
      "[CV]  C=1000, gamma=0.1, score=(train=1.000, test=0.999), total=  12.4s\n",
      "[CV] C=1000, gamma=0.1 ...............................................\n",
      "[CV]  C=1000, gamma=0.1, score=(train=1.000, test=1.000), total=   9.2s\n",
      "[CV] C=1000, gamma=0.1 ...............................................\n",
      "[CV]  C=1000, gamma=0.1, score=(train=1.000, test=0.999), total=   9.5s\n",
      "[CV] C=1000, gamma=1 .................................................\n",
      "[CV] . C=1000, gamma=1, score=(train=1.000, test=0.721), total= 1.8min\n",
      "[CV] C=1000, gamma=1 .................................................\n",
      "[CV] . C=1000, gamma=1, score=(train=1.000, test=0.716), total= 1.5min\n",
      "[CV] C=1000, gamma=1 .................................................\n",
      "[CV] . C=1000, gamma=1, score=(train=1.000, test=0.698), total= 1.4min\n",
      "[CV] C=1000, gamma=1 .................................................\n",
      "[CV] . C=1000, gamma=1, score=(train=1.000, test=0.706), total= 1.5min\n",
      "[CV] C=1000, gamma=1 .................................................\n",
      "[CV] . C=1000, gamma=1, score=(train=1.000, test=0.718), total= 1.6min\n",
      "[CV] C=1000, gamma=5 .................................................\n",
      "[CV] . C=1000, gamma=5, score=(train=1.000, test=0.143), total= 1.4min\n",
      "[CV] C=1000, gamma=5 .................................................\n",
      "[CV] . C=1000, gamma=5, score=(train=1.000, test=0.144), total= 3.3min\n",
      "[CV] C=1000, gamma=5 .................................................\n",
      "[CV] . C=1000, gamma=5, score=(train=1.000, test=0.141), total= 3.6min\n",
      "[CV] C=1000, gamma=5 .................................................\n",
      "[CV] . C=1000, gamma=5, score=(train=1.000, test=0.147), total= 3.3min\n",
      "[CV] C=1000, gamma=5 .................................................\n",
      "[CV] . C=1000, gamma=5, score=(train=1.000, test=0.147), total= 2.9min\n"
     ]
    },
    {
     "name": "stderr",
     "output_type": "stream",
     "text": [
      "[Parallel(n_jobs=1)]: Done 225 out of 225 | elapsed: 302.5min finished\n"
     ]
    },
    {
     "data": {
      "text/plain": [
       "GridSearchCV(cv=5, estimator=SVC(),\n",
       "             param_grid={'C': [0.1, 1, 10, 100, 1000],\n",
       "                         'gamma': ['scale', 'auto', 1e-05, 0.0001, 0.001, 0.01,\n",
       "                                   0.1, 1, 5]},\n",
       "             return_train_score=True, scoring='accuracy', verbose=5)"
      ]
     },
     "execution_count": 29,
     "metadata": {},
     "output_type": "execute_result"
    }
   ],
   "source": [
    "grid_search.fit(X_train,Y_train)"
   ]
  },
  {
   "cell_type": "code",
   "execution_count": 30,
   "metadata": {},
   "outputs": [
    {
     "data": {
      "text/plain": [
       "0.9995449438130434"
      ]
     },
     "execution_count": 30,
     "metadata": {},
     "output_type": "execute_result"
    }
   ],
   "source": [
    "grid_search.best_score_"
   ]
  },
  {
   "cell_type": "code",
   "execution_count": 31,
   "metadata": {},
   "outputs": [
    {
     "data": {
      "text/plain": [
       "{'C': 10, 'gamma': 'scale'}"
      ]
     },
     "execution_count": 31,
     "metadata": {},
     "output_type": "execute_result"
    }
   ],
   "source": [
    "grid_search.best_params_"
   ]
  },
  {
   "cell_type": "markdown",
   "metadata": {},
   "source": [
    "# GridSearch: Fine tuning"
   ]
  },
  {
   "cell_type": "code",
   "execution_count": 11,
   "metadata": {},
   "outputs": [],
   "source": [
    "param_grid={'C': [35+0.2*x for x in range(0, 76)],'gamma': ['scale']}"
   ]
  },
  {
   "cell_type": "code",
   "execution_count": 12,
   "metadata": {},
   "outputs": [],
   "source": [
    "grid_search = GridSearchCV(svm_clf, param_grid, scoring='accuracy', cv = 5, verbose=5,return_train_score=True)"
   ]
  },
  {
   "cell_type": "code",
   "execution_count": 13,
   "metadata": {},
   "outputs": [
    {
     "name": "stdout",
     "output_type": "stream",
     "text": [
      "Fitting 5 folds for each of 76 candidates, totalling 380 fits\n",
      "[CV] C=35.0, gamma=scale .............................................\n"
     ]
    },
    {
     "name": "stderr",
     "output_type": "stream",
     "text": [
      "[Parallel(n_jobs=1)]: Using backend SequentialBackend with 1 concurrent workers.\n"
     ]
    },
    {
     "name": "stdout",
     "output_type": "stream",
     "text": [
      "[CV]  C=35.0, gamma=scale, score=(train=1.000, test=1.000), total=   6.5s\n",
      "[CV] C=35.0, gamma=scale .............................................\n"
     ]
    },
    {
     "name": "stderr",
     "output_type": "stream",
     "text": [
      "[Parallel(n_jobs=1)]: Done   1 out of   1 | elapsed:    9.2s remaining:    0.0s\n"
     ]
    },
    {
     "name": "stdout",
     "output_type": "stream",
     "text": [
      "[CV]  C=35.0, gamma=scale, score=(train=1.000, test=1.000), total=   3.6s\n",
      "[CV] C=35.0, gamma=scale .............................................\n"
     ]
    },
    {
     "name": "stderr",
     "output_type": "stream",
     "text": [
      "[Parallel(n_jobs=1)]: Done   2 out of   2 | elapsed:   15.5s remaining:    0.0s\n"
     ]
    },
    {
     "name": "stdout",
     "output_type": "stream",
     "text": [
      "[CV]  C=35.0, gamma=scale, score=(train=1.000, test=0.999), total=   3.6s\n",
      "[CV] C=35.0, gamma=scale .............................................\n"
     ]
    },
    {
     "name": "stderr",
     "output_type": "stream",
     "text": [
      "[Parallel(n_jobs=1)]: Done   3 out of   3 | elapsed:   21.7s remaining:    0.0s\n"
     ]
    },
    {
     "name": "stdout",
     "output_type": "stream",
     "text": [
      "[CV]  C=35.0, gamma=scale, score=(train=1.000, test=1.000), total=   3.5s\n",
      "[CV] C=35.0, gamma=scale .............................................\n"
     ]
    },
    {
     "name": "stderr",
     "output_type": "stream",
     "text": [
      "[Parallel(n_jobs=1)]: Done   4 out of   4 | elapsed:   27.7s remaining:    0.0s\n"
     ]
    },
    {
     "name": "stdout",
     "output_type": "stream",
     "text": [
      "[CV]  C=35.0, gamma=scale, score=(train=1.000, test=1.000), total=   3.6s\n",
      "[CV] C=35.2, gamma=scale .............................................\n",
      "[CV]  C=35.2, gamma=scale, score=(train=1.000, test=1.000), total=   3.5s\n",
      "[CV] C=35.2, gamma=scale .............................................\n",
      "[CV]  C=35.2, gamma=scale, score=(train=1.000, test=1.000), total=   3.6s\n",
      "[CV] C=35.2, gamma=scale .............................................\n",
      "[CV]  C=35.2, gamma=scale, score=(train=1.000, test=0.999), total=   3.6s\n",
      "[CV] C=35.2, gamma=scale .............................................\n",
      "[CV]  C=35.2, gamma=scale, score=(train=1.000, test=1.000), total=   3.5s\n",
      "[CV] C=35.2, gamma=scale .............................................\n",
      "[CV]  C=35.2, gamma=scale, score=(train=1.000, test=1.000), total=   3.5s\n",
      "[CV] C=35.4, gamma=scale .............................................\n",
      "[CV]  C=35.4, gamma=scale, score=(train=1.000, test=1.000), total=   3.5s\n",
      "[CV] C=35.4, gamma=scale .............................................\n",
      "[CV]  C=35.4, gamma=scale, score=(train=1.000, test=1.000), total=   3.6s\n",
      "[CV] C=35.4, gamma=scale .............................................\n",
      "[CV]  C=35.4, gamma=scale, score=(train=1.000, test=1.000), total=   3.5s\n",
      "[CV] C=35.4, gamma=scale .............................................\n",
      "[CV]  C=35.4, gamma=scale, score=(train=1.000, test=1.000), total=   3.5s\n",
      "[CV] C=35.4, gamma=scale .............................................\n",
      "[CV]  C=35.4, gamma=scale, score=(train=1.000, test=1.000), total=   3.5s\n",
      "[CV] C=35.6, gamma=scale .............................................\n",
      "[CV]  C=35.6, gamma=scale, score=(train=1.000, test=1.000), total=   3.5s\n",
      "[CV] C=35.6, gamma=scale .............................................\n",
      "[CV]  C=35.6, gamma=scale, score=(train=1.000, test=1.000), total=   3.6s\n",
      "[CV] C=35.6, gamma=scale .............................................\n",
      "[CV]  C=35.6, gamma=scale, score=(train=1.000, test=1.000), total=   3.6s\n",
      "[CV] C=35.6, gamma=scale .............................................\n",
      "[CV]  C=35.6, gamma=scale, score=(train=1.000, test=1.000), total=   3.5s\n",
      "[CV] C=35.6, gamma=scale .............................................\n",
      "[CV]  C=35.6, gamma=scale, score=(train=1.000, test=1.000), total=   3.5s\n",
      "[CV] C=35.8, gamma=scale .............................................\n",
      "[CV]  C=35.8, gamma=scale, score=(train=1.000, test=1.000), total=   3.5s\n",
      "[CV] C=35.8, gamma=scale .............................................\n",
      "[CV]  C=35.8, gamma=scale, score=(train=1.000, test=1.000), total=   3.6s\n",
      "[CV] C=35.8, gamma=scale .............................................\n",
      "[CV]  C=35.8, gamma=scale, score=(train=1.000, test=1.000), total=   3.5s\n",
      "[CV] C=35.8, gamma=scale .............................................\n",
      "[CV]  C=35.8, gamma=scale, score=(train=1.000, test=1.000), total=   3.5s\n",
      "[CV] C=35.8, gamma=scale .............................................\n",
      "[CV]  C=35.8, gamma=scale, score=(train=1.000, test=1.000), total=   3.5s\n",
      "[CV] C=36.0, gamma=scale .............................................\n",
      "[CV]  C=36.0, gamma=scale, score=(train=1.000, test=1.000), total=   3.5s\n",
      "[CV] C=36.0, gamma=scale .............................................\n",
      "[CV]  C=36.0, gamma=scale, score=(train=1.000, test=1.000), total=   3.6s\n",
      "[CV] C=36.0, gamma=scale .............................................\n",
      "[CV]  C=36.0, gamma=scale, score=(train=1.000, test=1.000), total=   3.6s\n",
      "[CV] C=36.0, gamma=scale .............................................\n",
      "[CV]  C=36.0, gamma=scale, score=(train=1.000, test=1.000), total=   3.5s\n",
      "[CV] C=36.0, gamma=scale .............................................\n",
      "[CV]  C=36.0, gamma=scale, score=(train=1.000, test=1.000), total=   3.5s\n",
      "[CV] C=36.2, gamma=scale .............................................\n",
      "[CV]  C=36.2, gamma=scale, score=(train=1.000, test=1.000), total=   3.5s\n",
      "[CV] C=36.2, gamma=scale .............................................\n",
      "[CV]  C=36.2, gamma=scale, score=(train=1.000, test=1.000), total=   3.6s\n",
      "[CV] C=36.2, gamma=scale .............................................\n",
      "[CV]  C=36.2, gamma=scale, score=(train=1.000, test=1.000), total=   3.5s\n",
      "[CV] C=36.2, gamma=scale .............................................\n",
      "[CV]  C=36.2, gamma=scale, score=(train=1.000, test=1.000), total=   3.5s\n",
      "[CV] C=36.2, gamma=scale .............................................\n",
      "[CV]  C=36.2, gamma=scale, score=(train=1.000, test=1.000), total=   3.5s\n",
      "[CV] C=36.4, gamma=scale .............................................\n",
      "[CV]  C=36.4, gamma=scale, score=(train=1.000, test=1.000), total=   3.5s\n",
      "[CV] C=36.4, gamma=scale .............................................\n",
      "[CV]  C=36.4, gamma=scale, score=(train=1.000, test=1.000), total=   6.3s\n",
      "[CV] C=36.4, gamma=scale .............................................\n",
      "[CV]  C=36.4, gamma=scale, score=(train=1.000, test=1.000), total=   8.9s\n",
      "[CV] C=36.4, gamma=scale .............................................\n",
      "[CV]  C=36.4, gamma=scale, score=(train=1.000, test=1.000), total=   8.4s\n",
      "[CV] C=36.4, gamma=scale .............................................\n",
      "[CV]  C=36.4, gamma=scale, score=(train=1.000, test=1.000), total=   4.1s\n",
      "[CV] C=36.6, gamma=scale .............................................\n",
      "[CV]  C=36.6, gamma=scale, score=(train=1.000, test=1.000), total=   3.5s\n",
      "[CV] C=36.6, gamma=scale .............................................\n",
      "[CV]  C=36.6, gamma=scale, score=(train=1.000, test=1.000), total=   3.6s\n",
      "[CV] C=36.6, gamma=scale .............................................\n",
      "[CV]  C=36.6, gamma=scale, score=(train=1.000, test=1.000), total=   3.5s\n",
      "[CV] C=36.6, gamma=scale .............................................\n",
      "[CV]  C=36.6, gamma=scale, score=(train=1.000, test=1.000), total=   3.5s\n",
      "[CV] C=36.6, gamma=scale .............................................\n",
      "[CV]  C=36.6, gamma=scale, score=(train=1.000, test=1.000), total=   3.6s\n",
      "[CV] C=36.8, gamma=scale .............................................\n",
      "[CV]  C=36.8, gamma=scale, score=(train=1.000, test=1.000), total=   3.5s\n",
      "[CV] C=36.8, gamma=scale .............................................\n",
      "[CV]  C=36.8, gamma=scale, score=(train=1.000, test=1.000), total=   3.7s\n",
      "[CV] C=36.8, gamma=scale .............................................\n",
      "[CV]  C=36.8, gamma=scale, score=(train=1.000, test=1.000), total=   3.5s\n",
      "[CV] C=36.8, gamma=scale .............................................\n",
      "[CV]  C=36.8, gamma=scale, score=(train=1.000, test=1.000), total=   3.7s\n",
      "[CV] C=36.8, gamma=scale .............................................\n",
      "[CV]  C=36.8, gamma=scale, score=(train=1.000, test=1.000), total=   3.5s\n",
      "[CV] C=37.0, gamma=scale .............................................\n",
      "[CV]  C=37.0, gamma=scale, score=(train=1.000, test=1.000), total=   3.5s\n",
      "[CV] C=37.0, gamma=scale .............................................\n",
      "[CV]  C=37.0, gamma=scale, score=(train=1.000, test=1.000), total=   3.6s\n",
      "[CV] C=37.0, gamma=scale .............................................\n",
      "[CV]  C=37.0, gamma=scale, score=(train=1.000, test=1.000), total=   3.6s\n",
      "[CV] C=37.0, gamma=scale .............................................\n",
      "[CV]  C=37.0, gamma=scale, score=(train=1.000, test=1.000), total=   3.5s\n",
      "[CV] C=37.0, gamma=scale .............................................\n",
      "[CV]  C=37.0, gamma=scale, score=(train=1.000, test=1.000), total=   3.5s\n",
      "[CV] C=37.2, gamma=scale .............................................\n",
      "[CV]  C=37.2, gamma=scale, score=(train=1.000, test=1.000), total=   6.0s\n",
      "[CV] C=37.2, gamma=scale .............................................\n",
      "[CV]  C=37.2, gamma=scale, score=(train=1.000, test=1.000), total=   3.9s\n",
      "[CV] C=37.2, gamma=scale .............................................\n",
      "[CV]  C=37.2, gamma=scale, score=(train=1.000, test=1.000), total=   3.5s\n",
      "[CV] C=37.2, gamma=scale .............................................\n",
      "[CV]  C=37.2, gamma=scale, score=(train=1.000, test=1.000), total=   3.5s\n",
      "[CV] C=37.2, gamma=scale .............................................\n",
      "[CV]  C=37.2, gamma=scale, score=(train=1.000, test=1.000), total=   8.7s\n",
      "[CV] C=37.4, gamma=scale .............................................\n",
      "[CV]  C=37.4, gamma=scale, score=(train=1.000, test=1.000), total=   7.7s\n",
      "[CV] C=37.4, gamma=scale .............................................\n"
     ]
    },
    {
     "name": "stdout",
     "output_type": "stream",
     "text": [
      "[CV]  C=37.4, gamma=scale, score=(train=1.000, test=1.000), total=   3.7s\n",
      "[CV] C=37.4, gamma=scale .............................................\n",
      "[CV]  C=37.4, gamma=scale, score=(train=1.000, test=1.000), total=   3.5s\n",
      "[CV] C=37.4, gamma=scale .............................................\n",
      "[CV]  C=37.4, gamma=scale, score=(train=1.000, test=1.000), total=   3.5s\n",
      "[CV] C=37.4, gamma=scale .............................................\n",
      "[CV]  C=37.4, gamma=scale, score=(train=1.000, test=1.000), total=   3.5s\n",
      "[CV] C=37.6, gamma=scale .............................................\n",
      "[CV]  C=37.6, gamma=scale, score=(train=1.000, test=1.000), total=   3.6s\n",
      "[CV] C=37.6, gamma=scale .............................................\n",
      "[CV]  C=37.6, gamma=scale, score=(train=1.000, test=1.000), total=   3.6s\n",
      "[CV] C=37.6, gamma=scale .............................................\n",
      "[CV]  C=37.6, gamma=scale, score=(train=1.000, test=1.000), total=   3.5s\n",
      "[CV] C=37.6, gamma=scale .............................................\n",
      "[CV]  C=37.6, gamma=scale, score=(train=1.000, test=1.000), total=   3.6s\n",
      "[CV] C=37.6, gamma=scale .............................................\n",
      "[CV]  C=37.6, gamma=scale, score=(train=1.000, test=1.000), total=   3.5s\n",
      "[CV] C=37.8, gamma=scale .............................................\n",
      "[CV]  C=37.8, gamma=scale, score=(train=1.000, test=1.000), total=   3.5s\n",
      "[CV] C=37.8, gamma=scale .............................................\n",
      "[CV]  C=37.8, gamma=scale, score=(train=1.000, test=1.000), total=   3.7s\n",
      "[CV] C=37.8, gamma=scale .............................................\n",
      "[CV]  C=37.8, gamma=scale, score=(train=1.000, test=1.000), total=   8.5s\n",
      "[CV] C=37.8, gamma=scale .............................................\n",
      "[CV]  C=37.8, gamma=scale, score=(train=1.000, test=1.000), total=   8.4s\n",
      "[CV] C=37.8, gamma=scale .............................................\n",
      "[CV]  C=37.8, gamma=scale, score=(train=1.000, test=1.000), total=   6.4s\n",
      "[CV] C=38.0, gamma=scale .............................................\n",
      "[CV]  C=38.0, gamma=scale, score=(train=1.000, test=1.000), total=   8.2s\n",
      "[CV] C=38.0, gamma=scale .............................................\n",
      "[CV]  C=38.0, gamma=scale, score=(train=1.000, test=1.000), total=   7.7s\n",
      "[CV] C=38.0, gamma=scale .............................................\n",
      "[CV]  C=38.0, gamma=scale, score=(train=1.000, test=1.000), total=   8.3s\n",
      "[CV] C=38.0, gamma=scale .............................................\n",
      "[CV]  C=38.0, gamma=scale, score=(train=1.000, test=1.000), total=   8.1s\n",
      "[CV] C=38.0, gamma=scale .............................................\n",
      "[CV]  C=38.0, gamma=scale, score=(train=1.000, test=1.000), total=   7.6s\n",
      "[CV] C=38.2, gamma=scale .............................................\n",
      "[CV]  C=38.2, gamma=scale, score=(train=1.000, test=1.000), total=   3.5s\n",
      "[CV] C=38.2, gamma=scale .............................................\n",
      "[CV]  C=38.2, gamma=scale, score=(train=1.000, test=1.000), total=   3.6s\n",
      "[CV] C=38.2, gamma=scale .............................................\n",
      "[CV]  C=38.2, gamma=scale, score=(train=1.000, test=1.000), total=   3.5s\n",
      "[CV] C=38.2, gamma=scale .............................................\n",
      "[CV]  C=38.2, gamma=scale, score=(train=1.000, test=1.000), total=   3.5s\n",
      "[CV] C=38.2, gamma=scale .............................................\n",
      "[CV]  C=38.2, gamma=scale, score=(train=1.000, test=1.000), total=   3.5s\n",
      "[CV] C=38.4, gamma=scale .............................................\n",
      "[CV]  C=38.4, gamma=scale, score=(train=1.000, test=1.000), total=   3.8s\n",
      "[CV] C=38.4, gamma=scale .............................................\n",
      "[CV]  C=38.4, gamma=scale, score=(train=1.000, test=1.000), total=   3.6s\n",
      "[CV] C=38.4, gamma=scale .............................................\n",
      "[CV]  C=38.4, gamma=scale, score=(train=1.000, test=1.000), total=   3.5s\n",
      "[CV] C=38.4, gamma=scale .............................................\n",
      "[CV]  C=38.4, gamma=scale, score=(train=1.000, test=1.000), total=   3.5s\n",
      "[CV] C=38.4, gamma=scale .............................................\n",
      "[CV]  C=38.4, gamma=scale, score=(train=1.000, test=1.000), total=   3.5s\n",
      "[CV] C=38.6, gamma=scale .............................................\n",
      "[CV]  C=38.6, gamma=scale, score=(train=1.000, test=1.000), total=   3.5s\n",
      "[CV] C=38.6, gamma=scale .............................................\n",
      "[CV]  C=38.6, gamma=scale, score=(train=1.000, test=1.000), total=   3.6s\n",
      "[CV] C=38.6, gamma=scale .............................................\n",
      "[CV]  C=38.6, gamma=scale, score=(train=1.000, test=1.000), total=   3.5s\n",
      "[CV] C=38.6, gamma=scale .............................................\n",
      "[CV]  C=38.6, gamma=scale, score=(train=1.000, test=1.000), total=   3.5s\n",
      "[CV] C=38.6, gamma=scale .............................................\n",
      "[CV]  C=38.6, gamma=scale, score=(train=1.000, test=1.000), total=   3.5s\n",
      "[CV] C=38.8, gamma=scale .............................................\n",
      "[CV]  C=38.8, gamma=scale, score=(train=1.000, test=1.000), total=   3.7s\n",
      "[CV] C=38.8, gamma=scale .............................................\n",
      "[CV]  C=38.8, gamma=scale, score=(train=1.000, test=1.000), total=   7.1s\n",
      "[CV] C=38.8, gamma=scale .............................................\n",
      "[CV]  C=38.8, gamma=scale, score=(train=1.000, test=1.000), total=   8.4s\n",
      "[CV] C=38.8, gamma=scale .............................................\n",
      "[CV]  C=38.8, gamma=scale, score=(train=1.000, test=1.000), total=   8.8s\n",
      "[CV] C=38.8, gamma=scale .............................................\n",
      "[CV]  C=38.8, gamma=scale, score=(train=1.000, test=1.000), total=   4.4s\n",
      "[CV] C=39.0, gamma=scale .............................................\n",
      "[CV]  C=39.0, gamma=scale, score=(train=1.000, test=1.000), total=   3.5s\n",
      "[CV] C=39.0, gamma=scale .............................................\n",
      "[CV]  C=39.0, gamma=scale, score=(train=1.000, test=1.000), total=   3.6s\n",
      "[CV] C=39.0, gamma=scale .............................................\n",
      "[CV]  C=39.0, gamma=scale, score=(train=1.000, test=1.000), total=   3.5s\n",
      "[CV] C=39.0, gamma=scale .............................................\n",
      "[CV]  C=39.0, gamma=scale, score=(train=1.000, test=1.000), total=   3.7s\n",
      "[CV] C=39.0, gamma=scale .............................................\n",
      "[CV]  C=39.0, gamma=scale, score=(train=1.000, test=1.000), total=   3.9s\n",
      "[CV] C=39.2, gamma=scale .............................................\n",
      "[CV]  C=39.2, gamma=scale, score=(train=1.000, test=1.000), total=   6.0s\n",
      "[CV] C=39.2, gamma=scale .............................................\n",
      "[CV]  C=39.2, gamma=scale, score=(train=1.000, test=1.000), total=   8.0s\n",
      "[CV] C=39.2, gamma=scale .............................................\n",
      "[CV]  C=39.2, gamma=scale, score=(train=1.000, test=1.000), total=   6.9s\n",
      "[CV] C=39.2, gamma=scale .............................................\n",
      "[CV]  C=39.2, gamma=scale, score=(train=1.000, test=1.000), total=   3.5s\n",
      "[CV] C=39.2, gamma=scale .............................................\n",
      "[CV]  C=39.2, gamma=scale, score=(train=1.000, test=1.000), total=   3.5s\n",
      "[CV] C=39.4, gamma=scale .............................................\n",
      "[CV]  C=39.4, gamma=scale, score=(train=1.000, test=1.000), total=   7.8s\n",
      "[CV] C=39.4, gamma=scale .............................................\n",
      "[CV]  C=39.4, gamma=scale, score=(train=1.000, test=1.000), total=   9.1s\n",
      "[CV] C=39.4, gamma=scale .............................................\n",
      "[CV]  C=39.4, gamma=scale, score=(train=1.000, test=1.000), total=   8.8s\n",
      "[CV] C=39.4, gamma=scale .............................................\n",
      "[CV]  C=39.4, gamma=scale, score=(train=1.000, test=1.000), total=   3.9s\n",
      "[CV] C=39.4, gamma=scale .............................................\n",
      "[CV]  C=39.4, gamma=scale, score=(train=1.000, test=1.000), total=   3.5s\n",
      "[CV] C=39.6, gamma=scale .............................................\n",
      "[CV]  C=39.6, gamma=scale, score=(train=1.000, test=1.000), total=   3.5s\n",
      "[CV] C=39.6, gamma=scale .............................................\n",
      "[CV]  C=39.6, gamma=scale, score=(train=1.000, test=1.000), total=   3.6s\n",
      "[CV] C=39.6, gamma=scale .............................................\n",
      "[CV]  C=39.6, gamma=scale, score=(train=1.000, test=1.000), total=   3.5s\n",
      "[CV] C=39.6, gamma=scale .............................................\n"
     ]
    },
    {
     "name": "stdout",
     "output_type": "stream",
     "text": [
      "[CV]  C=39.6, gamma=scale, score=(train=1.000, test=1.000), total=   3.5s\n",
      "[CV] C=39.6, gamma=scale .............................................\n",
      "[CV]  C=39.6, gamma=scale, score=(train=1.000, test=1.000), total=   3.5s\n",
      "[CV] C=39.8, gamma=scale .............................................\n",
      "[CV]  C=39.8, gamma=scale, score=(train=1.000, test=1.000), total=   3.5s\n",
      "[CV] C=39.8, gamma=scale .............................................\n",
      "[CV]  C=39.8, gamma=scale, score=(train=1.000, test=1.000), total=   3.6s\n",
      "[CV] C=39.8, gamma=scale .............................................\n",
      "[CV]  C=39.8, gamma=scale, score=(train=1.000, test=1.000), total=   3.5s\n",
      "[CV] C=39.8, gamma=scale .............................................\n",
      "[CV]  C=39.8, gamma=scale, score=(train=1.000, test=1.000), total=   3.5s\n",
      "[CV] C=39.8, gamma=scale .............................................\n",
      "[CV]  C=39.8, gamma=scale, score=(train=1.000, test=1.000), total=   3.5s\n",
      "[CV] C=40.0, gamma=scale .............................................\n",
      "[CV]  C=40.0, gamma=scale, score=(train=1.000, test=1.000), total=   3.5s\n",
      "[CV] C=40.0, gamma=scale .............................................\n",
      "[CV]  C=40.0, gamma=scale, score=(train=1.000, test=1.000), total=   3.6s\n",
      "[CV] C=40.0, gamma=scale .............................................\n",
      "[CV]  C=40.0, gamma=scale, score=(train=1.000, test=1.000), total=   3.5s\n",
      "[CV] C=40.0, gamma=scale .............................................\n",
      "[CV]  C=40.0, gamma=scale, score=(train=1.000, test=1.000), total=   3.5s\n",
      "[CV] C=40.0, gamma=scale .............................................\n",
      "[CV]  C=40.0, gamma=scale, score=(train=1.000, test=1.000), total=   3.5s\n",
      "[CV] C=40.2, gamma=scale .............................................\n",
      "[CV]  C=40.2, gamma=scale, score=(train=1.000, test=1.000), total=   3.5s\n",
      "[CV] C=40.2, gamma=scale .............................................\n",
      "[CV]  C=40.2, gamma=scale, score=(train=1.000, test=1.000), total=   3.6s\n",
      "[CV] C=40.2, gamma=scale .............................................\n",
      "[CV]  C=40.2, gamma=scale, score=(train=1.000, test=1.000), total=   3.5s\n",
      "[CV] C=40.2, gamma=scale .............................................\n",
      "[CV]  C=40.2, gamma=scale, score=(train=1.000, test=1.000), total=   3.5s\n",
      "[CV] C=40.2, gamma=scale .............................................\n",
      "[CV]  C=40.2, gamma=scale, score=(train=1.000, test=1.000), total=   3.5s\n",
      "[CV] C=40.4, gamma=scale .............................................\n",
      "[CV]  C=40.4, gamma=scale, score=(train=1.000, test=1.000), total=   3.5s\n",
      "[CV] C=40.4, gamma=scale .............................................\n",
      "[CV]  C=40.4, gamma=scale, score=(train=1.000, test=1.000), total=   3.6s\n",
      "[CV] C=40.4, gamma=scale .............................................\n",
      "[CV]  C=40.4, gamma=scale, score=(train=1.000, test=1.000), total=   3.5s\n",
      "[CV] C=40.4, gamma=scale .............................................\n",
      "[CV]  C=40.4, gamma=scale, score=(train=1.000, test=1.000), total=   3.5s\n",
      "[CV] C=40.4, gamma=scale .............................................\n",
      "[CV]  C=40.4, gamma=scale, score=(train=1.000, test=1.000), total=   9.4s\n",
      "[CV] C=40.6, gamma=scale .............................................\n",
      "[CV]  C=40.6, gamma=scale, score=(train=1.000, test=1.000), total=   7.5s\n",
      "[CV] C=40.6, gamma=scale .............................................\n",
      "[CV]  C=40.6, gamma=scale, score=(train=1.000, test=1.000), total=   3.6s\n",
      "[CV] C=40.6, gamma=scale .............................................\n",
      "[CV]  C=40.6, gamma=scale, score=(train=1.000, test=1.000), total=   3.5s\n",
      "[CV] C=40.6, gamma=scale .............................................\n",
      "[CV]  C=40.6, gamma=scale, score=(train=1.000, test=1.000), total=   3.7s\n",
      "[CV] C=40.6, gamma=scale .............................................\n",
      "[CV]  C=40.6, gamma=scale, score=(train=1.000, test=1.000), total=   3.5s\n",
      "[CV] C=40.8, gamma=scale .............................................\n",
      "[CV]  C=40.8, gamma=scale, score=(train=1.000, test=1.000), total=   3.5s\n",
      "[CV] C=40.8, gamma=scale .............................................\n",
      "[CV]  C=40.8, gamma=scale, score=(train=1.000, test=1.000), total=   3.6s\n",
      "[CV] C=40.8, gamma=scale .............................................\n",
      "[CV]  C=40.8, gamma=scale, score=(train=1.000, test=1.000), total=   7.5s\n",
      "[CV] C=40.8, gamma=scale .............................................\n",
      "[CV]  C=40.8, gamma=scale, score=(train=1.000, test=1.000), total=   8.2s\n",
      "[CV] C=40.8, gamma=scale .............................................\n",
      "[CV]  C=40.8, gamma=scale, score=(train=1.000, test=1.000), total=   8.2s\n",
      "[CV] C=41.0, gamma=scale .............................................\n",
      "[CV]  C=41.0, gamma=scale, score=(train=1.000, test=1.000), total=   3.9s\n",
      "[CV] C=41.0, gamma=scale .............................................\n",
      "[CV]  C=41.0, gamma=scale, score=(train=1.000, test=1.000), total=   3.6s\n",
      "[CV] C=41.0, gamma=scale .............................................\n",
      "[CV]  C=41.0, gamma=scale, score=(train=1.000, test=1.000), total=   3.5s\n",
      "[CV] C=41.0, gamma=scale .............................................\n",
      "[CV]  C=41.0, gamma=scale, score=(train=1.000, test=1.000), total=   3.5s\n",
      "[CV] C=41.0, gamma=scale .............................................\n",
      "[CV]  C=41.0, gamma=scale, score=(train=1.000, test=1.000), total=   3.5s\n",
      "[CV] C=41.2, gamma=scale .............................................\n",
      "[CV]  C=41.2, gamma=scale, score=(train=1.000, test=1.000), total=   3.4s\n",
      "[CV] C=41.2, gamma=scale .............................................\n",
      "[CV]  C=41.2, gamma=scale, score=(train=1.000, test=1.000), total=   3.6s\n",
      "[CV] C=41.2, gamma=scale .............................................\n",
      "[CV]  C=41.2, gamma=scale, score=(train=1.000, test=1.000), total=   5.6s\n",
      "[CV] C=41.2, gamma=scale .............................................\n",
      "[CV]  C=41.2, gamma=scale, score=(train=1.000, test=1.000), total=   3.5s\n",
      "[CV] C=41.2, gamma=scale .............................................\n",
      "[CV]  C=41.2, gamma=scale, score=(train=1.000, test=1.000), total=   3.5s\n",
      "[CV] C=41.4, gamma=scale .............................................\n",
      "[CV]  C=41.4, gamma=scale, score=(train=1.000, test=1.000), total=   3.5s\n",
      "[CV] C=41.4, gamma=scale .............................................\n",
      "[CV]  C=41.4, gamma=scale, score=(train=1.000, test=1.000), total=   3.6s\n",
      "[CV] C=41.4, gamma=scale .............................................\n",
      "[CV]  C=41.4, gamma=scale, score=(train=1.000, test=1.000), total=   3.5s\n",
      "[CV] C=41.4, gamma=scale .............................................\n",
      "[CV]  C=41.4, gamma=scale, score=(train=1.000, test=1.000), total=   3.5s\n",
      "[CV] C=41.4, gamma=scale .............................................\n",
      "[CV]  C=41.4, gamma=scale, score=(train=1.000, test=1.000), total=   5.5s\n",
      "[CV] C=41.6, gamma=scale .............................................\n",
      "[CV]  C=41.6, gamma=scale, score=(train=1.000, test=1.000), total=   8.9s\n",
      "[CV] C=41.6, gamma=scale .............................................\n",
      "[CV]  C=41.6, gamma=scale, score=(train=1.000, test=1.000), total=   9.0s\n",
      "[CV] C=41.6, gamma=scale .............................................\n",
      "[CV]  C=41.6, gamma=scale, score=(train=1.000, test=1.000), total=   3.6s\n",
      "[CV] C=41.6, gamma=scale .............................................\n",
      "[CV]  C=41.6, gamma=scale, score=(train=1.000, test=1.000), total=   3.5s\n",
      "[CV] C=41.6, gamma=scale .............................................\n",
      "[CV]  C=41.6, gamma=scale, score=(train=1.000, test=1.000), total=   3.5s\n",
      "[CV] C=41.8, gamma=scale .............................................\n",
      "[CV]  C=41.8, gamma=scale, score=(train=1.000, test=1.000), total=   3.5s\n",
      "[CV] C=41.8, gamma=scale .............................................\n",
      "[CV]  C=41.8, gamma=scale, score=(train=1.000, test=1.000), total=   8.5s\n",
      "[CV] C=41.8, gamma=scale .............................................\n",
      "[CV]  C=41.8, gamma=scale, score=(train=1.000, test=1.000), total=   5.2s\n",
      "[CV] C=41.8, gamma=scale .............................................\n",
      "[CV]  C=41.8, gamma=scale, score=(train=1.000, test=1.000), total=   3.5s\n",
      "[CV] C=41.8, gamma=scale .............................................\n",
      "[CV]  C=41.8, gamma=scale, score=(train=1.000, test=1.000), total=   7.5s\n",
      "[CV] C=42.0, gamma=scale .............................................\n"
     ]
    },
    {
     "name": "stdout",
     "output_type": "stream",
     "text": [
      "[CV]  C=42.0, gamma=scale, score=(train=1.000, test=1.000), total=   3.5s\n",
      "[CV] C=42.0, gamma=scale .............................................\n",
      "[CV]  C=42.0, gamma=scale, score=(train=1.000, test=1.000), total=   3.6s\n",
      "[CV] C=42.0, gamma=scale .............................................\n",
      "[CV]  C=42.0, gamma=scale, score=(train=1.000, test=1.000), total=   6.5s\n",
      "[CV] C=42.0, gamma=scale .............................................\n",
      "[CV]  C=42.0, gamma=scale, score=(train=1.000, test=1.000), total=   9.4s\n",
      "[CV] C=42.0, gamma=scale .............................................\n",
      "[CV]  C=42.0, gamma=scale, score=(train=1.000, test=1.000), total=   4.4s\n",
      "[CV] C=42.2, gamma=scale .............................................\n",
      "[CV]  C=42.2, gamma=scale, score=(train=1.000, test=1.000), total=   3.5s\n",
      "[CV] C=42.2, gamma=scale .............................................\n",
      "[CV]  C=42.2, gamma=scale, score=(train=1.000, test=1.000), total=   5.9s\n",
      "[CV] C=42.2, gamma=scale .............................................\n",
      "[CV]  C=42.2, gamma=scale, score=(train=1.000, test=1.000), total=   8.5s\n",
      "[CV] C=42.2, gamma=scale .............................................\n",
      "[CV]  C=42.2, gamma=scale, score=(train=1.000, test=1.000), total=   5.4s\n",
      "[CV] C=42.2, gamma=scale .............................................\n",
      "[CV]  C=42.2, gamma=scale, score=(train=1.000, test=1.000), total=   6.1s\n",
      "[CV] C=42.4, gamma=scale .............................................\n",
      "[CV]  C=42.4, gamma=scale, score=(train=1.000, test=1.000), total=   3.5s\n",
      "[CV] C=42.4, gamma=scale .............................................\n",
      "[CV]  C=42.4, gamma=scale, score=(train=1.000, test=1.000), total=   3.6s\n",
      "[CV] C=42.4, gamma=scale .............................................\n",
      "[CV]  C=42.4, gamma=scale, score=(train=1.000, test=1.000), total=   6.7s\n",
      "[CV] C=42.4, gamma=scale .............................................\n",
      "[CV]  C=42.4, gamma=scale, score=(train=1.000, test=1.000), total=   9.1s\n",
      "[CV] C=42.4, gamma=scale .............................................\n",
      "[CV]  C=42.4, gamma=scale, score=(train=1.000, test=1.000), total=   3.8s\n",
      "[CV] C=42.6, gamma=scale .............................................\n",
      "[CV]  C=42.6, gamma=scale, score=(train=1.000, test=1.000), total=   3.5s\n",
      "[CV] C=42.6, gamma=scale .............................................\n",
      "[CV]  C=42.6, gamma=scale, score=(train=1.000, test=1.000), total=   4.5s\n",
      "[CV] C=42.6, gamma=scale .............................................\n",
      "[CV]  C=42.6, gamma=scale, score=(train=1.000, test=1.000), total=   6.5s\n",
      "[CV] C=42.6, gamma=scale .............................................\n",
      "[CV]  C=42.6, gamma=scale, score=(train=1.000, test=1.000), total=   3.5s\n",
      "[CV] C=42.6, gamma=scale .............................................\n",
      "[CV]  C=42.6, gamma=scale, score=(train=1.000, test=1.000), total=   3.5s\n",
      "[CV] C=42.8, gamma=scale .............................................\n",
      "[CV]  C=42.8, gamma=scale, score=(train=1.000, test=1.000), total=   3.5s\n",
      "[CV] C=42.8, gamma=scale .............................................\n",
      "[CV]  C=42.8, gamma=scale, score=(train=1.000, test=1.000), total=   5.1s\n",
      "[CV] C=42.8, gamma=scale .............................................\n",
      "[CV]  C=42.8, gamma=scale, score=(train=1.000, test=1.000), total=   9.5s\n",
      "[CV] C=42.8, gamma=scale .............................................\n",
      "[CV]  C=42.8, gamma=scale, score=(train=1.000, test=1.000), total=   3.7s\n",
      "[CV] C=42.8, gamma=scale .............................................\n",
      "[CV]  C=42.8, gamma=scale, score=(train=1.000, test=1.000), total=   3.5s\n",
      "[CV] C=43.0, gamma=scale .............................................\n",
      "[CV]  C=43.0, gamma=scale, score=(train=1.000, test=1.000), total=   3.5s\n",
      "[CV] C=43.0, gamma=scale .............................................\n",
      "[CV]  C=43.0, gamma=scale, score=(train=1.000, test=1.000), total=   3.6s\n",
      "[CV] C=43.0, gamma=scale .............................................\n",
      "[CV]  C=43.0, gamma=scale, score=(train=1.000, test=1.000), total=   3.5s\n",
      "[CV] C=43.0, gamma=scale .............................................\n",
      "[CV]  C=43.0, gamma=scale, score=(train=1.000, test=1.000), total=   3.6s\n",
      "[CV] C=43.0, gamma=scale .............................................\n",
      "[CV]  C=43.0, gamma=scale, score=(train=1.000, test=1.000), total=   3.5s\n",
      "[CV] C=43.2, gamma=scale .............................................\n",
      "[CV]  C=43.2, gamma=scale, score=(train=1.000, test=1.000), total=   3.5s\n",
      "[CV] C=43.2, gamma=scale .............................................\n",
      "[CV]  C=43.2, gamma=scale, score=(train=1.000, test=1.000), total=   3.6s\n",
      "[CV] C=43.2, gamma=scale .............................................\n",
      "[CV]  C=43.2, gamma=scale, score=(train=1.000, test=1.000), total=   3.5s\n",
      "[CV] C=43.2, gamma=scale .............................................\n",
      "[CV]  C=43.2, gamma=scale, score=(train=1.000, test=1.000), total=   6.8s\n",
      "[CV] C=43.2, gamma=scale .............................................\n",
      "[CV]  C=43.2, gamma=scale, score=(train=1.000, test=1.000), total=   7.1s\n",
      "[CV] C=43.4, gamma=scale .............................................\n",
      "[CV]  C=43.4, gamma=scale, score=(train=1.000, test=1.000), total=   6.2s\n",
      "[CV] C=43.4, gamma=scale .............................................\n",
      "[CV]  C=43.4, gamma=scale, score=(train=1.000, test=1.000), total=   5.5s\n",
      "[CV] C=43.4, gamma=scale .............................................\n",
      "[CV]  C=43.4, gamma=scale, score=(train=1.000, test=1.000), total=   8.6s\n",
      "[CV] C=43.4, gamma=scale .............................................\n",
      "[CV]  C=43.4, gamma=scale, score=(train=1.000, test=1.000), total=   8.9s\n",
      "[CV] C=43.4, gamma=scale .............................................\n",
      "[CV]  C=43.4, gamma=scale, score=(train=1.000, test=1.000), total=   8.3s\n",
      "[CV] C=43.6, gamma=scale .............................................\n",
      "[CV]  C=43.6, gamma=scale, score=(train=1.000, test=1.000), total=   7.7s\n",
      "[CV] C=43.6, gamma=scale .............................................\n",
      "[CV]  C=43.6, gamma=scale, score=(train=1.000, test=1.000), total=   8.5s\n",
      "[CV] C=43.6, gamma=scale .............................................\n",
      "[CV]  C=43.6, gamma=scale, score=(train=1.000, test=1.000), total=   7.4s\n",
      "[CV] C=43.6, gamma=scale .............................................\n",
      "[CV]  C=43.6, gamma=scale, score=(train=1.000, test=1.000), total=   5.7s\n",
      "[CV] C=43.6, gamma=scale .............................................\n",
      "[CV]  C=43.6, gamma=scale, score=(train=1.000, test=1.000), total=   4.4s\n",
      "[CV] C=43.8, gamma=scale .............................................\n",
      "[CV]  C=43.8, gamma=scale, score=(train=1.000, test=1.000), total=   8.2s\n",
      "[CV] C=43.8, gamma=scale .............................................\n",
      "[CV]  C=43.8, gamma=scale, score=(train=1.000, test=1.000), total=   9.5s\n",
      "[CV] C=43.8, gamma=scale .............................................\n",
      "[CV]  C=43.8, gamma=scale, score=(train=1.000, test=1.000), total=   8.2s\n",
      "[CV] C=43.8, gamma=scale .............................................\n",
      "[CV]  C=43.8, gamma=scale, score=(train=1.000, test=1.000), total=   8.7s\n",
      "[CV] C=43.8, gamma=scale .............................................\n",
      "[CV]  C=43.8, gamma=scale, score=(train=1.000, test=1.000), total=   8.9s\n",
      "[CV] C=44.0, gamma=scale .............................................\n",
      "[CV]  C=44.0, gamma=scale, score=(train=1.000, test=1.000), total=   7.1s\n",
      "[CV] C=44.0, gamma=scale .............................................\n",
      "[CV]  C=44.0, gamma=scale, score=(train=1.000, test=1.000), total=   8.6s\n",
      "[CV] C=44.0, gamma=scale .............................................\n",
      "[CV]  C=44.0, gamma=scale, score=(train=1.000, test=1.000), total=   3.6s\n",
      "[CV] C=44.0, gamma=scale .............................................\n",
      "[CV]  C=44.0, gamma=scale, score=(train=1.000, test=1.000), total=   3.5s\n",
      "[CV] C=44.0, gamma=scale .............................................\n",
      "[CV]  C=44.0, gamma=scale, score=(train=1.000, test=1.000), total=   3.5s\n",
      "[CV] C=44.2, gamma=scale .............................................\n",
      "[CV]  C=44.2, gamma=scale, score=(train=1.000, test=1.000), total=   3.5s\n",
      "[CV] C=44.2, gamma=scale .............................................\n",
      "[CV]  C=44.2, gamma=scale, score=(train=1.000, test=1.000), total=   3.6s\n",
      "[CV] C=44.2, gamma=scale .............................................\n"
     ]
    },
    {
     "name": "stdout",
     "output_type": "stream",
     "text": [
      "[CV]  C=44.2, gamma=scale, score=(train=1.000, test=1.000), total=   3.5s\n",
      "[CV] C=44.2, gamma=scale .............................................\n",
      "[CV]  C=44.2, gamma=scale, score=(train=1.000, test=1.000), total=   3.5s\n",
      "[CV] C=44.2, gamma=scale .............................................\n",
      "[CV]  C=44.2, gamma=scale, score=(train=1.000, test=1.000), total=   3.5s\n",
      "[CV] C=44.4, gamma=scale .............................................\n",
      "[CV]  C=44.4, gamma=scale, score=(train=1.000, test=1.000), total=   3.5s\n",
      "[CV] C=44.4, gamma=scale .............................................\n",
      "[CV]  C=44.4, gamma=scale, score=(train=1.000, test=1.000), total=   3.6s\n",
      "[CV] C=44.4, gamma=scale .............................................\n",
      "[CV]  C=44.4, gamma=scale, score=(train=1.000, test=1.000), total=   3.5s\n",
      "[CV] C=44.4, gamma=scale .............................................\n",
      "[CV]  C=44.4, gamma=scale, score=(train=1.000, test=1.000), total=   3.5s\n",
      "[CV] C=44.4, gamma=scale .............................................\n",
      "[CV]  C=44.4, gamma=scale, score=(train=1.000, test=1.000), total=   3.5s\n",
      "[CV] C=44.6, gamma=scale .............................................\n",
      "[CV]  C=44.6, gamma=scale, score=(train=1.000, test=1.000), total=   3.5s\n",
      "[CV] C=44.6, gamma=scale .............................................\n",
      "[CV]  C=44.6, gamma=scale, score=(train=1.000, test=1.000), total=   9.2s\n",
      "[CV] C=44.6, gamma=scale .............................................\n",
      "[CV]  C=44.6, gamma=scale, score=(train=1.000, test=1.000), total=   4.6s\n",
      "[CV] C=44.6, gamma=scale .............................................\n",
      "[CV]  C=44.6, gamma=scale, score=(train=1.000, test=1.000), total=   3.5s\n",
      "[CV] C=44.6, gamma=scale .............................................\n",
      "[CV]  C=44.6, gamma=scale, score=(train=1.000, test=1.000), total=   3.7s\n",
      "[CV] C=44.8, gamma=scale .............................................\n",
      "[CV]  C=44.8, gamma=scale, score=(train=1.000, test=1.000), total=   8.3s\n",
      "[CV] C=44.8, gamma=scale .............................................\n",
      "[CV]  C=44.8, gamma=scale, score=(train=1.000, test=1.000), total=   9.0s\n",
      "[CV] C=44.8, gamma=scale .............................................\n",
      "[CV]  C=44.8, gamma=scale, score=(train=1.000, test=1.000), total=   8.0s\n",
      "[CV] C=44.8, gamma=scale .............................................\n",
      "[CV]  C=44.8, gamma=scale, score=(train=1.000, test=1.000), total=   7.1s\n",
      "[CV] C=44.8, gamma=scale .............................................\n",
      "[CV]  C=44.8, gamma=scale, score=(train=1.000, test=1.000), total=   4.0s\n",
      "[CV] C=45.0, gamma=scale .............................................\n",
      "[CV]  C=45.0, gamma=scale, score=(train=1.000, test=1.000), total=   3.5s\n",
      "[CV] C=45.0, gamma=scale .............................................\n",
      "[CV]  C=45.0, gamma=scale, score=(train=1.000, test=1.000), total=   3.6s\n",
      "[CV] C=45.0, gamma=scale .............................................\n",
      "[CV]  C=45.0, gamma=scale, score=(train=1.000, test=1.000), total=   3.5s\n",
      "[CV] C=45.0, gamma=scale .............................................\n",
      "[CV]  C=45.0, gamma=scale, score=(train=1.000, test=1.000), total=   3.5s\n",
      "[CV] C=45.0, gamma=scale .............................................\n",
      "[CV]  C=45.0, gamma=scale, score=(train=1.000, test=1.000), total=   8.3s\n",
      "[CV] C=45.2, gamma=scale .............................................\n",
      "[CV]  C=45.2, gamma=scale, score=(train=1.000, test=1.000), total=   8.1s\n",
      "[CV] C=45.2, gamma=scale .............................................\n",
      "[CV]  C=45.2, gamma=scale, score=(train=1.000, test=1.000), total=   4.0s\n",
      "[CV] C=45.2, gamma=scale .............................................\n",
      "[CV]  C=45.2, gamma=scale, score=(train=1.000, test=1.000), total=   3.5s\n",
      "[CV] C=45.2, gamma=scale .............................................\n",
      "[CV]  C=45.2, gamma=scale, score=(train=1.000, test=1.000), total=   3.5s\n",
      "[CV] C=45.2, gamma=scale .............................................\n",
      "[CV]  C=45.2, gamma=scale, score=(train=1.000, test=1.000), total=   3.5s\n",
      "[CV] C=45.4, gamma=scale .............................................\n",
      "[CV]  C=45.4, gamma=scale, score=(train=1.000, test=1.000), total=   3.8s\n",
      "[CV] C=45.4, gamma=scale .............................................\n",
      "[CV]  C=45.4, gamma=scale, score=(train=1.000, test=1.000), total=   3.6s\n",
      "[CV] C=45.4, gamma=scale .............................................\n",
      "[CV]  C=45.4, gamma=scale, score=(train=1.000, test=1.000), total=   3.5s\n",
      "[CV] C=45.4, gamma=scale .............................................\n",
      "[CV]  C=45.4, gamma=scale, score=(train=1.000, test=1.000), total=   3.5s\n",
      "[CV] C=45.4, gamma=scale .............................................\n",
      "[CV]  C=45.4, gamma=scale, score=(train=1.000, test=1.000), total=   3.5s\n",
      "[CV] C=45.6, gamma=scale .............................................\n",
      "[CV]  C=45.6, gamma=scale, score=(train=1.000, test=1.000), total=   3.5s\n",
      "[CV] C=45.6, gamma=scale .............................................\n",
      "[CV]  C=45.6, gamma=scale, score=(train=1.000, test=1.000), total=   3.6s\n",
      "[CV] C=45.6, gamma=scale .............................................\n",
      "[CV]  C=45.6, gamma=scale, score=(train=1.000, test=1.000), total=   3.5s\n",
      "[CV] C=45.6, gamma=scale .............................................\n",
      "[CV]  C=45.6, gamma=scale, score=(train=1.000, test=1.000), total=   7.8s\n",
      "[CV] C=45.6, gamma=scale .............................................\n",
      "[CV]  C=45.6, gamma=scale, score=(train=1.000, test=1.000), total=   8.1s\n",
      "[CV] C=45.8, gamma=scale .............................................\n",
      "[CV]  C=45.8, gamma=scale, score=(train=1.000, test=1.000), total=   8.5s\n",
      "[CV] C=45.8, gamma=scale .............................................\n",
      "[CV]  C=45.8, gamma=scale, score=(train=1.000, test=1.000), total=   9.4s\n",
      "[CV] C=45.8, gamma=scale .............................................\n",
      "[CV]  C=45.8, gamma=scale, score=(train=1.000, test=1.000), total=   9.0s\n",
      "[CV] C=45.8, gamma=scale .............................................\n",
      "[CV]  C=45.8, gamma=scale, score=(train=1.000, test=1.000), total=   8.2s\n",
      "[CV] C=45.8, gamma=scale .............................................\n",
      "[CV]  C=45.8, gamma=scale, score=(train=1.000, test=1.000), total=   7.4s\n",
      "[CV] C=46.0, gamma=scale .............................................\n",
      "[CV]  C=46.0, gamma=scale, score=(train=1.000, test=1.000), total=   3.5s\n",
      "[CV] C=46.0, gamma=scale .............................................\n",
      "[CV]  C=46.0, gamma=scale, score=(train=1.000, test=1.000), total=   5.7s\n",
      "[CV] C=46.0, gamma=scale .............................................\n",
      "[CV]  C=46.0, gamma=scale, score=(train=1.000, test=1.000), total=   3.5s\n",
      "[CV] C=46.0, gamma=scale .............................................\n",
      "[CV]  C=46.0, gamma=scale, score=(train=1.000, test=1.000), total=   3.5s\n",
      "[CV] C=46.0, gamma=scale .............................................\n",
      "[CV]  C=46.0, gamma=scale, score=(train=1.000, test=1.000), total=   3.5s\n",
      "[CV] C=46.2, gamma=scale .............................................\n",
      "[CV]  C=46.2, gamma=scale, score=(train=1.000, test=1.000), total=   3.5s\n",
      "[CV] C=46.2, gamma=scale .............................................\n",
      "[CV]  C=46.2, gamma=scale, score=(train=1.000, test=1.000), total=   3.6s\n",
      "[CV] C=46.2, gamma=scale .............................................\n",
      "[CV]  C=46.2, gamma=scale, score=(train=1.000, test=1.000), total=   3.5s\n",
      "[CV] C=46.2, gamma=scale .............................................\n",
      "[CV]  C=46.2, gamma=scale, score=(train=1.000, test=1.000), total=   6.9s\n",
      "[CV] C=46.2, gamma=scale .............................................\n",
      "[CV]  C=46.2, gamma=scale, score=(train=1.000, test=1.000), total=   8.5s\n",
      "[CV] C=46.4, gamma=scale .............................................\n",
      "[CV]  C=46.4, gamma=scale, score=(train=1.000, test=1.000), total=   5.2s\n",
      "[CV] C=46.4, gamma=scale .............................................\n",
      "[CV]  C=46.4, gamma=scale, score=(train=1.000, test=1.000), total=   3.9s\n",
      "[CV] C=46.4, gamma=scale .............................................\n",
      "[CV]  C=46.4, gamma=scale, score=(train=1.000, test=1.000), total=   3.5s\n",
      "[CV] C=46.4, gamma=scale .............................................\n",
      "[CV]  C=46.4, gamma=scale, score=(train=1.000, test=1.000), total=   3.5s\n",
      "[CV] C=46.4, gamma=scale .............................................\n"
     ]
    },
    {
     "name": "stdout",
     "output_type": "stream",
     "text": [
      "[CV]  C=46.4, gamma=scale, score=(train=1.000, test=1.000), total=   3.5s\n",
      "[CV] C=46.6, gamma=scale .............................................\n",
      "[CV]  C=46.6, gamma=scale, score=(train=1.000, test=1.000), total=   3.4s\n",
      "[CV] C=46.6, gamma=scale .............................................\n",
      "[CV]  C=46.6, gamma=scale, score=(train=1.000, test=1.000), total=   3.6s\n",
      "[CV] C=46.6, gamma=scale .............................................\n",
      "[CV]  C=46.6, gamma=scale, score=(train=1.000, test=1.000), total=   3.5s\n",
      "[CV] C=46.6, gamma=scale .............................................\n",
      "[CV]  C=46.6, gamma=scale, score=(train=1.000, test=1.000), total=   3.5s\n",
      "[CV] C=46.6, gamma=scale .............................................\n",
      "[CV]  C=46.6, gamma=scale, score=(train=1.000, test=1.000), total=   3.5s\n",
      "[CV] C=46.8, gamma=scale .............................................\n",
      "[CV]  C=46.8, gamma=scale, score=(train=1.000, test=1.000), total=   3.4s\n",
      "[CV] C=46.8, gamma=scale .............................................\n",
      "[CV]  C=46.8, gamma=scale, score=(train=1.000, test=1.000), total=   4.0s\n",
      "[CV] C=46.8, gamma=scale .............................................\n",
      "[CV]  C=46.8, gamma=scale, score=(train=1.000, test=1.000), total=   8.1s\n",
      "[CV] C=46.8, gamma=scale .............................................\n",
      "[CV]  C=46.8, gamma=scale, score=(train=1.000, test=1.000), total=   4.1s\n",
      "[CV] C=46.8, gamma=scale .............................................\n",
      "[CV]  C=46.8, gamma=scale, score=(train=1.000, test=1.000), total=   3.5s\n",
      "[CV] C=47.0, gamma=scale .............................................\n",
      "[CV]  C=47.0, gamma=scale, score=(train=1.000, test=1.000), total=   3.5s\n",
      "[CV] C=47.0, gamma=scale .............................................\n",
      "[CV]  C=47.0, gamma=scale, score=(train=1.000, test=1.000), total=   3.6s\n",
      "[CV] C=47.0, gamma=scale .............................................\n",
      "[CV]  C=47.0, gamma=scale, score=(train=1.000, test=1.000), total=   3.5s\n",
      "[CV] C=47.0, gamma=scale .............................................\n",
      "[CV]  C=47.0, gamma=scale, score=(train=1.000, test=1.000), total=   3.5s\n",
      "[CV] C=47.0, gamma=scale .............................................\n",
      "[CV]  C=47.0, gamma=scale, score=(train=1.000, test=1.000), total=   3.5s\n",
      "[CV] C=47.2, gamma=scale .............................................\n",
      "[CV]  C=47.2, gamma=scale, score=(train=1.000, test=1.000), total=   3.5s\n",
      "[CV] C=47.2, gamma=scale .............................................\n",
      "[CV]  C=47.2, gamma=scale, score=(train=1.000, test=1.000), total=   3.6s\n",
      "[CV] C=47.2, gamma=scale .............................................\n",
      "[CV]  C=47.2, gamma=scale, score=(train=1.000, test=1.000), total=   3.5s\n",
      "[CV] C=47.2, gamma=scale .............................................\n",
      "[CV]  C=47.2, gamma=scale, score=(train=1.000, test=1.000), total=   3.5s\n",
      "[CV] C=47.2, gamma=scale .............................................\n",
      "[CV]  C=47.2, gamma=scale, score=(train=1.000, test=1.000), total=   3.5s\n",
      "[CV] C=47.4, gamma=scale .............................................\n",
      "[CV]  C=47.4, gamma=scale, score=(train=1.000, test=1.000), total=   3.5s\n",
      "[CV] C=47.4, gamma=scale .............................................\n",
      "[CV]  C=47.4, gamma=scale, score=(train=1.000, test=1.000), total=   3.6s\n",
      "[CV] C=47.4, gamma=scale .............................................\n",
      "[CV]  C=47.4, gamma=scale, score=(train=1.000, test=1.000), total=   3.5s\n",
      "[CV] C=47.4, gamma=scale .............................................\n",
      "[CV]  C=47.4, gamma=scale, score=(train=1.000, test=1.000), total=   3.5s\n",
      "[CV] C=47.4, gamma=scale .............................................\n",
      "[CV]  C=47.4, gamma=scale, score=(train=1.000, test=1.000), total=   3.5s\n",
      "[CV] C=47.6, gamma=scale .............................................\n",
      "[CV]  C=47.6, gamma=scale, score=(train=1.000, test=1.000), total=   3.5s\n",
      "[CV] C=47.6, gamma=scale .............................................\n",
      "[CV]  C=47.6, gamma=scale, score=(train=1.000, test=1.000), total=   3.7s\n",
      "[CV] C=47.6, gamma=scale .............................................\n",
      "[CV]  C=47.6, gamma=scale, score=(train=1.000, test=1.000), total=   8.1s\n",
      "[CV] C=47.6, gamma=scale .............................................\n",
      "[CV]  C=47.6, gamma=scale, score=(train=1.000, test=1.000), total=   8.0s\n",
      "[CV] C=47.6, gamma=scale .............................................\n",
      "[CV]  C=47.6, gamma=scale, score=(train=1.000, test=1.000), total=   3.5s\n",
      "[CV] C=47.8, gamma=scale .............................................\n",
      "[CV]  C=47.8, gamma=scale, score=(train=1.000, test=1.000), total=   3.4s\n",
      "[CV] C=47.8, gamma=scale .............................................\n",
      "[CV]  C=47.8, gamma=scale, score=(train=1.000, test=1.000), total=   3.6s\n",
      "[CV] C=47.8, gamma=scale .............................................\n",
      "[CV]  C=47.8, gamma=scale, score=(train=1.000, test=1.000), total=   3.5s\n",
      "[CV] C=47.8, gamma=scale .............................................\n",
      "[CV]  C=47.8, gamma=scale, score=(train=1.000, test=1.000), total=   3.5s\n",
      "[CV] C=47.8, gamma=scale .............................................\n",
      "[CV]  C=47.8, gamma=scale, score=(train=1.000, test=1.000), total=   3.5s\n",
      "[CV] C=48.0, gamma=scale .............................................\n",
      "[CV]  C=48.0, gamma=scale, score=(train=1.000, test=1.000), total=   3.5s\n",
      "[CV] C=48.0, gamma=scale .............................................\n",
      "[CV]  C=48.0, gamma=scale, score=(train=1.000, test=1.000), total=   3.6s\n",
      "[CV] C=48.0, gamma=scale .............................................\n",
      "[CV]  C=48.0, gamma=scale, score=(train=1.000, test=1.000), total=   3.5s\n",
      "[CV] C=48.0, gamma=scale .............................................\n",
      "[CV]  C=48.0, gamma=scale, score=(train=1.000, test=1.000), total=   3.5s\n",
      "[CV] C=48.0, gamma=scale .............................................\n",
      "[CV]  C=48.0, gamma=scale, score=(train=1.000, test=1.000), total=   3.5s\n",
      "[CV] C=48.2, gamma=scale .............................................\n",
      "[CV]  C=48.2, gamma=scale, score=(train=1.000, test=1.000), total=   3.4s\n",
      "[CV] C=48.2, gamma=scale .............................................\n",
      "[CV]  C=48.2, gamma=scale, score=(train=1.000, test=1.000), total=   5.7s\n",
      "[CV] C=48.2, gamma=scale .............................................\n",
      "[CV]  C=48.2, gamma=scale, score=(train=1.000, test=1.000), total=   3.6s\n",
      "[CV] C=48.2, gamma=scale .............................................\n",
      "[CV]  C=48.2, gamma=scale, score=(train=1.000, test=1.000), total=   4.8s\n",
      "[CV] C=48.2, gamma=scale .............................................\n",
      "[CV]  C=48.2, gamma=scale, score=(train=1.000, test=1.000), total=   4.9s\n",
      "[CV] C=48.4, gamma=scale .............................................\n",
      "[CV]  C=48.4, gamma=scale, score=(train=1.000, test=1.000), total=   3.4s\n",
      "[CV] C=48.4, gamma=scale .............................................\n",
      "[CV]  C=48.4, gamma=scale, score=(train=1.000, test=1.000), total=   3.6s\n",
      "[CV] C=48.4, gamma=scale .............................................\n",
      "[CV]  C=48.4, gamma=scale, score=(train=1.000, test=1.000), total=   3.5s\n",
      "[CV] C=48.4, gamma=scale .............................................\n",
      "[CV]  C=48.4, gamma=scale, score=(train=1.000, test=1.000), total=   3.5s\n",
      "[CV] C=48.4, gamma=scale .............................................\n",
      "[CV]  C=48.4, gamma=scale, score=(train=1.000, test=1.000), total=   3.5s\n",
      "[CV] C=48.6, gamma=scale .............................................\n",
      "[CV]  C=48.6, gamma=scale, score=(train=1.000, test=1.000), total=   3.5s\n",
      "[CV] C=48.6, gamma=scale .............................................\n",
      "[CV]  C=48.6, gamma=scale, score=(train=1.000, test=1.000), total=   3.6s\n",
      "[CV] C=48.6, gamma=scale .............................................\n",
      "[CV]  C=48.6, gamma=scale, score=(train=1.000, test=1.000), total=   3.5s\n",
      "[CV] C=48.6, gamma=scale .............................................\n",
      "[CV]  C=48.6, gamma=scale, score=(train=1.000, test=1.000), total=   6.8s\n",
      "[CV] C=48.6, gamma=scale .............................................\n",
      "[CV]  C=48.6, gamma=scale, score=(train=1.000, test=1.000), total=   5.6s\n",
      "[CV] C=48.8, gamma=scale .............................................\n",
      "[CV]  C=48.8, gamma=scale, score=(train=1.000, test=1.000), total=   3.4s\n",
      "[CV] C=48.8, gamma=scale .............................................\n"
     ]
    },
    {
     "name": "stdout",
     "output_type": "stream",
     "text": [
      "[CV]  C=48.8, gamma=scale, score=(train=1.000, test=1.000), total=   3.6s\n",
      "[CV] C=48.8, gamma=scale .............................................\n",
      "[CV]  C=48.8, gamma=scale, score=(train=1.000, test=1.000), total=   3.5s\n",
      "[CV] C=48.8, gamma=scale .............................................\n",
      "[CV]  C=48.8, gamma=scale, score=(train=1.000, test=1.000), total=   5.2s\n",
      "[CV] C=48.8, gamma=scale .............................................\n",
      "[CV]  C=48.8, gamma=scale, score=(train=1.000, test=1.000), total=   6.3s\n",
      "[CV] C=49.0, gamma=scale .............................................\n",
      "[CV]  C=49.0, gamma=scale, score=(train=1.000, test=1.000), total=   3.5s\n",
      "[CV] C=49.0, gamma=scale .............................................\n",
      "[CV]  C=49.0, gamma=scale, score=(train=1.000, test=1.000), total=   3.6s\n",
      "[CV] C=49.0, gamma=scale .............................................\n",
      "[CV]  C=49.0, gamma=scale, score=(train=1.000, test=1.000), total=   3.5s\n",
      "[CV] C=49.0, gamma=scale .............................................\n",
      "[CV]  C=49.0, gamma=scale, score=(train=1.000, test=1.000), total=   3.5s\n",
      "[CV] C=49.0, gamma=scale .............................................\n",
      "[CV]  C=49.0, gamma=scale, score=(train=1.000, test=1.000), total=   3.5s\n",
      "[CV] C=49.2, gamma=scale .............................................\n",
      "[CV]  C=49.2, gamma=scale, score=(train=1.000, test=1.000), total=   3.4s\n",
      "[CV] C=49.2, gamma=scale .............................................\n",
      "[CV]  C=49.2, gamma=scale, score=(train=1.000, test=1.000), total=   3.6s\n",
      "[CV] C=49.2, gamma=scale .............................................\n",
      "[CV]  C=49.2, gamma=scale, score=(train=1.000, test=1.000), total=   3.5s\n",
      "[CV] C=49.2, gamma=scale .............................................\n",
      "[CV]  C=49.2, gamma=scale, score=(train=1.000, test=1.000), total=   3.5s\n",
      "[CV] C=49.2, gamma=scale .............................................\n",
      "[CV]  C=49.2, gamma=scale, score=(train=1.000, test=1.000), total=   3.5s\n",
      "[CV] C=49.4, gamma=scale .............................................\n",
      "[CV]  C=49.4, gamma=scale, score=(train=1.000, test=1.000), total=   3.4s\n",
      "[CV] C=49.4, gamma=scale .............................................\n",
      "[CV]  C=49.4, gamma=scale, score=(train=1.000, test=1.000), total=   8.6s\n",
      "[CV] C=49.4, gamma=scale .............................................\n",
      "[CV]  C=49.4, gamma=scale, score=(train=1.000, test=1.000), total=   6.7s\n",
      "[CV] C=49.4, gamma=scale .............................................\n",
      "[CV]  C=49.4, gamma=scale, score=(train=1.000, test=1.000), total=   9.2s\n",
      "[CV] C=49.4, gamma=scale .............................................\n",
      "[CV]  C=49.4, gamma=scale, score=(train=1.000, test=1.000), total=   8.9s\n",
      "[CV] C=49.6, gamma=scale .............................................\n",
      "[CV]  C=49.6, gamma=scale, score=(train=1.000, test=1.000), total=   8.9s\n",
      "[CV] C=49.6, gamma=scale .............................................\n",
      "[CV]  C=49.6, gamma=scale, score=(train=1.000, test=1.000), total=   8.0s\n",
      "[CV] C=49.6, gamma=scale .............................................\n",
      "[CV]  C=49.6, gamma=scale, score=(train=1.000, test=1.000), total=   9.6s\n",
      "[CV] C=49.6, gamma=scale .............................................\n",
      "[CV]  C=49.6, gamma=scale, score=(train=1.000, test=1.000), total=   7.7s\n",
      "[CV] C=49.6, gamma=scale .............................................\n",
      "[CV]  C=49.6, gamma=scale, score=(train=1.000, test=1.000), total=   8.9s\n",
      "[CV] C=49.8, gamma=scale .............................................\n",
      "[CV]  C=49.8, gamma=scale, score=(train=1.000, test=1.000), total=   8.2s\n",
      "[CV] C=49.8, gamma=scale .............................................\n",
      "[CV]  C=49.8, gamma=scale, score=(train=1.000, test=1.000), total=   7.5s\n",
      "[CV] C=49.8, gamma=scale .............................................\n",
      "[CV]  C=49.8, gamma=scale, score=(train=1.000, test=1.000), total=   9.3s\n",
      "[CV] C=49.8, gamma=scale .............................................\n",
      "[CV]  C=49.8, gamma=scale, score=(train=1.000, test=1.000), total=   9.3s\n",
      "[CV] C=49.8, gamma=scale .............................................\n",
      "[CV]  C=49.8, gamma=scale, score=(train=1.000, test=1.000), total=   7.6s\n",
      "[CV] C=50.0, gamma=scale .............................................\n",
      "[CV]  C=50.0, gamma=scale, score=(train=1.000, test=1.000), total=   9.1s\n",
      "[CV] C=50.0, gamma=scale .............................................\n",
      "[CV]  C=50.0, gamma=scale, score=(train=1.000, test=1.000), total=   8.6s\n",
      "[CV] C=50.0, gamma=scale .............................................\n",
      "[CV]  C=50.0, gamma=scale, score=(train=1.000, test=1.000), total=   9.5s\n",
      "[CV] C=50.0, gamma=scale .............................................\n",
      "[CV]  C=50.0, gamma=scale, score=(train=1.000, test=1.000), total=   7.9s\n",
      "[CV] C=50.0, gamma=scale .............................................\n",
      "[CV]  C=50.0, gamma=scale, score=(train=1.000, test=1.000), total=   7.8s\n"
     ]
    },
    {
     "name": "stderr",
     "output_type": "stream",
     "text": [
      "[Parallel(n_jobs=1)]: Done 380 out of 380 | elapsed: 54.1min finished\n"
     ]
    },
    {
     "data": {
      "text/plain": [
       "GridSearchCV(cv=5, estimator=SVC(),\n",
       "             param_grid={'C': [35.0, 35.2, 35.4, 35.6, 35.8, 36.0, 36.2, 36.4,\n",
       "                               36.6, 36.8, 37.0, 37.2, 37.4, 37.6, 37.8, 38.0,\n",
       "                               38.2, 38.4, 38.6, 38.8, 39.0, 39.2, 39.4, 39.6,\n",
       "                               39.8, 40.0, 40.2, 40.4, 40.6, 40.8, ...],\n",
       "                         'gamma': ['scale']},\n",
       "             return_train_score=True, scoring='accuracy', verbose=5)"
      ]
     },
     "execution_count": 13,
     "metadata": {},
     "output_type": "execute_result"
    }
   ],
   "source": [
    "grid_search.fit(X_train,Y_train)"
   ]
  },
  {
   "cell_type": "code",
   "execution_count": 14,
   "metadata": {},
   "outputs": [
    {
     "data": {
      "text/plain": [
       "0.9998237574903065"
      ]
     },
     "execution_count": 14,
     "metadata": {},
     "output_type": "execute_result"
    }
   ],
   "source": [
    "grid_search.best_score_"
   ]
  },
  {
   "cell_type": "code",
   "execution_count": 15,
   "metadata": {},
   "outputs": [
    {
     "data": {
      "text/plain": [
       "{'C': 35.4, 'gamma': 'scale'}"
      ]
     },
     "execution_count": 15,
     "metadata": {},
     "output_type": "execute_result"
    }
   ],
   "source": [
    "grid_search.best_params_"
   ]
  },
  {
   "cell_type": "markdown",
   "metadata": {},
   "source": [
    "# Best Model evaluation"
   ]
  },
  {
   "cell_type": "code",
   "execution_count": 16,
   "metadata": {},
   "outputs": [],
   "source": [
    "best_svm_clf = SVC(kernel = 'rbf', C = 35.4, gamma= 'scale', class_weight = 'balanced',probability=True)"
   ]
  },
  {
   "cell_type": "code",
   "execution_count": 17,
   "metadata": {},
   "outputs": [
    {
     "data": {
      "text/plain": [
       "SVC(C=35.4, class_weight='balanced', probability=True)"
      ]
     },
     "execution_count": 17,
     "metadata": {},
     "output_type": "execute_result"
    }
   ],
   "source": [
    "best_svm_clf.fit(X_train, Y_train)"
   ]
  },
  {
   "cell_type": "code",
   "execution_count": 18,
   "metadata": {},
   "outputs": [],
   "source": [
    "Y_predict = best_svm_clf.predict(X_test)"
   ]
  },
  {
   "cell_type": "code",
   "execution_count": 19,
   "metadata": {},
   "outputs": [
    {
     "data": {
      "text/plain": [
       "0.9231591058514136"
      ]
     },
     "execution_count": 19,
     "metadata": {},
     "output_type": "execute_result"
    }
   ],
   "source": [
    "accuracy_score(Y_test, Y_predict)"
   ]
  },
  {
   "cell_type": "code",
   "execution_count": 13,
   "metadata": {},
   "outputs": [
    {
     "name": "stdout",
     "output_type": "stream",
     "text": [
      "              precision    recall  f1-score   support\n",
      "\n",
      "           0   0.974031  0.999577  0.986639      2364\n",
      "           1   0.999576  0.998308  0.998942      2364\n",
      "           2   0.969244  0.986464  0.977778      2364\n",
      "           3   0.984304  0.822335  0.896059      2364\n",
      "           4   0.939936  0.999577  0.968840      2364\n",
      "           5   0.805745  0.949239  0.871626      2364\n",
      "           6   0.883146  0.831218  0.856396      2364\n",
      "           7   1.000000  0.939086  0.968586      2364\n",
      "\n",
      "    accuracy                       0.940725     18912\n",
      "   macro avg   0.944498  0.940725  0.940608     18912\n",
      "weighted avg   0.944498  0.940725  0.940608     18912\n",
      "\n"
     ]
    }
   ],
   "source": [
    "print(classification_report(Y_test, Y_predict, digits=6))"
   ]
  },
  {
   "cell_type": "markdown",
   "metadata": {},
   "source": [
    "# The number of correctly classified samples in the test set"
   ]
  },
  {
   "cell_type": "code",
   "execution_count": 14,
   "metadata": {},
   "outputs": [
    {
     "data": {
      "text/plain": [
       "17791"
      ]
     },
     "execution_count": 14,
     "metadata": {},
     "output_type": "execute_result"
    }
   ],
   "source": [
    "accuracy_score(Y_test, Y_predict, normalize=False)"
   ]
  },
  {
   "cell_type": "markdown",
   "metadata": {
    "collapsed": true
   },
   "source": [
    "# Confusion Matrix"
   ]
  },
  {
   "cell_type": "code",
   "execution_count": 15,
   "metadata": {
    "collapsed": true
   },
   "outputs": [],
   "source": [
    "conf_mx=confusion_matrix(Y_test, Y_predict)"
   ]
  },
  {
   "cell_type": "code",
   "execution_count": 16,
   "metadata": {},
   "outputs": [
    {
     "data": {
      "text/plain": [
       "array([[2363,    0,    0,    1,    0,    0,    0,    0],\n",
       "       [   0, 2360,    0,    0,    4,    0,    0,    0],\n",
       "       [   3,    0, 2332,   28,    0,    1,    0,    0],\n",
       "       [  60,    0,   73, 1944,    3,  144,  140,    0],\n",
       "       [   0,    1,    0,    0, 2363,    0,    0,    0],\n",
       "       [   0,    0,    0,    0,    0, 2244,  120,    0],\n",
       "       [   0,    0,    1,    2,    0,  396, 1965,    0],\n",
       "       [   0,    0,    0,    0,  144,    0,    0, 2220]], dtype=int64)"
      ]
     },
     "execution_count": 16,
     "metadata": {},
     "output_type": "execute_result"
    }
   ],
   "source": [
    "conf_mx"
   ]
  },
  {
   "cell_type": "code",
   "execution_count": 17,
   "metadata": {},
   "outputs": [
    {
     "data": {
      "image/png": "[encoded data removed]",
      "text/plain": [
       "<Figure size 288x288 with 1 Axes>"
      ]
     },
     "metadata": {
      "needs_background": "light"
     },
     "output_type": "display_data"
    }
   ],
   "source": [
    "plt.matshow(conf_mx,cmap=plt.cm.gray)\n",
    "plt.show()"
   ]
  },
  {
   "cell_type": "markdown",
   "metadata": {},
   "source": [
    "# Classification Error plot"
   ]
  },
  {
   "cell_type": "code",
   "execution_count": 18,
   "metadata": {
    "collapsed": true
   },
   "outputs": [],
   "source": [
    "row_sums=conf_mx.sum(axis=1,keepdims=True)\n",
    "norm_conf_mx=conf_mx/row_sums"
   ]
  },
  {
   "cell_type": "code",
   "execution_count": 19,
   "metadata": {},
   "outputs": [
    {
     "data": {
      "image/png": "[encoded data removed]",
      "text/plain": [
       "<Figure size 288x288 with 1 Axes>"
      ]
     },
     "metadata": {
      "needs_background": "light"
     },
     "output_type": "display_data"
    }
   ],
   "source": [
    "np.fill_diagonal(norm_conf_mx,0)\n",
    "plt.matshow(norm_conf_mx,cmap=plt.cm.gray)\n",
    "plt.show()"
   ]
  },
  {
   "cell_type": "markdown",
   "metadata": {},
   "source": [
    "# Precision vs. Recall curve"
   ]
  },
  {
   "cell_type": "code",
   "execution_count": 24,
   "metadata": {},
   "outputs": [],
   "source": [
    "Y_score = best_svm_clf.predict_proba(X_test)"
   ]
  },
  {
   "cell_type": "code",
   "execution_count": 27,
   "metadata": {},
   "outputs": [
    {
     "data": {
      "text/plain": [
       "array([[1.44709065e-07, 1.17460917e-07, 3.05324580e-07, 8.15330629e-08,\n",
       "        2.36904447e-07, 1.43915236e-07, 1.16833391e-07, 9.99998853e-01],\n",
       "       [3.92337082e-04, 7.26795906e-04, 3.46270723e-04, 2.70336581e-04,\n",
       "        2.66442517e-01, 6.60997441e-04, 2.92597513e-04, 7.30868148e-01],\n",
       "       [1.04590967e-03, 4.83008521e-01, 7.81519777e-04, 4.21224387e-04,\n",
       "        5.06773564e-01, 2.47694947e-03, 3.24186883e-03, 2.25044339e-03],\n",
       "       [1.21162675e-08, 4.26751768e-09, 7.92422003e-09, 7.31608453e-09,\n",
       "        4.88494385e-09, 2.08329680e-08, 9.99981956e-01, 1.79863961e-05],\n",
       "       [4.53156548e-08, 3.81880767e-08, 1.16357895e-07, 3.73400491e-08,\n",
       "        7.00936683e-08, 6.18693545e-08, 3.57708132e-08, 9.99999595e-01],\n",
       "       [3.11986099e-09, 1.67250538e-08, 7.17571112e-09, 9.38445819e-09,\n",
       "        9.99965041e-01, 1.05301679e-05, 1.58302127e-05, 8.56213200e-06],\n",
       "       [6.15381633e-05, 6.85520695e-05, 2.76198165e-03, 3.26546549e-04,\n",
       "        8.64842574e-05, 4.40085598e-05, 9.94911094e-05, 9.96551398e-01],\n",
       "       [9.99887596e-01, 1.09380892e-05, 1.44163626e-06, 5.19489491e-05,\n",
       "        1.73566645e-05, 7.44235086e-06, 5.73357799e-06, 1.75423027e-05],\n",
       "       [9.98872301e-01, 1.80809717e-04, 1.98512638e-05, 3.08951665e-04,\n",
       "        1.81441225e-04, 5.18124223e-05, 3.78471345e-05, 3.46985634e-04],\n",
       "       [3.49671323e-08, 1.70954031e-08, 5.11704091e-08, 9.99902875e-01,\n",
       "        6.41089395e-05, 5.55973430e-06, 1.76107977e-05, 9.74234493e-06]])"
      ]
     },
     "execution_count": 27,
     "metadata": {},
     "output_type": "execute_result"
    }
   ],
   "source": [
    "Y_score[0:10]"
   ]
  },
  {
   "cell_type": "code",
   "execution_count": 25,
   "metadata": {
    "collapsed": true
   },
   "outputs": [],
   "source": [
    "Y_test_bin= label_binarize(Y_test, classes=[*range(no_of_classes)])"
   ]
  },
  {
   "cell_type": "code",
   "execution_count": 26,
   "metadata": {},
   "outputs": [
    {
     "name": "stdout",
     "output_type": "stream",
     "text": [
      "range(0, 8)\n"
     ]
    },
    {
     "data": {
      "image/png": "[encoded data removed]",
      "text/plain": [
       "<Figure size 432x288 with 1 Axes>"
      ]
     },
     "metadata": {
      "needs_background": "light"
     },
     "output_type": "display_data"
    }
   ],
   "source": [
    "precision = dict()\n",
    "recall = dict()\n",
    "x=range(no_of_classes)\n",
    "print(x)\n",
    "for i in range(no_of_classes):\n",
    "    precision[i], recall[i], _ = precision_recall_curve(Y_test_bin[:,i],Y_score[:, i])\n",
    "    plt.plot(recall[i], precision[i], lw=2, label='class {}'.format(i))\n",
    "\n",
    "plt.xlabel(\"recall\")\n",
    "plt.ylabel(\"precision\")\n",
    "plt.legend(loc=\"best\")\n",
    "plt.title(\"precision vs. recall curve\")\n",
    "plt.show()"
   ]
  },
  {
   "cell_type": "markdown",
   "metadata": {},
   "source": [
    "# ROC curve"
   ]
  },
  {
   "cell_type": "code",
   "execution_count": 31,
   "metadata": {},
   "outputs": [
    {
     "name": "stdout",
     "output_type": "stream",
     "text": [
      "range(0, 8)\n"
     ]
    },
    {
     "data": {
      "image/png": "[encoded data removed]",
      "text/plain": [
       "<Figure size 432x288 with 1 Axes>"
      ]
     },
     "metadata": {
      "needs_background": "light"
     },
     "output_type": "display_data"
    }
   ],
   "source": [
    "fpr = dict()\n",
    "tpr = dict()\n",
    "x=range(no_of_classes)\n",
    "print(x)\n",
    "for i in range(no_of_classes):\n",
    "    fpr[i], tpr[i], _ = roc_curve(Y_test_bin[:, i],Y_score[:, i])\n",
    "    plt.plot(fpr[i], tpr[i], lw=2, label='class {}'.format(i))\n",
    "\n",
    "plt.xlabel(\"false positive rate\")\n",
    "plt.ylabel(\"true positive rate\")\n",
    "plt.legend(loc=\"best\")\n",
    "plt.title(\"ROC curve\")\n",
    "plt.show()"
   ]
  },
  {
   "cell_type": "markdown",
   "metadata": {},
   "source": [
    "# Saving model"
   ]
  },
  {
   "cell_type": "code",
   "execution_count": 20,
   "metadata": {},
   "outputs": [
    {
     "data": {
      "text/plain": [
       "['svm_emg_clf.pkl']"
      ]
     },
     "execution_count": 20,
     "metadata": {},
     "output_type": "execute_result"
    }
   ],
   "source": [
    "import joblib\n",
    "\n",
    "\n",
    "# save the model to disk\n",
    "joblib.dump(best_svm_clf, 'svm_emg_clf.pkl')"
   ]
  },
  {
   "cell_type": "markdown",
   "metadata": {},
   "source": [
    "# Saving data"
   ]
  },
  {
   "cell_type": "code",
   "execution_count": 57,
   "metadata": {},
   "outputs": [],
   "source": [
    "np.save('X_train', X_train) \n",
    "\n",
    "np.save('Y_train', Y_train) \n",
    "\n",
    "np.save('X_test', X_test) \n",
    "\n",
    "np.save('Y_test', Y_test) "
   ]
  },
  {
   "cell_type": "code",
   "execution_count": 5,
   "metadata": {},
   "outputs": [],
   "source": [
    "np.save('X_test2', X_test) \n",
    "\n",
    "np.save('Y_test2', Y_test) "
   ]
  },
  {
   "cell_type": "code",
   "execution_count": 5,
   "metadata": {},
   "outputs": [],
   "source": [
    "np.save('X_dev', X_test) \n",
    "\n",
    "np.save('Y_dev', Y_test) "
   ]
  },
  {
   "cell_type": "code",
   "execution_count": null,
   "metadata": {},
   "outputs": [],
   "source": []
  }
 ],
 "metadata": {
  "anaconda-cloud": {},
  "kernelspec": {
   "display_name": "Python [conda env:ece715_projects]",
   "language": "python",
   "name": "conda-env-ece715_projects-py"
  },
  "language_info": {
   "codemirror_mode": {
    "name": "ipython",
    "version": 3
   },
   "file_extension": ".py",
   "mimetype": "text/x-python",
   "name": "python",
   "nbconvert_exporter": "python",
   "pygments_lexer": "ipython3",
   "version": "3.10.12"
  }
 },
 "nbformat": 4,
 "nbformat_minor": 1
}
