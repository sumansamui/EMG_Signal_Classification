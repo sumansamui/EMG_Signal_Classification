{
 "cells": [
  {
   "cell_type": "code",
   "execution_count": 1,
   "metadata": {
    "collapsed": false
   },
   "outputs": [],
   "source": [
    "%matplotlib inline\n",
    "\n",
    "import numpy as np\n",
    "import pandas as pd\n",
    "import matplotlib.pyplot as plt\n",
    "import math\n",
    "from sklearn.preprocessing import StandardScaler\n",
    "from sklearn.model_selection import GridSearchCV\n",
    "from sklearn.svm import SVC\n",
    "from sklearn.metrics import accuracy_score, f1_score, recall_score,precision_score, classification_report, confusion_matrix\n",
    "import collections\n",
    "from sklearn.model_selection import cross_val_predict\n",
    "from sklearn.metrics import precision_recall_curve, roc_curve\n",
    "from sklearn.multiclass import OneVsRestClassifier\n",
    "from sklearn.preprocessing import label_binarize\n",
    "\n",
    "np.random.seed(1337)  # for reproducibility"
   ]
  },
  {
   "cell_type": "code",
   "execution_count": 22,
   "metadata": {
    "collapsed": true
   },
   "outputs": [],
   "source": [
    "\n",
    "def load_dataset(file_train, file_validate, file_test):\n",
    "    df_train = pd.read_excel(file_train,header=None)\n",
    "\n",
    "    X_train, Y_train = format_data(df_train)\n",
    "\n",
    "    df_test = pd.read_excel(file_test,header=None)\n",
    "\n",
    "    X_test, Y_test = format_data(df_test)\n",
    "\n",
    "\n",
    "\n",
    "    df_validate = pd.read_excel(file_validate,header=None)\n",
    "\n",
    "    X_validate, Y_validate = format_data(df_validate)\n",
    "\n",
    "\n",
    "\n",
    "    return X_train, Y_train, X_validate, Y_validate, X_test, Y_test\n",
    "\n",
    "\n",
    "def format_data(df):\n",
    "    X = np.array(df.drop(df.columns[-1], 1))\n",
    "\n",
    "\n",
    "    Y = np.array(df[df.columns[-1]])\n",
    "\n",
    "    \n",
    "    Y=Y-1\n",
    "\n",
    "    return X,Y\n"
   ]
  },
  {
   "cell_type": "code",
   "execution_count": 23,
   "metadata": {
    "collapsed": false
   },
   "outputs": [],
   "source": [
    "train_set_file = 'trainset_P135_60.xls'\n",
    "\n",
    "validate_set_file = 'cvset_P12345_20.xls'\n",
    "\n",
    "test_set_file = 'testset_P12345_20.xls'\n",
    "\n",
    "\n",
    "X_train, Y_train, X_validate, Y_validate, X_test, Y_test = load_dataset(train_set_file, validate_set_file , test_set_file)\n",
    "\n"
   ]
  },
  {
   "cell_type": "code",
   "execution_count": 24,
   "metadata": {
    "collapsed": false
   },
   "outputs": [
    {
     "name": "stdout",
     "output_type": "stream",
     "text": [
      "(19776, 42)\n",
      "(19776,)\n",
      "(7040, 42)\n",
      "(7040,)\n",
      "(7040, 42)\n",
      "(7040,)\n"
     ]
    }
   ],
   "source": [
    "print(X_train.shape)\n",
    "print(Y_train.shape)\n",
    "\n",
    "print(X_test.shape)\n",
    "print(Y_test.shape)\n",
    "\n",
    "print(X_validate.shape)\n",
    "print(Y_validate.shape)"
   ]
  },
  {
   "cell_type": "code",
   "execution_count": 25,
   "metadata": {
    "collapsed": false
   },
   "outputs": [
    {
     "data": {
      "text/plain": [
       "8"
      ]
     },
     "execution_count": 25,
     "metadata": {},
     "output_type": "execute_result"
    }
   ],
   "source": [
    "no_of_classes=np.unique(Y_train).size\n",
    "no_of_classes"
   ]
  },
  {
   "cell_type": "markdown",
   "metadata": {},
   "source": [
    "# Merging train and dev data"
   ]
  },
  {
   "cell_type": "code",
   "execution_count": 26,
   "metadata": {
    "collapsed": true
   },
   "outputs": [],
   "source": [
    "X_train=np.concatenate((X_train, X_validate), axis=0)"
   ]
  },
  {
   "cell_type": "code",
   "execution_count": 27,
   "metadata": {
    "collapsed": false
   },
   "outputs": [
    {
     "data": {
      "text/plain": [
       "(26816, 42)"
      ]
     },
     "execution_count": 27,
     "metadata": {},
     "output_type": "execute_result"
    }
   ],
   "source": [
    "X_train.shape"
   ]
  },
  {
   "cell_type": "code",
   "execution_count": 28,
   "metadata": {
    "collapsed": true
   },
   "outputs": [],
   "source": [
    "Y_train=np.concatenate((Y_train, Y_validate), axis=0)"
   ]
  },
  {
   "cell_type": "code",
   "execution_count": 29,
   "metadata": {
    "collapsed": false
   },
   "outputs": [
    {
     "data": {
      "text/plain": [
       "(26816,)"
      ]
     },
     "execution_count": 29,
     "metadata": {},
     "output_type": "execute_result"
    }
   ],
   "source": [
    "Y_train.shape"
   ]
  },
  {
   "cell_type": "code",
   "execution_count": 30,
   "metadata": {
    "collapsed": false
   },
   "outputs": [
    {
     "name": "stdout",
     "output_type": "stream",
     "text": [
      "(26816, 42)\n",
      "(26816,)\n",
      "(7040, 42)\n",
      "(7040,)\n"
     ]
    }
   ],
   "source": [
    "print(X_train.shape)\n",
    "print(Y_train.shape)\n",
    "\n",
    "print(X_test.shape)\n",
    "print(Y_test.shape)"
   ]
  },
  {
   "cell_type": "markdown",
   "metadata": {},
   "source": [
    "# Feature Scaling"
   ]
  },
  {
   "cell_type": "code",
   "execution_count": 31,
   "metadata": {
    "collapsed": true
   },
   "outputs": [],
   "source": [
    "scaler = StandardScaler()\n",
    "X_train = scaler.fit_transform(X_train)\n",
    "X_test = scaler.fit_transform(X_test)"
   ]
  },
  {
   "cell_type": "markdown",
   "metadata": {},
   "source": [
    "# Grid Search Method"
   ]
  },
  {
   "cell_type": "code",
   "execution_count": 11,
   "metadata": {
    "collapsed": true
   },
   "outputs": [],
   "source": [
    "param_grid={'C': [0.1, 1, 100, 1000],'gamma': ['scale','auto', 0.00001, 0.0001, 0.001,0.01,0.1,1,5,10]}"
   ]
  },
  {
   "cell_type": "code",
   "execution_count": 12,
   "metadata": {
    "collapsed": true
   },
   "outputs": [],
   "source": [
    "svm_clf=SVC(kernel='rbf')"
   ]
  },
  {
   "cell_type": "code",
   "execution_count": 15,
   "metadata": {
    "collapsed": true
   },
   "outputs": [],
   "source": [
    "grid_search = GridSearchCV(svm_clf, param_grid, scoring='accuracy', cv = 5, verbose=5,return_train_score=True)"
   ]
  },
  {
   "cell_type": "code",
   "execution_count": 16,
   "metadata": {
    "collapsed": false
   },
   "outputs": [
    {
     "name": "stdout",
     "output_type": "stream",
     "text": [
      "Fitting 5 folds for each of 40 candidates, totalling 200 fits\n",
      "[CV] C=0.1, gamma=scale ..............................................\n"
     ]
    },
    {
     "name": "stderr",
     "output_type": "stream",
     "text": [
      "[Parallel(n_jobs=1)]: Using backend SequentialBackend with 1 concurrent workers.\n"
     ]
    },
    {
     "name": "stdout",
     "output_type": "stream",
     "text": [
      "[CV]  C=0.1, gamma=scale, score=(train=0.979, test=0.936), total=  16.5s\n",
      "[CV] C=0.1, gamma=scale ..............................................\n"
     ]
    },
    {
     "name": "stderr",
     "output_type": "stream",
     "text": [
      "[Parallel(n_jobs=1)]: Done   1 out of   1 | elapsed:   36.5s remaining:    0.0s\n"
     ]
    },
    {
     "name": "stdout",
     "output_type": "stream",
     "text": [
      "[CV]  C=0.1, gamma=scale, score=(train=0.981, test=0.977), total=  13.2s\n",
      "[CV] C=0.1, gamma=scale ..............................................\n"
     ]
    },
    {
     "name": "stderr",
     "output_type": "stream",
     "text": [
      "[Parallel(n_jobs=1)]: Done   2 out of   2 | elapsed:  1.1min remaining:    0.0s\n"
     ]
    },
    {
     "name": "stdout",
     "output_type": "stream",
     "text": [
      "[CV]  C=0.1, gamma=scale, score=(train=0.981, test=0.977), total=  13.1s\n",
      "[CV] C=0.1, gamma=scale ..............................................\n"
     ]
    },
    {
     "name": "stderr",
     "output_type": "stream",
     "text": [
      "[Parallel(n_jobs=1)]: Done   3 out of   3 | elapsed:  1.5min remaining:    0.0s\n"
     ]
    },
    {
     "name": "stdout",
     "output_type": "stream",
     "text": [
      "[CV]  C=0.1, gamma=scale, score=(train=0.984, test=0.948), total=  12.5s\n",
      "[CV] C=0.1, gamma=scale ..............................................\n"
     ]
    },
    {
     "name": "stderr",
     "output_type": "stream",
     "text": [
      "[Parallel(n_jobs=1)]: Done   4 out of   4 | elapsed:  2.0min remaining:    0.0s\n"
     ]
    },
    {
     "name": "stdout",
     "output_type": "stream",
     "text": [
      "[CV]  C=0.1, gamma=scale, score=(train=0.983, test=0.970), total=  13.2s\n",
      "[CV] C=0.1, gamma=auto ...............................................\n",
      "[CV]  C=0.1, gamma=auto, score=(train=0.979, test=0.938), total=  15.0s\n",
      "[CV] C=0.1, gamma=auto ...............................................\n",
      "[CV]  C=0.1, gamma=auto, score=(train=0.981, test=0.977), total=  13.1s\n",
      "[CV] C=0.1, gamma=auto ...............................................\n",
      "[CV]  C=0.1, gamma=auto, score=(train=0.981, test=0.977), total=  17.1s\n",
      "[CV] C=0.1, gamma=auto ...............................................\n",
      "[CV]  C=0.1, gamma=auto, score=(train=0.984, test=0.948), total=  15.4s\n",
      "[CV] C=0.1, gamma=auto ...............................................\n",
      "[CV]  C=0.1, gamma=auto, score=(train=0.984, test=0.970), total=  13.1s\n",
      "[CV] C=0.1, gamma=1e-05 ..............................................\n",
      "[CV]  C=0.1, gamma=1e-05, score=(train=0.126, test=0.126), total= 1.9min\n",
      "[CV] C=0.1, gamma=1e-05 ..............................................\n",
      "[CV]  C=0.1, gamma=1e-05, score=(train=0.221, test=0.204), total= 2.0min\n",
      "[CV] C=0.1, gamma=1e-05 ..............................................\n",
      "[CV]  C=0.1, gamma=1e-05, score=(train=0.126, test=0.126), total= 2.1min\n",
      "[CV] C=0.1, gamma=1e-05 ..............................................\n",
      "[CV]  C=0.1, gamma=1e-05, score=(train=0.126, test=0.126), total= 2.2min\n",
      "[CV] C=0.1, gamma=1e-05 ..............................................\n",
      "[CV]  C=0.1, gamma=1e-05, score=(train=0.203, test=0.195), total= 2.5min\n",
      "[CV] C=0.1, gamma=0.0001 .............................................\n",
      "[CV]  C=0.1, gamma=0.0001, score=(train=0.804, test=0.599), total= 1.6min\n",
      "[CV] C=0.1, gamma=0.0001 .............................................\n",
      "[CV]  C=0.1, gamma=0.0001, score=(train=0.702, test=0.661), total= 1.9min\n",
      "[CV] C=0.1, gamma=0.0001 .............................................\n",
      "[CV]  C=0.1, gamma=0.0001, score=(train=0.624, test=0.641), total= 1.7min\n",
      "[CV] C=0.1, gamma=0.0001 .............................................\n",
      "[CV]  C=0.1, gamma=0.0001, score=(train=0.618, test=0.619), total= 1.7min\n",
      "[CV] C=0.1, gamma=0.0001 .............................................\n",
      "[CV]  C=0.1, gamma=0.0001, score=(train=0.613, test=0.679), total= 1.9min\n",
      "[CV] C=0.1, gamma=0.001 ..............................................\n",
      "[CV]  C=0.1, gamma=0.001, score=(train=0.930, test=0.755), total=  45.9s\n",
      "[CV] C=0.1, gamma=0.001 ..............................................\n",
      "[CV]  C=0.1, gamma=0.001, score=(train=0.923, test=0.911), total=  42.1s\n",
      "[CV] C=0.1, gamma=0.001 ..............................................\n",
      "[CV]  C=0.1, gamma=0.001, score=(train=0.930, test=0.936), total=  53.8s\n",
      "[CV] C=0.1, gamma=0.001 ..............................................\n",
      "[CV]  C=0.1, gamma=0.001, score=(train=0.935, test=0.900), total=  46.3s\n",
      "[CV] C=0.1, gamma=0.001 ..............................................\n",
      "[CV]  C=0.1, gamma=0.001, score=(train=0.928, test=0.943), total=  48.0s\n",
      "[CV] C=0.1, gamma=0.01 ...............................................\n",
      "[CV]  C=0.1, gamma=0.01, score=(train=0.973, test=0.909), total=  25.3s\n",
      "[CV] C=0.1, gamma=0.01 ...............................................\n",
      "[CV]  C=0.1, gamma=0.01, score=(train=0.976, test=0.969), total=  18.3s\n",
      "[CV] C=0.1, gamma=0.01 ...............................................\n",
      "[CV]  C=0.1, gamma=0.01, score=(train=0.975, test=0.970), total=  23.2s\n",
      "[CV] C=0.1, gamma=0.01 ...............................................\n",
      "[CV]  C=0.1, gamma=0.01, score=(train=0.978, test=0.937), total=  16.1s\n",
      "[CV] C=0.1, gamma=0.01 ...............................................\n",
      "[CV]  C=0.1, gamma=0.01, score=(train=0.978, test=0.967), total=  15.9s\n",
      "[CV] C=0.1, gamma=0.1 ................................................\n",
      "[CV]  C=0.1, gamma=0.1, score=(train=0.980, test=0.925), total=  32.9s\n",
      "[CV] C=0.1, gamma=0.1 ................................................\n",
      "[CV]  C=0.1, gamma=0.1, score=(train=0.981, test=0.973), total=  46.1s\n",
      "[CV] C=0.1, gamma=0.1 ................................................\n",
      "[CV]  C=0.1, gamma=0.1, score=(train=0.981, test=0.973), total=  35.0s\n",
      "[CV] C=0.1, gamma=0.1 ................................................\n",
      "[CV]  C=0.1, gamma=0.1, score=(train=0.983, test=0.936), total=  29.8s\n",
      "[CV] C=0.1, gamma=0.1 ................................................\n",
      "[CV]  C=0.1, gamma=0.1, score=(train=0.984, test=0.955), total=  33.1s\n",
      "[CV] C=0.1, gamma=1 ..................................................\n",
      "[CV] .. C=0.1, gamma=1, score=(train=0.126, test=0.126), total= 2.3min\n",
      "[CV] C=0.1, gamma=1 ..................................................\n",
      "[CV] .. C=0.1, gamma=1, score=(train=0.187, test=0.126), total= 2.0min\n",
      "[CV] C=0.1, gamma=1 ..................................................\n",
      "[CV] .. C=0.1, gamma=1, score=(train=0.126, test=0.126), total= 2.1min\n",
      "[CV] C=0.1, gamma=1 ..................................................\n",
      "[CV] .. C=0.1, gamma=1, score=(train=0.126, test=0.126), total= 2.3min\n",
      "[CV] C=0.1, gamma=1 ..................................................\n",
      "[CV] .. C=0.1, gamma=1, score=(train=0.252, test=0.197), total= 1.9min\n",
      "[CV] C=0.1, gamma=5 ..................................................\n",
      "[CV] .. C=0.1, gamma=5, score=(train=0.126, test=0.126), total= 2.2min\n",
      "[CV] C=0.1, gamma=5 ..................................................\n",
      "[CV] .. C=0.1, gamma=5, score=(train=0.252, test=0.126), total= 2.6min\n",
      "[CV] C=0.1, gamma=5 ..................................................\n",
      "[CV] .. C=0.1, gamma=5, score=(train=0.126, test=0.126), total= 2.1min\n",
      "[CV] C=0.1, gamma=5 ..................................................\n",
      "[CV] .. C=0.1, gamma=5, score=(train=0.126, test=0.126), total= 2.3min\n",
      "[CV] C=0.1, gamma=5 ..................................................\n",
      "[CV] .. C=0.1, gamma=5, score=(train=0.252, test=0.126), total= 2.1min\n",
      "[CV] C=0.1, gamma=10 .................................................\n",
      "[CV] . C=0.1, gamma=10, score=(train=0.126, test=0.126), total= 2.2min\n",
      "[CV] C=0.1, gamma=10 .................................................\n",
      "[CV] . C=0.1, gamma=10, score=(train=0.252, test=0.126), total= 2.3min\n",
      "[CV] C=0.1, gamma=10 .................................................\n",
      "[CV] . C=0.1, gamma=10, score=(train=0.126, test=0.126), total= 2.1min\n",
      "[CV] C=0.1, gamma=10 .................................................\n",
      "[CV] . C=0.1, gamma=10, score=(train=0.126, test=0.126), total= 3.2min\n",
      "[CV] C=0.1, gamma=10 .................................................\n",
      "[CV] . C=0.1, gamma=10, score=(train=0.252, test=0.126), total= 2.5min\n",
      "[CV] C=1, gamma=scale ................................................\n",
      "[CV]  C=1, gamma=scale, score=(train=0.992, test=0.986), total=   7.6s\n",
      "[CV] C=1, gamma=scale ................................................\n",
      "[CV]  C=1, gamma=scale, score=(train=0.992, test=0.988), total=   8.4s\n",
      "[CV] C=1, gamma=scale ................................................\n",
      "[CV]  C=1, gamma=scale, score=(train=0.992, test=0.991), total=   7.6s\n",
      "[CV] C=1, gamma=scale ................................................\n",
      "[CV]  C=1, gamma=scale, score=(train=0.994, test=0.972), total=   5.1s\n",
      "[CV] C=1, gamma=scale ................................................\n",
      "[CV]  C=1, gamma=scale, score=(train=0.994, test=0.978), total=   5.7s\n",
      "[CV] C=1, gamma=auto .................................................\n",
      "[CV] . C=1, gamma=auto, score=(train=0.992, test=0.986), total=   5.1s\n",
      "[CV] C=1, gamma=auto .................................................\n",
      "[CV] . C=1, gamma=auto, score=(train=0.992, test=0.988), total=   5.4s\n",
      "[CV] C=1, gamma=auto .................................................\n",
      "[CV] . C=1, gamma=auto, score=(train=0.992, test=0.991), total=   5.4s\n",
      "[CV] C=1, gamma=auto .................................................\n",
      "[CV] . C=1, gamma=auto, score=(train=0.994, test=0.972), total=   6.9s\n",
      "[CV] C=1, gamma=auto .................................................\n",
      "[CV] . C=1, gamma=auto, score=(train=0.994, test=0.978), total=   7.2s\n",
      "[CV] C=1, gamma=1e-05 ................................................\n",
      "[CV]  C=1, gamma=1e-05, score=(train=0.803, test=0.599), total= 1.5min\n",
      "[CV] C=1, gamma=1e-05 ................................................\n",
      "[CV]  C=1, gamma=1e-05, score=(train=0.703, test=0.660), total= 1.8min\n",
      "[CV] C=1, gamma=1e-05 ................................................\n",
      "[CV]  C=1, gamma=1e-05, score=(train=0.624, test=0.641), total= 1.8min\n",
      "[CV] C=1, gamma=1e-05 ................................................\n",
      "[CV]  C=1, gamma=1e-05, score=(train=0.620, test=0.620), total= 1.6min\n",
      "[CV] C=1, gamma=1e-05 ................................................\n",
      "[CV]  C=1, gamma=1e-05, score=(train=0.613, test=0.678), total= 1.8min\n",
      "[CV] C=1, gamma=0.0001 ...............................................\n",
      "[CV]  C=1, gamma=0.0001, score=(train=0.930, test=0.754), total=  53.0s\n",
      "[CV] C=1, gamma=0.0001 ...............................................\n",
      "[CV]  C=1, gamma=0.0001, score=(train=0.924, test=0.910), total=  46.6s\n",
      "[CV] C=1, gamma=0.0001 ...............................................\n",
      "[CV]  C=1, gamma=0.0001, score=(train=0.929, test=0.935), total=  46.1s\n",
      "[CV] C=1, gamma=0.0001 ...............................................\n",
      "[CV]  C=1, gamma=0.0001, score=(train=0.935, test=0.901), total=  48.4s\n",
      "[CV] C=1, gamma=0.0001 ...............................................\n",
      "[CV]  C=1, gamma=0.0001, score=(train=0.929, test=0.944), total=  43.7s\n",
      "[CV] C=1, gamma=0.001 ................................................\n",
      "[CV]  C=1, gamma=0.001, score=(train=0.972, test=0.915), total=  18.0s\n",
      "[CV] C=1, gamma=0.001 ................................................\n",
      "[CV]  C=1, gamma=0.001, score=(train=0.972, test=0.961), total=  13.7s\n",
      "[CV] C=1, gamma=0.001 ................................................\n",
      "[CV]  C=1, gamma=0.001, score=(train=0.973, test=0.969), total=  14.0s\n",
      "[CV] C=1, gamma=0.001 ................................................\n",
      "[CV]  C=1, gamma=0.001, score=(train=0.975, test=0.938), total=  18.0s\n",
      "[CV] C=1, gamma=0.001 ................................................\n",
      "[CV]  C=1, gamma=0.001, score=(train=0.974, test=0.969), total=  20.2s\n",
      "[CV] C=1, gamma=0.01 .................................................\n",
      "[CV] . C=1, gamma=0.01, score=(train=0.988, test=0.976), total=   6.8s\n",
      "[CV] C=1, gamma=0.01 .................................................\n",
      "[CV] . C=1, gamma=0.01, score=(train=0.989, test=0.981), total=   5.6s\n",
      "[CV] C=1, gamma=0.01 .................................................\n",
      "[CV] . C=1, gamma=0.01, score=(train=0.988, test=0.987), total=   7.9s\n",
      "[CV] C=1, gamma=0.01 .................................................\n",
      "[CV] . C=1, gamma=0.01, score=(train=0.991, test=0.964), total=   9.2s\n",
      "[CV] C=1, gamma=0.01 .................................................\n",
      "[CV] . C=1, gamma=0.01, score=(train=0.990, test=0.975), total=   5.6s\n",
      "[CV] C=1, gamma=0.1 ..................................................\n",
      "[CV] .. C=1, gamma=0.1, score=(train=0.997, test=0.983), total=  21.7s\n",
      "[CV] C=1, gamma=0.1 ..................................................\n",
      "[CV] .. C=1, gamma=0.1, score=(train=0.997, test=0.989), total=  16.4s\n",
      "[CV] C=1, gamma=0.1 ..................................................\n",
      "[CV] .. C=1, gamma=0.1, score=(train=0.997, test=0.990), total=  23.8s\n",
      "[CV] C=1, gamma=0.1 ..................................................\n",
      "[CV] .. C=1, gamma=0.1, score=(train=0.998, test=0.973), total=  19.6s\n",
      "[CV] C=1, gamma=0.1 ..................................................\n",
      "[CV] .. C=1, gamma=0.1, score=(train=0.999, test=0.971), total=  15.5s\n",
      "[CV] C=1, gamma=1 ....................................................\n",
      "[CV] .... C=1, gamma=1, score=(train=1.000, test=0.337), total= 2.5min\n",
      "[CV] C=1, gamma=1 ....................................................\n",
      "[CV] .... C=1, gamma=1, score=(train=1.000, test=0.602), total= 2.4min\n",
      "[CV] C=1, gamma=1 ....................................................\n",
      "[CV] .... C=1, gamma=1, score=(train=1.000, test=0.688), total= 2.3min\n",
      "[CV] C=1, gamma=1 ....................................................\n",
      "[CV] .... C=1, gamma=1, score=(train=1.000, test=0.533), total= 2.4min\n",
      "[CV] C=1, gamma=1 ....................................................\n",
      "[CV] .... C=1, gamma=1, score=(train=1.000, test=0.594), total= 2.4min\n",
      "[CV] C=1, gamma=5 ....................................................\n",
      "[CV] .... C=1, gamma=5, score=(train=1.000, test=0.129), total= 2.4min\n",
      "[CV] C=1, gamma=5 ....................................................\n",
      "[CV] .... C=1, gamma=5, score=(train=1.000, test=0.135), total= 2.7min\n",
      "[CV] C=1, gamma=5 ....................................................\n",
      "[CV] .... C=1, gamma=5, score=(train=1.000, test=0.138), total= 2.4min\n",
      "[CV] C=1, gamma=5 ....................................................\n",
      "[CV] .... C=1, gamma=5, score=(train=1.000, test=0.134), total= 2.3min\n",
      "[CV] C=1, gamma=5 ....................................................\n",
      "[CV] .... C=1, gamma=5, score=(train=1.000, test=0.146), total= 2.3min\n",
      "[CV] C=1, gamma=10 ...................................................\n",
      "[CV] ... C=1, gamma=10, score=(train=1.000, test=0.126), total= 2.5min\n",
      "[CV] C=1, gamma=10 ...................................................\n",
      "[CV] ... C=1, gamma=10, score=(train=1.000, test=0.126), total= 2.7min\n",
      "[CV] C=1, gamma=10 ...................................................\n",
      "[CV] ... C=1, gamma=10, score=(train=1.000, test=0.126), total= 2.4min\n",
      "[CV] C=1, gamma=10 ...................................................\n",
      "[CV] ... C=1, gamma=10, score=(train=1.000, test=0.126), total= 2.4min\n",
      "[CV] C=1, gamma=10 ...................................................\n",
      "[CV] ... C=1, gamma=10, score=(train=1.000, test=0.128), total= 2.9min\n",
      "[CV] C=100, gamma=scale ..............................................\n",
      "[CV]  C=100, gamma=scale, score=(train=1.000, test=0.993), total=   3.8s\n",
      "[CV] C=100, gamma=scale ..............................................\n",
      "[CV]  C=100, gamma=scale, score=(train=1.000, test=0.993), total=   7.6s\n",
      "[CV] C=100, gamma=scale ..............................................\n",
      "[CV]  C=100, gamma=scale, score=(train=1.000, test=0.995), total=   4.7s\n",
      "[CV] C=100, gamma=scale ..............................................\n",
      "[CV]  C=100, gamma=scale, score=(train=1.000, test=0.983), total=   3.8s\n",
      "[CV] C=100, gamma=scale ..............................................\n",
      "[CV]  C=100, gamma=scale, score=(train=1.000, test=0.980), total=   4.5s\n",
      "[CV] C=100, gamma=auto ...............................................\n",
      "[CV]  C=100, gamma=auto, score=(train=1.000, test=0.993), total=   4.3s\n",
      "[CV] C=100, gamma=auto ...............................................\n",
      "[CV]  C=100, gamma=auto, score=(train=1.000, test=0.993), total=   6.2s\n",
      "[CV] C=100, gamma=auto ...............................................\n",
      "[CV]  C=100, gamma=auto, score=(train=1.000, test=0.995), total=   9.3s\n",
      "[CV] C=100, gamma=auto ...............................................\n",
      "[CV]  C=100, gamma=auto, score=(train=1.000, test=0.983), total=   5.9s\n",
      "[CV] C=100, gamma=auto ...............................................\n",
      "[CV]  C=100, gamma=auto, score=(train=1.000, test=0.981), total=   7.7s\n",
      "[CV] C=100, gamma=1e-05 ..............................................\n",
      "[CV]  C=100, gamma=1e-05, score=(train=0.971, test=0.915), total=  18.4s\n",
      "[CV] C=100, gamma=1e-05 ..............................................\n",
      "[CV]  C=100, gamma=1e-05, score=(train=0.972, test=0.958), total=  17.5s\n",
      "[CV] C=100, gamma=1e-05 ..............................................\n",
      "[CV]  C=100, gamma=1e-05, score=(train=0.971, test=0.968), total=  18.9s\n",
      "[CV] C=100, gamma=1e-05 ..............................................\n",
      "[CV]  C=100, gamma=1e-05, score=(train=0.974, test=0.938), total=  13.9s\n",
      "[CV] C=100, gamma=1e-05 ..............................................\n",
      "[CV]  C=100, gamma=1e-05, score=(train=0.973, test=0.968), total=  15.2s\n",
      "[CV] C=100, gamma=0.0001 .............................................\n",
      "[CV]  C=100, gamma=0.0001, score=(train=0.983, test=0.961), total=   5.1s\n",
      "[CV] C=100, gamma=0.0001 .............................................\n",
      "[CV]  C=100, gamma=0.0001, score=(train=0.984, test=0.975), total=   5.3s\n",
      "[CV] C=100, gamma=0.0001 .............................................\n",
      "[CV]  C=100, gamma=0.0001, score=(train=0.982, test=0.982), total=   5.8s\n",
      "[CV] C=100, gamma=0.0001 .............................................\n",
      "[CV]  C=100, gamma=0.0001, score=(train=0.986, test=0.957), total=   9.8s\n",
      "[CV] C=100, gamma=0.0001 .............................................\n",
      "[CV]  C=100, gamma=0.0001, score=(train=0.985, test=0.975), total=   6.3s\n",
      "[CV] C=100, gamma=0.001 ..............................................\n",
      "[CV]  C=100, gamma=0.001, score=(train=0.990, test=0.981), total=   3.2s\n",
      "[CV] C=100, gamma=0.001 ..............................................\n",
      "[CV]  C=100, gamma=0.001, score=(train=0.991, test=0.985), total=   2.9s\n",
      "[CV] C=100, gamma=0.001 ..............................................\n",
      "[CV]  C=100, gamma=0.001, score=(train=0.990, test=0.990), total=   5.0s\n",
      "[CV] C=100, gamma=0.001 ..............................................\n",
      "[CV]  C=100, gamma=0.001, score=(train=0.992, test=0.969), total=   3.0s\n",
      "[CV] C=100, gamma=0.001 ..............................................\n",
      "[CV]  C=100, gamma=0.001, score=(train=0.992, test=0.978), total=   4.8s\n",
      "[CV] C=100, gamma=0.01 ...............................................\n",
      "[CV]  C=100, gamma=0.01, score=(train=0.998, test=0.993), total=   4.7s\n",
      "[CV] C=100, gamma=0.01 ...............................................\n",
      "[CV]  C=100, gamma=0.01, score=(train=0.998, test=0.991), total=   3.9s\n",
      "[CV] C=100, gamma=0.01 ...............................................\n",
      "[CV]  C=100, gamma=0.01, score=(train=0.998, test=0.993), total=   3.1s\n",
      "[CV] C=100, gamma=0.01 ...............................................\n",
      "[CV]  C=100, gamma=0.01, score=(train=0.999, test=0.984), total=   4.0s\n",
      "[CV] C=100, gamma=0.01 ...............................................\n",
      "[CV]  C=100, gamma=0.01, score=(train=0.999, test=0.981), total=   4.7s\n",
      "[CV] C=100, gamma=0.1 ................................................\n",
      "[CV]  C=100, gamma=0.1, score=(train=1.000, test=0.986), total=  21.8s\n",
      "[CV] C=100, gamma=0.1 ................................................\n",
      "[CV]  C=100, gamma=0.1, score=(train=1.000, test=0.991), total=  21.8s\n",
      "[CV] C=100, gamma=0.1 ................................................\n",
      "[CV]  C=100, gamma=0.1, score=(train=1.000, test=0.992), total=  16.6s\n",
      "[CV] C=100, gamma=0.1 ................................................\n",
      "[CV]  C=100, gamma=0.1, score=(train=1.000, test=0.975), total=  20.6s\n",
      "[CV] C=100, gamma=0.1 ................................................\n",
      "[CV]  C=100, gamma=0.1, score=(train=1.000, test=0.972), total=  15.4s\n",
      "[CV] C=100, gamma=1 ..................................................\n",
      "[CV] .. C=100, gamma=1, score=(train=1.000, test=0.364), total= 2.2min\n",
      "[CV] C=100, gamma=1 ..................................................\n",
      "[CV] .. C=100, gamma=1, score=(train=1.000, test=0.626), total= 2.2min\n",
      "[CV] C=100, gamma=1 ..................................................\n",
      "[CV] .. C=100, gamma=1, score=(train=1.000, test=0.712), total= 2.1min\n",
      "[CV] C=100, gamma=1 ..................................................\n",
      "[CV] .. C=100, gamma=1, score=(train=1.000, test=0.561), total= 2.0min\n",
      "[CV] C=100, gamma=1 ..................................................\n",
      "[CV] .. C=100, gamma=1, score=(train=1.000, test=0.611), total= 2.5min\n",
      "[CV] C=100, gamma=5 ..................................................\n",
      "[CV] .. C=100, gamma=5, score=(train=1.000, test=0.130), total= 2.4min\n",
      "[CV] C=100, gamma=5 ..................................................\n",
      "[CV] .. C=100, gamma=5, score=(train=1.000, test=0.139), total= 2.3min\n",
      "[CV] C=100, gamma=5 ..................................................\n",
      "[CV] .. C=100, gamma=5, score=(train=1.000, test=0.141), total= 2.4min\n",
      "[CV] C=100, gamma=5 ..................................................\n",
      "[CV] .. C=100, gamma=5, score=(train=1.000, test=0.135), total= 2.6min\n",
      "[CV] C=100, gamma=5 ..................................................\n",
      "[CV] .. C=100, gamma=5, score=(train=1.000, test=0.149), total= 2.4min\n",
      "[CV] C=100, gamma=10 .................................................\n",
      "[CV] . C=100, gamma=10, score=(train=1.000, test=0.126), total= 2.9min\n",
      "[CV] C=100, gamma=10 .................................................\n",
      "[CV] . C=100, gamma=10, score=(train=1.000, test=0.126), total= 2.5min\n",
      "[CV] C=100, gamma=10 .................................................\n",
      "[CV] . C=100, gamma=10, score=(train=1.000, test=0.127), total= 2.3min\n",
      "[CV] C=100, gamma=10 .................................................\n",
      "[CV] . C=100, gamma=10, score=(train=1.000, test=0.126), total= 2.3min\n",
      "[CV] C=100, gamma=10 .................................................\n",
      "[CV] . C=100, gamma=10, score=(train=1.000, test=0.128), total= 2.1min\n",
      "[CV] C=1000, gamma=scale .............................................\n",
      "[CV]  C=1000, gamma=scale, score=(train=1.000, test=0.992), total=   6.4s\n",
      "[CV] C=1000, gamma=scale .............................................\n",
      "[CV]  C=1000, gamma=scale, score=(train=1.000, test=0.992), total=   7.8s\n",
      "[CV] C=1000, gamma=scale .............................................\n",
      "[CV]  C=1000, gamma=scale, score=(train=1.000, test=0.995), total=   4.2s\n",
      "[CV] C=1000, gamma=scale .............................................\n",
      "[CV]  C=1000, gamma=scale, score=(train=1.000, test=0.982), total=   3.8s\n",
      "[CV] C=1000, gamma=scale .............................................\n",
      "[CV]  C=1000, gamma=scale, score=(train=1.000, test=0.979), total=   3.9s\n",
      "[CV] C=1000, gamma=auto ..............................................\n",
      "[CV]  C=1000, gamma=auto, score=(train=1.000, test=0.992), total=   3.9s\n",
      "[CV] C=1000, gamma=auto ..............................................\n",
      "[CV]  C=1000, gamma=auto, score=(train=1.000, test=0.992), total=   4.1s\n",
      "[CV] C=1000, gamma=auto ..............................................\n",
      "[CV]  C=1000, gamma=auto, score=(train=1.000, test=0.995), total=   4.2s\n",
      "[CV] C=1000, gamma=auto ..............................................\n",
      "[CV]  C=1000, gamma=auto, score=(train=1.000, test=0.982), total=   4.6s\n",
      "[CV] C=1000, gamma=auto ..............................................\n",
      "[CV]  C=1000, gamma=auto, score=(train=1.000, test=0.979), total=   3.9s\n",
      "[CV] C=1000, gamma=1e-05 .............................................\n",
      "[CV]  C=1000, gamma=1e-05, score=(train=0.983, test=0.961), total=   6.4s\n",
      "[CV] C=1000, gamma=1e-05 .............................................\n",
      "[CV]  C=1000, gamma=1e-05, score=(train=0.983, test=0.975), total=   5.3s\n",
      "[CV] C=1000, gamma=1e-05 .............................................\n",
      "[CV]  C=1000, gamma=1e-05, score=(train=0.982, test=0.982), total=   5.5s\n",
      "[CV] C=1000, gamma=1e-05 .............................................\n",
      "[CV]  C=1000, gamma=1e-05, score=(train=0.986, test=0.957), total=   5.1s\n",
      "[CV] C=1000, gamma=1e-05 .............................................\n",
      "[CV]  C=1000, gamma=1e-05, score=(train=0.985, test=0.974), total=   5.3s\n",
      "[CV] C=1000, gamma=0.0001 ............................................\n",
      "[CV]  C=1000, gamma=0.0001, score=(train=0.988, test=0.976), total=   3.0s\n",
      "[CV] C=1000, gamma=0.0001 ............................................\n",
      "[CV]  C=1000, gamma=0.0001, score=(train=0.989, test=0.981), total=   3.1s\n",
      "[CV] C=1000, gamma=0.0001 ............................................\n",
      "[CV]  C=1000, gamma=0.0001, score=(train=0.987, test=0.987), total=   3.1s\n",
      "[CV] C=1000, gamma=0.0001 ............................................\n",
      "[CV]  C=1000, gamma=0.0001, score=(train=0.990, test=0.965), total=   2.9s\n",
      "[CV] C=1000, gamma=0.0001 ............................................\n",
      "[CV]  C=1000, gamma=0.0001, score=(train=0.989, test=0.978), total=   3.1s\n",
      "[CV] C=1000, gamma=0.001 .............................................\n",
      "[CV]  C=1000, gamma=0.001, score=(train=0.994, test=0.986), total=   2.7s\n",
      "[CV] C=1000, gamma=0.001 .............................................\n",
      "[CV]  C=1000, gamma=0.001, score=(train=0.995, test=0.988), total=   2.8s\n",
      "[CV] C=1000, gamma=0.001 .............................................\n",
      "[CV]  C=1000, gamma=0.001, score=(train=0.995, test=0.990), total=   2.8s\n",
      "[CV] C=1000, gamma=0.001 .............................................\n",
      "[CV]  C=1000, gamma=0.001, score=(train=0.996, test=0.978), total=   2.6s\n",
      "[CV] C=1000, gamma=0.001 .............................................\n",
      "[CV]  C=1000, gamma=0.001, score=(train=0.996, test=0.980), total=   2.7s\n",
      "[CV] C=1000, gamma=0.01 ..............................................\n",
      "[CV]  C=1000, gamma=0.01, score=(train=1.000, test=0.993), total=   3.0s\n",
      "[CV] C=1000, gamma=0.01 ..............................................\n",
      "[CV]  C=1000, gamma=0.01, score=(train=1.000, test=0.992), total=   3.1s\n",
      "[CV] C=1000, gamma=0.01 ..............................................\n",
      "[CV]  C=1000, gamma=0.01, score=(train=1.000, test=0.995), total=   3.2s\n",
      "[CV] C=1000, gamma=0.01 ..............................................\n",
      "[CV]  C=1000, gamma=0.01, score=(train=1.000, test=0.982), total=   2.9s\n",
      "[CV] C=1000, gamma=0.01 ..............................................\n",
      "[CV]  C=1000, gamma=0.01, score=(train=1.000, test=0.981), total=   2.9s\n",
      "[CV] C=1000, gamma=0.1 ...............................................\n",
      "[CV]  C=1000, gamma=0.1, score=(train=1.000, test=0.986), total=  15.0s\n",
      "[CV] C=1000, gamma=0.1 ...............................................\n",
      "[CV]  C=1000, gamma=0.1, score=(train=1.000, test=0.991), total=  16.0s\n",
      "[CV] C=1000, gamma=0.1 ...............................................\n",
      "[CV]  C=1000, gamma=0.1, score=(train=1.000, test=0.992), total=  18.6s\n",
      "[CV] C=1000, gamma=0.1 ...............................................\n",
      "[CV]  C=1000, gamma=0.1, score=(train=1.000, test=0.975), total=  19.4s\n",
      "[CV] C=1000, gamma=0.1 ...............................................\n",
      "[CV]  C=1000, gamma=0.1, score=(train=1.000, test=0.972), total=  18.4s\n",
      "[CV] C=1000, gamma=1 .................................................\n",
      "[CV] . C=1000, gamma=1, score=(train=1.000, test=0.364), total= 2.3min\n",
      "[CV] C=1000, gamma=1 .................................................\n",
      "[CV] . C=1000, gamma=1, score=(train=1.000, test=0.626), total= 2.4min\n",
      "[CV] C=1000, gamma=1 .................................................\n",
      "[CV] . C=1000, gamma=1, score=(train=1.000, test=0.712), total= 2.1min\n",
      "[CV] C=1000, gamma=1 .................................................\n",
      "[CV] . C=1000, gamma=1, score=(train=1.000, test=0.561), total= 2.5min\n",
      "[CV] C=1000, gamma=1 .................................................\n",
      "[CV] . C=1000, gamma=1, score=(train=1.000, test=0.611), total= 2.3min\n",
      "[CV] C=1000, gamma=5 .................................................\n",
      "[CV] . C=1000, gamma=5, score=(train=1.000, test=0.130), total= 2.3min\n",
      "[CV] C=1000, gamma=5 .................................................\n",
      "[CV] . C=1000, gamma=5, score=(train=1.000, test=0.139), total= 2.2min\n",
      "[CV] C=1000, gamma=5 .................................................\n",
      "[CV] . C=1000, gamma=5, score=(train=1.000, test=0.141), total= 2.3min\n",
      "[CV] C=1000, gamma=5 .................................................\n",
      "[CV] . C=1000, gamma=5, score=(train=1.000, test=0.135), total= 2.4min\n",
      "[CV] C=1000, gamma=5 .................................................\n",
      "[CV] . C=1000, gamma=5, score=(train=1.000, test=0.149), total= 2.2min\n",
      "[CV] C=1000, gamma=10 ................................................\n",
      "[CV]  C=1000, gamma=10, score=(train=1.000, test=0.126), total= 2.6min\n",
      "[CV] C=1000, gamma=10 ................................................\n",
      "[CV]  C=1000, gamma=10, score=(train=1.000, test=0.126), total= 2.3min\n",
      "[CV] C=1000, gamma=10 ................................................\n",
      "[CV]  C=1000, gamma=10, score=(train=1.000, test=0.127), total= 2.6min\n",
      "[CV] C=1000, gamma=10 ................................................\n",
      "[CV]  C=1000, gamma=10, score=(train=1.000, test=0.126), total= 2.5min\n",
      "[CV] C=1000, gamma=10 ................................................\n",
      "[CV]  C=1000, gamma=10, score=(train=1.000, test=0.128), total= 2.5min\n"
     ]
    },
    {
     "name": "stderr",
     "output_type": "stream",
     "text": [
      "[Parallel(n_jobs=1)]: Done 200 out of 200 | elapsed: 302.8min finished\n"
     ]
    },
    {
     "data": {
      "text/plain": [
       "GridSearchCV(cv=5, estimator=SVC(),\n",
       "             param_grid={'C': [0.1, 1, 100, 1000],\n",
       "                         'gamma': ['scale', 'auto', 1e-05, 0.0001, 0.001, 0.01,\n",
       "                                   0.1, 1, 5, 10]},\n",
       "             return_train_score=True, scoring='accuracy', verbose=5)"
      ]
     },
     "execution_count": 16,
     "metadata": {},
     "output_type": "execute_result"
    }
   ],
   "source": [
    "grid_search.fit(X_train,Y_train)"
   ]
  },
  {
   "cell_type": "code",
   "execution_count": 17,
   "metadata": {
    "collapsed": false
   },
   "outputs": [
    {
     "data": {
      "text/plain": [
       "0.9888497748054969"
      ]
     },
     "execution_count": 17,
     "metadata": {},
     "output_type": "execute_result"
    }
   ],
   "source": [
    "grid_search.best_score_"
   ]
  },
  {
   "cell_type": "code",
   "execution_count": 21,
   "metadata": {
    "collapsed": false
   },
   "outputs": [
    {
     "data": {
      "text/plain": [
       "{'C': 100, 'gamma': 'auto'}"
      ]
     },
     "execution_count": 21,
     "metadata": {},
     "output_type": "execute_result"
    }
   ],
   "source": [
    "grid_search.best_params_"
   ]
  },
  {
   "cell_type": "markdown",
   "metadata": {},
   "source": [
    "# Evaluate the best model"
   ]
  },
  {
   "cell_type": "code",
   "execution_count": 12,
   "metadata": {
    "collapsed": false
   },
   "outputs": [],
   "source": [
    "best_svm_clf = SVC(kernel = 'rbf', C = 50, gamma= 0.04, class_weight = 'balanced', random_state = 0)"
   ]
  },
  {
   "cell_type": "code",
   "execution_count": 13,
   "metadata": {
    "collapsed": false
   },
   "outputs": [
    {
     "data": {
      "text/plain": [
       "SVC(C=50, class_weight='balanced', gamma=0.04, random_state=0)"
      ]
     },
     "execution_count": 13,
     "metadata": {},
     "output_type": "execute_result"
    }
   ],
   "source": [
    "best_svm_clf.fit(X_train, Y_train)"
   ]
  },
  {
   "cell_type": "code",
   "execution_count": 14,
   "metadata": {
    "collapsed": true
   },
   "outputs": [],
   "source": [
    "Y_predict = best_svm_clf.predict(X_test)"
   ]
  },
  {
   "cell_type": "code",
   "execution_count": 15,
   "metadata": {
    "collapsed": false
   },
   "outputs": [
    {
     "data": {
      "text/plain": [
       "0.9914772727272727"
      ]
     },
     "execution_count": 15,
     "metadata": {},
     "output_type": "execute_result"
    }
   ],
   "source": [
    "accuracy_score(Y_test, Y_predict)"
   ]
  },
  {
   "cell_type": "code",
   "execution_count": 16,
   "metadata": {
    "collapsed": false
   },
   "outputs": [
    {
     "data": {
      "text/plain": [
       "6980"
      ]
     },
     "execution_count": 16,
     "metadata": {},
     "output_type": "execute_result"
    }
   ],
   "source": [
    "accuracy_score(Y_test, Y_predict, normalize=False)"
   ]
  },
  {
   "cell_type": "code",
   "execution_count": 17,
   "metadata": {
    "collapsed": false
   },
   "outputs": [
    {
     "data": {
      "text/plain": [
       "Counter({0: 879, 1: 888, 2: 878, 3: 897, 4: 874, 5: 883, 6: 898, 7: 843})"
      ]
     },
     "execution_count": 17,
     "metadata": {},
     "output_type": "execute_result"
    }
   ],
   "source": [
    "collections.Counter(Y_test)"
   ]
  },
  {
   "cell_type": "code",
   "execution_count": 18,
   "metadata": {
    "collapsed": false
   },
   "outputs": [
    {
     "data": {
      "text/plain": [
       "array([[879,   0,   0,   0,   0,   0,   0,   0],\n",
       "       [  0, 888,   0,   0,   0,   0,   0,   0],\n",
       "       [  0,   0, 878,   0,   0,   0,   0,   0],\n",
       "       [  0,   0,   1, 882,   0,   1,  13,   0],\n",
       "       [  0,   0,   1,   0, 872,   1,   0,   0],\n",
       "       [  0,   0,   0,   1,   0, 879,   3,   0],\n",
       "       [  0,   0,   0,  32,   0,   6, 860,   0],\n",
       "       [  0,   0,   1,   0,   0,   0,   0, 842]], dtype=int64)"
      ]
     },
     "execution_count": 18,
     "metadata": {},
     "output_type": "execute_result"
    }
   ],
   "source": [
    "confusion_matrix(Y_test, Y_predict)"
   ]
  },
  {
   "cell_type": "code",
   "execution_count": 19,
   "metadata": {
    "collapsed": false
   },
   "outputs": [
    {
     "name": "stdout",
     "output_type": "stream",
     "text": [
      "              precision    recall  f1-score   support\n",
      "\n",
      "           0   1.000000  1.000000  1.000000       879\n",
      "           1   1.000000  1.000000  1.000000       888\n",
      "           2   0.996595  1.000000  0.998294       878\n",
      "           3   0.963934  0.983278  0.973510       897\n",
      "           4   1.000000  0.997712  0.998855       874\n",
      "           5   0.990981  0.995470  0.993220       883\n",
      "           6   0.981735  0.957684  0.969560       898\n",
      "           7   1.000000  0.998814  0.999407       843\n",
      "\n",
      "    accuracy                       0.991477      7040\n",
      "   macro avg   0.991656  0.991620  0.991606      7040\n",
      "weighted avg   0.991519  0.991477  0.991466      7040\n",
      "\n"
     ]
    }
   ],
   "source": [
    "print(classification_report(Y_test, Y_predict, digits=6))"
   ]
  },
  {
   "cell_type": "code",
   "execution_count": 20,
   "metadata": {
    "collapsed": false
   },
   "outputs": [
    {
     "name": "stderr",
     "output_type": "stream",
     "text": [
      "[Parallel(n_jobs=-1)]: Using backend LokyBackend with 4 concurrent workers.\n",
      "[Parallel(n_jobs=-1)]: Done   2 out of   5 | elapsed:   13.0s remaining:   19.6s\n",
      "[Parallel(n_jobs=-1)]: Done   5 out of   5 | elapsed:   23.8s finished\n"
     ]
    }
   ],
   "source": [
    "Y_scores=cross_val_predict(best_svm_clf,X_train,Y_train,cv=5,method='decision_function',n_jobs=-1, verbose=5)"
   ]
  },
  {
   "cell_type": "code",
   "execution_count": 21,
   "metadata": {
    "collapsed": false
   },
   "outputs": [
    {
     "data": {
      "text/plain": [
       "array([[ 7.28941327,  2.8086954 ,  6.22031937,  1.78440461,  5.17213662,\n",
       "         1.75536232,  1.77907888,  0.78987867],\n",
       "       [ 7.28848567,  1.76749594,  6.27520048,  3.82301002,  5.03091567,\n",
       "         1.74694643,  0.76968526,  0.76348136],\n",
       "       [ 7.30466067,  1.7524417 ,  6.2440523 ,  3.92199857,  5.16597504,\n",
       "         1.72309466,  0.74176645,  0.75407912],\n",
       "       [ 7.30022679,  0.7150071 ,  6.28705805,  4.24970753,  5.21283861,\n",
       "         1.71762586,  2.73839864, -0.27722142]])"
      ]
     },
     "execution_count": 21,
     "metadata": {},
     "output_type": "execute_result"
    }
   ],
   "source": [
    "Y_scores[0:4]"
   ]
  },
  {
   "cell_type": "code",
   "execution_count": 26,
   "metadata": {
    "collapsed": false
   },
   "outputs": [
    {
     "data": {
      "text/plain": [
       "array([1.        , 1.        , 1.        , 0.98550725, 0.99885584,\n",
       "       0.99660249, 0.95879733, 0.99881376])"
      ]
     },
     "execution_count": 26,
     "metadata": {},
     "output_type": "execute_result"
    }
   ],
   "source": [
    "recall_score(Y_test, Y_predict,average=None)"
   ]
  },
  {
   "cell_type": "markdown",
   "metadata": {},
   "source": [
    "# OVR mode evaluation of best selected model"
   ]
  },
  {
   "cell_type": "code",
   "execution_count": 42,
   "metadata": {
    "collapsed": true
   },
   "outputs": [],
   "source": [
    "ovr_svm_clf = OneVsRestClassifier(SVC(kernel = 'rbf', C = 1, gamma= 0.04, class_weight = 'balanced', random_state = 0,  probability=True))"
   ]
  },
  {
   "cell_type": "code",
   "execution_count": 43,
   "metadata": {
    "collapsed": false
   },
   "outputs": [
    {
     "data": {
      "text/plain": [
       "OneVsRestClassifier(estimator=SVC(C=1, class_weight='balanced', gamma=0.04,\n",
       "                                  probability=True, random_state=0))"
      ]
     },
     "execution_count": 43,
     "metadata": {},
     "output_type": "execute_result"
    }
   ],
   "source": [
    "ovr_svm_clf.fit(X_train, Y_train)"
   ]
  },
  {
   "cell_type": "code",
   "execution_count": 44,
   "metadata": {
    "collapsed": false
   },
   "outputs": [],
   "source": [
    "Y_predict = ovr_svm_clf.predict(X_test)"
   ]
  },
  {
   "cell_type": "code",
   "execution_count": 45,
   "metadata": {
    "collapsed": false
   },
   "outputs": [
    {
     "name": "stdout",
     "output_type": "stream",
     "text": [
      "0.9884943181818182\n"
     ]
    }
   ],
   "source": [
    "acc=accuracy_score(Y_test, Y_predict)\n",
    "print(acc)"
   ]
  },
  {
   "cell_type": "code",
   "execution_count": 46,
   "metadata": {
    "collapsed": false
   },
   "outputs": [],
   "source": [
    "Y_score = ovr_svm_clf.predict_proba(X_test)"
   ]
  },
  {
   "cell_type": "code",
   "execution_count": 47,
   "metadata": {
    "collapsed": false
   },
   "outputs": [
    {
     "data": {
      "text/plain": [
       "(7040, 8)"
      ]
     },
     "execution_count": 47,
     "metadata": {},
     "output_type": "execute_result"
    }
   ],
   "source": [
    "Y_score.shape"
   ]
  },
  {
   "cell_type": "code",
   "execution_count": 48,
   "metadata": {
    "collapsed": false
   },
   "outputs": [],
   "source": [
    "Y_test_bin= label_binarize(Y_test, classes=[*range(no_of_classes)])"
   ]
  },
  {
   "cell_type": "code",
   "execution_count": 49,
   "metadata": {
    "collapsed": false
   },
   "outputs": [
    {
     "data": {
      "text/plain": [
       "(7040, 8)"
      ]
     },
     "execution_count": 49,
     "metadata": {},
     "output_type": "execute_result"
    }
   ],
   "source": [
    "Y_test_bin.shape"
   ]
  },
  {
   "cell_type": "code",
   "execution_count": 50,
   "metadata": {
    "collapsed": false
   },
   "outputs": [
    {
     "data": {
      "text/plain": [
       "array([[1, 0, 0, 0, 0, 0, 0, 0],\n",
       "       [1, 0, 0, 0, 0, 0, 0, 0],\n",
       "       [1, 0, 0, 0, 0, 0, 0, 0],\n",
       "       [1, 0, 0, 0, 0, 0, 0, 0],\n",
       "       [1, 0, 0, 0, 0, 0, 0, 0]])"
      ]
     },
     "execution_count": 50,
     "metadata": {},
     "output_type": "execute_result"
    }
   ],
   "source": [
    "Y_test_bin[0:5]"
   ]
  },
  {
   "cell_type": "code",
   "execution_count": 51,
   "metadata": {
    "collapsed": false
   },
   "outputs": [
    {
     "name": "stdout",
     "output_type": "stream",
     "text": [
      "range(0, 8)\n"
     ]
    },
    {
     "data": {
      "image/png": "[encoded data removed]",
      "text/plain": [
       "<Figure size 432x288 with 1 Axes>"
      ]
     },
     "metadata": {
      "needs_background": "light"
     },
     "output_type": "display_data"
    }
   ],
   "source": [
    "# precision recall curve\n",
    "precision = dict()\n",
    "recall = dict()\n",
    "x=range(no_of_classes)\n",
    "print(x)\n",
    "for i in range(no_of_classes):\n",
    "    precision[i], recall[i], _ = precision_recall_curve(Y_test_bin[:,i],Y_score[:, i])\n",
    "    plt.plot(recall[i], precision[i], lw=2, label='class {}'.format(i))\n",
    "\n",
    "plt.xlabel(\"recall\")\n",
    "plt.ylabel(\"precision\")\n",
    "plt.legend(loc=\"best\")\n",
    "plt.title(\"precision vs. recall curve\")\n",
    "plt.show()"
   ]
  },
  {
   "cell_type": "code",
   "execution_count": 52,
   "metadata": {
    "collapsed": false
   },
   "outputs": [
    {
     "name": "stdout",
     "output_type": "stream",
     "text": [
      "range(0, 8)\n"
     ]
    },
    {
     "data": {
      "image/png": "[encoded data removed]",
      "text/plain": [
       "<Figure size 432x288 with 1 Axes>"
      ]
     },
     "metadata": {
      "needs_background": "light"
     },
     "output_type": "display_data"
    }
   ],
   "source": [
    "# roc curve\n",
    "fpr = dict()\n",
    "tpr = dict()\n",
    "x=range(no_of_classes)\n",
    "print(x)\n",
    "for i in range(no_of_classes):\n",
    "    fpr[i], tpr[i], _ = roc_curve(Y_test_bin[:, i],Y_score[:, i])\n",
    "    plt.plot(fpr[i], tpr[i], lw=2, label='class {}'.format(i))\n",
    "\n",
    "plt.xlabel(\"false positive rate\")\n",
    "plt.ylabel(\"true positive rate\")\n",
    "plt.legend(loc=\"best\")\n",
    "plt.title(\"ROC curve\")\n",
    "plt.show()"
   ]
  },
  {
   "cell_type": "markdown",
   "metadata": {},
   "source": [
    "# Model testing"
   ]
  },
  {
   "cell_type": "code",
   "execution_count": 21,
   "metadata": {
    "collapsed": true
   },
   "outputs": [],
   "source": [
    "best_svm_clf = SVC(kernel = 'rbf', C = 10, gamma= 0.01, class_weight = 'balanced', random_state = 0)"
   ]
  },
  {
   "cell_type": "code",
   "execution_count": 22,
   "metadata": {
    "collapsed": false
   },
   "outputs": [
    {
     "data": {
      "text/plain": [
       "SVC(C=10, class_weight='balanced', gamma=0.01, random_state=0)"
      ]
     },
     "execution_count": 22,
     "metadata": {},
     "output_type": "execute_result"
    }
   ],
   "source": [
    "best_svm_clf.fit(X_train, Y_train)"
   ]
  },
  {
   "cell_type": "code",
   "execution_count": 23,
   "metadata": {
    "collapsed": true
   },
   "outputs": [],
   "source": [
    "Y_predict = best_svm_clf.predict(X_test)"
   ]
  },
  {
   "cell_type": "code",
   "execution_count": 24,
   "metadata": {
    "collapsed": false
   },
   "outputs": [
    {
     "data": {
      "text/plain": [
       "0.9896306818181818"
      ]
     },
     "execution_count": 24,
     "metadata": {},
     "output_type": "execute_result"
    }
   ],
   "source": [
    "accuracy_score(Y_test, Y_predict)"
   ]
  }
 ],
 "metadata": {
  "anaconda-cloud": {},
  "kernelspec": {
   "display_name": "tfML",
   "language": "python",
   "name": "tfml"
  },
  "language_info": {
   "codemirror_mode": {
    "name": "ipython",
    "version": 3
   },
   "file_extension": ".py",
   "mimetype": "text/x-python",
   "name": "python",
   "nbconvert_exporter": "python",
   "pygments_lexer": "ipython3",
   "version": "3.8.3"
  }
 },
 "nbformat": 4,
 "nbformat_minor": 1
}
