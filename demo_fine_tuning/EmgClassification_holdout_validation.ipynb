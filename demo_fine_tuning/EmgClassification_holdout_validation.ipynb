{
 "cells": [
  {
   "cell_type": "code",
   "execution_count": 16,
   "metadata": {
    "collapsed": true
   },
   "outputs": [],
   "source": [
    "%matplotlib inline\n",
    "\n",
    "import numpy as np\n",
    "import pandas as pd\n",
    "import matplotlib.pyplot as plt\n",
    "import math\n",
    "from sklearn.preprocessing import StandardScaler\n",
    "from sklearn.model_selection import GridSearchCV\n",
    "from sklearn.svm import SVC\n",
    "from sklearn.metrics import accuracy_score, f1_score, recall_score,precision_score, classification_report, confusion_matrix\n",
    "import collections\n",
    "from sklearn.model_selection import cross_val_predict\n",
    "from sklearn.metrics import precision_recall_curve, roc_curve\n",
    "from sklearn.multiclass import OneVsRestClassifier\n",
    "from sklearn.preprocessing import label_binarize\n",
    "\n",
    "np.random.seed(1337)  # for reproducibility"
   ]
  },
  {
   "cell_type": "code",
   "execution_count": 7,
   "metadata": {
    "collapsed": true
   },
   "outputs": [],
   "source": [
    "\n",
    "def load_dataset(file_train, file_validate, file_test):\n",
    "    df_train = pd.read_excel(file_train,header=None)\n",
    "\n",
    "    X_train, Y_train = format_data(df_train)\n",
    "\n",
    "    df_test = pd.read_excel(file_test,header=None)\n",
    "\n",
    "    X_test, Y_test = format_data(df_test)\n",
    "\n",
    "\n",
    "\n",
    "    df_validate = pd.read_excel(file_validate,header=None)\n",
    "\n",
    "    X_validate, Y_validate = format_data(df_validate)\n",
    "\n",
    "\n",
    "\n",
    "    return X_train, Y_train, X_validate, Y_validate, X_test, Y_test\n",
    "\n",
    "\n",
    "def format_data(df):\n",
    "    X = np.array(df.drop(df.columns[-1], 1))\n",
    "\n",
    "\n",
    "    Y = np.array(df[df.columns[-1]])\n",
    "  \n",
    "    Y=Y-1\n",
    "\n",
    "    return X,Y\n"
   ]
  },
  {
   "cell_type": "code",
   "execution_count": 8,
   "metadata": {
    "collapsed": false
   },
   "outputs": [],
   "source": [
    "train_set_file = 'trainset_P135_60.xls'\n",
    "\n",
    "validate_set_file = 'cvset_P12345_20.xls'\n",
    "\n",
    "test_set_file = 'testset_P12345_20.xls'\n",
    "\n",
    "\n",
    "X_train, Y_train, X_validate, Y_validate, X_test, Y_test = load_dataset(train_set_file, validate_set_file , test_set_file)\n",
    "\n"
   ]
  },
  {
   "cell_type": "code",
   "execution_count": 10,
   "metadata": {
    "collapsed": false
   },
   "outputs": [
    {
     "name": "stdout",
     "output_type": "stream",
     "text": [
      "(19776, 42)\n",
      "(19776,)\n",
      "(7040, 42)\n",
      "(7040,)\n",
      "(7040, 42)\n",
      "(7040,)\n"
     ]
    }
   ],
   "source": [
    "print(X_train.shape)\n",
    "print(Y_train.shape)\n",
    "\n",
    "print(X_test.shape)\n",
    "print(Y_test.shape)\n",
    "\n",
    "print(X_validate.shape)\n",
    "print(Y_validate.shape)"
   ]
  },
  {
   "cell_type": "code",
   "execution_count": 21,
   "metadata": {
    "collapsed": false
   },
   "outputs": [
    {
     "data": {
      "text/plain": [
       "8"
      ]
     },
     "execution_count": 21,
     "metadata": {},
     "output_type": "execute_result"
    }
   ],
   "source": [
    "no_of_classes=np.unique(Y_train).size\n",
    "no_of_classes"
   ]
  },
  {
   "cell_type": "code",
   "execution_count": 11,
   "metadata": {
    "collapsed": true
   },
   "outputs": [],
   "source": [
    "scaler = StandardScaler()\n",
    "X_train = scaler.fit_transform(X_train)\n",
    "X_validate = scaler.fit_transform(X_validate)\n",
    "X_test = scaler.fit_transform(X_test)"
   ]
  },
  {
   "cell_type": "code",
   "execution_count": 12,
   "metadata": {
    "collapsed": false
   },
   "outputs": [
    {
     "name": "stdout",
     "output_type": "stream",
     "text": [
      "**************************************************\n",
      "iteration 1\n",
      "accuracy:0.9717329545454545\n",
      "C:0.1\n",
      "gamma:scale\n",
      "**************************************************\n",
      "iteration 2\n",
      "**************************************************\n",
      "iteration 3\n",
      "**************************************************\n",
      "iteration 4\n",
      "**************************************************\n",
      "iteration 5\n",
      "**************************************************\n",
      "iteration 6\n",
      "**************************************************\n",
      "iteration 7\n",
      "**************************************************\n",
      "iteration 8\n",
      "**************************************************\n",
      "iteration 9\n",
      "**************************************************\n",
      "iteration 10\n",
      "**************************************************\n",
      "iteration 11\n",
      "accuracy:0.9789772727272728\n",
      "C:1\n",
      "gamma:scale\n",
      "**************************************************\n",
      "iteration 12\n",
      "**************************************************\n",
      "iteration 13\n",
      "**************************************************\n",
      "iteration 14\n",
      "**************************************************\n",
      "iteration 15\n",
      "**************************************************\n",
      "iteration 16\n",
      "**************************************************\n",
      "iteration 17\n",
      "**************************************************\n",
      "iteration 18\n",
      "**************************************************\n",
      "iteration 19\n",
      "**************************************************\n",
      "iteration 20\n",
      "**************************************************\n",
      "iteration 21\n",
      "**************************************************\n",
      "iteration 22\n",
      "**************************************************\n",
      "iteration 23\n",
      "**************************************************\n",
      "iteration 24\n",
      "**************************************************\n",
      "iteration 25\n",
      "**************************************************\n",
      "iteration 26\n",
      "**************************************************\n",
      "iteration 27\n",
      "**************************************************\n",
      "iteration 28\n",
      "**************************************************\n",
      "iteration 29\n",
      "**************************************************\n",
      "iteration 30\n",
      "**************************************************\n",
      "iteration 31\n",
      "**************************************************\n",
      "iteration 32\n",
      "**************************************************\n",
      "iteration 33\n",
      "**************************************************\n",
      "iteration 34\n",
      "**************************************************\n",
      "iteration 35\n",
      "**************************************************\n",
      "iteration 36\n",
      "**************************************************\n",
      "iteration 37\n",
      "**************************************************\n",
      "iteration 38\n",
      "**************************************************\n",
      "iteration 39\n",
      "**************************************************\n",
      "iteration 40\n",
      "Best parameters:\n",
      "C:1\n",
      "gamma:scale\n"
     ]
    }
   ],
   "source": [
    "C=[0.1, 1, 100, 1000]\n",
    "gamma=['scale','auto', 0.00001, 0.0001, 0.001,0.01,0.1,1,5,10]\n",
    "\n",
    "accuracy_list=[]\n",
    "max_acc=0\n",
    "\n",
    "iter=1\n",
    "for i in C:\n",
    "    for j in gamma:\n",
    "        print('*'*50)\n",
    "        print('iteration ' + str(iter))\n",
    "        svm_clf = SVC(kernel = 'rbf', C = i, gamma= j, class_weight = 'balanced', random_state = 0)\n",
    "        svm_clf.fit(X_train, Y_train)\n",
    "        Y_predict = svm_clf.predict(X_validate)\n",
    "        temp_acc=accuracy_score(Y_validate, Y_predict)\n",
    "        accuracy_list.append(temp_acc)\n",
    "        if temp_acc>max_acc:\n",
    "            max_acc=temp_acc\n",
    "            C_best=i\n",
    "            gamma_best=j\n",
    "            print('accuracy:'+str(max_acc))\n",
    "            print('C:'+str(i))\n",
    "            print('gamma:'+str(j))\n",
    "        else:\n",
    "            pass\n",
    "        iter = iter + 1\n",
    "print('Best parameters:')\n",
    "print('C:'+str(C_best))\n",
    "print('gamma:'+str(gamma_best))"
   ]
  },
  {
   "cell_type": "markdown",
   "metadata": {},
   "source": [
    "# ovr model evaluation"
   ]
  },
  {
   "cell_type": "code",
   "execution_count": 12,
   "metadata": {
    "collapsed": true
   },
   "outputs": [],
   "source": [
    "X_train=np.concatenate((X_train, X_validate), axis=0)"
   ]
  },
  {
   "cell_type": "code",
   "execution_count": 13,
   "metadata": {
    "collapsed": true
   },
   "outputs": [],
   "source": [
    "Y_train=np.concatenate((Y_train, Y_validate), axis=0)"
   ]
  },
  {
   "cell_type": "code",
   "execution_count": 29,
   "metadata": {
    "collapsed": true
   },
   "outputs": [],
   "source": [
    "ovr_svm_clf = SVC(kernel = 'rbf', C = 1, gamma= 'auto', class_weight = 'balanced', random_state = 0,  probability=True)"
   ]
  },
  {
   "cell_type": "code",
   "execution_count": 31,
   "metadata": {
    "collapsed": false
   },
   "outputs": [
    {
     "data": {
      "text/plain": [
       "SVC(C=1, class_weight='balanced', gamma='auto', probability=True,\n",
       "    random_state=0)"
      ]
     },
     "execution_count": 31,
     "metadata": {},
     "output_type": "execute_result"
    }
   ],
   "source": [
    "ovr_svm_clf.fit(X_train, Y_train)"
   ]
  },
  {
   "cell_type": "code",
   "execution_count": 32,
   "metadata": {
    "collapsed": true
   },
   "outputs": [],
   "source": [
    "Y_predict = ovr_svm_clf.predict(X_test)"
   ]
  },
  {
   "cell_type": "code",
   "execution_count": 33,
   "metadata": {
    "collapsed": false
   },
   "outputs": [
    {
     "name": "stdout",
     "output_type": "stream",
     "text": [
      "              precision    recall  f1-score   support\n",
      "\n",
      "           0     1.0000    1.0000    1.0000       879\n",
      "           1     0.9989    1.0000    0.9994       888\n",
      "           2     0.9943    0.9977    0.9960       878\n",
      "           3     0.9535    0.9599    0.9567       897\n",
      "           4     1.0000    0.9989    0.9994       874\n",
      "           5     0.9843    0.9943    0.9893       883\n",
      "           6     0.9603    0.9421    0.9511       898\n",
      "           7     1.0000    0.9988    0.9994       843\n",
      "\n",
      "    accuracy                         0.9862      7040\n",
      "   macro avg     0.9864    0.9865    0.9864      7040\n",
      "weighted avg     0.9862    0.9862    0.9862      7040\n",
      "\n"
     ]
    }
   ],
   "source": [
    "print(classification_report(Y_test, Y_predict, digits=4))"
   ]
  },
  {
   "cell_type": "code",
   "execution_count": 34,
   "metadata": {
    "collapsed": false
   },
   "outputs": [
    {
     "name": "stdout",
     "output_type": "stream",
     "text": [
      "0.9862215909090909\n"
     ]
    }
   ],
   "source": [
    "acc=accuracy_score(Y_test, Y_predict)\n",
    "print(acc)"
   ]
  },
  {
   "cell_type": "code",
   "execution_count": 20,
   "metadata": {
    "collapsed": true
   },
   "outputs": [],
   "source": [
    "Y_score = ovr_svm_clf.predict_proba(X_test)"
   ]
  },
  {
   "cell_type": "code",
   "execution_count": 22,
   "metadata": {
    "collapsed": true
   },
   "outputs": [],
   "source": [
    "Y_test_bin= label_binarize(Y_test, classes=[*range(no_of_classes)])"
   ]
  },
  {
   "cell_type": "code",
   "execution_count": 23,
   "metadata": {
    "collapsed": false
   },
   "outputs": [
    {
     "name": "stdout",
     "output_type": "stream",
     "text": [
      "range(0, 8)\n"
     ]
    },
    {
     "data": {
      "image/png": "[encoded data removed]",
      "text/plain": [
       "<Figure size 432x288 with 1 Axes>"
      ]
     },
     "metadata": {
      "needs_background": "light"
     },
     "output_type": "display_data"
    }
   ],
   "source": [
    "# precision recall curve\n",
    "precision = dict()\n",
    "recall = dict()\n",
    "x=range(no_of_classes)\n",
    "print(x)\n",
    "for i in range(no_of_classes):\n",
    "    precision[i], recall[i], _ = precision_recall_curve(Y_test_bin[:,i],Y_score[:, i])\n",
    "    plt.plot(recall[i], precision[i], lw=2, label='class {}'.format(i))\n",
    "\n",
    "plt.xlabel(\"recall\")\n",
    "plt.ylabel(\"precision\")\n",
    "plt.legend(loc=\"best\")\n",
    "plt.title(\"precision vs. recall curve\")\n",
    "plt.show()"
   ]
  },
  {
   "cell_type": "code",
   "execution_count": 24,
   "metadata": {
    "collapsed": false
   },
   "outputs": [
    {
     "name": "stdout",
     "output_type": "stream",
     "text": [
      "range(0, 8)\n"
     ]
    },
    {
     "data": {
      "image/png": "[encoded data removed]",
      "text/plain": [
       "<Figure size 432x288 with 1 Axes>"
      ]
     },
     "metadata": {
      "needs_background": "light"
     },
     "output_type": "display_data"
    }
   ],
   "source": [
    "# roc curve\n",
    "fpr = dict()\n",
    "tpr = dict()\n",
    "x=range(no_of_classes)\n",
    "print(x)\n",
    "for i in range(no_of_classes):\n",
    "    fpr[i], tpr[i], _ = roc_curve(Y_test_bin[:, i],Y_score[:, i])\n",
    "    plt.plot(fpr[i], tpr[i], lw=2, label='class {}'.format(i))\n",
    "\n",
    "plt.xlabel(\"false positive rate\")\n",
    "plt.ylabel(\"true positive rate\")\n",
    "plt.legend(loc=\"best\")\n",
    "plt.title(\"ROC curve\")\n",
    "plt.show()"
   ]
  },
  {
   "cell_type": "code",
   "execution_count": null,
   "metadata": {
    "collapsed": true
   },
   "outputs": [],
   "source": []
  }
 ],
 "metadata": {
  "anaconda-cloud": {},
  "kernelspec": {
   "display_name": "tfML",
   "language": "python",
   "name": "tfml"
  },
  "language_info": {
   "codemirror_mode": {
    "name": "ipython",
    "version": 3
   },
   "file_extension": ".py",
   "mimetype": "text/x-python",
   "name": "python",
   "nbconvert_exporter": "python",
   "pygments_lexer": "ipython3",
   "version": "3.8.3"
  }
 },
 "nbformat": 4,
 "nbformat_minor": 1
}
