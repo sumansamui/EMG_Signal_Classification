{
 "cells": [
  {
   "cell_type": "code",
   "execution_count": 35,
   "metadata": {
    "collapsed": true
   },
   "outputs": [],
   "source": [
    "%matplotlib inline\n",
    "\n",
    "import numpy as np\n",
    "import pandas as pd\n",
    "import matplotlib.pyplot as plt\n",
    "import math\n",
    "from sklearn.preprocessing import StandardScaler\n",
    "from sklearn.model_selection import GridSearchCV\n",
    "from sklearn.svm import SVC\n",
    "from sklearn.metrics import accuracy_score, f1_score, recall_score,precision_score, classification_report, confusion_matrix\n",
    "import collections\n",
    "from sklearn.model_selection import cross_val_predict\n",
    "from sklearn.metrics import precision_recall_curve, roc_curve\n",
    "from sklearn.multiclass import OneVsRestClassifier\n",
    "from sklearn.preprocessing import label_binarize\n",
    "\n",
    "np.random.seed(1337)  # for reproducibility"
   ]
  },
  {
   "cell_type": "code",
   "execution_count": 36,
   "metadata": {
    "collapsed": true
   },
   "outputs": [],
   "source": [
    "\n",
    "def load_dataset(file_train, file_validate, file_test):\n",
    "    df_train = pd.read_excel(file_train,header=None)\n",
    "\n",
    "    X_train, Y_train = format_data(df_train)\n",
    "\n",
    "    df_test = pd.read_excel(file_test,header=None)\n",
    "\n",
    "    X_test, Y_test = format_data(df_test)\n",
    "\n",
    "\n",
    "\n",
    "    df_validate = pd.read_excel(file_validate,header=None)\n",
    "\n",
    "    X_validate, Y_validate = format_data(df_validate)\n",
    "\n",
    "\n",
    "\n",
    "    return X_train, Y_train, X_validate, Y_validate, X_test, Y_test\n",
    "\n",
    "\n",
    "def format_data(df):\n",
    "    X = np.array(df.drop(df.columns[-1], 1))\n",
    "\n",
    "\n",
    "    Y = np.array(df[df.columns[-1]])\n",
    "\n",
    "    \n",
    "    Y=Y-1\n",
    "\n",
    "    return X,Y\n"
   ]
  },
  {
   "cell_type": "code",
   "execution_count": 37,
   "metadata": {
    "collapsed": true
   },
   "outputs": [],
   "source": [
    "train_set_file = 'trainset_P135_60.xls'\n",
    "\n",
    "validate_set_file = 'cvset_P12345_20.xls'\n",
    "\n",
    "test_set_file = 'testset_P12345_20.xls'\n",
    "\n",
    "\n",
    "X_train, Y_train, X_validate, Y_validate, X_test, Y_test = load_dataset(train_set_file, validate_set_file , test_set_file)\n",
    "\n"
   ]
  },
  {
   "cell_type": "code",
   "execution_count": 38,
   "metadata": {
    "collapsed": false
   },
   "outputs": [
    {
     "name": "stdout",
     "output_type": "stream",
     "text": [
      "(19776, 42)\n",
      "(19776,)\n",
      "(7040, 42)\n",
      "(7040,)\n",
      "(7040, 42)\n",
      "(7040,)\n"
     ]
    }
   ],
   "source": [
    "print(X_train.shape)\n",
    "print(Y_train.shape)\n",
    "\n",
    "print(X_test.shape)\n",
    "print(Y_test.shape)\n",
    "\n",
    "print(X_validate.shape)\n",
    "print(Y_validate.shape)"
   ]
  },
  {
   "cell_type": "code",
   "execution_count": 39,
   "metadata": {
    "collapsed": false
   },
   "outputs": [
    {
     "data": {
      "text/plain": [
       "8"
      ]
     },
     "execution_count": 39,
     "metadata": {},
     "output_type": "execute_result"
    }
   ],
   "source": [
    "no_of_classes=np.unique(Y_train).size\n",
    "no_of_classes"
   ]
  },
  {
   "cell_type": "code",
   "execution_count": 40,
   "metadata": {
    "collapsed": true
   },
   "outputs": [],
   "source": [
    "scaler = StandardScaler()\n",
    "X_train = scaler.fit_transform(X_train)\n",
    "X_validate = scaler.fit_transform(X_validate)\n",
    "X_test = scaler.fit_transform(X_test)"
   ]
  },
  {
   "cell_type": "code",
   "execution_count": 8,
   "metadata": {
    "collapsed": true
   },
   "outputs": [],
   "source": [
    "param_grid={'C': [0.1, 1, 100, 1000],'gamma': ['scale','auto', 0.00001, 0.0001, 0.001,0.01,0.1,1,5,10]}"
   ]
  },
  {
   "cell_type": "code",
   "execution_count": 9,
   "metadata": {
    "collapsed": true
   },
   "outputs": [],
   "source": [
    "svm_clf=SVC(kernel='rbf')"
   ]
  },
  {
   "cell_type": "code",
   "execution_count": 13,
   "metadata": {
    "collapsed": true
   },
   "outputs": [],
   "source": [
    "grid_search = GridSearchCV(svm_clf, param_grid, scoring='accuracy', cv = 5, verbose=5,return_train_score=True)"
   ]
  },
  {
   "cell_type": "code",
   "execution_count": 14,
   "metadata": {
    "collapsed": false
   },
   "outputs": [
    {
     "name": "stdout",
     "output_type": "stream",
     "text": [
      "Fitting 5 folds for each of 40 candidates, totalling 200 fits\n",
      "[CV] C=0.1, gamma=scale ..............................................\n"
     ]
    },
    {
     "name": "stderr",
     "output_type": "stream",
     "text": [
      "[Parallel(n_jobs=1)]: Using backend SequentialBackend with 1 concurrent workers.\n"
     ]
    },
    {
     "name": "stdout",
     "output_type": "stream",
     "text": [
      "[CV]  C=0.1, gamma=scale, score=(train=0.981, test=0.896), total=  10.8s\n",
      "[CV] C=0.1, gamma=scale ..............................................\n"
     ]
    },
    {
     "name": "stderr",
     "output_type": "stream",
     "text": [
      "[Parallel(n_jobs=1)]: Done   1 out of   1 | elapsed:   29.2s remaining:    0.0s\n"
     ]
    },
    {
     "name": "stdout",
     "output_type": "stream",
     "text": [
      "[CV]  C=0.1, gamma=scale, score=(train=0.982, test=0.977), total=  15.4s\n",
      "[CV] C=0.1, gamma=scale ..............................................\n"
     ]
    },
    {
     "name": "stderr",
     "output_type": "stream",
     "text": [
      "[Parallel(n_jobs=1)]: Done   2 out of   2 | elapsed:  1.0min remaining:    0.0s\n"
     ]
    },
    {
     "name": "stdout",
     "output_type": "stream",
     "text": [
      "[CV]  C=0.1, gamma=scale, score=(train=0.982, test=0.969), total=  17.1s\n",
      "[CV] C=0.1, gamma=scale ..............................................\n"
     ]
    },
    {
     "name": "stderr",
     "output_type": "stream",
     "text": [
      "[Parallel(n_jobs=1)]: Done   3 out of   3 | elapsed:  1.6min remaining:    0.0s\n"
     ]
    },
    {
     "name": "stdout",
     "output_type": "stream",
     "text": [
      "[CV]  C=0.1, gamma=scale, score=(train=0.981, test=0.977), total=  13.3s\n",
      "[CV] C=0.1, gamma=scale ..............................................\n"
     ]
    },
    {
     "name": "stderr",
     "output_type": "stream",
     "text": [
      "[Parallel(n_jobs=1)]: Done   4 out of   4 | elapsed:  2.1min remaining:    0.0s\n"
     ]
    },
    {
     "name": "stdout",
     "output_type": "stream",
     "text": [
      "[CV]  C=0.1, gamma=scale, score=(train=0.987, test=0.896), total=  10.0s\n",
      "[CV] C=0.1, gamma=auto ...............................................\n",
      "[CV]  C=0.1, gamma=auto, score=(train=0.981, test=0.897), total=  12.8s\n",
      "[CV] C=0.1, gamma=auto ...............................................\n",
      "[CV]  C=0.1, gamma=auto, score=(train=0.982, test=0.977), total=  12.5s\n",
      "[CV] C=0.1, gamma=auto ...............................................\n",
      "[CV]  C=0.1, gamma=auto, score=(train=0.982, test=0.969), total=  15.8s\n",
      "[CV] C=0.1, gamma=auto ...............................................\n",
      "[CV]  C=0.1, gamma=auto, score=(train=0.981, test=0.977), total=  10.3s\n",
      "[CV] C=0.1, gamma=auto ...............................................\n",
      "[CV]  C=0.1, gamma=auto, score=(train=0.987, test=0.896), total=  10.0s\n",
      "[CV] C=0.1, gamma=1e-05 ..............................................\n",
      "[CV]  C=0.1, gamma=1e-05, score=(train=0.126, test=0.126), total= 1.6min\n",
      "[CV] C=0.1, gamma=1e-05 ..............................................\n",
      "[CV]  C=0.1, gamma=1e-05, score=(train=0.126, test=0.126), total= 1.7min\n",
      "[CV] C=0.1, gamma=1e-05 ..............................................\n",
      "[CV]  C=0.1, gamma=1e-05, score=(train=0.126, test=0.126), total= 1.8min\n",
      "[CV] C=0.1, gamma=1e-05 ..............................................\n",
      "[CV]  C=0.1, gamma=1e-05, score=(train=0.126, test=0.126), total= 1.8min\n",
      "[CV] C=0.1, gamma=1e-05 ..............................................\n",
      "[CV]  C=0.1, gamma=1e-05, score=(train=0.126, test=0.126), total= 1.8min\n",
      "[CV] C=0.1, gamma=0.0001 .............................................\n",
      "[CV]  C=0.1, gamma=0.0001, score=(train=0.676, test=0.512), total= 1.5min\n",
      "[CV] C=0.1, gamma=0.0001 .............................................\n",
      "[CV]  C=0.1, gamma=0.0001, score=(train=0.624, test=0.560), total= 1.6min\n",
      "[CV] C=0.1, gamma=0.0001 .............................................\n",
      "[CV]  C=0.1, gamma=0.0001, score=(train=0.596, test=0.605), total= 1.3min\n",
      "[CV] C=0.1, gamma=0.0001 .............................................\n",
      "[CV]  C=0.1, gamma=0.0001, score=(train=0.615, test=0.659), total= 1.5min\n",
      "[CV] C=0.1, gamma=0.0001 .............................................\n",
      "[CV]  C=0.1, gamma=0.0001, score=(train=0.591, test=0.588), total= 1.3min\n",
      "[CV] C=0.1, gamma=0.001 ..............................................\n",
      "[CV]  C=0.1, gamma=0.001, score=(train=0.916, test=0.732), total=  45.2s\n",
      "[CV] C=0.1, gamma=0.001 ..............................................\n",
      "[CV]  C=0.1, gamma=0.001, score=(train=0.901, test=0.853), total=  47.4s\n",
      "[CV] C=0.1, gamma=0.001 ..............................................\n",
      "[CV]  C=0.1, gamma=0.001, score=(train=0.913, test=0.859), total=  36.0s\n",
      "[CV] C=0.1, gamma=0.001 ..............................................\n",
      "[CV]  C=0.1, gamma=0.001, score=(train=0.916, test=0.935), total=  41.3s\n",
      "[CV] C=0.1, gamma=0.001 ..............................................\n",
      "[CV]  C=0.1, gamma=0.001, score=(train=0.926, test=0.837), total=  45.9s\n",
      "[CV] C=0.1, gamma=0.01 ...............................................\n",
      "[CV]  C=0.1, gamma=0.01, score=(train=0.975, test=0.879), total=  18.9s\n",
      "[CV] C=0.1, gamma=0.01 ...............................................\n",
      "[CV]  C=0.1, gamma=0.01, score=(train=0.975, test=0.968), total=  15.8s\n",
      "[CV] C=0.1, gamma=0.01 ...............................................\n",
      "[CV]  C=0.1, gamma=0.01, score=(train=0.975, test=0.958), total=  13.7s\n",
      "[CV] C=0.1, gamma=0.01 ...............................................\n",
      "[CV]  C=0.1, gamma=0.01, score=(train=0.974, test=0.973), total=  17.6s\n",
      "[CV] C=0.1, gamma=0.01 ...............................................\n",
      "[CV]  C=0.1, gamma=0.01, score=(train=0.981, test=0.887), total=  17.0s\n",
      "[CV] C=0.1, gamma=0.1 ................................................\n",
      "[CV]  C=0.1, gamma=0.1, score=(train=0.981, test=0.866), total=  26.7s\n",
      "[CV] C=0.1, gamma=0.1 ................................................\n",
      "[CV]  C=0.1, gamma=0.1, score=(train=0.983, test=0.965), total=  34.1s\n",
      "[CV] C=0.1, gamma=0.1 ................................................\n",
      "[CV]  C=0.1, gamma=0.1, score=(train=0.982, test=0.971), total=  25.8s\n",
      "[CV] C=0.1, gamma=0.1 ................................................\n",
      "[CV]  C=0.1, gamma=0.1, score=(train=0.983, test=0.972), total=  29.5s\n",
      "[CV] C=0.1, gamma=0.1 ................................................\n",
      "[CV]  C=0.1, gamma=0.1, score=(train=0.987, test=0.886), total=  28.6s\n",
      "[CV] C=0.1, gamma=1 ..................................................\n",
      "[CV] .. C=0.1, gamma=1, score=(train=0.126, test=0.126), total= 1.6min\n",
      "[CV] C=0.1, gamma=1 ..................................................\n",
      "[CV] .. C=0.1, gamma=1, score=(train=0.126, test=0.126), total= 1.6min\n",
      "[CV] C=0.1, gamma=1 ..................................................\n",
      "[CV] .. C=0.1, gamma=1, score=(train=0.126, test=0.126), total= 2.1min\n",
      "[CV] C=0.1, gamma=1 ..................................................\n",
      "[CV] .. C=0.1, gamma=1, score=(train=0.126, test=0.126), total= 2.1min\n",
      "[CV] C=0.1, gamma=1 ..................................................\n",
      "[CV] .. C=0.1, gamma=1, score=(train=0.126, test=0.126), total= 1.4min\n",
      "[CV] C=0.1, gamma=5 ..................................................\n",
      "[CV] .. C=0.1, gamma=5, score=(train=0.126, test=0.126), total= 2.3min\n",
      "[CV] C=0.1, gamma=5 ..................................................\n",
      "[CV] .. C=0.1, gamma=5, score=(train=0.126, test=0.126), total= 2.2min\n",
      "[CV] C=0.1, gamma=5 ..................................................\n",
      "[CV] .. C=0.1, gamma=5, score=(train=0.126, test=0.126), total= 8.5min\n",
      "[CV] C=0.1, gamma=5 ..................................................\n",
      "[CV] .. C=0.1, gamma=5, score=(train=0.126, test=0.126), total= 1.3min\n",
      "[CV] C=0.1, gamma=5 ..................................................\n",
      "[CV] .. C=0.1, gamma=5, score=(train=0.126, test=0.126), total= 2.2min\n",
      "[CV] C=0.1, gamma=10 .................................................\n",
      "[CV] . C=0.1, gamma=10, score=(train=0.126, test=0.126), total= 2.6min\n",
      "[CV] C=0.1, gamma=10 .................................................\n",
      "[CV] . C=0.1, gamma=10, score=(train=0.126, test=0.126), total= 9.8min\n",
      "[CV] C=0.1, gamma=10 .................................................\n",
      "[CV] . C=0.1, gamma=10, score=(train=0.126, test=0.126), total= 1.5min\n",
      "[CV] C=0.1, gamma=10 .................................................\n",
      "[CV] . C=0.1, gamma=10, score=(train=0.126, test=0.126), total= 2.0min\n",
      "[CV] C=0.1, gamma=10 .................................................\n",
      "[CV] . C=0.1, gamma=10, score=(train=0.126, test=0.126), total= 1.9min\n",
      "[CV] C=1, gamma=scale ................................................\n",
      "[CV]  C=1, gamma=scale, score=(train=0.993, test=0.967), total=   5.6s\n",
      "[CV] C=1, gamma=scale ................................................\n",
      "[CV]  C=1, gamma=scale, score=(train=0.994, test=0.986), total=   6.6s\n",
      "[CV] C=1, gamma=scale ................................................\n",
      "[CV]  C=1, gamma=scale, score=(train=0.993, test=0.984), total=   5.3s\n",
      "[CV] C=1, gamma=scale ................................................\n",
      "[CV]  C=1, gamma=scale, score=(train=0.993, test=0.991), total=   8.7s\n",
      "[CV] C=1, gamma=scale ................................................\n",
      "[CV]  C=1, gamma=scale, score=(train=0.996, test=0.928), total=   7.0s\n",
      "[CV] C=1, gamma=auto .................................................\n",
      "[CV] . C=1, gamma=auto, score=(train=0.993, test=0.967), total=   6.4s\n",
      "[CV] C=1, gamma=auto .................................................\n",
      "[CV] . C=1, gamma=auto, score=(train=0.994, test=0.986), total=   8.1s\n",
      "[CV] C=1, gamma=auto .................................................\n",
      "[CV] . C=1, gamma=auto, score=(train=0.993, test=0.984), total=   6.2s\n",
      "[CV] C=1, gamma=auto .................................................\n",
      "[CV] . C=1, gamma=auto, score=(train=0.993, test=0.991), total=   4.9s\n",
      "[CV] C=1, gamma=auto .................................................\n",
      "[CV] . C=1, gamma=auto, score=(train=0.996, test=0.928), total=   7.5s\n",
      "[CV] C=1, gamma=1e-05 ................................................\n",
      "[CV]  C=1, gamma=1e-05, score=(train=0.679, test=0.516), total= 1.4min\n",
      "[CV] C=1, gamma=1e-05 ................................................\n",
      "[CV]  C=1, gamma=1e-05, score=(train=0.627, test=0.563), total= 1.5min\n",
      "[CV] C=1, gamma=1e-05 ................................................\n",
      "[CV]  C=1, gamma=1e-05, score=(train=0.599, test=0.606), total= 1.3min\n",
      "[CV] C=1, gamma=1e-05 ................................................\n",
      "[CV]  C=1, gamma=1e-05, score=(train=0.619, test=0.663), total= 1.2min\n",
      "[CV] C=1, gamma=1e-05 ................................................\n",
      "[CV]  C=1, gamma=1e-05, score=(train=0.593, test=0.591), total= 1.3min\n",
      "[CV] C=1, gamma=0.0001 ...............................................\n",
      "[CV]  C=1, gamma=0.0001, score=(train=0.917, test=0.733), total=  31.0s\n",
      "[CV] C=1, gamma=0.0001 ...............................................\n",
      "[CV]  C=1, gamma=0.0001, score=(train=0.903, test=0.856), total=  40.9s\n",
      "[CV] C=1, gamma=0.0001 ...............................................\n",
      "[CV]  C=1, gamma=0.0001, score=(train=0.914, test=0.857), total=  31.7s\n",
      "[CV] C=1, gamma=0.0001 ...............................................\n",
      "[CV]  C=1, gamma=0.0001, score=(train=0.917, test=0.934), total=  28.0s\n",
      "[CV] C=1, gamma=0.0001 ...............................................\n",
      "[CV]  C=1, gamma=0.0001, score=(train=0.926, test=0.841), total=  44.6s\n",
      "[CV] C=1, gamma=0.001 ................................................\n",
      "[CV]  C=1, gamma=0.001, score=(train=0.974, test=0.884), total=  16.4s\n",
      "[CV] C=1, gamma=0.001 ................................................\n",
      "[CV]  C=1, gamma=0.001, score=(train=0.972, test=0.967), total=  19.7s\n",
      "[CV] C=1, gamma=0.001 ................................................\n",
      "[CV]  C=1, gamma=0.001, score=(train=0.973, test=0.949), total=  17.0s\n",
      "[CV] C=1, gamma=0.001 ................................................\n",
      "[CV]  C=1, gamma=0.001, score=(train=0.971, test=0.973), total=  20.4s\n",
      "[CV] C=1, gamma=0.001 ................................................\n",
      "[CV]  C=1, gamma=0.001, score=(train=0.979, test=0.896), total=  14.4s\n",
      "[CV] C=1, gamma=0.01 .................................................\n",
      "[CV] . C=1, gamma=0.01, score=(train=0.988, test=0.947), total=   7.5s\n",
      "[CV] C=1, gamma=0.01 .................................................\n",
      "[CV] . C=1, gamma=0.01, score=(train=0.990, test=0.982), total=   6.2s\n",
      "[CV] C=1, gamma=0.01 .................................................\n",
      "[CV] . C=1, gamma=0.01, score=(train=0.990, test=0.976), total=   7.1s\n",
      "[CV] C=1, gamma=0.01 .................................................\n",
      "[CV] . C=1, gamma=0.01, score=(train=0.989, test=0.987), total=   5.8s\n",
      "[CV] C=1, gamma=0.01 .................................................\n",
      "[CV] . C=1, gamma=0.01, score=(train=0.993, test=0.923), total=   6.5s\n",
      "[CV] C=1, gamma=0.1 ..................................................\n",
      "[CV] .. C=1, gamma=0.1, score=(train=0.999, test=0.946), total=  18.7s\n",
      "[CV] C=1, gamma=0.1 ..................................................\n",
      "[CV] .. C=1, gamma=0.1, score=(train=0.999, test=0.987), total=  13.9s\n",
      "[CV] C=1, gamma=0.1 ..................................................\n",
      "[CV] .. C=1, gamma=0.1, score=(train=0.999, test=0.989), total=  21.0s\n",
      "[CV] C=1, gamma=0.1 ..................................................\n",
      "[CV] .. C=1, gamma=0.1, score=(train=0.999, test=0.990), total=  13.4s\n",
      "[CV] C=1, gamma=0.1 ..................................................\n",
      "[CV] .. C=1, gamma=0.1, score=(train=0.999, test=0.922), total=  16.4s\n",
      "[CV] C=1, gamma=1 ....................................................\n",
      "[CV] .... C=1, gamma=1, score=(train=1.000, test=0.283), total= 1.9min\n",
      "[CV] C=1, gamma=1 ....................................................\n",
      "[CV] .... C=1, gamma=1, score=(train=1.000, test=0.447), total= 2.0min\n",
      "[CV] C=1, gamma=1 ....................................................\n",
      "[CV] .... C=1, gamma=1, score=(train=1.000, test=0.591), total= 2.0min\n",
      "[CV] C=1, gamma=1 ....................................................\n",
      "[CV] .... C=1, gamma=1, score=(train=1.000, test=0.620), total= 1.8min\n",
      "[CV] C=1, gamma=1 ....................................................\n",
      "[CV] .... C=1, gamma=1, score=(train=1.000, test=0.427), total= 1.8min\n",
      "[CV] C=1, gamma=5 ....................................................\n",
      "[CV] .... C=1, gamma=5, score=(train=1.000, test=0.126), total= 2.1min\n",
      "[CV] C=1, gamma=5 ....................................................\n",
      "[CV] .... C=1, gamma=5, score=(train=1.000, test=0.127), total= 2.0min\n",
      "[CV] C=1, gamma=5 ....................................................\n",
      "[CV] .... C=1, gamma=5, score=(train=1.000, test=0.127), total= 2.2min\n",
      "[CV] C=1, gamma=5 ....................................................\n",
      "[CV] .... C=1, gamma=5, score=(train=1.000, test=0.128), total= 1.8min\n",
      "[CV] C=1, gamma=5 ....................................................\n",
      "[CV] .... C=1, gamma=5, score=(train=1.000, test=0.127), total= 2.0min\n",
      "[CV] C=1, gamma=10 ...................................................\n",
      "[CV] ... C=1, gamma=10, score=(train=1.000, test=0.126), total= 2.1min\n",
      "[CV] C=1, gamma=10 ...................................................\n",
      "[CV] ... C=1, gamma=10, score=(train=1.000, test=0.126), total= 2.1min\n",
      "[CV] C=1, gamma=10 ...................................................\n",
      "[CV] ... C=1, gamma=10, score=(train=1.000, test=0.126), total= 2.2min\n",
      "[CV] C=1, gamma=10 ...................................................\n",
      "[CV] ... C=1, gamma=10, score=(train=1.000, test=0.126), total= 2.2min\n",
      "[CV] C=1, gamma=10 ...................................................\n",
      "[CV] ... C=1, gamma=10, score=(train=1.000, test=0.126), total= 2.1min\n",
      "[CV] C=100, gamma=scale ..............................................\n",
      "[CV]  C=100, gamma=scale, score=(train=1.000, test=0.983), total=   5.0s\n",
      "[CV] C=100, gamma=scale ..............................................\n",
      "[CV]  C=100, gamma=scale, score=(train=1.000, test=0.990), total=   4.9s\n",
      "[CV] C=100, gamma=scale ..............................................\n",
      "[CV]  C=100, gamma=scale, score=(train=1.000, test=0.994), total=   5.1s\n",
      "[CV] C=100, gamma=scale ..............................................\n",
      "[CV]  C=100, gamma=scale, score=(train=1.000, test=0.993), total=   5.7s\n",
      "[CV] C=100, gamma=scale ..............................................\n",
      "[CV]  C=100, gamma=scale, score=(train=1.000, test=0.936), total=   3.2s\n",
      "[CV] C=100, gamma=auto ...............................................\n",
      "[CV]  C=100, gamma=auto, score=(train=1.000, test=0.983), total=   4.9s\n",
      "[CV] C=100, gamma=auto ...............................................\n",
      "[CV]  C=100, gamma=auto, score=(train=1.000, test=0.990), total=   4.7s\n",
      "[CV] C=100, gamma=auto ...............................................\n",
      "[CV]  C=100, gamma=auto, score=(train=1.000, test=0.994), total=   2.5s\n",
      "[CV] C=100, gamma=auto ...............................................\n",
      "[CV]  C=100, gamma=auto, score=(train=1.000, test=0.993), total=   4.9s\n",
      "[CV] C=100, gamma=auto ...............................................\n",
      "[CV]  C=100, gamma=auto, score=(train=1.000, test=0.936), total=   4.0s\n",
      "[CV] C=100, gamma=1e-05 ..............................................\n",
      "[CV]  C=100, gamma=1e-05, score=(train=0.973, test=0.884), total=  14.0s\n",
      "[CV] C=100, gamma=1e-05 ..............................................\n",
      "[CV]  C=100, gamma=1e-05, score=(train=0.971, test=0.965), total=  15.3s\n",
      "[CV] C=100, gamma=1e-05 ..............................................\n",
      "[CV]  C=100, gamma=1e-05, score=(train=0.972, test=0.945), total=  12.3s\n",
      "[CV] C=100, gamma=1e-05 ..............................................\n",
      "[CV]  C=100, gamma=1e-05, score=(train=0.970, test=0.972), total=  13.3s\n",
      "[CV] C=100, gamma=1e-05 ..............................................\n",
      "[CV]  C=100, gamma=1e-05, score=(train=0.978, test=0.898), total=  17.8s\n",
      "[CV] C=100, gamma=0.0001 .............................................\n",
      "[CV]  C=100, gamma=0.0001, score=(train=0.985, test=0.933), total=   7.4s\n",
      "[CV] C=100, gamma=0.0001 .............................................\n",
      "[CV]  C=100, gamma=0.0001, score=(train=0.985, test=0.975), total=   7.3s\n",
      "[CV] C=100, gamma=0.0001 .............................................\n",
      "[CV]  C=100, gamma=0.0001, score=(train=0.984, test=0.970), total=   7.2s\n",
      "[CV] C=100, gamma=0.0001 .............................................\n",
      "[CV]  C=100, gamma=0.0001, score=(train=0.983, test=0.983), total=   6.5s\n",
      "[CV] C=100, gamma=0.0001 .............................................\n",
      "[CV]  C=100, gamma=0.0001, score=(train=0.988, test=0.912), total=   7.1s\n",
      "[CV] C=100, gamma=0.001 ..............................................\n",
      "[CV]  C=100, gamma=0.001, score=(train=0.991, test=0.965), total=   4.0s\n",
      "[CV] C=100, gamma=0.001 ..............................................\n",
      "[CV]  C=100, gamma=0.001, score=(train=0.992, test=0.980), total=   4.3s\n",
      "[CV] C=100, gamma=0.001 ..............................................\n",
      "[CV]  C=100, gamma=0.001, score=(train=0.992, test=0.982), total=   4.3s\n",
      "[CV] C=100, gamma=0.001 ..............................................\n",
      "[CV]  C=100, gamma=0.001, score=(train=0.991, test=0.989), total=   4.0s\n",
      "[CV] C=100, gamma=0.001 ..............................................\n",
      "[CV]  C=100, gamma=0.001, score=(train=0.995, test=0.926), total=   4.6s\n",
      "[CV] C=100, gamma=0.01 ...............................................\n",
      "[CV]  C=100, gamma=0.01, score=(train=0.999, test=0.982), total=   4.5s\n",
      "[CV] C=100, gamma=0.01 ...............................................\n",
      "[CV]  C=100, gamma=0.01, score=(train=0.999, test=0.990), total=   2.8s\n",
      "[CV] C=100, gamma=0.01 ...............................................\n",
      "[CV]  C=100, gamma=0.01, score=(train=0.999, test=0.991), total=   4.1s\n",
      "[CV] C=100, gamma=0.01 ...............................................\n",
      "[CV]  C=100, gamma=0.01, score=(train=0.999, test=0.992), total=   2.4s\n",
      "[CV] C=100, gamma=0.01 ...............................................\n",
      "[CV]  C=100, gamma=0.01, score=(train=1.000, test=0.934), total=   1.6s\n",
      "[CV] C=100, gamma=0.1 ................................................\n",
      "[CV]  C=100, gamma=0.1, score=(train=1.000, test=0.953), total=  15.9s\n",
      "[CV] C=100, gamma=0.1 ................................................\n",
      "[CV]  C=100, gamma=0.1, score=(train=1.000, test=0.987), total=  19.7s\n",
      "[CV] C=100, gamma=0.1 ................................................\n",
      "[CV]  C=100, gamma=0.1, score=(train=1.000, test=0.993), total=  21.0s\n",
      "[CV] C=100, gamma=0.1 ................................................\n",
      "[CV]  C=100, gamma=0.1, score=(train=1.000, test=0.991), total=  22.1s\n",
      "[CV] C=100, gamma=0.1 ................................................\n",
      "[CV]  C=100, gamma=0.1, score=(train=1.000, test=0.924), total=  22.7s\n",
      "[CV] C=100, gamma=1 ..................................................\n",
      "[CV] .. C=100, gamma=1, score=(train=1.000, test=0.302), total= 2.5min\n",
      "[CV] C=100, gamma=1 ..................................................\n",
      "[CV] .. C=100, gamma=1, score=(train=1.000, test=0.474), total= 2.0min\n",
      "[CV] C=100, gamma=1 ..................................................\n",
      "[CV] .. C=100, gamma=1, score=(train=1.000, test=0.619), total= 2.3min\n",
      "[CV] C=100, gamma=1 ..................................................\n",
      "[CV] .. C=100, gamma=1, score=(train=1.000, test=0.646), total= 2.3min\n",
      "[CV] C=100, gamma=1 ..................................................\n",
      "[CV] .. C=100, gamma=1, score=(train=1.000, test=0.446), total= 2.2min\n",
      "[CV] C=100, gamma=5 ..................................................\n",
      "[CV] .. C=100, gamma=5, score=(train=1.000, test=0.127), total= 2.4min\n",
      "[CV] C=100, gamma=5 ..................................................\n",
      "[CV] .. C=100, gamma=5, score=(train=1.000, test=0.129), total= 2.0min\n",
      "[CV] C=100, gamma=5 ..................................................\n",
      "[CV] .. C=100, gamma=5, score=(train=1.000, test=0.129), total= 2.1min\n",
      "[CV] C=100, gamma=5 ..................................................\n",
      "[CV] .. C=100, gamma=5, score=(train=1.000, test=0.130), total= 1.7min\n",
      "[CV] C=100, gamma=5 ..................................................\n",
      "[CV] .. C=100, gamma=5, score=(train=1.000, test=0.128), total= 2.1min\n",
      "[CV] C=100, gamma=10 .................................................\n",
      "[CV] . C=100, gamma=10, score=(train=1.000, test=0.126), total= 2.0min\n",
      "[CV] C=100, gamma=10 .................................................\n",
      "[CV] . C=100, gamma=10, score=(train=1.000, test=0.126), total= 2.4min\n",
      "[CV] C=100, gamma=10 .................................................\n",
      "[CV] . C=100, gamma=10, score=(train=1.000, test=0.126), total= 2.2min\n",
      "[CV] C=100, gamma=10 .................................................\n",
      "[CV] . C=100, gamma=10, score=(train=1.000, test=0.126), total= 2.0min\n",
      "[CV] C=100, gamma=10 .................................................\n",
      "[CV] . C=100, gamma=10, score=(train=1.000, test=0.126), total= 2.2min\n",
      "[CV] C=1000, gamma=scale .............................................\n",
      "[CV]  C=1000, gamma=scale, score=(train=1.000, test=0.982), total=   5.5s\n",
      "[CV] C=1000, gamma=scale .............................................\n",
      "[CV]  C=1000, gamma=scale, score=(train=1.000, test=0.991), total=   6.8s\n",
      "[CV] C=1000, gamma=scale .............................................\n",
      "[CV]  C=1000, gamma=scale, score=(train=1.000, test=0.995), total=   3.8s\n",
      "[CV] C=1000, gamma=scale .............................................\n",
      "[CV]  C=1000, gamma=scale, score=(train=1.000, test=0.994), total=   5.1s\n",
      "[CV] C=1000, gamma=scale .............................................\n",
      "[CV]  C=1000, gamma=scale, score=(train=1.000, test=0.936), total=   4.3s\n",
      "[CV] C=1000, gamma=auto ..............................................\n",
      "[CV]  C=1000, gamma=auto, score=(train=1.000, test=0.981), total=   5.1s\n",
      "[CV] C=1000, gamma=auto ..............................................\n",
      "[CV]  C=1000, gamma=auto, score=(train=1.000, test=0.991), total=   4.7s\n",
      "[CV] C=1000, gamma=auto ..............................................\n",
      "[CV]  C=1000, gamma=auto, score=(train=1.000, test=0.995), total=   4.8s\n",
      "[CV] C=1000, gamma=auto ..............................................\n",
      "[CV]  C=1000, gamma=auto, score=(train=1.000, test=0.994), total=   3.0s\n",
      "[CV] C=1000, gamma=auto ..............................................\n",
      "[CV]  C=1000, gamma=auto, score=(train=1.000, test=0.936), total=   4.5s\n",
      "[CV] C=1000, gamma=1e-05 .............................................\n",
      "[CV]  C=1000, gamma=1e-05, score=(train=0.985, test=0.933), total=   5.5s\n",
      "[CV] C=1000, gamma=1e-05 .............................................\n",
      "[CV]  C=1000, gamma=1e-05, score=(train=0.985, test=0.975), total=   6.0s\n",
      "[CV] C=1000, gamma=1e-05 .............................................\n",
      "[CV]  C=1000, gamma=1e-05, score=(train=0.984, test=0.970), total=   7.2s\n",
      "[CV] C=1000, gamma=1e-05 .............................................\n",
      "[CV]  C=1000, gamma=1e-05, score=(train=0.983, test=0.983), total=   7.6s\n",
      "[CV] C=1000, gamma=1e-05 .............................................\n",
      "[CV]  C=1000, gamma=1e-05, score=(train=0.988, test=0.912), total=   4.3s\n",
      "[CV] C=1000, gamma=0.0001 ............................................\n",
      "[CV]  C=1000, gamma=0.0001, score=(train=0.990, test=0.954), total=   2.1s\n",
      "[CV] C=1000, gamma=0.0001 ............................................\n",
      "[CV]  C=1000, gamma=0.0001, score=(train=0.991, test=0.977), total=   2.7s\n",
      "[CV] C=1000, gamma=0.0001 ............................................\n",
      "[CV]  C=1000, gamma=0.0001, score=(train=0.989, test=0.980), total=   4.3s\n",
      "[CV] C=1000, gamma=0.0001 ............................................\n",
      "[CV]  C=1000, gamma=0.0001, score=(train=0.989, test=0.988), total=   4.1s\n",
      "[CV] C=1000, gamma=0.0001 ............................................\n",
      "[CV]  C=1000, gamma=0.0001, score=(train=0.993, test=0.928), total=   3.8s\n",
      "[CV] C=1000, gamma=0.001 .............................................\n",
      "[CV]  C=1000, gamma=0.001, score=(train=0.995, test=0.975), total=   3.3s\n",
      "[CV] C=1000, gamma=0.001 .............................................\n",
      "[CV]  C=1000, gamma=0.001, score=(train=0.996, test=0.985), total=   3.9s\n",
      "[CV] C=1000, gamma=0.001 .............................................\n",
      "[CV]  C=1000, gamma=0.001, score=(train=0.996, test=0.987), total=   2.5s\n",
      "[CV] C=1000, gamma=0.001 .............................................\n",
      "[CV]  C=1000, gamma=0.001, score=(train=0.995, test=0.990), total=   1.8s\n",
      "[CV] C=1000, gamma=0.001 .............................................\n",
      "[CV]  C=1000, gamma=0.001, score=(train=0.998, test=0.930), total=   1.5s\n",
      "[CV] C=1000, gamma=0.01 ..............................................\n",
      "[CV]  C=1000, gamma=0.01, score=(train=1.000, test=0.980), total=   3.5s\n",
      "[CV] C=1000, gamma=0.01 ..............................................\n",
      "[CV]  C=1000, gamma=0.01, score=(train=1.000, test=0.992), total=   4.0s\n",
      "[CV] C=1000, gamma=0.01 ..............................................\n",
      "[CV]  C=1000, gamma=0.01, score=(train=1.000, test=0.994), total=   4.5s\n",
      "[CV] C=1000, gamma=0.01 ..............................................\n",
      "[CV]  C=1000, gamma=0.01, score=(train=1.000, test=0.992), total=   4.9s\n",
      "[CV] C=1000, gamma=0.01 ..............................................\n",
      "[CV]  C=1000, gamma=0.01, score=(train=1.000, test=0.935), total=   4.2s\n",
      "[CV] C=1000, gamma=0.1 ...............................................\n",
      "[CV]  C=1000, gamma=0.1, score=(train=1.000, test=0.953), total=  19.0s\n",
      "[CV] C=1000, gamma=0.1 ...............................................\n",
      "[CV]  C=1000, gamma=0.1, score=(train=1.000, test=0.987), total=  18.0s\n",
      "[CV] C=1000, gamma=0.1 ...............................................\n",
      "[CV]  C=1000, gamma=0.1, score=(train=1.000, test=0.993), total=  15.3s\n",
      "[CV] C=1000, gamma=0.1 ...............................................\n",
      "[CV]  C=1000, gamma=0.1, score=(train=1.000, test=0.991), total=  18.8s\n",
      "[CV] C=1000, gamma=0.1 ...............................................\n",
      "[CV]  C=1000, gamma=0.1, score=(train=1.000, test=0.924), total=  17.8s\n",
      "[CV] C=1000, gamma=1 .................................................\n",
      "[CV] . C=1000, gamma=1, score=(train=1.000, test=0.302), total= 2.2min\n",
      "[CV] C=1000, gamma=1 .................................................\n",
      "[CV] . C=1000, gamma=1, score=(train=1.000, test=0.474), total= 1.8min\n",
      "[CV] C=1000, gamma=1 .................................................\n",
      "[CV] . C=1000, gamma=1, score=(train=1.000, test=0.619), total= 2.1min\n",
      "[CV] C=1000, gamma=1 .................................................\n",
      "[CV] . C=1000, gamma=1, score=(train=1.000, test=0.646), total= 2.1min\n",
      "[CV] C=1000, gamma=1 .................................................\n",
      "[CV] . C=1000, gamma=1, score=(train=1.000, test=0.446), total= 2.0min\n",
      "[CV] C=1000, gamma=5 .................................................\n",
      "[CV] . C=1000, gamma=5, score=(train=1.000, test=0.127), total= 2.3min\n",
      "[CV] C=1000, gamma=5 .................................................\n",
      "[CV] . C=1000, gamma=5, score=(train=1.000, test=0.129), total= 2.5min\n",
      "[CV] C=1000, gamma=5 .................................................\n",
      "[CV] . C=1000, gamma=5, score=(train=1.000, test=0.129), total= 2.1min\n",
      "[CV] C=1000, gamma=5 .................................................\n",
      "[CV] . C=1000, gamma=5, score=(train=1.000, test=0.130), total= 2.2min\n",
      "[CV] C=1000, gamma=5 .................................................\n",
      "[CV] . C=1000, gamma=5, score=(train=1.000, test=0.128), total= 2.2min\n",
      "[CV] C=1000, gamma=10 ................................................\n",
      "[CV]  C=1000, gamma=10, score=(train=1.000, test=0.126), total= 2.2min\n",
      "[CV] C=1000, gamma=10 ................................................\n",
      "[CV]  C=1000, gamma=10, score=(train=1.000, test=0.126), total= 2.7min\n",
      "[CV] C=1000, gamma=10 ................................................\n",
      "[CV]  C=1000, gamma=10, score=(train=1.000, test=0.126), total= 2.4min\n",
      "[CV] C=1000, gamma=10 ................................................\n",
      "[CV]  C=1000, gamma=10, score=(train=1.000, test=0.126), total= 2.4min\n",
      "[CV] C=1000, gamma=10 ................................................\n",
      "[CV]  C=1000, gamma=10, score=(train=1.000, test=0.126), total= 2.6min\n"
     ]
    },
    {
     "name": "stderr",
     "output_type": "stream",
     "text": [
      "[Parallel(n_jobs=1)]: Done 200 out of 200 | elapsed: 278.8min finished\n"
     ]
    },
    {
     "data": {
      "text/plain": [
       "GridSearchCV(cv=5, estimator=SVC(),\n",
       "             param_grid={'C': [0.1, 1, 100, 1000],\n",
       "                         'gamma': ['scale', 'auto', 1e-05, 0.0001, 0.001, 0.01,\n",
       "                                   0.1, 1, 5, 10]},\n",
       "             return_train_score=True, scoring='accuracy', verbose=5)"
      ]
     },
     "execution_count": 14,
     "metadata": {},
     "output_type": "execute_result"
    }
   ],
   "source": [
    "grid_search.fit(X_train,Y_train)"
   ]
  },
  {
   "cell_type": "code",
   "execution_count": 23,
   "metadata": {
    "collapsed": true
   },
   "outputs": [],
   "source": [
    "X_train=np.concatenate((X_train, X_validate), axis=0)"
   ]
  },
  {
   "cell_type": "code",
   "execution_count": 24,
   "metadata": {
    "collapsed": true
   },
   "outputs": [],
   "source": [
    "Y_train=np.concatenate((Y_train, Y_validate), axis=0)"
   ]
  },
  {
   "cell_type": "code",
   "execution_count": 15,
   "metadata": {
    "collapsed": false
   },
   "outputs": [
    {
     "data": {
      "text/plain": [
       "0.9794699596957175"
      ]
     },
     "execution_count": 15,
     "metadata": {},
     "output_type": "execute_result"
    }
   ],
   "source": [
    "grid_search.best_score_"
   ]
  },
  {
   "cell_type": "code",
   "execution_count": 16,
   "metadata": {
    "collapsed": false
   },
   "outputs": [
    {
     "data": {
      "text/plain": [
       "{'C': 1000, 'gamma': 'scale'}"
      ]
     },
     "execution_count": 16,
     "metadata": {},
     "output_type": "execute_result"
    }
   ],
   "source": [
    "grid_search.best_params_"
   ]
  },
  {
   "cell_type": "code",
   "execution_count": 41,
   "metadata": {
    "collapsed": false
   },
   "outputs": [],
   "source": [
    "best_svm_clf = SVC(kernel = 'rbf', C =1000, gamma= 'scale', class_weight = 'balanced', random_state = 0)"
   ]
  },
  {
   "cell_type": "code",
   "execution_count": 42,
   "metadata": {
    "collapsed": false
   },
   "outputs": [
    {
     "data": {
      "text/plain": [
       "SVC(C=1000, class_weight='balanced', random_state=0)"
      ]
     },
     "execution_count": 42,
     "metadata": {},
     "output_type": "execute_result"
    }
   ],
   "source": [
    "best_svm_clf.fit(X_train, Y_train)"
   ]
  },
  {
   "cell_type": "code",
   "execution_count": 50,
   "metadata": {
    "collapsed": true
   },
   "outputs": [],
   "source": [
    "Y_predict = best_svm_clf.predict(X_test)"
   ]
  },
  {
   "cell_type": "code",
   "execution_count": 51,
   "metadata": {
    "collapsed": false
   },
   "outputs": [
    {
     "data": {
      "text/plain": [
       "0.9725852272727272"
      ]
     },
     "execution_count": 51,
     "metadata": {},
     "output_type": "execute_result"
    }
   ],
   "source": [
    "accuracy_score(Y_test, Y_predict)"
   ]
  },
  {
   "cell_type": "code",
   "execution_count": 52,
   "metadata": {
    "collapsed": false
   },
   "outputs": [
    {
     "data": {
      "text/plain": [
       "6847"
      ]
     },
     "execution_count": 52,
     "metadata": {},
     "output_type": "execute_result"
    }
   ],
   "source": [
    "accuracy_score(Y_test, Y_predict, normalize=False)"
   ]
  },
  {
   "cell_type": "code",
   "execution_count": null,
   "metadata": {
    "collapsed": true
   },
   "outputs": [],
   "source": []
  },
  {
   "cell_type": "code",
   "execution_count": null,
   "metadata": {
    "collapsed": true
   },
   "outputs": [],
   "source": []
  }
 ],
 "metadata": {
  "anaconda-cloud": {},
  "kernelspec": {
   "display_name": "tfML",
   "language": "python",
   "name": "tfml"
  },
  "language_info": {
   "codemirror_mode": {
    "name": "ipython",
    "version": 3
   },
   "file_extension": ".py",
   "mimetype": "text/x-python",
   "name": "python",
   "nbconvert_exporter": "python",
   "pygments_lexer": "ipython3",
   "version": "3.8.3"
  }
 },
 "nbformat": 4,
 "nbformat_minor": 1
}
