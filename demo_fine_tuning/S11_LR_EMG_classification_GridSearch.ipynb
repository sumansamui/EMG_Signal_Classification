{
 "cells": [
  {
   "cell_type": "code",
   "execution_count": 1,
   "metadata": {},
   "outputs": [],
   "source": [
    "%matplotlib inline\n",
    "\n",
    "import numpy as np\n",
    "\n",
    "import joblib\n",
    "\n",
    "\n",
    "import pandas as pd\n",
    "import matplotlib.pyplot as plt\n",
    "import math\n",
    "from sklearn.preprocessing import StandardScaler\n",
    "from sklearn.model_selection import GridSearchCV\n",
    "\n",
    "from sklearn.linear_model import LogisticRegression\n",
    "\n",
    "\n",
    "from sklearn.metrics import accuracy_score, f1_score, recall_score,precision_score, classification_report, confusion_matrix\n",
    "import collections\n",
    "from sklearn.model_selection import cross_val_predict\n",
    "from sklearn.metrics import precision_recall_curve, roc_curve\n",
    "from sklearn.multiclass import OneVsRestClassifier\n",
    "from sklearn.preprocessing import label_binarize\n",
    "\n",
    "np.random.seed(1337)  # for reproducibility"
   ]
  },
  {
   "cell_type": "code",
   "execution_count": 2,
   "metadata": {},
   "outputs": [],
   "source": [
    "X_train = np.load('X_train.npy') \n",
    "\n",
    "Y_train = np.load('Y_train.npy')\n",
    "\n",
    "X_test = np.load('X_test.npy')\n",
    "\n",
    "Y_test = np.load('Y_test.npy')"
   ]
  },
  {
   "cell_type": "code",
   "execution_count": 3,
   "metadata": {},
   "outputs": [
    {
     "name": "stdout",
     "output_type": "stream",
     "text": [
      "(28368, 42)\n",
      "(28368,)\n",
      "(12168, 42)\n",
      "(12168,)\n"
     ]
    }
   ],
   "source": [
    "print(X_train.shape)\n",
    "print(Y_train.shape)\n",
    "\n",
    "print(X_test.shape)\n",
    "print(Y_test.shape)"
   ]
  },
  {
   "cell_type": "code",
   "execution_count": 4,
   "metadata": {},
   "outputs": [],
   "source": [
    "scaler = StandardScaler()\n",
    "X_train = scaler.fit_transform(X_train)\n",
    "X_test = scaler.fit_transform(X_test)"
   ]
  },
  {
   "cell_type": "markdown",
   "metadata": {},
   "source": [
    "# Grid Search"
   ]
  },
  {
   "cell_type": "code",
   "execution_count": 5,
   "metadata": {},
   "outputs": [],
   "source": [
    "LR_clf=LogisticRegression(multi_class='multinomial', max_iter=10000)"
   ]
  },
  {
   "cell_type": "code",
   "execution_count": 6,
   "metadata": {},
   "outputs": [],
   "source": [
    "param_grid={'C': [0.001,0.01,0.1,1,10,100,1000,10000],'solver': ['lbfgs','sag','saga','newton-cg']}"
   ]
  },
  {
   "cell_type": "code",
   "execution_count": 7,
   "metadata": {},
   "outputs": [],
   "source": [
    "grid_search = GridSearchCV(LR_clf, param_grid, scoring='accuracy', cv = 5, verbose=5,return_train_score=True)"
   ]
  },
  {
   "cell_type": "code",
   "execution_count": 8,
   "metadata": {},
   "outputs": [
    {
     "name": "stdout",
     "output_type": "stream",
     "text": [
      "Fitting 5 folds for each of 32 candidates, totalling 160 fits\n",
      "[CV] C=0.001, solver=lbfgs ...........................................\n"
     ]
    },
    {
     "name": "stderr",
     "output_type": "stream",
     "text": [
      "[Parallel(n_jobs=1)]: Using backend SequentialBackend with 1 concurrent workers.\n"
     ]
    },
    {
     "name": "stdout",
     "output_type": "stream",
     "text": [
      "[CV]  C=0.001, solver=lbfgs, score=(train=0.979, test=0.979), total=   1.5s\n",
      "[CV] C=0.001, solver=lbfgs ...........................................\n"
     ]
    },
    {
     "name": "stderr",
     "output_type": "stream",
     "text": [
      "[Parallel(n_jobs=1)]: Done   1 out of   1 | elapsed:    1.5s remaining:    0.0s\n"
     ]
    },
    {
     "name": "stdout",
     "output_type": "stream",
     "text": [
      "[CV]  C=0.001, solver=lbfgs, score=(train=0.978, test=0.979), total=   1.4s\n",
      "[CV] C=0.001, solver=lbfgs ...........................................\n"
     ]
    },
    {
     "name": "stderr",
     "output_type": "stream",
     "text": [
      "[Parallel(n_jobs=1)]: Done   2 out of   2 | elapsed:    2.9s remaining:    0.0s\n"
     ]
    },
    {
     "name": "stdout",
     "output_type": "stream",
     "text": [
      "[CV]  C=0.001, solver=lbfgs, score=(train=0.980, test=0.976), total=   1.3s\n",
      "[CV] C=0.001, solver=lbfgs ...........................................\n"
     ]
    },
    {
     "name": "stderr",
     "output_type": "stream",
     "text": [
      "[Parallel(n_jobs=1)]: Done   3 out of   3 | elapsed:    4.3s remaining:    0.0s\n"
     ]
    },
    {
     "name": "stdout",
     "output_type": "stream",
     "text": [
      "[CV]  C=0.001, solver=lbfgs, score=(train=0.979, test=0.978), total=   1.4s\n",
      "[CV] C=0.001, solver=lbfgs ...........................................\n"
     ]
    },
    {
     "name": "stderr",
     "output_type": "stream",
     "text": [
      "[Parallel(n_jobs=1)]: Done   4 out of   4 | elapsed:    5.7s remaining:    0.0s\n"
     ]
    },
    {
     "name": "stdout",
     "output_type": "stream",
     "text": [
      "[CV]  C=0.001, solver=lbfgs, score=(train=0.978, test=0.981), total=   1.4s\n",
      "[CV] C=0.001, solver=sag .............................................\n",
      "[CV]  C=0.001, solver=sag, score=(train=0.979, test=0.979), total=   1.2s\n",
      "[CV] C=0.001, solver=sag .............................................\n",
      "[CV]  C=0.001, solver=sag, score=(train=0.978, test=0.979), total=   2.1s\n",
      "[CV] C=0.001, solver=sag .............................................\n",
      "[CV]  C=0.001, solver=sag, score=(train=0.980, test=0.976), total=   1.9s\n",
      "[CV] C=0.001, solver=sag .............................................\n",
      "[CV]  C=0.001, solver=sag, score=(train=0.979, test=0.978), total=   2.2s\n",
      "[CV] C=0.001, solver=sag .............................................\n",
      "[CV]  C=0.001, solver=sag, score=(train=0.978, test=0.981), total=   2.1s\n",
      "[CV] C=0.001, solver=saga ............................................\n",
      "[CV]  C=0.001, solver=saga, score=(train=0.979, test=0.979), total=   8.0s\n",
      "[CV] C=0.001, solver=saga ............................................\n",
      "[CV]  C=0.001, solver=saga, score=(train=0.978, test=0.979), total=   7.7s\n",
      "[CV] C=0.001, solver=saga ............................................\n",
      "[CV]  C=0.001, solver=saga, score=(train=0.980, test=0.976), total=   7.1s\n",
      "[CV] C=0.001, solver=saga ............................................\n",
      "[CV]  C=0.001, solver=saga, score=(train=0.979, test=0.978), total=   7.5s\n",
      "[CV] C=0.001, solver=saga ............................................\n",
      "[CV]  C=0.001, solver=saga, score=(train=0.978, test=0.981), total=   9.0s\n",
      "[CV] C=0.001, solver=newton-cg .......................................\n",
      "[CV]  C=0.001, solver=newton-cg, score=(train=0.979, test=0.979), total=   3.9s\n",
      "[CV] C=0.001, solver=newton-cg .......................................\n",
      "[CV]  C=0.001, solver=newton-cg, score=(train=0.978, test=0.979), total=   2.5s\n",
      "[CV] C=0.001, solver=newton-cg .......................................\n",
      "[CV]  C=0.001, solver=newton-cg, score=(train=0.980, test=0.976), total=   2.6s\n",
      "[CV] C=0.001, solver=newton-cg .......................................\n",
      "[CV]  C=0.001, solver=newton-cg, score=(train=0.979, test=0.978), total=   2.5s\n",
      "[CV] C=0.001, solver=newton-cg .......................................\n",
      "[CV]  C=0.001, solver=newton-cg, score=(train=0.978, test=0.981), total=   2.4s\n",
      "[CV] C=0.01, solver=lbfgs ............................................\n",
      "[CV]  C=0.01, solver=lbfgs, score=(train=0.992, test=0.993), total=   2.1s\n",
      "[CV] C=0.01, solver=lbfgs ............................................\n",
      "[CV]  C=0.01, solver=lbfgs, score=(train=0.992, test=0.992), total=   2.0s\n",
      "[CV] C=0.01, solver=lbfgs ............................................\n",
      "[CV]  C=0.01, solver=lbfgs, score=(train=0.992, test=0.990), total=   2.1s\n",
      "[CV] C=0.01, solver=lbfgs ............................................\n",
      "[CV]  C=0.01, solver=lbfgs, score=(train=0.992, test=0.991), total=   1.9s\n",
      "[CV] C=0.01, solver=lbfgs ............................................\n",
      "[CV]  C=0.01, solver=lbfgs, score=(train=0.992, test=0.992), total=   2.0s\n",
      "[CV] C=0.01, solver=sag ..............................................\n",
      "[CV]  C=0.01, solver=sag, score=(train=0.992, test=0.993), total=   1.8s\n",
      "[CV] C=0.01, solver=sag ..............................................\n",
      "[CV]  C=0.01, solver=sag, score=(train=0.992, test=0.992), total=   4.1s\n",
      "[CV] C=0.01, solver=sag ..............................................\n",
      "[CV]  C=0.01, solver=sag, score=(train=0.992, test=0.990), total=   4.4s\n",
      "[CV] C=0.01, solver=sag ..............................................\n",
      "[CV]  C=0.01, solver=sag, score=(train=0.992, test=0.991), total=   4.8s\n",
      "[CV] C=0.01, solver=sag ..............................................\n",
      "[CV]  C=0.01, solver=sag, score=(train=0.992, test=0.992), total=   4.5s\n",
      "[CV] C=0.01, solver=saga .............................................\n",
      "[CV]  C=0.01, solver=saga, score=(train=0.992, test=0.993), total=  37.5s\n",
      "[CV] C=0.01, solver=saga .............................................\n",
      "[CV]  C=0.01, solver=saga, score=(train=0.992, test=0.992), total=  34.4s\n",
      "[CV] C=0.01, solver=saga .............................................\n",
      "[CV]  C=0.01, solver=saga, score=(train=0.992, test=0.990), total=  37.2s\n",
      "[CV] C=0.01, solver=saga .............................................\n",
      "[CV]  C=0.01, solver=saga, score=(train=0.992, test=0.991), total=  35.8s\n",
      "[CV] C=0.01, solver=saga .............................................\n",
      "[CV]  C=0.01, solver=saga, score=(train=0.992, test=0.992), total=  38.8s\n",
      "[CV] C=0.01, solver=newton-cg ........................................\n",
      "[CV]  C=0.01, solver=newton-cg, score=(train=0.992, test=0.993), total=   4.8s\n",
      "[CV] C=0.01, solver=newton-cg ........................................\n",
      "[CV]  C=0.01, solver=newton-cg, score=(train=0.992, test=0.992), total=   3.2s\n",
      "[CV] C=0.01, solver=newton-cg ........................................\n",
      "[CV]  C=0.01, solver=newton-cg, score=(train=0.992, test=0.990), total=   3.1s\n",
      "[CV] C=0.01, solver=newton-cg ........................................\n",
      "[CV]  C=0.01, solver=newton-cg, score=(train=0.992, test=0.991), total=   3.2s\n",
      "[CV] C=0.01, solver=newton-cg ........................................\n",
      "[CV]  C=0.01, solver=newton-cg, score=(train=0.992, test=0.992), total=   3.2s\n",
      "[CV] C=0.1, solver=lbfgs .............................................\n",
      "[CV]  C=0.1, solver=lbfgs, score=(train=0.997, test=0.998), total=   3.6s\n",
      "[CV] C=0.1, solver=lbfgs .............................................\n",
      "[CV]  C=0.1, solver=lbfgs, score=(train=0.997, test=0.998), total=   3.4s\n",
      "[CV] C=0.1, solver=lbfgs .............................................\n",
      "[CV]  C=0.1, solver=lbfgs, score=(train=0.997, test=0.995), total=   3.2s\n",
      "[CV] C=0.1, solver=lbfgs .............................................\n",
      "[CV]  C=0.1, solver=lbfgs, score=(train=0.997, test=0.997), total=   3.3s\n",
      "[CV] C=0.1, solver=lbfgs .............................................\n",
      "[CV]  C=0.1, solver=lbfgs, score=(train=0.997, test=0.997), total=   3.6s\n",
      "[CV] C=0.1, solver=sag ...............................................\n",
      "[CV]  C=0.1, solver=sag, score=(train=0.997, test=0.998), total=  21.1s\n",
      "[CV] C=0.1, solver=sag ...............................................\n",
      "[CV]  C=0.1, solver=sag, score=(train=0.997, test=0.998), total=  21.2s\n",
      "[CV] C=0.1, solver=sag ...............................................\n",
      "[CV]  C=0.1, solver=sag, score=(train=0.997, test=0.995), total=  23.5s\n",
      "[CV] C=0.1, solver=sag ...............................................\n",
      "[CV]  C=0.1, solver=sag, score=(train=0.997, test=0.997), total=  23.3s\n",
      "[CV] C=0.1, solver=sag ...............................................\n",
      "[CV]  C=0.1, solver=sag, score=(train=0.997, test=0.997), total=  23.5s\n",
      "[CV] C=0.1, solver=saga ..............................................\n",
      "[CV]  C=0.1, solver=saga, score=(train=0.997, test=0.998), total= 2.0min\n",
      "[CV] C=0.1, solver=saga ..............................................\n",
      "[CV]  C=0.1, solver=saga, score=(train=0.997, test=0.998), total= 1.4min\n",
      "[CV] C=0.1, solver=saga ..............................................\n",
      "[CV]  C=0.1, solver=saga, score=(train=0.997, test=0.995), total= 2.0min\n",
      "[CV] C=0.1, solver=saga ..............................................\n",
      "[CV]  C=0.1, solver=saga, score=(train=0.997, test=0.997), total= 2.0min\n",
      "[CV] C=0.1, solver=saga ..............................................\n",
      "[CV]  C=0.1, solver=saga, score=(train=0.997, test=0.997), total= 2.0min\n",
      "[CV] C=0.1, solver=newton-cg .........................................\n",
      "[CV]  C=0.1, solver=newton-cg, score=(train=0.997, test=0.998), total=   5.7s\n",
      "[CV] C=0.1, solver=newton-cg .........................................\n",
      "[CV]  C=0.1, solver=newton-cg, score=(train=0.997, test=0.998), total=   4.1s\n",
      "[CV] C=0.1, solver=newton-cg .........................................\n",
      "[CV]  C=0.1, solver=newton-cg, score=(train=0.997, test=0.995), total=   3.9s\n",
      "[CV] C=0.1, solver=newton-cg .........................................\n",
      "[CV]  C=0.1, solver=newton-cg, score=(train=0.997, test=0.997), total=   3.9s\n",
      "[CV] C=0.1, solver=newton-cg .........................................\n",
      "[CV]  C=0.1, solver=newton-cg, score=(train=0.997, test=0.997), total=   4.0s\n",
      "[CV] C=1, solver=lbfgs ...............................................\n",
      "[CV]  C=1, solver=lbfgs, score=(train=0.999, test=0.998), total=   5.7s\n",
      "[CV] C=1, solver=lbfgs ...............................................\n"
     ]
    },
    {
     "name": "stdout",
     "output_type": "stream",
     "text": [
      "[CV]  C=1, solver=lbfgs, score=(train=0.999, test=0.999), total=   5.9s\n",
      "[CV] C=1, solver=lbfgs ...............................................\n",
      "[CV]  C=1, solver=lbfgs, score=(train=0.999, test=0.998), total=   5.9s\n",
      "[CV] C=1, solver=lbfgs ...............................................\n",
      "[CV]  C=1, solver=lbfgs, score=(train=0.999, test=0.998), total=   6.2s\n",
      "[CV] C=1, solver=lbfgs ...............................................\n",
      "[CV]  C=1, solver=lbfgs, score=(train=0.999, test=0.999), total=   6.5s\n",
      "[CV] C=1, solver=sag .................................................\n",
      "[CV] . C=1, solver=sag, score=(train=0.999, test=0.998), total=  40.1s\n",
      "[CV] C=1, solver=sag .................................................\n",
      "[CV] . C=1, solver=sag, score=(train=0.999, test=0.999), total=  36.8s\n",
      "[CV] C=1, solver=sag .................................................\n",
      "[CV] . C=1, solver=sag, score=(train=0.999, test=0.998), total=  42.6s\n",
      "[CV] C=1, solver=sag .................................................\n",
      "[CV] . C=1, solver=sag, score=(train=0.999, test=0.998), total=  44.8s\n",
      "[CV] C=1, solver=sag .................................................\n",
      "[CV] . C=1, solver=sag, score=(train=0.999, test=0.999), total=  36.7s\n",
      "[CV] C=1, solver=saga ................................................\n",
      "[CV]  C=1, solver=saga, score=(train=0.999, test=0.998), total= 2.9min\n",
      "[CV] C=1, solver=saga ................................................\n",
      "[CV]  C=1, solver=saga, score=(train=0.999, test=0.999), total= 3.4min\n",
      "[CV] C=1, solver=saga ................................................\n",
      "[CV]  C=1, solver=saga, score=(train=0.999, test=0.998), total= 3.6min\n",
      "[CV] C=1, solver=saga ................................................\n",
      "[CV]  C=1, solver=saga, score=(train=0.999, test=0.998), total= 3.5min\n",
      "[CV] C=1, solver=saga ................................................\n",
      "[CV]  C=1, solver=saga, score=(train=0.999, test=0.999), total= 3.3min\n",
      "[CV] C=1, solver=newton-cg ...........................................\n",
      "[CV]  C=1, solver=newton-cg, score=(train=0.999, test=0.998), total=   6.2s\n",
      "[CV] C=1, solver=newton-cg ...........................................\n",
      "[CV]  C=1, solver=newton-cg, score=(train=0.999, test=0.999), total=   4.7s\n",
      "[CV] C=1, solver=newton-cg ...........................................\n",
      "[CV]  C=1, solver=newton-cg, score=(train=0.999, test=0.998), total=   5.5s\n",
      "[CV] C=1, solver=newton-cg ...........................................\n",
      "[CV]  C=1, solver=newton-cg, score=(train=0.999, test=0.998), total=   5.5s\n",
      "[CV] C=1, solver=newton-cg ...........................................\n",
      "[CV]  C=1, solver=newton-cg, score=(train=0.999, test=0.999), total=   5.4s\n",
      "[CV] C=10, solver=lbfgs ..............................................\n",
      "[CV]  C=10, solver=lbfgs, score=(train=1.000, test=0.998), total=   9.6s\n",
      "[CV] C=10, solver=lbfgs ..............................................\n",
      "[CV]  C=10, solver=lbfgs, score=(train=1.000, test=0.999), total=  10.6s\n",
      "[CV] C=10, solver=lbfgs ..............................................\n",
      "[CV]  C=10, solver=lbfgs, score=(train=1.000, test=0.998), total=  10.0s\n",
      "[CV] C=10, solver=lbfgs ..............................................\n",
      "[CV]  C=10, solver=lbfgs, score=(train=1.000, test=0.999), total=   9.7s\n",
      "[CV] C=10, solver=lbfgs ..............................................\n",
      "[CV]  C=10, solver=lbfgs, score=(train=1.000, test=0.999), total=  10.7s\n",
      "[CV] C=10, solver=sag ................................................\n",
      "[CV]  C=10, solver=sag, score=(train=1.000, test=0.998), total= 2.3min\n",
      "[CV] C=10, solver=sag ................................................\n",
      "[CV]  C=10, solver=sag, score=(train=1.000, test=0.999), total= 1.3min\n",
      "[CV] C=10, solver=sag ................................................\n",
      "[CV]  C=10, solver=sag, score=(train=1.000, test=0.998), total= 1.0min\n",
      "[CV] C=10, solver=sag ................................................\n",
      "[CV]  C=10, solver=sag, score=(train=1.000, test=0.999), total= 1.0min\n",
      "[CV] C=10, solver=sag ................................................\n",
      "[CV]  C=10, solver=sag, score=(train=1.000, test=0.999), total= 1.0min\n",
      "[CV] C=10, solver=saga ...............................................\n",
      "[CV]  C=10, solver=saga, score=(train=1.000, test=0.998), total= 5.5min\n",
      "[CV] C=10, solver=saga ...............................................\n",
      "[CV]  C=10, solver=saga, score=(train=1.000, test=0.999), total= 6.2min\n",
      "[CV] C=10, solver=saga ...............................................\n",
      "[CV]  C=10, solver=saga, score=(train=1.000, test=0.998), total= 4.7min\n",
      "[CV] C=10, solver=saga ...............................................\n",
      "[CV]  C=10, solver=saga, score=(train=1.000, test=0.999), total= 3.6min\n",
      "[CV] C=10, solver=saga ...............................................\n",
      "[CV]  C=10, solver=saga, score=(train=1.000, test=0.999), total= 6.4min\n",
      "[CV] C=10, solver=newton-cg ..........................................\n",
      "[CV]  C=10, solver=newton-cg, score=(train=1.000, test=0.998), total=   6.1s\n",
      "[CV] C=10, solver=newton-cg ..........................................\n",
      "[CV]  C=10, solver=newton-cg, score=(train=1.000, test=0.999), total=   6.2s\n",
      "[CV] C=10, solver=newton-cg ..........................................\n",
      "[CV]  C=10, solver=newton-cg, score=(train=1.000, test=0.998), total=   5.8s\n",
      "[CV] C=10, solver=newton-cg ..........................................\n",
      "[CV]  C=10, solver=newton-cg, score=(train=1.000, test=0.999), total=   5.8s\n",
      "[CV] C=10, solver=newton-cg ..........................................\n",
      "[CV]  C=10, solver=newton-cg, score=(train=1.000, test=0.999), total=   6.6s\n",
      "[CV] C=100, solver=lbfgs .............................................\n",
      "[CV]  C=100, solver=lbfgs, score=(train=1.000, test=0.999), total=  20.4s\n",
      "[CV] C=100, solver=lbfgs .............................................\n",
      "[CV]  C=100, solver=lbfgs, score=(train=1.000, test=0.999), total=  13.0s\n",
      "[CV] C=100, solver=lbfgs .............................................\n",
      "[CV]  C=100, solver=lbfgs, score=(train=1.000, test=0.998), total=  13.4s\n",
      "[CV] C=100, solver=lbfgs .............................................\n",
      "[CV]  C=100, solver=lbfgs, score=(train=1.000, test=0.999), total=  15.1s\n",
      "[CV] C=100, solver=lbfgs .............................................\n",
      "[CV]  C=100, solver=lbfgs, score=(train=1.000, test=0.999), total=  15.5s\n",
      "[CV] C=100, solver=sag ...............................................\n",
      "[CV]  C=100, solver=sag, score=(train=1.000, test=0.999), total= 2.5min\n",
      "[CV] C=100, solver=sag ...............................................\n",
      "[CV]  C=100, solver=sag, score=(train=1.000, test=0.999), total= 1.9min\n",
      "[CV] C=100, solver=sag ...............................................\n",
      "[CV]  C=100, solver=sag, score=(train=1.000, test=0.998), total= 3.5min\n",
      "[CV] C=100, solver=sag ...............................................\n",
      "[CV]  C=100, solver=sag, score=(train=1.000, test=0.999), total= 2.2min\n",
      "[CV] C=100, solver=sag ...............................................\n",
      "[CV]  C=100, solver=sag, score=(train=1.000, test=0.999), total= 2.9min\n",
      "[CV] C=100, solver=saga ..............................................\n",
      "[CV]  C=100, solver=saga, score=(train=1.000, test=0.999), total=16.7min\n",
      "[CV] C=100, solver=saga ..............................................\n",
      "[CV]  C=100, solver=saga, score=(train=1.000, test=0.999), total= 8.8min\n",
      "[CV] C=100, solver=saga ..............................................\n",
      "[CV]  C=100, solver=saga, score=(train=1.000, test=0.998), total=11.2min\n",
      "[CV] C=100, solver=saga ..............................................\n",
      "[CV]  C=100, solver=saga, score=(train=1.000, test=0.999), total=11.9min\n",
      "[CV] C=100, solver=saga ..............................................\n",
      "[CV]  C=100, solver=saga, score=(train=1.000, test=0.999), total=12.2min\n",
      "[CV] C=100, solver=newton-cg .........................................\n",
      "[CV]  C=100, solver=newton-cg, score=(train=1.000, test=0.999), total=   9.3s\n",
      "[CV] C=100, solver=newton-cg .........................................\n",
      "[CV]  C=100, solver=newton-cg, score=(train=1.000, test=0.999), total=   7.2s\n",
      "[CV] C=100, solver=newton-cg .........................................\n",
      "[CV]  C=100, solver=newton-cg, score=(train=1.000, test=0.998), total=   7.3s\n",
      "[CV] C=100, solver=newton-cg .........................................\n"
     ]
    },
    {
     "name": "stdout",
     "output_type": "stream",
     "text": [
      "[CV]  C=100, solver=newton-cg, score=(train=1.000, test=0.999), total=   7.6s\n",
      "[CV] C=100, solver=newton-cg .........................................\n",
      "[CV]  C=100, solver=newton-cg, score=(train=1.000, test=0.999), total=   7.4s\n",
      "[CV] C=1000, solver=lbfgs ............................................\n",
      "[CV]  C=1000, solver=lbfgs, score=(train=1.000, test=0.998), total=  30.6s\n",
      "[CV] C=1000, solver=lbfgs ............................................\n",
      "[CV]  C=1000, solver=lbfgs, score=(train=1.000, test=0.999), total=  23.8s\n",
      "[CV] C=1000, solver=lbfgs ............................................\n",
      "[CV]  C=1000, solver=lbfgs, score=(train=1.000, test=0.998), total=  19.9s\n",
      "[CV] C=1000, solver=lbfgs ............................................\n",
      "[CV]  C=1000, solver=lbfgs, score=(train=1.000, test=0.998), total=  24.6s\n",
      "[CV] C=1000, solver=lbfgs ............................................\n",
      "[CV]  C=1000, solver=lbfgs, score=(train=1.000, test=0.999), total=  22.0s\n",
      "[CV] C=1000, solver=sag ..............................................\n",
      "[CV]  C=1000, solver=sag, score=(train=1.000, test=0.999), total= 6.5min\n",
      "[CV] C=1000, solver=sag ..............................................\n",
      "[CV]  C=1000, solver=sag, score=(train=1.000, test=0.999), total= 6.3min\n",
      "[CV] C=1000, solver=sag ..............................................\n",
      "[CV]  C=1000, solver=sag, score=(train=1.000, test=0.998), total= 5.1min\n",
      "[CV] C=1000, solver=sag ..............................................\n",
      "[CV]  C=1000, solver=sag, score=(train=1.000, test=0.999), total= 3.0min\n",
      "[CV] C=1000, solver=sag ..............................................\n",
      "[CV]  C=1000, solver=sag, score=(train=1.000, test=0.999), total= 4.0min\n",
      "[CV] C=1000, solver=saga .............................................\n",
      "[CV]  C=1000, solver=saga, score=(train=1.000, test=0.999), total=21.6min\n",
      "[CV] C=1000, solver=saga .............................................\n",
      "[CV]  C=1000, solver=saga, score=(train=1.000, test=0.999), total=12.4min\n",
      "[CV] C=1000, solver=saga .............................................\n",
      "[CV]  C=1000, solver=saga, score=(train=1.000, test=0.998), total=11.9min\n",
      "[CV] C=1000, solver=saga .............................................\n",
      "[CV]  C=1000, solver=saga, score=(train=1.000, test=0.999), total=21.4min\n",
      "[CV] C=1000, solver=saga .............................................\n",
      "[CV]  C=1000, solver=saga, score=(train=1.000, test=0.999), total=15.4min\n",
      "[CV] C=1000, solver=newton-cg ........................................\n",
      "[CV]  C=1000, solver=newton-cg, score=(train=1.000, test=0.998), total=   9.9s\n",
      "[CV] C=1000, solver=newton-cg ........................................\n",
      "[CV]  C=1000, solver=newton-cg, score=(train=1.000, test=0.999), total=  10.5s\n",
      "[CV] C=1000, solver=newton-cg ........................................\n",
      "[CV]  C=1000, solver=newton-cg, score=(train=1.000, test=0.998), total=   8.6s\n",
      "[CV] C=1000, solver=newton-cg ........................................\n",
      "[CV]  C=1000, solver=newton-cg, score=(train=1.000, test=0.998), total=   8.8s\n",
      "[CV] C=1000, solver=newton-cg ........................................\n",
      "[CV]  C=1000, solver=newton-cg, score=(train=1.000, test=0.999), total=   9.4s\n",
      "[CV] C=10000, solver=lbfgs ...........................................\n",
      "[CV]  C=10000, solver=lbfgs, score=(train=1.000, test=0.998), total=  24.4s\n",
      "[CV] C=10000, solver=lbfgs ...........................................\n",
      "[CV]  C=10000, solver=lbfgs, score=(train=1.000, test=0.998), total=  24.9s\n",
      "[CV] C=10000, solver=lbfgs ...........................................\n",
      "[CV]  C=10000, solver=lbfgs, score=(train=1.000, test=0.998), total=  20.5s\n",
      "[CV] C=10000, solver=lbfgs ...........................................\n",
      "[CV]  C=10000, solver=lbfgs, score=(train=1.000, test=0.998), total=  25.1s\n",
      "[CV] C=10000, solver=lbfgs ...........................................\n",
      "[CV]  C=10000, solver=lbfgs, score=(train=1.000, test=0.999), total=  23.7s\n",
      "[CV] C=10000, solver=sag .............................................\n",
      "[CV]  C=10000, solver=sag, score=(train=1.000, test=0.999), total= 5.5min\n",
      "[CV] C=10000, solver=sag .............................................\n",
      "[CV]  C=10000, solver=sag, score=(train=1.000, test=0.999), total= 5.0min\n",
      "[CV] C=10000, solver=sag .............................................\n",
      "[CV]  C=10000, solver=sag, score=(train=1.000, test=0.998), total= 2.8min\n",
      "[CV] C=10000, solver=sag .............................................\n",
      "[CV]  C=10000, solver=sag, score=(train=1.000, test=0.999), total= 8.0min\n",
      "[CV] C=10000, solver=sag .............................................\n",
      "[CV]  C=10000, solver=sag, score=(train=1.000, test=0.999), total= 7.4min\n",
      "[CV] C=10000, solver=saga ............................................\n",
      "[CV]  C=10000, solver=saga, score=(train=1.000, test=0.999), total=26.2min\n",
      "[CV] C=10000, solver=saga ............................................\n",
      "[CV]  C=10000, solver=saga, score=(train=1.000, test=0.999), total=21.0min\n",
      "[CV] C=10000, solver=saga ............................................\n",
      "[CV]  C=10000, solver=saga, score=(train=1.000, test=0.998), total=23.7min\n",
      "[CV] C=10000, solver=saga ............................................\n",
      "[CV]  C=10000, solver=saga, score=(train=1.000, test=0.999), total=21.6min\n",
      "[CV] C=10000, solver=saga ............................................\n",
      "[CV]  C=10000, solver=saga, score=(train=1.000, test=0.999), total=15.8min\n",
      "[CV] C=10000, solver=newton-cg .......................................\n",
      "[CV]  C=10000, solver=newton-cg, score=(train=1.000, test=0.998), total=  10.8s\n",
      "[CV] C=10000, solver=newton-cg .......................................\n",
      "[CV]  C=10000, solver=newton-cg, score=(train=1.000, test=0.998), total=   9.2s\n",
      "[CV] C=10000, solver=newton-cg .......................................\n",
      "[CV]  C=10000, solver=newton-cg, score=(train=1.000, test=0.998), total=   8.3s\n",
      "[CV] C=10000, solver=newton-cg .......................................\n",
      "[CV]  C=10000, solver=newton-cg, score=(train=1.000, test=0.998), total=  11.3s\n",
      "[CV] C=10000, solver=newton-cg .......................................\n",
      "[CV]  C=10000, solver=newton-cg, score=(train=1.000, test=0.999), total=  10.6s\n"
     ]
    },
    {
     "name": "stderr",
     "output_type": "stream",
     "text": [
      "[Parallel(n_jobs=1)]: Done 160 out of 160 | elapsed: 398.2min finished\n"
     ]
    },
    {
     "data": {
      "text/plain": [
       "GridSearchCV(cv=5,\n",
       "             estimator=LogisticRegression(max_iter=10000,\n",
       "                                          multi_class='multinomial'),\n",
       "             param_grid={'C': [0.001, 0.01, 0.1, 1, 10, 100, 1000, 10000],\n",
       "                         'solver': ['lbfgs', 'sag', 'saga', 'newton-cg']},\n",
       "             return_train_score=True, scoring='accuracy', verbose=5)"
      ]
     },
     "execution_count": 8,
     "metadata": {},
     "output_type": "execute_result"
    }
   ],
   "source": [
    "grid_search.fit(X_train,Y_train)"
   ]
  },
  {
   "cell_type": "code",
   "execution_count": 9,
   "metadata": {},
   "outputs": [
    {
     "data": {
      "text/plain": [
       "0.9987309917964129"
      ]
     },
     "execution_count": 9,
     "metadata": {},
     "output_type": "execute_result"
    }
   ],
   "source": [
    "grid_search.best_score_"
   ]
  },
  {
   "cell_type": "code",
   "execution_count": 10,
   "metadata": {},
   "outputs": [
    {
     "data": {
      "text/plain": [
       "{'C': 100, 'solver': 'saga'}"
      ]
     },
     "execution_count": 10,
     "metadata": {},
     "output_type": "execute_result"
    }
   ],
   "source": [
    "grid_search.best_params_"
   ]
  },
  {
   "cell_type": "code",
   "execution_count": 11,
   "metadata": {},
   "outputs": [],
   "source": [
    "best_LR_clf=LogisticRegression(multi_class='multinomial', max_iter=10000, C=100, solver='saga',n_jobs=-1)"
   ]
  },
  {
   "cell_type": "code",
   "execution_count": 12,
   "metadata": {},
   "outputs": [
    {
     "data": {
      "text/plain": [
       "LogisticRegression(C=100, max_iter=10000, multi_class='multinomial', n_jobs=-1,\n",
       "                   solver='saga')"
      ]
     },
     "execution_count": 12,
     "metadata": {},
     "output_type": "execute_result"
    }
   ],
   "source": [
    "best_LR_clf.fit(X_train, Y_train)"
   ]
  },
  {
   "cell_type": "code",
   "execution_count": 13,
   "metadata": {},
   "outputs": [],
   "source": [
    "Y_predict = best_LR_clf.predict(X_test)"
   ]
  },
  {
   "cell_type": "code",
   "execution_count": 14,
   "metadata": {},
   "outputs": [
    {
     "data": {
      "text/plain": [
       "0.9178994082840237"
      ]
     },
     "execution_count": 14,
     "metadata": {},
     "output_type": "execute_result"
    }
   ],
   "source": [
    "accuracy_score(Y_test, Y_predict)"
   ]
  },
  {
   "cell_type": "code",
   "execution_count": 15,
   "metadata": {},
   "outputs": [
    {
     "data": {
      "text/plain": [
       "['LR_emg_clf.pkl']"
      ]
     },
     "execution_count": 15,
     "metadata": {},
     "output_type": "execute_result"
    }
   ],
   "source": [
    "\n",
    "# save the model to disk\n",
    "\n",
    "joblib.dump(best_LR_clf, 'LR_emg_clf.pkl')"
   ]
  },
  {
   "cell_type": "code",
   "execution_count": null,
   "metadata": {},
   "outputs": [],
   "source": []
  }
 ],
 "metadata": {
  "kernelspec": {
   "display_name": "sumanEnv",
   "language": "python",
   "name": "sumanenv"
  },
  "language_info": {
   "codemirror_mode": {
    "name": "ipython",
    "version": 3
   },
   "file_extension": ".py",
   "mimetype": "text/x-python",
   "name": "python",
   "nbconvert_exporter": "python",
   "pygments_lexer": "ipython3",
   "version": "3.8.5"
  }
 },
 "nbformat": 4,
 "nbformat_minor": 4
}
