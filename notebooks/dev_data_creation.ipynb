{
 "cells": [
  {
   "cell_type": "code",
   "execution_count": 1,
   "metadata": {},
   "outputs": [],
   "source": [
    "%matplotlib inline\n",
    "\n",
    "import numpy as np\n",
    "import pandas as pd\n",
    "import matplotlib.pyplot as plt\n",
    "import math\n",
    "from sklearn.preprocessing import StandardScaler\n",
    "from sklearn.model_selection import GridSearchCV\n",
    "from sklearn.svm import SVC\n",
    "from sklearn.metrics import accuracy_score, f1_score, recall_score,precision_score, classification_report, confusion_matrix\n",
    "import collections\n",
    "from sklearn.model_selection import cross_val_predict\n",
    "from sklearn.metrics import precision_recall_curve, roc_curve\n",
    "from sklearn.multiclass import OneVsRestClassifier\n",
    "from sklearn.preprocessing import label_binarize\n",
    "\n",
    "np.random.seed(1337)  # for reproducibility"
   ]
  },
  {
   "cell_type": "code",
   "execution_count": 2,
   "metadata": {},
   "outputs": [],
   "source": [
    "def load_dataset(file_train, file_test):\n",
    "    \n",
    "    df_train = pd.read_excel(file_train,header=None)\n",
    "    \n",
    "    df_train=df_train.sample(frac=1)\n",
    "\n",
    "    X_train, Y_train = format_data(df_train)\n",
    "\n",
    "    df_test = pd.read_excel(file_test,header=None)\n",
    "    \n",
    "    df_test=df_test.sample(frac=1)\n",
    "\n",
    "    X_test, Y_test = format_data(df_test)\n",
    "\n",
    "    return X_train, Y_train, X_test, Y_test\n",
    "\n",
    "\n",
    "def format_data(df):\n",
    "    \n",
    "    X = np.array(df.drop(df.columns[-1], 1))\n",
    "\n",
    "\n",
    "    Y = np.array(df[df.columns[-1]])\n",
    "\n",
    "    \n",
    "    Y=Y-1\n",
    "\n",
    "    return X,Y\n"
   ]
  },
  {
   "cell_type": "code",
   "execution_count": 30,
   "metadata": {},
   "outputs": [],
   "source": [
    "train_set_file = 'cttd/S1/trainset_P135_60.xls'\n",
    "\n",
    "\n",
    "test_set_file = 'cttd/S1/cvset_P12345_20.xls'\n",
    "\n",
    "\n",
    "X_train, Y_train, X_test, Y_test = load_dataset(train_set_file,test_set_file)"
   ]
  },
  {
   "cell_type": "code",
   "execution_count": 31,
   "metadata": {},
   "outputs": [
    {
     "name": "stdout",
     "output_type": "stream",
     "text": [
      "(19776, 42)\n",
      "(19776,)\n",
      "(7040, 42)\n",
      "(7040,)\n"
     ]
    }
   ],
   "source": [
    "print(X_train.shape)\n",
    "print(Y_train.shape)\n",
    "\n",
    "print(X_test.shape)\n",
    "print(Y_test.shape)"
   ]
  },
  {
   "cell_type": "code",
   "execution_count": 32,
   "metadata": {},
   "outputs": [],
   "source": [
    "np.save('X_dev', X_test) \n",
    "\n",
    "np.save('Y_dev', Y_test) "
   ]
  },
  {
   "cell_type": "code",
   "execution_count": null,
   "metadata": {},
   "outputs": [],
   "source": []
  }
 ],
 "metadata": {
  "kernelspec": {
   "display_name": "sumanEnv",
   "language": "python",
   "name": "sumanenv"
  },
  "language_info": {
   "codemirror_mode": {
    "name": "ipython",
    "version": 3
   },
   "file_extension": ".py",
   "mimetype": "text/x-python",
   "name": "python",
   "nbconvert_exporter": "python",
   "pygments_lexer": "ipython3",
   "version": "3.8.5"
  }
 },
 "nbformat": 4,
 "nbformat_minor": 4
}
