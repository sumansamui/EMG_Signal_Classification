{
 "cells": [
  {
   "cell_type": "code",
   "execution_count": 396,
   "metadata": {},
   "outputs": [],
   "source": [
    "%matplotlib inline\n",
    "\n",
    "import numpy as np\n",
    "import pandas as pd\n",
    "import matplotlib.pyplot as plt\n",
    "import math\n",
    "from sklearn.preprocessing import StandardScaler\n",
    "from sklearn.model_selection import GridSearchCV\n",
    "from sklearn.svm import SVC\n",
    "from sklearn.metrics import accuracy_score, f1_score, recall_score,precision_score, classification_report, confusion_matrix\n",
    "import collections\n",
    "from sklearn.model_selection import cross_val_predict\n",
    "from sklearn.metrics import precision_recall_curve, roc_curve\n",
    "from sklearn.multiclass import OneVsRestClassifier\n",
    "from sklearn.preprocessing import label_binarize\n",
    "\n",
    "np.random.seed(1337)  # for reproducibility"
   ]
  },
  {
   "cell_type": "code",
   "execution_count": 397,
   "metadata": {},
   "outputs": [],
   "source": [
    "\n",
    "def load_dataset(file):\n",
    "    \n",
    "    df = pd.read_excel(file,header=None)\n",
    "    \n",
    "    df=df.sample(frac=1)\n",
    "\n",
    "    X, Y = format_data(df)\n",
    "\n",
    "    return X, Y\n",
    "\n",
    "\n",
    "def format_data(df):\n",
    "    \n",
    "    X = np.array(df.drop(df.columns[-1], 1))\n",
    "\n",
    "\n",
    "    Y = np.array(df[df.columns[-1]])\n",
    "\n",
    "    \n",
    "    Y=Y-1\n",
    "\n",
    "    return X,Y\n"
   ]
  },
  {
   "cell_type": "code",
   "execution_count": 398,
   "metadata": {},
   "outputs": [],
   "source": [
    "train_set_file = 'cttd/S1/train135_test24/trainset_P135_all.xls'"
   ]
  },
  {
   "cell_type": "code",
   "execution_count": 399,
   "metadata": {},
   "outputs": [],
   "source": [
    "X_train, Y_train = load_dataset(train_set_file)"
   ]
  },
  {
   "cell_type": "code",
   "execution_count": 400,
   "metadata": {},
   "outputs": [],
   "source": [
    "np.save('X_train', X_train) \n",
    "\n",
    "np.save('Y_train', Y_train) "
   ]
  },
  {
   "cell_type": "code",
   "execution_count": 401,
   "metadata": {},
   "outputs": [
    {
     "name": "stdout",
     "output_type": "stream",
     "text": [
      "(37968, 42)\n",
      "(37968,)\n"
     ]
    }
   ],
   "source": [
    "print(X_train.shape)\n",
    "print(Y_train.shape)"
   ]
  },
  {
   "cell_type": "code",
   "execution_count": 402,
   "metadata": {},
   "outputs": [],
   "source": [
    "test_set2_file = 'cttd/S1/testset_P12345_20.xls'"
   ]
  },
  {
   "cell_type": "code",
   "execution_count": 403,
   "metadata": {},
   "outputs": [],
   "source": [
    "X_test2, Y_test2 = load_dataset(test_set2_file)"
   ]
  },
  {
   "cell_type": "code",
   "execution_count": 404,
   "metadata": {},
   "outputs": [],
   "source": [
    "np.save('X_test2', X_test2) \n",
    "\n",
    "np.save('Y_test2', Y_test2) "
   ]
  },
  {
   "cell_type": "code",
   "execution_count": 405,
   "metadata": {},
   "outputs": [
    {
     "name": "stdout",
     "output_type": "stream",
     "text": [
      "(7040, 42)\n",
      "(7040,)\n"
     ]
    }
   ],
   "source": [
    "print(X_test2.shape)\n",
    "print(Y_test2.shape)"
   ]
  },
  {
   "cell_type": "code",
   "execution_count": 406,
   "metadata": {},
   "outputs": [],
   "source": [
    "test_set1_file = 'cttd/S1/train135_test24/testset_P24_all.xls'"
   ]
  },
  {
   "cell_type": "code",
   "execution_count": 407,
   "metadata": {},
   "outputs": [],
   "source": [
    "n=list(range(1,43))\n",
    "n.append('class')\n",
    "df_test = pd.read_excel(test_set1_file,header=None,names=n)"
   ]
  },
  {
   "cell_type": "code",
   "execution_count": 408,
   "metadata": {},
   "outputs": [
    {
     "data": {
      "text/plain": [
       "(18912, 43)"
      ]
     },
     "execution_count": 408,
     "metadata": {},
     "output_type": "execute_result"
    }
   ],
   "source": [
    "df_test.shape"
   ]
  },
  {
   "cell_type": "code",
   "execution_count": 409,
   "metadata": {},
   "outputs": [
    {
     "data": {
      "text/plain": [
       "Index([      1,       2,       3,       4,       5,       6,       7,       8,\n",
       "             9,      10,      11,      12,      13,      14,      15,      16,\n",
       "            17,      18,      19,      20,      21,      22,      23,      24,\n",
       "            25,      26,      27,      28,      29,      30,      31,      32,\n",
       "            33,      34,      35,      36,      37,      38,      39,      40,\n",
       "            41,      42, 'class'],\n",
       "      dtype='object')"
      ]
     },
     "execution_count": 409,
     "metadata": {},
     "output_type": "execute_result"
    }
   ],
   "source": [
    "df_test.columns"
   ]
  },
  {
   "cell_type": "code",
   "execution_count": 410,
   "metadata": {},
   "outputs": [],
   "source": [
    "df1=df_test[df_test['class']==1]"
   ]
  },
  {
   "cell_type": "code",
   "execution_count": 411,
   "metadata": {},
   "outputs": [
    {
     "data": {
      "text/plain": [
       "(2364, 43)"
      ]
     },
     "execution_count": 411,
     "metadata": {},
     "output_type": "execute_result"
    }
   ],
   "source": [
    "df1.shape"
   ]
  },
  {
   "cell_type": "code",
   "execution_count": 412,
   "metadata": {},
   "outputs": [],
   "source": [
    "df1=df1[0:1521]"
   ]
  },
  {
   "cell_type": "code",
   "execution_count": 413,
   "metadata": {},
   "outputs": [
    {
     "data": {
      "text/plain": [
       "(1521, 43)"
      ]
     },
     "execution_count": 413,
     "metadata": {},
     "output_type": "execute_result"
    }
   ],
   "source": [
    "df1.shape"
   ]
  },
  {
   "cell_type": "code",
   "execution_count": 414,
   "metadata": {},
   "outputs": [],
   "source": [
    "df2=df_test[df_test['class']==2]\n",
    "\n",
    "df2=df2[0:1521]"
   ]
  },
  {
   "cell_type": "code",
   "execution_count": 415,
   "metadata": {},
   "outputs": [],
   "source": [
    "df3=df_test[df_test['class']==3]\n",
    "\n",
    "df3=df3[0:1521]"
   ]
  },
  {
   "cell_type": "code",
   "execution_count": 416,
   "metadata": {},
   "outputs": [],
   "source": [
    "df4=df_test[df_test['class']==4]\n",
    "\n",
    "df4=df4[0:1521]"
   ]
  },
  {
   "cell_type": "code",
   "execution_count": 417,
   "metadata": {},
   "outputs": [],
   "source": [
    "df5=df_test[df_test['class']==5]\n",
    "\n",
    "df5=df5[0:1521]"
   ]
  },
  {
   "cell_type": "code",
   "execution_count": 418,
   "metadata": {},
   "outputs": [],
   "source": [
    "df6=df_test[df_test['class']==6]\n",
    "\n",
    "df6=df6[0:1521]"
   ]
  },
  {
   "cell_type": "code",
   "execution_count": 419,
   "metadata": {},
   "outputs": [],
   "source": [
    "df7=df_test[df_test['class']==7]\n",
    "\n",
    "df7=df7[0:1521]"
   ]
  },
  {
   "cell_type": "code",
   "execution_count": 420,
   "metadata": {},
   "outputs": [],
   "source": [
    "df8=df_test[df_test['class']==8]\n",
    "\n",
    "df8=df8[0:1521]"
   ]
  },
  {
   "cell_type": "code",
   "execution_count": 421,
   "metadata": {},
   "outputs": [],
   "source": [
    "df=pd.concat([df1,df2,df3,df4,df5,df6,df7,df8])"
   ]
  },
  {
   "cell_type": "code",
   "execution_count": 422,
   "metadata": {},
   "outputs": [
    {
     "data": {
      "text/plain": [
       "(12168, 43)"
      ]
     },
     "execution_count": 422,
     "metadata": {},
     "output_type": "execute_result"
    }
   ],
   "source": [
    "df.shape"
   ]
  },
  {
   "cell_type": "code",
   "execution_count": 423,
   "metadata": {},
   "outputs": [
    {
     "data": {
      "text/plain": [
       "7    1521\n",
       "6    1521\n",
       "5    1521\n",
       "4    1521\n",
       "3    1521\n",
       "2    1521\n",
       "1    1521\n",
       "8    1521\n",
       "Name: class, dtype: int64"
      ]
     },
     "execution_count": 423,
     "metadata": {},
     "output_type": "execute_result"
    }
   ],
   "source": [
    "df['class'].value_counts()"
   ]
  },
  {
   "cell_type": "code",
   "execution_count": 424,
   "metadata": {},
   "outputs": [],
   "source": [
    "df=df.sample(frac=1)\n",
    "\n",
    "X, Y = format_data(df)"
   ]
  },
  {
   "cell_type": "code",
   "execution_count": 425,
   "metadata": {},
   "outputs": [],
   "source": [
    "np.save('X_test', X) \n",
    "\n",
    "np.save('Y_test', Y) "
   ]
  },
  {
   "cell_type": "code",
   "execution_count": 426,
   "metadata": {},
   "outputs": [],
   "source": [
    "X_train = np.load('X_train.npy') \n",
    "\n",
    "Y_train = np.load('Y_train.npy')\n",
    "\n",
    "X_test = np.load('X_test.npy')\n",
    "\n",
    "Y_test = np.load('Y_test.npy')\n",
    "\n",
    "X_test2 = np.load('X_test2.npy')\n",
    "\n",
    "Y_test2 = np.load('Y_test2.npy')"
   ]
  },
  {
   "cell_type": "code",
   "execution_count": 427,
   "metadata": {},
   "outputs": [
    {
     "name": "stdout",
     "output_type": "stream",
     "text": [
      "(37968, 42)\n",
      "(37968,)\n",
      "(12168, 42)\n",
      "(12168,)\n",
      "(7040, 42)\n",
      "(7040,)\n"
     ]
    }
   ],
   "source": [
    "print(X_train.shape)\n",
    "print(Y_train.shape)\n",
    "\n",
    "print(X_test.shape)\n",
    "print(Y_test.shape)\n",
    "\n",
    "\n",
    "print(X_test2.shape)\n",
    "print(Y_test2.shape)"
   ]
  },
  {
   "cell_type": "code",
   "execution_count": null,
   "metadata": {},
   "outputs": [],
   "source": []
  }
 ],
 "metadata": {
  "kernelspec": {
   "display_name": "sumanEnv",
   "language": "python",
   "name": "sumanenv"
  },
  "language_info": {
   "codemirror_mode": {
    "name": "ipython",
    "version": 3
   },
   "file_extension": ".py",
   "mimetype": "text/x-python",
   "name": "python",
   "nbconvert_exporter": "python",
   "pygments_lexer": "ipython3",
   "version": "3.8.5"
  }
 },
 "nbformat": 4,
 "nbformat_minor": 4
}
