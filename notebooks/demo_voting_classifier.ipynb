{
 "cells": [
  {
   "cell_type": "markdown",
   "metadata": {},
   "source": [
    "# Importing Packges"
   ]
  },
  {
   "cell_type": "code",
   "execution_count": 1,
   "metadata": {
    "colab": {},
    "colab_type": "code",
    "executionInfo": {
     "elapsed": 3586,
     "status": "ok",
     "timestamp": 1598629644701,
     "user": {
      "displayName": "Suman Samui",
      "photoUrl": "",
      "userId": "11638296981034036456"
     },
     "user_tz": -330
    },
    "id": "mcR2OGs_kRno"
   },
   "outputs": [],
   "source": [
    "%matplotlib inline\n",
    "\n",
    "import numpy as np\n",
    "\n",
    "import joblib\n",
    "\n",
    "\n",
    "import pandas as pd\n",
    "import matplotlib.pyplot as plt\n",
    "import math\n",
    "from sklearn.preprocessing import StandardScaler\n",
    "from sklearn.model_selection import GridSearchCV\n",
    "from sklearn.svm import SVC\n",
    "from sklearn.metrics import accuracy_score, f1_score, recall_score,precision_score, classification_report, confusion_matrix\n",
    "import collections\n",
    "from sklearn.model_selection import cross_val_predict\n",
    "from sklearn.metrics import precision_recall_curve, roc_curve\n",
    "from sklearn.multiclass import OneVsRestClassifier\n",
    "from sklearn.preprocessing import label_binarize\n",
    "\n",
    "np.random.seed(1337)  # for reproducibility\n",
    "\n",
    "\n",
    "\n",
    "from sklearn.ensemble import VotingClassifier"
   ]
  },
  {
   "cell_type": "markdown",
   "metadata": {},
   "source": [
    "# Loading data (CTTD features and Labels)"
   ]
  },
  {
   "cell_type": "code",
   "execution_count": 19,
   "metadata": {
    "colab": {},
    "colab_type": "code",
    "executionInfo": {
     "elapsed": 10269,
     "status": "ok",
     "timestamp": 1598629651412,
     "user": {
      "displayName": "Suman Samui",
      "photoUrl": "",
      "userId": "11638296981034036456"
     },
     "user_tz": -330
    },
    "id": "dY-T9ZviojBz"
   },
   "outputs": [],
   "source": [
    "X_train = np.load('../data/S10/X_train.npy') \n",
    "\n",
    "Y_train = np.load('../data/S10/Y_train.npy')\n",
    "\n",
    "X_test = np.load('../data/S10/X_test.npy')\n",
    "\n",
    "Y_test = np.load('../data/S10/Y_test.npy')\n",
    "\n",
    "X_test2 = np.load('../data/S10/X_test2.npy')\n",
    "\n",
    "Y_test2 = np.load('../data/S10/Y_test2.npy')"
   ]
  },
  {
   "cell_type": "code",
   "execution_count": 22,
   "metadata": {},
   "outputs": [
    {
     "data": {
      "text/plain": [
       "array([0.00736808, 0.01305474, 0.01328746, 0.01087264, 0.00999119,\n",
       "       0.01113731, 0.00998801, 0.01845082, 0.02114146, 0.02708462,\n",
       "       0.02041779, 0.01724392, 0.01643513, 0.04121975, 0.01546927,\n",
       "       0.07796691, 0.04419348, 0.04710152, 0.06742214, 0.09496654,\n",
       "       0.0495976 , 0.02998133, 0.04732659, 0.04302824, 0.04004036,\n",
       "       0.04152549, 0.04763844, 0.03762704, 0.00567291, 0.00851655,\n",
       "       0.00403908, 0.00333027, 0.00517552, 0.0102636 , 0.01745613,\n",
       "       0.26969236, 0.35434232, 0.36674884, 0.30872286, 0.21107681,\n",
       "       0.24631183, 0.30003703])"
      ]
     },
     "execution_count": 22,
     "metadata": {},
     "output_type": "execute_result"
    }
   ],
   "source": [
    "np.std(X_test2, axis=0)"
   ]
  },
  {
   "cell_type": "markdown",
   "metadata": {},
   "source": [
    "# Scaling features"
   ]
  },
  {
   "cell_type": "code",
   "execution_count": 6,
   "metadata": {
    "colab": {},
    "colab_type": "code",
    "executionInfo": {
     "elapsed": 775,
     "status": "ok",
     "timestamp": 1598629657354,
     "user": {
      "displayName": "Suman Samui",
      "photoUrl": "",
      "userId": "11638296981034036456"
     },
     "user_tz": -330
    },
    "id": "4cJXuCsmpz8D"
   },
   "outputs": [],
   "source": [
    "scaler = StandardScaler()\n",
    "X_train = scaler.fit_transform(X_train)\n",
    "X_test = scaler.fit_transform(X_test)\n",
    "X_test2 = scaler.fit_transform(X_test2)"
   ]
  },
  {
   "cell_type": "code",
   "execution_count": 16,
   "metadata": {},
   "outputs": [
    {
     "data": {
      "text/plain": [
       "array([0.00832342, 0.01271719, 0.01000976, 0.00798374, 0.0092489 ,\n",
       "       0.01024944, 0.00596773, 0.01591231, 0.01564641, 0.01319807,\n",
       "       0.01187793, 0.01156039, 0.01127222, 0.01167754, 0.03347382,\n",
       "       0.0920087 , 0.0598841 , 0.04568769, 0.08978898, 0.08957959,\n",
       "       0.02143906, 0.03788116, 0.05597681, 0.04140564, 0.04269216,\n",
       "       0.04195512, 0.05372792, 0.0312801 , 0.00610192, 0.01203334,\n",
       "       0.00880538, 0.00864165, 0.00787116, 0.01205243, 0.00676343,\n",
       "       0.28187852, 0.34139805, 0.31967943, 0.30485763, 0.23461088,\n",
       "       0.28609784, 0.24433569])"
      ]
     },
     "execution_count": 16,
     "metadata": {},
     "output_type": "execute_result"
    }
   ],
   "source": [
    "np.std(X_test2, axis=0)"
   ]
  },
  {
   "cell_type": "code",
   "execution_count": 4,
   "metadata": {
    "colab": {
     "base_uri": "https://localhost:8080/",
     "height": 119
    },
    "colab_type": "code",
    "executionInfo": {
     "elapsed": 1402,
     "status": "ok",
     "timestamp": 1598629663256,
     "user": {
      "displayName": "Suman Samui",
      "photoUrl": "",
      "userId": "11638296981034036456"
     },
     "user_tz": -330
    },
    "id": "Ph-dUh8ZqEa9",
    "outputId": "7f878c8c-946d-4c82-8d1e-ac9a26edb5a1"
   },
   "outputs": [
    {
     "name": "stdout",
     "output_type": "stream",
     "text": [
      "(28368, 42)\n",
      "(28368,)\n",
      "(12168, 42)\n",
      "(12168,)\n",
      "(7040, 42)\n",
      "(7040,)\n"
     ]
    }
   ],
   "source": [
    "print(X_train.shape)\n",
    "print(Y_train.shape)\n",
    "\n",
    "print(X_test.shape)\n",
    "print(Y_test.shape)\n",
    "\n",
    "\n",
    "print(X_test2.shape)\n",
    "print(Y_test2.shape)"
   ]
  },
  {
   "cell_type": "markdown",
   "metadata": {},
   "source": [
    "# Loading models "
   ]
  },
  {
   "cell_type": "code",
   "execution_count": 10,
   "metadata": {
    "colab": {
     "base_uri": "https://localhost:8080/",
     "height": 105
    },
    "colab_type": "code",
    "executionInfo": {
     "elapsed": 1314,
     "status": "ok",
     "timestamp": 1598629960623,
     "user": {
      "displayName": "Suman Samui",
      "photoUrl": "",
      "userId": "11638296981034036456"
     },
     "user_tz": -330
    },
    "id": "RW_ws22wqLi0",
    "outputId": "2b428f9b-31fb-463e-e4c0-5b896489a255"
   },
   "outputs": [
    {
     "name": "stderr",
     "output_type": "stream",
     "text": [
      "C:\\Users\\Suman\\anaconda3\\envs\\sumanEnv\\lib\\site-packages\\sklearn\\base.py:329: UserWarning: Trying to unpickle estimator DecisionTreeClassifier from version 0.22.2.post1 when using version 0.23.1. This might lead to breaking code or invalid results. Use at your own risk.\n",
      "  warnings.warn(\n",
      "C:\\Users\\Suman\\anaconda3\\envs\\sumanEnv\\lib\\site-packages\\sklearn\\base.py:329: UserWarning: Trying to unpickle estimator RandomForestClassifier from version 0.22.2.post1 when using version 0.23.1. This might lead to breaking code or invalid results. Use at your own risk.\n",
      "  warnings.warn(\n",
      "C:\\Users\\Suman\\anaconda3\\envs\\sumanEnv\\lib\\site-packages\\sklearn\\base.py:329: UserWarning: Trying to unpickle estimator ExtraTreeClassifier from version 0.22.2.post1 when using version 0.23.1. This might lead to breaking code or invalid results. Use at your own risk.\n",
      "  warnings.warn(\n",
      "C:\\Users\\Suman\\anaconda3\\envs\\sumanEnv\\lib\\site-packages\\sklearn\\base.py:329: UserWarning: Trying to unpickle estimator ExtraTreesClassifier from version 0.22.2.post1 when using version 0.23.1. This might lead to breaking code or invalid results. Use at your own risk.\n",
      "  warnings.warn(\n"
     ]
    }
   ],
   "source": [
    "SVM_clf = joblib.load('../models/svm_emg_clf.pkl')\n",
    "\n",
    "LR_clf = joblib.load('../models/LR_emg_clf.pkl')\n",
    "\n",
    "RF_clf = joblib.load('../models/RF_emg_clf.pkl')\n",
    "\n",
    "ET_clf = joblib.load('../models/ET_emg_clf.pkl')"
   ]
  },
  {
   "cell_type": "code",
   "execution_count": 7,
   "metadata": {
    "colab": {},
    "colab_type": "code",
    "executionInfo": {
     "elapsed": 1378,
     "status": "ok",
     "timestamp": 1598630015761,
     "user": {
      "displayName": "Suman Samui",
      "photoUrl": "",
      "userId": "11638296981034036456"
     },
     "user_tz": -330
    },
    "id": "FUpO8EImsfiX"
   },
   "outputs": [],
   "source": [
    "estimators=[('LR',LR_clf),('SVM',SVM_clf),('RF',RF_clf),('ET',ET_clf)]"
   ]
  },
  {
   "cell_type": "code",
   "execution_count": 8,
   "metadata": {
    "colab": {},
    "colab_type": "code",
    "executionInfo": {
     "elapsed": 1674,
     "status": "ok",
     "timestamp": 1598630041632,
     "user": {
      "displayName": "Suman Samui",
      "photoUrl": "",
      "userId": "11638296981034036456"
     },
     "user_tz": -330
    },
    "id": "IzeYCKYyvSGC"
   },
   "outputs": [],
   "source": [
    "voting_clf=VotingClassifier(estimators,voting='soft')"
   ]
  },
  {
   "cell_type": "code",
   "execution_count": 9,
   "metadata": {
    "colab": {
     "base_uri": "https://localhost:8080/",
     "height": 510
    },
    "colab_type": "code",
    "executionInfo": {
     "elapsed": 204096,
     "status": "ok",
     "timestamp": 1598630270403,
     "user": {
      "displayName": "Suman Samui",
      "photoUrl": "",
      "userId": "11638296981034036456"
     },
     "user_tz": -330
    },
    "id": "1ZGKeLj0viwy",
    "outputId": "016f5444-f0e0-4983-b8c2-33297f1c7beb"
   },
   "outputs": [
    {
     "data": {
      "text/plain": [
       "VotingClassifier(estimators=[('LR',\n",
       "                              LogisticRegression(C=100, class_weight=None,\n",
       "                                                 dual=False, fit_intercept=True,\n",
       "                                                 intercept_scaling=1,\n",
       "                                                 l1_ratio=None, max_iter=10000,\n",
       "                                                 multi_class='multinomial',\n",
       "                                                 n_jobs=-1, penalty='l2',\n",
       "                                                 random_state=None,\n",
       "                                                 solver='saga', tol=0.0001,\n",
       "                                                 verbose=0, warm_start=False)),\n",
       "                             ('SVM',\n",
       "                              SVC(C=35.4, break_ties=False, cache_size=200,\n",
       "                                  class_weight='balanced...\n",
       "                                                   criterion='gini',\n",
       "                                                   max_depth=None,\n",
       "                                                   max_features='auto',\n",
       "                                                   max_leaf_nodes=135,\n",
       "                                                   max_samples=None,\n",
       "                                                   min_impurity_decrease=0.0,\n",
       "                                                   min_impurity_split=None,\n",
       "                                                   min_samples_leaf=1,\n",
       "                                                   min_samples_split=2,\n",
       "                                                   min_weight_fraction_leaf=0.0,\n",
       "                                                   n_estimators=100,\n",
       "                                                   n_jobs=None, oob_score=False,\n",
       "                                                   random_state=None, verbose=0,\n",
       "                                                   warm_start=False))],\n",
       "                 flatten_transform=True, n_jobs=None, voting='soft',\n",
       "                 weights=None)"
      ]
     },
     "execution_count": 9,
     "metadata": {
      "tags": []
     },
     "output_type": "execute_result"
    }
   ],
   "source": [
    "voting_clf.fit(X_train,Y_train)"
   ]
  },
  {
   "cell_type": "code",
   "execution_count": 10,
   "metadata": {
    "colab": {},
    "colab_type": "code",
    "executionInfo": {
     "elapsed": 3309,
     "status": "ok",
     "timestamp": 1598630288279,
     "user": {
      "displayName": "Suman Samui",
      "photoUrl": "",
      "userId": "11638296981034036456"
     },
     "user_tz": -330
    },
    "id": "_XQ3s4NQvluy"
   },
   "outputs": [],
   "source": [
    "Y_predict = voting_clf.predict(X_test)"
   ]
  },
  {
   "cell_type": "code",
   "execution_count": 11,
   "metadata": {
    "colab": {
     "base_uri": "https://localhost:8080/",
     "height": 34
    },
    "colab_type": "code",
    "executionInfo": {
     "elapsed": 1223,
     "status": "ok",
     "timestamp": 1598630290667,
     "user": {
      "displayName": "Suman Samui",
      "photoUrl": "",
      "userId": "11638296981034036456"
     },
     "user_tz": -330
    },
    "id": "qit8WlR1vtxI",
    "outputId": "ebd3c93e-00ab-43ac-987d-65270198b798"
   },
   "outputs": [
    {
     "data": {
      "text/plain": [
       "0.9326101249178173"
      ]
     },
     "execution_count": 11,
     "metadata": {
      "tags": []
     },
     "output_type": "execute_result"
    }
   ],
   "source": [
    "accuracy_score(Y_test, Y_predict)"
   ]
  },
  {
   "cell_type": "markdown",
   "metadata": {},
   "source": [
    "# SVC class don't compute probability by default, so we have to train the model by setting the parameter probability=True."
   ]
  },
  {
   "cell_type": "code",
   "execution_count": 13,
   "metadata": {
    "colab": {},
    "colab_type": "code",
    "executionInfo": {
     "elapsed": 1876,
     "status": "ok",
     "timestamp": 1598630477437,
     "user": {
      "displayName": "Suman Samui",
      "photoUrl": "",
      "userId": "11638296981034036456"
     },
     "user_tz": -330
    },
    "id": "aOIBSVovzIdT"
   },
   "outputs": [],
   "source": [
    "SVM_clf = SVC(kernel = 'rbf', C = 35.4, gamma= 'scale', class_weight = 'balanced',probability=True)"
   ]
  },
  {
   "cell_type": "code",
   "execution_count": null,
   "metadata": {
    "colab": {
     "base_uri": "https://localhost:8080/",
     "height": 85
    },
    "colab_type": "code",
    "executionInfo": {
     "elapsed": 15927,
     "status": "ok",
     "timestamp": 1598630494539,
     "user": {
      "displayName": "Suman Samui",
      "photoUrl": "",
      "userId": "11638296981034036456"
     },
     "user_tz": -330
    },
    "id": "Pe9WoA-NzTVq",
    "outputId": "0f2e08c8-e731-4142-9cd7-5005c276e92b"
   },
   "outputs": [],
   "source": [
    "SVM_clf.fit(X_train, Y_train)"
   ]
  },
  {
   "cell_type": "markdown",
   "metadata": {},
   "source": [
    "# Evaluation on Test set 1"
   ]
  },
  {
   "cell_type": "code",
   "execution_count": 15,
   "metadata": {
    "colab": {
     "base_uri": "https://localhost:8080/",
     "height": 102
    },
    "colab_type": "code",
    "executionInfo": {
     "elapsed": 5075,
     "status": "ok",
     "timestamp": 1598630574162,
     "user": {
      "displayName": "Suman Samui",
      "photoUrl": "",
      "userId": "11638296981034036456"
     },
     "user_tz": -330
    },
    "id": "-_gcq3uXvu80",
    "outputId": "3c27be6c-f3bf-4738-fd17-d7eea3435a5c"
   },
   "outputs": [
    {
     "name": "stdout",
     "output_type": "stream",
     "text": [
      "LogisticRegression 0.9178994082840237\n",
      "SVC 0.9231591058514136\n",
      "RandomForestClassifier 0.9059007232084155\n",
      "ExtraTreesClassifier 0.9275147928994083\n",
      "VotingClassifier 0.9326101249178173\n"
     ]
    }
   ],
   "source": [
    "for clf in (LR_clf,SVM_clf,RF_clf,ET_clf,voting_clf):\n",
    "    y_predict=clf.predict(X_test)\n",
    "    print(clf.__class__.__name__,accuracy_score(Y_test, y_predict)) "
   ]
  },
  {
   "cell_type": "markdown",
   "metadata": {},
   "source": [
    "# Evaluation on Test set 2"
   ]
  },
  {
   "cell_type": "code",
   "execution_count": 16,
   "metadata": {
    "colab": {
     "base_uri": "https://localhost:8080/",
     "height": 102
    },
    "colab_type": "code",
    "executionInfo": {
     "elapsed": 3546,
     "status": "ok",
     "timestamp": 1598630634131,
     "user": {
      "displayName": "Suman Samui",
      "photoUrl": "",
      "userId": "11638296981034036456"
     },
     "user_tz": -330
    },
    "id": "qZR_2eNxzzxJ",
    "outputId": "24b0445f-bd6f-4742-e5e1-345ae5f29442"
   },
   "outputs": [
    {
     "name": "stdout",
     "output_type": "stream",
     "text": [
      "LogisticRegression 0.9676136363636364\n",
      "SVC 0.9762784090909091\n",
      "RandomForestClassifier 0.953125\n",
      "ExtraTreesClassifier 0.9627840909090909\n",
      "VotingClassifier 0.9738636363636364\n"
     ]
    }
   ],
   "source": [
    "for clf in (LR_clf,SVM_clf,RF_clf,ET_clf,voting_clf):\n",
    "    y_predict=clf.predict(X_test2)\n",
    "    print(clf.__class__.__name__,accuracy_score(Y_test2, y_predict)) "
   ]
  }
 ],
 "metadata": {
  "colab": {
   "authorship_tag": "ABX9TyMYOVzblrRjG1zaHQb8e+c4",
   "mount_file_id": "1KySGcX75YY0KaK7ZZm-v0YQz0guupiw5",
   "name": "ensembling.ipynb",
   "provenance": []
  },
  "kernelspec": {
   "display_name": "sumanEnv",
   "language": "python",
   "name": "sumanenv"
  },
  "language_info": {
   "codemirror_mode": {
    "name": "ipython",
    "version": 3
   },
   "file_extension": ".py",
   "mimetype": "text/x-python",
   "name": "python",
   "nbconvert_exporter": "python",
   "pygments_lexer": "ipython3",
   "version": "3.8.5"
  }
 },
 "nbformat": 4,
 "nbformat_minor": 1
}
