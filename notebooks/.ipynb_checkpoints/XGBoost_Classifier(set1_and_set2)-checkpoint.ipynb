{
 "cells": [
  {
   "cell_type": "markdown",
   "metadata": {
    "colab_type": "text",
    "id": "o1Ivby3-2A_6"
   },
   "source": [
    "Installing XGboost Library, Skip if already installed."
   ]
  },
  {
   "cell_type": "code",
   "execution_count": null,
   "metadata": {
    "colab": {
     "base_uri": "https://localhost:8080/",
     "height": 68
    },
    "colab_type": "code",
    "id": "uhbmYG7LAETE",
    "outputId": "0633febd-c37a-40c8-e96c-0e85170d2482"
   },
   "outputs": [
    {
     "name": "stdout",
     "output_type": "stream",
     "text": [
      "Requirement already satisfied: xgboost in /usr/local/lib/python3.6/dist-packages (0.90)\n",
      "Requirement already satisfied: numpy in /usr/local/lib/python3.6/dist-packages (from xgboost) (1.18.5)\n",
      "Requirement already satisfied: scipy in /usr/local/lib/python3.6/dist-packages (from xgboost) (1.4.1)\n"
     ]
    }
   ],
   "source": [
    "!pip install xgboost"
   ]
  },
  {
   "cell_type": "markdown",
   "metadata": {
    "colab_type": "text",
    "id": "JqChZj-62K_4"
   },
   "source": [
    "Clonning of the source repo to get the required data."
   ]
  },
  {
   "cell_type": "code",
   "execution_count": null,
   "metadata": {
    "colab": {
     "base_uri": "https://localhost:8080/",
     "height": 119
    },
    "colab_type": "code",
    "id": "KReYpr_XEnnV",
    "outputId": "b1dfc556-66d0-41fb-c42a-cebb8e47e313"
   },
   "outputs": [
    {
     "name": "stdout",
     "output_type": "stream",
     "text": [
      "Cloning into 'EMG_Signal_Classification'...\n",
      "remote: Enumerating objects: 57, done.\u001b[K\n",
      "remote: Counting objects: 100% (57/57), done.\u001b[K\n",
      "remote: Compressing objects: 100% (46/46), done.\u001b[K\n",
      "remote: Total 57 (delta 14), reused 54 (delta 11), pack-reused 0\u001b[K\n",
      "Unpacking objects: 100% (57/57), done.\n"
     ]
    }
   ],
   "source": [
    "!git clone https://github.com/sumansamui/EMG_Signal_Classification"
   ]
  },
  {
   "cell_type": "markdown",
   "metadata": {
    "colab_type": "text",
    "id": "jzsxh04z2UH-"
   },
   "source": [
    "Importing required packages"
   ]
  },
  {
   "cell_type": "code",
   "execution_count": null,
   "metadata": {
    "colab": {},
    "colab_type": "code",
    "id": "Qe2kNsL8EpuR"
   },
   "outputs": [],
   "source": [
    "import pandas as pd\n",
    "import numpy as np\n",
    "from sklearn import linear_model\n",
    "from sklearn.svm import SVC\n",
    "from sklearn.linear_model import LogisticRegression\n",
    "from sklearn.tree import DecisionTreeClassifier\n",
    "from sklearn.neighbors import KNeighborsClassifier\n",
    "from sklearn.ensemble import RandomForestClassifier\n",
    "from sklearn.metrics import accuracy_score,recall_score,precision_score,f1_score\n",
    "from sklearn.metrics import confusion_matrix\n",
    "from sklearn.model_selection import GridSearchCV\n",
    "from sklearn.preprocessing import StandardScaler"
   ]
  },
  {
   "cell_type": "code",
   "execution_count": null,
   "metadata": {
    "colab": {},
    "colab_type": "code",
    "id": "ypfroU09Ay9Z"
   },
   "outputs": [],
   "source": [
    "import xgboost as xgb\n"
   ]
  },
  {
   "cell_type": "markdown",
   "metadata": {
    "colab_type": "text",
    "id": "GNVjLDtt2ZEo"
   },
   "source": [
    "Loading all the train and test data."
   ]
  },
  {
   "cell_type": "code",
   "execution_count": null,
   "metadata": {
    "colab": {},
    "colab_type": "code",
    "id": "9l6pMp3EErqt"
   },
   "outputs": [],
   "source": [
    "scaler = StandardScaler() #Scaler object\n",
    "#Load and scale trainig data.\n",
    "X_train=scaler.fit_transform(np.load(\"/content/EMG_Signal_Classification/data/train/X_train.npy\")) \n",
    "y_train=np.load(\"/content/EMG_Signal_Classification/data/train/Y_train.npy\")\n",
    "\n",
    "#Load and scale test data(set1).\n",
    "X_test1=scaler.fit_transform(np.load('/content/EMG_Signal_Classification/data/test/set1/X_test.npy'))\n",
    "y_test1=np.load('/content/EMG_Signal_Classification/data/test/set1/Y_test.npy')\n",
    "\n",
    "#Load and scale test data(set2).\n",
    "X_test2=scaler.fit_transform(np.load('/content/EMG_Signal_Classification/data/test/set2/X_test2.npy'))\n",
    "y_test2=np.load('/content/EMG_Signal_Classification/data/test/set2/Y_test2.npy')\n"
   ]
  },
  {
   "cell_type": "markdown",
   "metadata": {
    "colab_type": "text",
    "id": "hFDRbP__3yz8"
   },
   "source": [
    "Initialising Xgboost classifier with default parameters."
   ]
  },
  {
   "cell_type": "code",
   "execution_count": null,
   "metadata": {
    "colab": {
     "base_uri": "https://localhost:8080/",
     "height": 136
    },
    "colab_type": "code",
    "id": "m5cuQ7BJgJlz",
    "outputId": "5f527f4b-825f-420b-b88a-43898514af90"
   },
   "outputs": [
    {
     "data": {
      "text/plain": [
       "XGBClassifier(base_score=0.5, booster='gbtree', colsample_bylevel=1,\n",
       "              colsample_bynode=1, colsample_bytree=1, gamma=0,\n",
       "              learning_rate=0.3, max_delta_step=0, max_depth=5,\n",
       "              min_child_weight=1, missing=None, n_estimators=300, n_jobs=1,\n",
       "              nthread=None, objective='multi:softprob', random_state=0,\n",
       "              reg_alpha=0, reg_lambda=1, scale_pos_weight=1, seed=None,\n",
       "              silent=None, subsample=1, verbosity=1)"
      ]
     },
     "execution_count": 6,
     "metadata": {
      "tags": []
     },
     "output_type": "execute_result"
    }
   ],
   "source": [
    "from xgboost import XGBClassifier\n",
    "model = XGBClassifier(learning_rate = 0.3, n_estimators=300, max_depth=5)\n",
    "model.fit(X_train, y_train)"
   ]
  },
  {
   "cell_type": "markdown",
   "metadata": {
    "colab_type": "text",
    "id": "qSKisDYR4D6G"
   },
   "source": [
    "Checking Initial accuracy on test set1.\n"
   ]
  },
  {
   "cell_type": "code",
   "execution_count": null,
   "metadata": {
    "colab": {
     "base_uri": "https://localhost:8080/",
     "height": 70
    },
    "colab_type": "code",
    "id": "zBw9YEanGtg6",
    "outputId": "7809c86e-d016-41c9-9bf2-1fbb3df3b7ad"
   },
   "outputs": [
    {
     "name": "stdout",
     "output_type": "stream",
     "text": [
      "Precision = 0.9389449632778935\n",
      "Recall = 0.930802103879027\n",
      "Accuracy = 0.930802103879027\n"
     ]
    }
   ],
   "source": [
    "preds = xgb1.predict(X_test1)\n",
    "#best_preds = np.asarray([np.argmax(line) for line in preds])\n",
    "best_preds=predictions = [value for value in preds]\n",
    "print(\"Precision = {}\".format(precision_score(y_test1, best_preds, average='macro')))\n",
    "print(\"Recall = {}\".format(recall_score(y_test1, best_preds, average='macro')))\n",
    "print(\"Accuracy = {}\".format(accuracy_score(y_test1, best_preds)))"
   ]
  },
  {
   "cell_type": "markdown",
   "metadata": {
    "colab_type": "text",
    "id": "RUn1uM8j4KPh"
   },
   "source": [
    "cheking Initial accuracy on test set2."
   ]
  },
  {
   "cell_type": "code",
   "execution_count": null,
   "metadata": {
    "colab": {
     "base_uri": "https://localhost:8080/",
     "height": 70
    },
    "colab_type": "code",
    "id": "-wsAD2elGsrR",
    "outputId": "23236a97-2cfc-4e0f-8af4-2f4a49ad467f"
   },
   "outputs": [
    {
     "name": "stdout",
     "output_type": "stream",
     "text": [
      "Precision = 0.9712654353220718\n",
      "Recall = 0.9694457058662119\n",
      "Accuracy = 0.9693181818181819\n"
     ]
    }
   ],
   "source": [
    "preds = xgb1.predict(X_test2)\n",
    "#best_preds = np.asarray([np.argmax(line) for line in preds])\n",
    "best_preds=predictions = [value for value in preds]\n",
    "print(\"Precision = {}\".format(precision_score(y_test2, best_preds, average='macro')))\n",
    "print(\"Recall = {}\".format(recall_score(y_test2, best_preds, average='macro')))\n",
    "print(\"Accuracy = {}\".format(accuracy_score(y_test2, best_preds)))"
   ]
  },
  {
   "cell_type": "code",
   "execution_count": null,
   "metadata": {
    "colab": {},
    "colab_type": "code",
    "id": "HZpyW7Ed1v7A"
   },
   "outputs": [],
   "source": [
    "from xgboost import XGBClassifier\n",
    "import pandas as pd\n",
    "import matplotlib.pyplot as plt\n"
   ]
  },
  {
   "cell_type": "markdown",
   "metadata": {
    "colab_type": "text",
    "id": "3Q-Yz3iz4TIp"
   },
   "source": [
    "Initialising a An XGB classifier for parameter tunning."
   ]
  },
  {
   "cell_type": "code",
   "execution_count": null,
   "metadata": {
    "colab": {},
    "colab_type": "code",
    "id": "meIvlb1m1AsU"
   },
   "outputs": [],
   "source": [
    "xgb1 = XGBClassifier(\n",
    " learning_rate =0.3,\n",
    " n_estimators=300,\n",
    " max_depth=5,\n",
    " min_child_weight=1,\n",
    " gamma=0,\n",
    " subsample=0.8,\n",
    " colsample_bytree=0.8,\n",
    " objective= 'binary:logistic',\n",
    " nthread=4,\n",
    " scale_pos_weight=1,\n",
    " seed=27)\n"
   ]
  },
  {
   "cell_type": "markdown",
   "metadata": {
    "colab_type": "text",
    "id": "DYujU1Yi5rPS"
   },
   "source": [
    "# 1. Tunning tree specific parameters.\n"
   ]
  },
  {
   "cell_type": "markdown",
   "metadata": {
    "colab_type": "text",
    "id": "gXTFAyYz6BgW"
   },
   "source": [
    "\n",
    "\n",
    "> a)Tunnig max_depth and max_child_weight.\n",
    "\n"
   ]
  },
  {
   "cell_type": "code",
   "execution_count": null,
   "metadata": {
    "colab": {
     "base_uri": "https://localhost:8080/",
     "height": 212
    },
    "colab_type": "code",
    "id": "eQrR5-PL079J",
    "outputId": "c8c38ab0-1f0f-463c-e8bf-b4509521becf"
   },
   "outputs": [
    {
     "name": "stdout",
     "output_type": "stream",
     "text": [
      "Fitting 5 folds for each of 6 candidates, totalling 30 fits\n"
     ]
    },
    {
     "name": "stderr",
     "output_type": "stream",
     "text": [
      "[Parallel(n_jobs=-1)]: Using backend LokyBackend with 2 concurrent workers.\n",
      "[Parallel(n_jobs=-1)]: Done   1 tasks      | elapsed:  1.2min\n",
      "[Parallel(n_jobs=-1)]: Done   4 tasks      | elapsed:  2.4min\n",
      "[Parallel(n_jobs=-1)]: Done   9 tasks      | elapsed:  5.8min\n",
      "[Parallel(n_jobs=-1)]: Done  14 tasks      | elapsed:  8.0min\n",
      "[Parallel(n_jobs=-1)]: Done  21 tasks      | elapsed: 13.2min\n",
      "[Parallel(n_jobs=-1)]: Done  30 out of  30 | elapsed: 18.6min finished\n"
     ]
    },
    {
     "name": "stdout",
     "output_type": "stream",
     "text": [
      "best_params: {'max_depth': 3, 'min_child_weight': 1}\n",
      "Accuracy Score bst : 0.9292406311637081\n",
      "f1 Score bst : 0.9274994583863339\n"
     ]
    }
   ],
   "source": [
    "\n",
    "params = {\n",
    " 'max_depth':range(1,4,2),\n",
    " 'min_child_weight':range(1,6,2)}\n",
    "grid_search = GridSearchCV(xgb1, param_grid=params, return_train_score=True,scoring = 'f1_weighted',cv=5,verbose=10,n_jobs=-1)\n",
    "\n",
    "grid_search.fit(X_train, y_train)\n",
    "\n",
    "print(\"best_params:\",grid_search.best_params_)#print of best hyperparameters\n",
    "\n",
    "y_pred_acc = grid_search.predict(X_test1)\n",
    "print('Accuracy Score bst : ' + str(accuracy_score(y_test1,y_pred_acc)))#print of best tuned accuracy\n",
    "print('f1 Score bst : ' + str(f1_score(y_test1,y_pred_acc,average='weighted')))"
   ]
  },
  {
   "cell_type": "markdown",
   "metadata": {
    "colab_type": "text",
    "id": "4FocBMPk6exC"
   },
   "source": [
    "\n",
    "\n",
    "> b)Tunning gamma\n",
    "\n"
   ]
  },
  {
   "cell_type": "code",
   "execution_count": null,
   "metadata": {
    "colab": {
     "base_uri": "https://localhost:8080/",
     "height": 230
    },
    "colab_type": "code",
    "id": "VBuEXXToMx-w",
    "outputId": "dee300b2-fcfa-4e8a-9d4a-a85dc3cbc43d"
   },
   "outputs": [
    {
     "name": "stdout",
     "output_type": "stream",
     "text": [
      "Fitting 5 folds for each of 5 candidates, totalling 25 fits\n"
     ]
    },
    {
     "name": "stderr",
     "output_type": "stream",
     "text": [
      "[Parallel(n_jobs=-1)]: Using backend LokyBackend with 2 concurrent workers.\n",
      "[Parallel(n_jobs=-1)]: Done   1 tasks      | elapsed:  1.5min\n",
      "[Parallel(n_jobs=-1)]: Done   4 tasks      | elapsed:  3.0min\n",
      "[Parallel(n_jobs=-1)]: Done   9 tasks      | elapsed:  8.3min\n",
      "[Parallel(n_jobs=-1)]: Done  14 tasks      | elapsed: 13.2min\n",
      "[Parallel(n_jobs=-1)]: Done  21 tasks      | elapsed: 22.1min\n",
      "[Parallel(n_jobs=-1)]: Done  25 out of  25 | elapsed: 26.2min remaining:    0.0s\n",
      "[Parallel(n_jobs=-1)]: Done  25 out of  25 | elapsed: 26.2min finished\n"
     ]
    },
    {
     "name": "stdout",
     "output_type": "stream",
     "text": [
      "best_params: {'gamma': 0.0}\n",
      "Accuracy Score bst : 0.9292406311637081\n",
      "f1 Score bst : 0.9274994583863339\n"
     ]
    }
   ],
   "source": [
    "xgb1 = XGBClassifier(\n",
    " learning_rate =0.3,\n",
    " n_estimators=300,\n",
    " max_depth=3,\n",
    " min_child_weight=1,\n",
    " gamma=0,\n",
    " subsample=0.8,\n",
    " colsample_bytree=0.8,\n",
    " objective= 'binary:logistic',\n",
    " nthread=4,\n",
    " scale_pos_weight=1,\n",
    " seed=27)\n",
    "\n",
    "params = {'gamma':[i/10.0 for i in range(0,5)]}\n",
    "grid_search = GridSearchCV(xgb1, param_grid=params, return_train_score=True,scoring = 'f1_weighted',cv=5,verbose=10,n_jobs=-1)\n",
    "\n",
    "grid_search.fit(X_train, y_train)\n",
    "\n",
    "print(\"best_params:\",grid_search.best_params_)#print of best hyperparameters\n",
    "\n",
    "y_pred_acc = grid_search.predict(X_test1)\n",
    "print('Accuracy Score bst : ' + str(accuracy_score(y_test1,y_pred_acc)))#print of best tuned accuracy\n",
    "print('f1 Score bst : ' + str(f1_score(y_test1,y_pred_acc,average='weighted')))"
   ]
  },
  {
   "cell_type": "markdown",
   "metadata": {
    "colab_type": "text",
    "id": "uXLtlY_j6liv"
   },
   "source": [
    "\n",
    "\n",
    "> c) Tunning subsample and colsample_bytree\n",
    "\n"
   ]
  },
  {
   "cell_type": "code",
   "execution_count": null,
   "metadata": {
    "colab": {
     "base_uri": "https://localhost:8080/",
     "height": 247
    },
    "colab_type": "code",
    "id": "szKpk42BUgI6",
    "outputId": "8c1baa01-7cd0-4d9d-b21f-c08d16689e08"
   },
   "outputs": [
    {
     "name": "stdout",
     "output_type": "stream",
     "text": [
      "Fitting 5 folds for each of 9 candidates, totalling 45 fits\n"
     ]
    },
    {
     "name": "stderr",
     "output_type": "stream",
     "text": [
      "[Parallel(n_jobs=-1)]: Using backend LokyBackend with 2 concurrent workers.\n",
      "[Parallel(n_jobs=-1)]: Done   1 tasks      | elapsed:  1.4min\n",
      "[Parallel(n_jobs=-1)]: Done   4 tasks      | elapsed:  2.8min\n",
      "[Parallel(n_jobs=-1)]: Done   9 tasks      | elapsed:  7.1min\n",
      "[Parallel(n_jobs=-1)]: Done  14 tasks      | elapsed:  9.9min\n",
      "[Parallel(n_jobs=-1)]: Done  21 tasks      | elapsed: 15.7min\n",
      "[Parallel(n_jobs=-1)]: Done  28 tasks      | elapsed: 20.1min\n",
      "[Parallel(n_jobs=-1)]: Done  37 tasks      | elapsed: 27.6min\n",
      "[Parallel(n_jobs=-1)]: Done  45 out of  45 | elapsed: 33.0min finished\n"
     ]
    },
    {
     "name": "stdout",
     "output_type": "stream",
     "text": [
      "best_params: {'colsample_bytree': 0.8, 'subsample': 0.75}\n",
      "Accuracy Score bst : 0.930802103879027\n",
      "f1 Score bst : 0.9292490159985787\n"
     ]
    }
   ],
   "source": [
    "xgb1 = XGBClassifier(\n",
    " learning_rate =0.3,\n",
    " n_estimators=300,\n",
    " max_depth=3,\n",
    " min_child_weight=1,\n",
    " gamma=0,\n",
    " subsample=0.8,\n",
    " colsample_bytree=0.8,\n",
    " objective= 'binary:logistic',\n",
    " nthread=4,\n",
    " scale_pos_weight=1,\n",
    " seed=27)\n",
    "\n",
    "params = {'subsample':[i/100.0 for i in range(75,90,5)],\n",
    " 'colsample_bytree':[i/100.0 for i in range(75,90,5)]}\n",
    "grid_search = GridSearchCV(xgb1, param_grid=params, return_train_score=True,scoring = 'f1_weighted',cv=5,verbose=10,n_jobs=-1)\n",
    "\n",
    "grid_search.fit(X_train, y_train)\n",
    "\n",
    "print(\"best_params:\",grid_search.best_params_)#print of best hyperparameters\n",
    "\n",
    "y_pred_acc = grid_search.predict(X_test1)\n",
    "print('Accuracy Score bst : ' + str(accuracy_score(y_test1,y_pred_acc)))#print of best tuned accuracy\n",
    "print('f1 Score bst : ' + str(f1_score(y_test1,y_pred_acc,average='weighted')))"
   ]
  },
  {
   "cell_type": "markdown",
   "metadata": {
    "colab_type": "text",
    "id": "3Qx9JYBi6xJE"
   },
   "source": [
    "2.Tunning Regularization parameter.\n"
   ]
  },
  {
   "cell_type": "markdown",
   "metadata": {
    "colab_type": "text",
    "id": "NFBfceJZ7AKJ"
   },
   "source": [
    "\n",
    "> a)Tunning reg_alpha."
   ]
  },
  {
   "cell_type": "code",
   "execution_count": null,
   "metadata": {
    "colab": {
     "base_uri": "https://localhost:8080/",
     "height": 230
    },
    "colab_type": "code",
    "id": "BO_3C0eRdhsP",
    "outputId": "ef6c39ed-7402-44f2-f001-a0347d30b5d7"
   },
   "outputs": [
    {
     "name": "stdout",
     "output_type": "stream",
     "text": [
      "Fitting 5 folds for each of 5 candidates, totalling 25 fits\n"
     ]
    },
    {
     "name": "stderr",
     "output_type": "stream",
     "text": [
      "[Parallel(n_jobs=-1)]: Using backend LokyBackend with 2 concurrent workers.\n",
      "[Parallel(n_jobs=-1)]: Done   1 tasks      | elapsed:  1.5min\n",
      "[Parallel(n_jobs=-1)]: Done   4 tasks      | elapsed:  3.0min\n",
      "[Parallel(n_jobs=-1)]: Done   9 tasks      | elapsed:  7.3min\n",
      "[Parallel(n_jobs=-1)]: Done  14 tasks      | elapsed: 10.7min\n",
      "[Parallel(n_jobs=-1)]: Done  21 tasks      | elapsed: 16.7min\n",
      "[Parallel(n_jobs=-1)]: Done  25 out of  25 | elapsed: 18.9min remaining:    0.0s\n",
      "[Parallel(n_jobs=-1)]: Done  25 out of  25 | elapsed: 18.9min finished\n"
     ]
    },
    {
     "name": "stdout",
     "output_type": "stream",
     "text": [
      "best_params: {'reg_alpha': 1e-05}\n",
      "Accuracy Score bst : 0.930802103879027\n",
      "f1 Score bst : 0.9292490159985787\n"
     ]
    }
   ],
   "source": [
    "xgb1 = XGBClassifier(\n",
    " learning_rate =0.3,\n",
    " n_estimators=300,\n",
    " max_depth=3,\n",
    " min_child_weight=1,\n",
    " gamma=0,\n",
    " subsample=0.75,\n",
    " colsample_bytree=0.8,\n",
    " objective= 'binary:logistic',\n",
    " nthread=4,\n",
    " scale_pos_weight=1,\n",
    " seed=27)\n",
    "\n",
    "params = {'reg_alpha':[1e-5, 1e-2, 0.1, 1, 100]}\n",
    "grid_search = GridSearchCV(xgb1, param_grid=params, return_train_score=True,scoring = 'f1_weighted',cv=5,verbose=10,n_jobs=-1)\n",
    "\n",
    "grid_search.fit(X_train, y_train)\n",
    "\n",
    "print(\"best_params:\",grid_search.best_params_)#print of best hyperparameters\n",
    "\n",
    "y_pred_acc = grid_search.predict(X_test1)\n",
    "print('Accuracy Score bst : ' + str(accuracy_score(y_test1,y_pred_acc)))#print of best tuned accuracy\n",
    "print('f1 Score bst : ' + str(f1_score(y_test1,y_pred_acc,average='weighted')))"
   ]
  },
  {
   "cell_type": "markdown",
   "metadata": {
    "colab_type": "text",
    "id": "4vyMu70476eL"
   },
   "source": [
    "\n",
    "\n",
    "> b) Tunning reg_alpha 2.\n",
    "\n",
    "\n",
    "\n"
   ]
  },
  {
   "cell_type": "code",
   "execution_count": null,
   "metadata": {
    "colab": {
     "base_uri": "https://localhost:8080/",
     "height": 212
    },
    "colab_type": "code",
    "id": "51BAwz-ho55r",
    "outputId": "e0b06e46-079a-478d-95d1-b4d544490ee5"
   },
   "outputs": [
    {
     "name": "stdout",
     "output_type": "stream",
     "text": [
      "Fitting 5 folds for each of 4 candidates, totalling 20 fits\n"
     ]
    },
    {
     "name": "stderr",
     "output_type": "stream",
     "text": [
      "[Parallel(n_jobs=-1)]: Using backend LokyBackend with 2 concurrent workers.\n",
      "[Parallel(n_jobs=-1)]: Done   1 tasks      | elapsed:  1.5min\n",
      "[Parallel(n_jobs=-1)]: Done   4 tasks      | elapsed:  2.9min\n",
      "[Parallel(n_jobs=-1)]: Done   9 tasks      | elapsed:  7.3min\n",
      "[Parallel(n_jobs=-1)]: Done  14 tasks      | elapsed: 10.3min\n",
      "[Parallel(n_jobs=-1)]: Done  20 out of  20 | elapsed: 14.6min remaining:    0.0s\n",
      "[Parallel(n_jobs=-1)]: Done  20 out of  20 | elapsed: 14.6min finished\n"
     ]
    },
    {
     "name": "stdout",
     "output_type": "stream",
     "text": [
      "best_params: {'reg_alpha': 1e-05}\n",
      "Accuracy Score bst : 0.930802103879027\n",
      "f1 Score bst : 0.9292490159985787\n"
     ]
    }
   ],
   "source": [
    "xgb1 = XGBClassifier(\n",
    " learning_rate =0.3,\n",
    " n_estimators=300,\n",
    " max_depth=3,\n",
    " min_child_weight=1,\n",
    " gamma=0,\n",
    " subsample=0.75,\n",
    " colsample_bytree=0.8,\n",
    " objective= 'binary:logistic',\n",
    " nthread=4,\n",
    " scale_pos_weight=1,\n",
    " seed=27)\n",
    "\n",
    "params = {'reg_alpha':[1e-5, 1e-2,1e-6, 1e-7]}\n",
    "grid_search = GridSearchCV(xgb1, param_grid=params, return_train_score=True,scoring = 'f1_weighted',cv=5,verbose=10,n_jobs=-1)\n",
    "\n",
    "grid_search.fit(X_train, y_train)\n",
    "\n",
    "print(\"best_params:\",grid_search.best_params_)#print of best hyperparameters\n",
    "\n",
    "y_pred_acc = grid_search.predict(X_test1)\n",
    "print('Accuracy Score bst : ' + str(accuracy_score(y_test1,y_pred_acc)))#print of best tuned accuracy\n",
    "print('f1 Score bst : ' + str(f1_score(y_test1,y_pred_acc,average='weighted')))"
   ]
  },
  {
   "cell_type": "markdown",
   "metadata": {
    "colab_type": "text",
    "id": "dyRaKqQA8Rd3"
   },
   "source": [
    "3.Tunning number of estimaters and learning rate.\n"
   ]
  },
  {
   "cell_type": "code",
   "execution_count": null,
   "metadata": {
    "colab": {
     "base_uri": "https://localhost:8080/",
     "height": 374
    },
    "colab_type": "code",
    "id": "iH_ISabC67Zq",
    "outputId": "768a9b94-a8ab-4ffb-91af-8317fcf84d5c"
   },
   "outputs": [
    {
     "name": "stdout",
     "output_type": "stream",
     "text": [
      "Fitting 5 folds for each of 30 candidates, totalling 150 fits\n"
     ]
    },
    {
     "name": "stderr",
     "output_type": "stream",
     "text": [
      "[Parallel(n_jobs=-1)]: Using backend LokyBackend with 2 concurrent workers.\n",
      "[Parallel(n_jobs=-1)]: Done   1 tasks      | elapsed:   46.4s\n",
      "[Parallel(n_jobs=-1)]: Done   4 tasks      | elapsed:  1.5min\n",
      "[Parallel(n_jobs=-1)]: Done   9 tasks      | elapsed:  6.5min\n",
      "[Parallel(n_jobs=-1)]: Done  14 tasks      | elapsed: 14.8min\n",
      "[Parallel(n_jobs=-1)]: Done  21 tasks      | elapsed: 43.3min\n",
      "[Parallel(n_jobs=-1)]: Done  28 tasks      | elapsed: 64.6min\n",
      "[Parallel(n_jobs=-1)]: Done  37 tasks      | elapsed: 77.3min\n",
      "[Parallel(n_jobs=-1)]: Done  46 tasks      | elapsed: 110.5min\n",
      "[Parallel(n_jobs=-1)]: Done  57 tasks      | elapsed: 137.6min\n",
      "[Parallel(n_jobs=-1)]: Done  68 tasks      | elapsed: 160.4min\n",
      "[Parallel(n_jobs=-1)]: Done  81 tasks      | elapsed: 203.3min\n",
      "[Parallel(n_jobs=-1)]: Done  94 tasks      | elapsed: 230.3min\n",
      "[Parallel(n_jobs=-1)]: Done 109 tasks      | elapsed: 274.0min\n",
      "[Parallel(n_jobs=-1)]: Done 124 tasks      | elapsed: 329.9min\n",
      "[Parallel(n_jobs=-1)]: Done 141 tasks      | elapsed: 355.5min\n",
      "[Parallel(n_jobs=-1)]: Done 150 out of 150 | elapsed: 402.6min finished\n"
     ]
    },
    {
     "name": "stdout",
     "output_type": "stream",
     "text": [
      "best_params: {'learning_rate ': 0.1, 'n_estimators': 500}\n",
      "Accuracy Score bst : 0.9317882971729126\n",
      "f1 Score bst : 0.9302862164711785\n"
     ]
    }
   ],
   "source": [
    "xgb1 = XGBClassifier(\n",
    " learning_rate =0.3,\n",
    " n_estimators=300,\n",
    " max_depth=3,\n",
    " min_child_weight=1,\n",
    " gamma=0,\n",
    " subsample=0.75,\n",
    " colsample_bytree=0.8,\n",
    " objective= 'binary:logistic',\n",
    " nthread=4,\n",
    " scale_pos_weight=1,\n",
    " seed=27,\n",
    " reg_alpha=1e-5)\n",
    "\n",
    "params = {'n_estimators':[100,500,1000,2000,5000],\n",
    "          'learning_rate ':[0.1,0,3,0.5,0.01,0.001]}\n",
    "grid_search = GridSearchCV(xgb1, param_grid=params, return_train_score=True,scoring = 'f1_weighted',cv=5,verbose=10,n_jobs=-1)\n",
    "\n",
    "grid_search.fit(X_train, y_train)\n",
    "\n",
    "print(\"best_params:\",grid_search.best_params_)#print of best hyperparameters\n",
    "\n",
    "y_pred_acc = grid_search.predict(X_test1)\n",
    "print('Accuracy Score bst : ' + str(accuracy_score(y_test1,y_pred_acc)))#print of best tuned accuracy\n",
    "print('f1 Score bst : ' + str(f1_score(y_test1,y_pred_acc,average='weighted')))"
   ]
  },
  {
   "cell_type": "markdown",
   "metadata": {
    "colab_type": "text",
    "id": "GJYxoCGW8b7D"
   },
   "source": [
    "4.Tunning Objective function."
   ]
  },
  {
   "cell_type": "code",
   "execution_count": null,
   "metadata": {
    "colab": {
     "base_uri": "https://localhost:8080/",
     "height": 204
    },
    "colab_type": "code",
    "id": "qSc0mlp3Ooni",
    "outputId": "9740a3ca-49b0-42fb-9bae-3f766c9e3a37"
   },
   "outputs": [
    {
     "name": "stdout",
     "output_type": "stream",
     "text": [
      "Fitting 5 folds for each of 4 candidates, totalling 20 fits\n"
     ]
    },
    {
     "name": "stderr",
     "output_type": "stream",
     "text": [
      "[Parallel(n_jobs=-1)]: Using backend LokyBackend with 2 concurrent workers.\n",
      "[Parallel(n_jobs=-1)]: Done   1 tasks      | elapsed:  3.1min\n",
      "[Parallel(n_jobs=-1)]: Done   4 tasks      | elapsed:  6.3min\n",
      "[Parallel(n_jobs=-1)]: Done   9 tasks      | elapsed: 15.5min\n",
      "[Parallel(n_jobs=-1)]: Done  14 tasks      | elapsed: 21.8min\n",
      "[Parallel(n_jobs=-1)]: Done  20 out of  20 | elapsed: 31.0min remaining:    0.0s\n",
      "[Parallel(n_jobs=-1)]: Done  20 out of  20 | elapsed: 31.0min finished\n"
     ]
    },
    {
     "name": "stdout",
     "output_type": "stream",
     "text": [
      "best_params: {'objective': 'binary:logistic'}\n",
      "Accuracy Score bst : 0.9245562130177515\n",
      "f1 Score bst : 0.9224186488305863\n"
     ]
    }
   ],
   "source": [
    "xgb1 = XGBClassifier(\n",
    " learning_rate =0.1,\n",
    " n_estimators=500,\n",
    " max_depth=3,\n",
    " min_child_weight=1,\n",
    " gamma=0,\n",
    " subsample=0.75,\n",
    " colsample_bytree=0.8,\n",
    " objective= 'binary:logistic',\n",
    " nthread=4,\n",
    " scale_pos_weight=1,\n",
    " seed=27,\n",
    " reg_alpha=1e-5)\n",
    "\n",
    "params = {'objective':['binary:logistic','multi:softprob','multi:softmax','binary:logitraw']}\n",
    "grid_search = GridSearchCV(xgb1, param_grid=params, return_train_score=True,scoring = 'f1_weighted',cv=5,verbose=10,n_jobs=-1)\n",
    "\n",
    "grid_search.fit(X_train, y_train)\n",
    "\n",
    "print(\"best_params:\",grid_search.best_params_)#print of best hyperparameters\n",
    "\n",
    "y_pred_acc = grid_search.predict(X_test1)\n",
    "print('Accuracy Score bst : ' + str(accuracy_score(y_test1,y_pred_acc)))#print of best tuned accuracy\n",
    "print('f1 Score bst : ' + str(f1_score(y_test1,y_pred_acc,average='weighted')))"
   ]
  },
  {
   "cell_type": "markdown",
   "metadata": {
    "colab_type": "text",
    "id": "MvTEkffi8j4v"
   },
   "source": [
    "Setting the the tuned parameters and initialising XGB classifier."
   ]
  },
  {
   "cell_type": "code",
   "execution_count": null,
   "metadata": {
    "colab": {
     "base_uri": "https://localhost:8080/",
     "height": 136
    },
    "colab_type": "code",
    "id": "2zOw4IecUMtX",
    "outputId": "2ce78e85-f70b-44dc-ad51-fd7663f08c71"
   },
   "outputs": [
    {
     "data": {
      "text/plain": [
       "XGBClassifier(base_score=0.5, booster='gbtree', colsample_bylevel=1,\n",
       "              colsample_bynode=1, colsample_bytree=0.8, gamma=0,\n",
       "              learning_rate=0.3, max_delta_step=0, max_depth=3,\n",
       "              min_child_weight=1, missing=None, n_estimators=810, n_jobs=1,\n",
       "              nthread=4, objective='multi:softprob', random_state=0,\n",
       "              reg_alpha=1e-05, reg_lambda=1, scale_pos_weight=1, seed=27,\n",
       "              silent=None, subsample=0.75, verbosity=1)"
      ]
     },
     "execution_count": 7,
     "metadata": {
      "tags": []
     },
     "output_type": "execute_result"
    }
   ],
   "source": [
    "xgb1 = XGBClassifier(\n",
    " learning_rate =0.3,\n",
    " n_estimators=810,\n",
    " max_depth=3,\n",
    " min_child_weight=1,\n",
    " gamma=0,\n",
    " subsample=0.75,\n",
    " colsample_bytree=0.8,\n",
    " objective= 'binary:logistic',\n",
    " nthread=4,\n",
    " scale_pos_weight=1,\n",
    " seed=27,\n",
    " reg_alpha=1e-5)\n",
    "xgb1.fit(X_train, y_train)"
   ]
  },
  {
   "cell_type": "markdown",
   "metadata": {
    "colab_type": "text",
    "id": "S4QSYIPY8wqS"
   },
   "source": [
    "# Evaluation of  TEST SET 1."
   ]
  },
  {
   "cell_type": "markdown",
   "metadata": {
    "colab_type": "text",
    "id": "qTTlTTvSAQTe"
   },
   "source": [
    "Installing skplot ,skip if already installed."
   ]
  },
  {
   "cell_type": "code",
   "execution_count": null,
   "metadata": {
    "colab": {
     "base_uri": "https://localhost:8080/",
     "height": 275
    },
    "colab_type": "code",
    "id": "7QXo4NXtrlPF",
    "outputId": "31f7ec22-9a6a-45b0-9f1a-0159a730cdad"
   },
   "outputs": [
    {
     "name": "stdout",
     "output_type": "stream",
     "text": [
      "Collecting scikit-plot\n",
      "  Downloading https://files.pythonhosted.org/packages/7c/47/32520e259340c140a4ad27c1b97050dd3254fdc517b1d59974d47037510e/scikit_plot-0.3.7-py3-none-any.whl\n",
      "Requirement already satisfied: matplotlib>=1.4.0 in /usr/local/lib/python3.6/dist-packages (from scikit-plot) (3.2.2)\n",
      "Requirement already satisfied: joblib>=0.10 in /usr/local/lib/python3.6/dist-packages (from scikit-plot) (0.16.0)\n",
      "Requirement already satisfied: scipy>=0.9 in /usr/local/lib/python3.6/dist-packages (from scikit-plot) (1.4.1)\n",
      "Requirement already satisfied: scikit-learn>=0.18 in /usr/local/lib/python3.6/dist-packages (from scikit-plot) (0.22.2.post1)\n",
      "Requirement already satisfied: cycler>=0.10 in /usr/local/lib/python3.6/dist-packages (from matplotlib>=1.4.0->scikit-plot) (0.10.0)\n",
      "Requirement already satisfied: numpy>=1.11 in /usr/local/lib/python3.6/dist-packages (from matplotlib>=1.4.0->scikit-plot) (1.18.5)\n",
      "Requirement already satisfied: kiwisolver>=1.0.1 in /usr/local/lib/python3.6/dist-packages (from matplotlib>=1.4.0->scikit-plot) (1.2.0)\n",
      "Requirement already satisfied: python-dateutil>=2.1 in /usr/local/lib/python3.6/dist-packages (from matplotlib>=1.4.0->scikit-plot) (2.8.1)\n",
      "Requirement already satisfied: pyparsing!=2.0.4,!=2.1.2,!=2.1.6,>=2.0.1 in /usr/local/lib/python3.6/dist-packages (from matplotlib>=1.4.0->scikit-plot) (2.4.7)\n",
      "Requirement already satisfied: six in /usr/local/lib/python3.6/dist-packages (from cycler>=0.10->matplotlib>=1.4.0->scikit-plot) (1.15.0)\n",
      "Installing collected packages: scikit-plot\n",
      "Successfully installed scikit-plot-0.3.7\n"
     ]
    }
   ],
   "source": [
    "!pip install scikit-plot"
   ]
  },
  {
   "cell_type": "markdown",
   "metadata": {
    "colab_type": "text",
    "id": "BtvocmlNAjX8"
   },
   "source": [
    "getting probabilities and  prediction "
   ]
  },
  {
   "cell_type": "code",
   "execution_count": null,
   "metadata": {
    "colab": {},
    "colab_type": "code",
    "id": "usSD-4cpsg9G"
   },
   "outputs": [],
   "source": [
    "y_true =y_test1 # ground truth labels\n",
    "y_probas = xgb1.predict_proba(X_test1)\n",
    "y_pred = xgb1.predict(X_test1)"
   ]
  },
  {
   "cell_type": "markdown",
   "metadata": {
    "colab_type": "text",
    "id": "8QyG47Es_pzp"
   },
   "source": [
    "\n",
    "\n",
    "> a)accuracy\n",
    "\n"
   ]
  },
  {
   "cell_type": "code",
   "execution_count": null,
   "metadata": {
    "colab": {
     "base_uri": "https://localhost:8080/",
     "height": 85
    },
    "colab_type": "code",
    "id": "vP-DprnWgKEK",
    "outputId": "71596b61-c758-4f30-f493-b6a98a932955"
   },
   "outputs": [
    {
     "name": "stdout",
     "output_type": "stream",
     "text": [
      "Accuracy Score() : 0.9321170282708744\n",
      "Precision Score(micro) : 0.9321170282708744\n",
      "Recall Score(micro) : 0.9321170282708744\n",
      "F1 Score(micro) : 0.9321170282708744\n"
     ]
    }
   ],
   "source": [
    "\n",
    "print('Accuracy Score() : ' + str(accuracy_score(y_test1,y_pred)))#printing of Accuracy\n",
    "print('Precision Score(micro) : ' + str(precision_score(y_test1,y_pred,average='micro')))#printing of Precision \n",
    "print('Recall Score(micro) : ' + str(recall_score(y_test1,y_pred,average='micro')))#printing of recall\n",
    "print('F1 Score(micro) : ' + str(f1_score(y_test1,y_pred,average='micro')))#printing of F1"
   ]
  },
  {
   "cell_type": "markdown",
   "metadata": {
    "colab_type": "text",
    "id": "iPrfodO6_wvo"
   },
   "source": [
    "\n",
    "\n",
    "> b)precision"
   ]
  },
  {
   "cell_type": "code",
   "execution_count": null,
   "metadata": {
    "colab": {
     "base_uri": "https://localhost:8080/",
     "height": 68
    },
    "colab_type": "code",
    "id": "X5PV_qgymvdm",
    "outputId": "1d60ca8e-5feb-4654-b6a1-dd6680cd2768"
   },
   "outputs": [
    {
     "name": "stdout",
     "output_type": "stream",
     "text": [
      "Precision Score(micro) : 0.9321170282708744\n",
      "Precision Score(macro) : 0.9396627683811283\n",
      "Precision Score(weighted) : 0.9396627683811282\n"
     ]
    }
   ],
   "source": [
    "\n",
    "print('Precision Score(micro) : ' + str(precision_score(y_test1,y_pred,average='micro')))\n",
    "print('Precision Score(macro) : ' + str(precision_score(y_test1,y_pred,average='macro')))\n",
    "print('Precision Score(weighted) : ' + str(precision_score(y_test1,y_pred,average='weighted')))"
   ]
  },
  {
   "cell_type": "markdown",
   "metadata": {
    "colab_type": "text",
    "id": "zxixkaG0Azc9"
   },
   "source": [
    "\n",
    "\n",
    "> c) recall\n",
    "\n"
   ]
  },
  {
   "cell_type": "code",
   "execution_count": null,
   "metadata": {
    "colab": {
     "base_uri": "https://localhost:8080/",
     "height": 68
    },
    "colab_type": "code",
    "id": "KmGX5CI_nax-",
    "outputId": "36ff3c53-91c8-4297-a6b8-9a9c87e2169d"
   },
   "outputs": [
    {
     "name": "stdout",
     "output_type": "stream",
     "text": [
      "Recall Score(micro) : 0.9321170282708744\n",
      "Recall Score(macro) : 0.9321170282708744\n",
      "Recall Score(weighted) : 0.9321170282708744\n"
     ]
    }
   ],
   "source": [
    "\n",
    "print('Recall Score(micro) : ' + str(recall_score(y_test1,y_pred,average='micro')))\n",
    "print('Recall Score(macro) : ' + str(recall_score(y_test1,y_pred,average='macro')))\n",
    "print('Recall Score(weighted) : ' + str(recall_score(y_test1,y_pred,average='weighted')))"
   ]
  },
  {
   "cell_type": "markdown",
   "metadata": {
    "colab_type": "text",
    "id": "6LQHpLyNA5Qn"
   },
   "source": [
    "\n",
    "\n",
    "> d) F1 Score\n",
    "\n"
   ]
  },
  {
   "cell_type": "code",
   "execution_count": null,
   "metadata": {
    "colab": {
     "base_uri": "https://localhost:8080/",
     "height": 68
    },
    "colab_type": "code",
    "id": "suVnu6sgn7m-",
    "outputId": "2b718918-76f1-409a-824c-62f70b97dabe"
   },
   "outputs": [
    {
     "name": "stdout",
     "output_type": "stream",
     "text": [
      "F1 Score(micro) : 0.9321170282708744\n",
      "F1 Score(macro) : 0.9306183778081133\n",
      "F1 Score(weighted) : 0.9306183778081133\n"
     ]
    }
   ],
   "source": [
    "\n",
    "print('F1 Score(micro) : ' + str(f1_score(y_test1,y_pred,average='micro')))\n",
    "print('F1 Score(macro) : ' + str(f1_score(y_test1,y_pred,average='macro')))\n",
    "print('F1 Score(weighted) : ' + str(f1_score(y_test1,y_pred,average='weighted')))"
   ]
  },
  {
   "cell_type": "markdown",
   "metadata": {
    "colab_type": "text",
    "id": "0Dwf5BIcA89g"
   },
   "source": [
    "\n",
    "\n",
    "> e) Classifiction report\n",
    "\n"
   ]
  },
  {
   "cell_type": "code",
   "execution_count": null,
   "metadata": {
    "colab": {
     "base_uri": "https://localhost:8080/",
     "height": 272
    },
    "colab_type": "code",
    "id": "t6TkRXnqodrX",
    "outputId": "f1099d15-f3f6-4d4c-df81-041b67713fb0"
   },
   "outputs": [
    {
     "name": "stdout",
     "output_type": "stream",
     "text": [
      "              precision    recall  f1-score   support\n",
      "\n",
      "     class 1       0.91      1.00      0.95      1521\n",
      "     class 2       0.99      1.00      1.00      1521\n",
      "     class 3       0.99      1.00      0.99      1521\n",
      "     class 4       0.99      0.72      0.83      1521\n",
      "     class 5       1.00      0.99      1.00      1521\n",
      "     class 6       0.76      0.99      0.86      1521\n",
      "     class 7       0.87      0.76      0.81      1521\n",
      "     class 8       1.00      1.00      1.00      1521\n",
      "\n",
      "    accuracy                           0.93     12168\n",
      "   macro avg       0.94      0.93      0.93     12168\n",
      "weighted avg       0.94      0.93      0.93     12168\n",
      "\n"
     ]
    }
   ],
   "source": [
    "from sklearn.metrics import classification_report\n",
    "target_names = ['class 1', 'class 2','class 3','class 4','class 5','class 6','class 7','class 8']\n",
    "print(classification_report(y_true, y_pred, target_names=target_names))"
   ]
  },
  {
   "cell_type": "markdown",
   "metadata": {
    "colab_type": "text",
    "id": "3JEORxilBD5H"
   },
   "source": [
    "\n",
    "\n",
    "> f)confusion_matrix\n",
    "\n"
   ]
  },
  {
   "cell_type": "code",
   "execution_count": null,
   "metadata": {
    "colab": {
     "base_uri": "https://localhost:8080/",
     "height": 296
    },
    "colab_type": "code",
    "id": "YjsMFVgpoq59",
    "outputId": "81479de3-a495-4743-dcf4-90543497ed6d"
   },
   "outputs": [
    {
     "data": {
      "text/plain": [
       "<sklearn.metrics._plot.confusion_matrix.ConfusionMatrixDisplay at 0x7f773445f828>"
      ]
     },
     "execution_count": 19,
     "metadata": {
      "tags": []
     },
     "output_type": "execute_result"
    },
    {
     "data": {
      "image/png": "[encoded data removed]",
      "text/plain": [
       "<Figure size 432x288 with 2 Axes>"
      ]
     },
     "metadata": {
      "needs_background": "light",
      "tags": []
     },
     "output_type": "display_data"
    }
   ],
   "source": [
    "from sklearn.metrics import plot_confusion_matrix\n",
    "plot_confusion_matrix(xgb1, X_test1, y_test1)"
   ]
  },
  {
   "cell_type": "markdown",
   "metadata": {
    "colab_type": "text",
    "id": "6ncxFNmEBa7M"
   },
   "source": [
    "\n",
    "\n",
    "> g) currectly classified samples\n"
   ]
  },
  {
   "cell_type": "code",
   "execution_count": null,
   "metadata": {
    "colab": {
     "base_uri": "https://localhost:8080/",
     "height": 34
    },
    "colab_type": "code",
    "id": "DYY16Fm_qTus",
    "outputId": "bf3580cb-ac14-4c6c-946e-32893e14888c"
   },
   "outputs": [
    {
     "name": "stdout",
     "output_type": "stream",
     "text": [
      "Number of correctly classified samples : 11342\n"
     ]
    }
   ],
   "source": [
    "print('Number of correctly classified samples : ' + str(accuracy_score(y_test1,y_pred, normalize=False)))"
   ]
  },
  {
   "cell_type": "markdown",
   "metadata": {
    "colab_type": "text",
    "id": "GQ_IiYHCBjeL"
   },
   "source": [
    "\n",
    "\n",
    "> h) Precision Vs Recall\n",
    "\n"
   ]
  },
  {
   "cell_type": "code",
   "execution_count": null,
   "metadata": {
    "colab": {
     "base_uri": "https://localhost:8080/",
     "height": 349
    },
    "colab_type": "code",
    "id": "5k518NYDpH1L",
    "outputId": "a11241d0-f3b5-4bfd-a2e8-8e7aaa5da42b"
   },
   "outputs": [
    {
     "name": "stderr",
     "output_type": "stream",
     "text": [
      "/usr/local/lib/python3.6/dist-packages/sklearn/utils/deprecation.py:87: FutureWarning: Function plot_precision_recall_curve is deprecated; This will be removed in v0.5.0. Please use scikitplot.metrics.plot_precision_recall instead.\n",
      "  warnings.warn(msg, category=FutureWarning)\n"
     ]
    },
    {
     "data": {
      "image/png": "[encoded data removed]",
      "text/plain": [
       "<Figure size 432x288 with 1 Axes>"
      ]
     },
     "metadata": {
      "needs_background": "light",
      "tags": []
     },
     "output_type": "display_data"
    }
   ],
   "source": [
    "import scikitplot as skplt\n",
    "import matplotlib.pyplot as plt\n",
    "y_true =y_test1\n",
    "y_probas = xgb1.predict_proba(X_test1)\n",
    "skplt.metrics.plot_precision_recall_curve(y_true, y_probas)\n",
    "plt.show()"
   ]
  },
  {
   "cell_type": "markdown",
   "metadata": {
    "colab_type": "text",
    "id": "_RMaVDPXBqJs"
   },
   "source": [
    "\n",
    "\n",
    "> i)ROC curve\n",
    "\n"
   ]
  },
  {
   "cell_type": "code",
   "execution_count": null,
   "metadata": {
    "colab": {
     "base_uri": "https://localhost:8080/",
     "height": 349
    },
    "colab_type": "code",
    "id": "hlIIL2gPo12I",
    "outputId": "33c1d355-5cc5-4817-f0b5-33051c8e9710"
   },
   "outputs": [
    {
     "name": "stderr",
     "output_type": "stream",
     "text": [
      "/usr/local/lib/python3.6/dist-packages/sklearn/utils/deprecation.py:87: FutureWarning: Function plot_roc_curve is deprecated; This will be removed in v0.5.0. Please use scikitplot.metrics.plot_roc instead.\n",
      "  warnings.warn(msg, category=FutureWarning)\n"
     ]
    },
    {
     "data": {
      "image/png": "[encoded data removed]",
      "text/plain": [
       "<Figure size 432x288 with 1 Axes>"
      ]
     },
     "metadata": {
      "needs_background": "light",
      "tags": []
     },
     "output_type": "display_data"
    }
   ],
   "source": [
    "import scikitplot as skplt\n",
    "import matplotlib.pyplot as plt\n",
    "y_true =y_test1\n",
    "y_probas = xgb1.predict_proba(X_test1)\n",
    "skplt.metrics.plot_roc_curve(y_true, y_probas)\n",
    "plt.show()"
   ]
  },
  {
   "cell_type": "markdown",
   "metadata": {
    "colab_type": "text",
    "id": "o2Udjkgc0v09"
   },
   "source": [
    "# Evaluation of test set 2"
   ]
  },
  {
   "cell_type": "markdown",
   "metadata": {
    "colab_type": "text",
    "id": "o9nRtkn02AuO"
   },
   "source": [
    "getting probabilities and  prediction "
   ]
  },
  {
   "cell_type": "code",
   "execution_count": null,
   "metadata": {
    "colab": {},
    "colab_type": "code",
    "id": "qHbvFQRb1HGI"
   },
   "outputs": [],
   "source": [
    "y_true =y_test2 # ground truth labels\n",
    "y_probas = xgb1.predict_proba(X_test2)\n",
    "y_pred = xgb1.predict(X_test2)"
   ]
  },
  {
   "cell_type": "markdown",
   "metadata": {
    "colab_type": "text",
    "id": "wg4LPxDt2Gw8"
   },
   "source": [
    "\n",
    "\n",
    "> a)accuracy\n",
    "\n"
   ]
  },
  {
   "cell_type": "code",
   "execution_count": null,
   "metadata": {
    "colab": {
     "base_uri": "https://localhost:8080/",
     "height": 85
    },
    "colab_type": "code",
    "id": "imvin9Av1Nb3",
    "outputId": "b8424896-c964-4e1b-b5c4-52672a746421"
   },
   "outputs": [
    {
     "name": "stdout",
     "output_type": "stream",
     "text": [
      "Accuracy Score() : 0.9694602272727273\n",
      "Precision Score(micro) : 0.9694602272727273\n",
      "Recall Score(micro) : 0.9694602272727273\n",
      "F1 Score(micro) : 0.9694602272727273\n"
     ]
    }
   ],
   "source": [
    "\n",
    "print('Accuracy Score() : ' + str(accuracy_score(y_test2,y_pred)))#printing of Accuracy\n",
    "print('Precision Score(micro) : ' + str(precision_score(y_test2,y_pred,average='micro')))#printing of Precision \n",
    "print('Recall Score(micro) : ' + str(recall_score(y_test2,y_pred,average='micro')))#printing of recall\n",
    "print('F1 Score(micro) : ' + str(f1_score(y_test2,y_pred,average='micro')))#printing of F1"
   ]
  },
  {
   "cell_type": "markdown",
   "metadata": {
    "colab_type": "text",
    "id": "JnZHv8b12Nq9"
   },
   "source": [
    "\n",
    "\n",
    "> b)precision"
   ]
  },
  {
   "cell_type": "code",
   "execution_count": null,
   "metadata": {
    "colab": {
     "base_uri": "https://localhost:8080/",
     "height": 68
    },
    "colab_type": "code",
    "id": "raLQ3dhF1RET",
    "outputId": "7cc09ff5-3ffb-4fe7-8fce-e2bf715907b8"
   },
   "outputs": [
    {
     "name": "stdout",
     "output_type": "stream",
     "text": [
      "Precision Score(micro) : 0.9694602272727273\n",
      "Precision Score(macro) : 0.9714175073123328\n",
      "Precision Score(weighted) : 0.9714926808058705\n"
     ]
    }
   ],
   "source": [
    "\n",
    "print('Precision Score(micro) : ' + str(precision_score(y_test2,y_pred,average='micro')))\n",
    "print('Precision Score(macro) : ' + str(precision_score(y_test2,y_pred,average='macro')))\n",
    "print('Precision Score(weighted) : ' + str(precision_score(y_test2,y_pred,average='weighted')))"
   ]
  },
  {
   "cell_type": "markdown",
   "metadata": {
    "colab_type": "text",
    "id": "7mVT1um92WkN"
   },
   "source": [
    "\n",
    "\n",
    "> c) recall\n",
    "\n"
   ]
  },
  {
   "cell_type": "code",
   "execution_count": null,
   "metadata": {
    "colab": {
     "base_uri": "https://localhost:8080/",
     "height": 68
    },
    "colab_type": "code",
    "id": "-02SLWh01YW2",
    "outputId": "3a583fd1-ad2f-4e78-fef1-3ac330d0aeaa"
   },
   "outputs": [
    {
     "name": "stdout",
     "output_type": "stream",
     "text": [
      "Recall Score(micro) : 0.9694602272727273\n",
      "Recall Score(macro) : 0.9695848752598104\n",
      "Recall Score(weighted) : 0.9694602272727273\n"
     ]
    }
   ],
   "source": [
    "\n",
    "print('Recall Score(micro) : ' + str(recall_score(y_test2,y_pred,average='micro')))\n",
    "print('Recall Score(macro) : ' + str(recall_score(y_test2,y_pred,average='macro')))\n",
    "print('Recall Score(weighted) : ' + str(recall_score(y_test2,y_pred,average='weighted')))"
   ]
  },
  {
   "cell_type": "markdown",
   "metadata": {
    "colab_type": "text",
    "id": "EMXuMium2sPz"
   },
   "source": [
    "\n",
    "\n",
    "> d) F1 Score\n",
    "\n"
   ]
  },
  {
   "cell_type": "code",
   "execution_count": null,
   "metadata": {
    "colab": {
     "base_uri": "https://localhost:8080/",
     "height": 68
    },
    "colab_type": "code",
    "id": "LpfN1Xds1cLC",
    "outputId": "39a4790d-7c28-422c-fd6d-e770bc957293"
   },
   "outputs": [
    {
     "name": "stdout",
     "output_type": "stream",
     "text": [
      "F1 Score(micro) : 0.9694602272727273\n",
      "F1 Score(macro) : 0.9693836842563746\n",
      "F1 Score(weighted) : 0.9693601829937822\n"
     ]
    }
   ],
   "source": [
    "\n",
    "print('F1 Score(micro) : ' + str(f1_score(y_test2,y_pred,average='micro')))\n",
    "print('F1 Score(macro) : ' + str(f1_score(y_test2,y_pred,average='macro')))\n",
    "print('F1 Score(weighted) : ' + str(f1_score(y_test2,y_pred,average='weighted')))"
   ]
  },
  {
   "cell_type": "markdown",
   "metadata": {
    "colab_type": "text",
    "id": "0LhBOL-G26Nk"
   },
   "source": [
    "\n",
    "\n",
    "> e) Classifiction report\n",
    "\n"
   ]
  },
  {
   "cell_type": "code",
   "execution_count": null,
   "metadata": {
    "colab": {
     "base_uri": "https://localhost:8080/",
     "height": 272
    },
    "colab_type": "code",
    "id": "0VvcU3xO1lIt",
    "outputId": "6a8133a7-fb30-4fdc-b18f-ec8ed97c66f1"
   },
   "outputs": [
    {
     "name": "stdout",
     "output_type": "stream",
     "text": [
      "              precision    recall  f1-score   support\n",
      "\n",
      "     class 1       0.95      1.00      0.98       887\n",
      "     class 2       0.99      1.00      1.00       883\n",
      "     class 3       0.99      0.99      0.99       878\n",
      "     class 4       0.99      0.91      0.95       889\n",
      "     class 5       1.00      0.99      1.00       891\n",
      "     class 6       0.87      1.00      0.93       873\n",
      "     class 7       0.97      0.88      0.92       880\n",
      "     class 8       1.00      1.00      1.00       859\n",
      "\n",
      "    accuracy                           0.97      7040\n",
      "   macro avg       0.97      0.97      0.97      7040\n",
      "weighted avg       0.97      0.97      0.97      7040\n",
      "\n"
     ]
    }
   ],
   "source": [
    "from sklearn.metrics import classification_report\n",
    "target_names = ['class 1', 'class 2','class 3','class 4','class 5','class 6','class 7','class 8']\n",
    "print(classification_report(y_true, y_pred, target_names=target_names))"
   ]
  },
  {
   "cell_type": "markdown",
   "metadata": {
    "colab_type": "text",
    "id": "Is8D1MPD3Cw7"
   },
   "source": [
    "\n",
    "\n",
    "> f)confusion_matrix\n",
    "\n"
   ]
  },
  {
   "cell_type": "code",
   "execution_count": null,
   "metadata": {
    "colab": {
     "base_uri": "https://localhost:8080/",
     "height": 296
    },
    "colab_type": "code",
    "id": "_SiP7zyB1oSZ",
    "outputId": "26b01961-7669-497b-b311-2f2e3ad73e77"
   },
   "outputs": [
    {
     "data": {
      "text/plain": [
       "<sklearn.metrics._plot.confusion_matrix.ConfusionMatrixDisplay at 0x7f7733e76358>"
      ]
     },
     "execution_count": 32,
     "metadata": {
      "tags": []
     },
     "output_type": "execute_result"
    },
    {
     "data": {
      "image/png": "[encoded data removed]",
      "text/plain": [
       "<Figure size 432x288 with 2 Axes>"
      ]
     },
     "metadata": {
      "needs_background": "light",
      "tags": []
     },
     "output_type": "display_data"
    }
   ],
   "source": [
    "from sklearn.metrics import plot_confusion_matrix\n",
    "plot_confusion_matrix(xgb1, X_test2, y_test2)"
   ]
  },
  {
   "cell_type": "markdown",
   "metadata": {
    "colab_type": "text",
    "id": "olpTV1FA3JAT"
   },
   "source": [
    "\n",
    "\n",
    "> g) currectly classified samples\n"
   ]
  },
  {
   "cell_type": "code",
   "execution_count": null,
   "metadata": {
    "colab": {
     "base_uri": "https://localhost:8080/",
     "height": 34
    },
    "colab_type": "code",
    "id": "uO7b0vfb1rcF",
    "outputId": "92984596-679a-4926-92dc-fcdfbe6da805"
   },
   "outputs": [
    {
     "name": "stdout",
     "output_type": "stream",
     "text": [
      "Number of correctly classified samples : 6825\n"
     ]
    }
   ],
   "source": [
    "print('Number of correctly classified samples : ' + str(accuracy_score(y_test2,y_pred, normalize=False)))"
   ]
  },
  {
   "cell_type": "markdown",
   "metadata": {
    "colab_type": "text",
    "id": "E1V3YMvw3S72"
   },
   "source": [
    "\n",
    "\n",
    "> h) Precision Vs Recall\n",
    "\n"
   ]
  },
  {
   "cell_type": "code",
   "execution_count": null,
   "metadata": {
    "colab": {
     "base_uri": "https://localhost:8080/",
     "height": 349
    },
    "colab_type": "code",
    "id": "6rXd3FyU1u-I",
    "outputId": "91f4de75-627f-41d4-93aa-a56808aa3ec6"
   },
   "outputs": [
    {
     "name": "stderr",
     "output_type": "stream",
     "text": [
      "/usr/local/lib/python3.6/dist-packages/sklearn/utils/deprecation.py:87: FutureWarning: Function plot_precision_recall_curve is deprecated; This will be removed in v0.5.0. Please use scikitplot.metrics.plot_precision_recall instead.\n",
      "  warnings.warn(msg, category=FutureWarning)\n"
     ]
    },
    {
     "data": {
      "image/png": "[encoded data removed]",
      "text/plain": [
       "<Figure size 432x288 with 1 Axes>"
      ]
     },
     "metadata": {
      "needs_background": "light",
      "tags": []
     },
     "output_type": "display_data"
    }
   ],
   "source": [
    "import scikitplot as skplt\n",
    "import matplotlib.pyplot as plt\n",
    "y_true =y_test2\n",
    "y_probas = xgb1.predict_proba(X_test2)\n",
    "skplt.metrics.plot_precision_recall_curve(y_true, y_probas)\n",
    "plt.show()"
   ]
  },
  {
   "cell_type": "markdown",
   "metadata": {
    "colab_type": "text",
    "id": "EODYl5Oh3U3i"
   },
   "source": [
    "\n",
    "\n",
    "> i) ROC curve\n",
    "\n"
   ]
  },
  {
   "cell_type": "code",
   "execution_count": null,
   "metadata": {
    "colab": {
     "base_uri": "https://localhost:8080/",
     "height": 349
    },
    "colab_type": "code",
    "id": "meItTwW71yzH",
    "outputId": "cf5378ef-8928-4cc2-bf23-6b7cc200db0d"
   },
   "outputs": [
    {
     "name": "stderr",
     "output_type": "stream",
     "text": [
      "/usr/local/lib/python3.6/dist-packages/sklearn/utils/deprecation.py:87: FutureWarning: Function plot_roc_curve is deprecated; This will be removed in v0.5.0. Please use scikitplot.metrics.plot_roc instead.\n",
      "  warnings.warn(msg, category=FutureWarning)\n"
     ]
    },
    {
     "data": {
      "image/png": "[encoded data removed]",
      "text/plain": [
       "<Figure size 432x288 with 1 Axes>"
      ]
     },
     "metadata": {
      "needs_background": "light",
      "tags": []
     },
     "output_type": "display_data"
    }
   ],
   "source": [
    "import scikitplot as skplt\n",
    "import matplotlib.pyplot as plt\n",
    "y_true =y_test2\n",
    "y_probas = xgb1.predict_proba(X_test2)\n",
    "skplt.metrics.plot_roc_curve(y_true, y_probas)\n",
    "plt.show()"
   ]
  },
  {
   "cell_type": "markdown",
   "metadata": {
    "colab_type": "text",
    "id": "MSnpHssi07EF"
   },
   "source": []
  }
 ],
 "metadata": {
  "colab": {
   "collapsed_sections": [],
   "name": "XGBoost_Classifier(set1 and set2).ipynb",
   "provenance": []
  },
  "kernelspec": {
   "display_name": "Python 3",
   "language": "python",
   "name": "python3"
  },
  "language_info": {
   "codemirror_mode": {
    "name": "ipython",
    "version": 3
   },
   "file_extension": ".py",
   "mimetype": "text/x-python",
   "name": "python",
   "nbconvert_exporter": "python",
   "pygments_lexer": "ipython3",
   "version": "3.8.3"
  }
 },
 "nbformat": 4,
 "nbformat_minor": 1
}
