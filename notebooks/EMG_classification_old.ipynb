{
 "cells": [
  {
   "cell_type": "code",
   "execution_count": 101,
   "metadata": {},
   "outputs": [
    {
     "data": {
      "text/plain": [
       "SVC(C=100.0, cache_size=200, class_weight=None, coef0=0.0,\n",
       "  decision_function_shape='ovr', degree=1, gamma='auto', kernel='linear',\n",
       "  max_iter=-1, probability=False, random_state=None, shrinking=True,\n",
       "  tol=0.001, verbose=False)"
      ]
     },
     "execution_count": 101,
     "metadata": {},
     "output_type": "execute_result"
    }
   ],
   "source": [
    "# EMG data for S2\n",
    "# Analysis-1\n",
    "#SVM Classifier\n",
    "######################\n",
    "import pandas\n",
    "import numpy as np\n",
    "from sklearn import preprocessing, cross_validation, neighbors, svm, metrics\n",
    "#########################\n",
    "#Import data from file\n",
    "\n",
    "df_train = pandas.read_excel('C:\\\\Users\\\\Suman\\\\Documents\\\\projects\\\\EMG\\\\data\\\\S2\\\\analysis1\\\\traindata_4728_Pos5.xlsx')\n",
    "\n",
    "X_train = np.array(df_train.drop(['CLASS'],1))\n",
    "Y_train = np.array(df_train['CLASS'])\n",
    "\n",
    "\n",
    "\n",
    "\n",
    "\n",
    "#Using Min_Max_Scaler: feature_range=(min, max)  \n",
    "\n",
    "min_max_scaler = preprocessing.MinMaxScaler(feature_range=(0, 1), copy=True)\n",
    "X_train_scaled = min_max_scaler.fit_transform(X_train)\n",
    "\n",
    "#print(X_scaled)\n",
    "\n",
    "\n",
    "\n",
    "\n",
    "\n",
    "# Declare the classifier\n",
    "\n",
    "clf = svm.SVC(C=100.0, kernel='linear', degree=1, gamma='auto', coef0=0.0, shrinking=True, probability=False, tol=0.001, cache_size=200, class_weight=None, verbose=False, max_iter=-1, decision_function_shape='ovr', random_state=None)\n",
    "clf.fit(X_train,Y_train)\n",
    "\n"
   ]
  },
  {
   "cell_type": "code",
   "execution_count": 106,
   "metadata": {},
   "outputs": [
    {
     "name": "stdout",
     "output_type": "stream",
     "text": [
      "Accuracy: 0.976734348562\n"
     ]
    }
   ],
   "source": [
    "df_test = pandas.read_excel('C:\\\\Users\\\\Suman\\\\Documents\\\\projects\\\\EMG\\\\data\\\\S2\\\\analysis1\\\\testdata_4728_Pos5.xlsx')\n",
    "\n",
    "X_test = np.array(df_test.drop(['CLASS'],1))\n",
    "Y_test = np.array(df_test['CLASS'])\n",
    "\n",
    "\n",
    "# Measure CV accuracy\n",
    "\n",
    "accuracy = clf.score(X_test, Y_test)\n",
    "\n",
    "print('Accuracy:', accuracy)"
   ]
  },
  {
   "cell_type": "code",
   "execution_count": 131,
   "metadata": {},
   "outputs": [
    {
     "data": {
      "text/plain": [
       "SVC(C=100.0, cache_size=200, class_weight=None, coef0=0.0,\n",
       "  decision_function_shape='ovr', degree=1, gamma='auto', kernel='linear',\n",
       "  max_iter=-1, probability=False, random_state=None, shrinking=True,\n",
       "  tol=0.001, verbose=False)"
      ]
     },
     "execution_count": 131,
     "metadata": {},
     "output_type": "execute_result"
    }
   ],
   "source": [
    "# EMG data for S2\n",
    "# Analysis-1\n",
    "#SVM Classifier\n",
    "######################\n",
    "import pandas\n",
    "import numpy as np\n",
    "from sklearn import preprocessing, cross_validation, neighbors, svm, metrics\n",
    "#########################\n",
    "#Import data from file\n",
    "\n",
    "df_train = pandas.read_excel('C:\\\\Users\\\\Suman\\\\Documents\\\\projects\\\\EMG\\\\data\\\\S2\\\\analysis2\\\\P_1234_all.xls')\n",
    "\n",
    "X_train = np.array(df_train.drop(['CLASS'],1))\n",
    "Y_train = np.array(df_train['CLASS'])\n",
    "\n",
    "\n",
    "\n",
    "\n",
    "\n",
    "#Using Min_Max_Scaler: feature_range=(min, max)  \n",
    "\n",
    "min_max_scaler = preprocessing.MinMaxScaler(feature_range=(0, 1), copy=True)\n",
    "X_train_scaled = min_max_scaler.fit_transform(X_train)\n",
    "\n",
    "#print(X_scaled)\n",
    "\n",
    "\n",
    "\n",
    "\n",
    "\n",
    "# Declare the classifier\n",
    "\n",
    "clf = svm.SVC(C=100.0, kernel='linear', degree=1, gamma='auto', coef0=0.0, shrinking=True, probability=False, tol=0.001, cache_size=200, class_weight=None, verbose=False, max_iter=-1, decision_function_shape='ovr', random_state=None)\n",
    "clf.fit(X_train,Y_train)\n",
    "\n"
   ]
  },
  {
   "cell_type": "code",
   "execution_count": 134,
   "metadata": {},
   "outputs": [
    {
     "name": "stdout",
     "output_type": "stream",
     "text": [
      "Accuracy: 0.915186125212\n"
     ]
    }
   ],
   "source": [
    "df_test = pandas.read_excel('C:\\\\Users\\\\Suman\\\\Documents\\\\projects\\\\EMG\\\\data\\\\S2\\\\analysis2\\\\P5_all.xlsx')\n",
    "\n",
    "X_test = np.array(df_test.drop(['CLASS'],1))\n",
    "Y_test = np.array(df_test['CLASS'])\n",
    "\n",
    "\n",
    "# Measure CV accuracy\n",
    "\n",
    "accuracy = clf.score(X_test, Y_test)\n",
    "\n",
    "print('Accuracy:', accuracy)\n",
    "\n",
    "\n",
    "#Confusion_matrix\n",
    "#Y_pred=clf.predict(X_test)\n",
    "#cnf_matrix = metrics.confusion_matrix(Y_test, Y_pred)\n",
    "\n",
    "\n",
    "\n"
   ]
  },
  {
   "cell_type": "code",
   "execution_count": 58,
   "metadata": {},
   "outputs": [
    {
     "data": {
      "text/plain": [
       "SVC(C=100.0, cache_size=200, class_weight=None, coef0=0.0,\n",
       "  decision_function_shape='ovr', degree=1, gamma='auto', kernel='linear',\n",
       "  max_iter=-1, probability=False, random_state=None, shrinking=True,\n",
       "  tol=0.001, verbose=False)"
      ]
     },
     "execution_count": 58,
     "metadata": {},
     "output_type": "execute_result"
    }
   ],
   "source": [
    "# EMG data for S2\n",
    "# Analysis-3\n",
    "#SVM Classifier\n",
    "######################\n",
    "import pandas\n",
    "import numpy as np\n",
    "from sklearn import preprocessing, cross_validation, neighbors, svm, metrics\n",
    "#########################\n",
    "#Import data from file\n",
    "\n",
    "#df_train = pandas.read_excel('C:\\\\Users\\\\Suman\\\\Documents\\\\projects\\\\EMG\\\\data\\\\S2\\\\analysis3a\\\\S2_train_P1_P2_P5_all.xls')\n",
    "#df_train = pandas.read_excel('C:\\\\Users\\\\Anand\\Desktop\\\\analysis6\\\\S11_trainset_P135_60.xls')\n",
    "df_train = pandas.read_excel('C:\\\\Users\\\\Anand\\\\Desktop\\\\analysis2\\\\S2\\\\S11_P_1234_all.xls')\n",
    "X_train = np.array(df_train.drop(['CLASS'],1))\n",
    "Y_train = np.array(df_train['CLASS'])\n",
    "\n",
    "\n",
    "\n",
    "\n",
    "\n",
    "#Using Min_Max_Scaler: feature_range=(min, max)  \n",
    "\n",
    "min_max_scaler = preprocessing.MinMaxScaler(feature_range=(0, 1), copy=True)\n",
    "X_train_scaled = min_max_scaler.fit_transform(X_train)\n",
    "\n",
    "#print(X_scaled)\n",
    "\n",
    "\n",
    "\n",
    "\n",
    "\n",
    "# Declare the classifier\n",
    "\n",
    "clf = svm.SVC(C=100.0, kernel='linear', degree=1, gamma='auto', coef0=0.0, shrinking=True, probability=False, tol=0.001, cache_size=200, class_weight=None, verbose=False, max_iter=-1, decision_function_shape='ovr', random_state=None)\n",
    "clf.fit(X_train,Y_train)"
   ]
  },
  {
   "cell_type": "code",
   "execution_count": 59,
   "metadata": {},
   "outputs": [
    {
     "name": "stdout",
     "output_type": "stream",
     "text": [
      "Accuracy: 0.8840947546531303\n"
     ]
    }
   ],
   "source": [
    "#df_test = pandas.read_excel('C:\\\\Users\\\\Suman\\\\Documents\\\\projects\\\\EMG\\\\data\\\\S2\\\\analysis3a\\\\S2_testset_P12345_20.xls')\n",
    "#df_test = pandas.read_excel('C:\\\\Users\\\\Anand\\Desktop\\\\analysis6\\\\S11_trainset_P135_60.xls')\n",
    "df_test = pandas.read_excel('C:\\\\Users\\\\Anand\\\\Desktop\\\\analysis2\\\\S2\\\\S11_P5_all.xls')\n",
    "X_test = np.array(df_test.drop(['CLASS'],1))\n",
    "Y_test = np.array(df_test['CLASS'])\n",
    "\n",
    "\n",
    "# Measure CV accuracy\n",
    "\n",
    "accuracy = clf.score(X_test, Y_test)\n",
    "\n",
    "print('Accuracy:', accuracy)"
   ]
  },
  {
   "cell_type": "code",
   "execution_count": 61,
   "metadata": {},
   "outputs": [
    {
     "name": "stdout",
     "output_type": "stream",
     "text": [
      "[1 1 1 ..., 8 8 8]\n"
     ]
    }
   ],
   "source": [
    "# EMG data for S2\n",
    "# Analysis-3\n",
    "#SVM Classifier\n",
    "######################\n",
    "import pandas\n",
    "import numpy as np\n",
    "from sklearn import preprocessing, cross_validation, neighbors, svm, metrics\n",
    "from sklearn.metrics import roc_curve, auc\n",
    "from sklearn.preprocessing import label_binarize\n",
    "from sklearn.multiclass import OneVsRestClassifier\n",
    "\n",
    "#########################\n",
    "#Import data from file\n",
    "\n",
    "df_train = pandas.read_excel('C:\\\\Users\\\\Suman\\\\Documents\\\\projects\\\\EMG\\\\data\\\\S2\\\\analysis3\\\\traindata_4728_Pos1.xlsx')\n",
    "\n",
    "X_train = np.array(df_train.drop(['CLASS'],1))\n",
    "Y_train = np.array(df_train['CLASS'])\n",
    "\n",
    "print(Y_train)\n",
    "\n",
    "\n"
   ]
  },
  {
   "cell_type": "code",
   "execution_count": 62,
   "metadata": {
    "collapsed": true
   },
   "outputs": [],
   "source": [
    "Y_train = Y_train - 1\n",
    "Y_train = label_binarize(Y_train, classes=[0,1,2,3,4,5,6,7])"
   ]
  },
  {
   "cell_type": "code",
   "execution_count": 63,
   "metadata": {},
   "outputs": [
    {
     "name": "stdout",
     "output_type": "stream",
     "text": [
      "[[1 0 0 ..., 0 0 0]\n",
      " [1 0 0 ..., 0 0 0]\n",
      " [1 0 0 ..., 0 0 0]\n",
      " ..., \n",
      " [0 0 0 ..., 0 0 1]\n",
      " [0 0 0 ..., 0 0 1]\n",
      " [0 0 0 ..., 0 0 1]]\n"
     ]
    }
   ],
   "source": [
    "print(Y_train)"
   ]
  },
  {
   "cell_type": "code",
   "execution_count": 64,
   "metadata": {},
   "outputs": [
    {
     "name": "stdout",
     "output_type": "stream",
     "text": [
      "(4728, 42)\n",
      "(4728, 8)\n"
     ]
    }
   ],
   "source": [
    "\n",
    "print(X_train.shape)\n",
    "print(Y_train.shape)"
   ]
  },
  {
   "cell_type": "code",
   "execution_count": 65,
   "metadata": {
    "collapsed": true
   },
   "outputs": [],
   "source": [
    "n_classes = Y_train.shape[1]\n",
    "\n",
    "classifier = OneVsRestClassifier(svm.SVC(kernel='linear', probability=True))\n"
   ]
  },
  {
   "cell_type": "code",
   "execution_count": 66,
   "metadata": {
    "collapsed": true
   },
   "outputs": [],
   "source": [
    "df_test = pandas.read_excel('C:\\\\Users\\\\Suman\\\\Documents\\\\projects\\\\EMG\\\\data\\\\S2\\\\analysis1\\\\testdata_4728_Pos5.xlsx')\n",
    "\n",
    "X_test = np.array(df_test.drop(['CLASS'],1))\n",
    "Y_test = np.array(df_test['CLASS'])"
   ]
  },
  {
   "cell_type": "code",
   "execution_count": 67,
   "metadata": {},
   "outputs": [
    {
     "name": "stdout",
     "output_type": "stream",
     "text": [
      "[1 1 1 ..., 8 8 8]\n"
     ]
    }
   ],
   "source": [
    "print(Y_test)"
   ]
  },
  {
   "cell_type": "code",
   "execution_count": 68,
   "metadata": {},
   "outputs": [
    {
     "name": "stdout",
     "output_type": "stream",
     "text": [
      "[[1 0 0 ..., 0 0 0]\n",
      " [1 0 0 ..., 0 0 0]\n",
      " [1 0 0 ..., 0 0 0]\n",
      " ..., \n",
      " [0 0 0 ..., 0 0 1]\n",
      " [0 0 0 ..., 0 0 1]\n",
      " [0 0 0 ..., 0 0 1]]\n"
     ]
    }
   ],
   "source": [
    "Y_test = Y_test - 1\n",
    "Y_test = label_binarize(Y_test, classes=[0,1,2,3,4,5,6,7])\n",
    "print(Y_test)"
   ]
  },
  {
   "cell_type": "code",
   "execution_count": 69,
   "metadata": {
    "collapsed": true
   },
   "outputs": [],
   "source": [
    "y_score = classifier.fit(X_train, Y_train).decision_function(X_test)\n"
   ]
  },
  {
   "cell_type": "code",
   "execution_count": 70,
   "metadata": {},
   "outputs": [
    {
     "data": {
      "image/png": "[encoded data removed]",
      "text/plain": [
       "<matplotlib.figure.Figure at 0x7c3d07f630>"
      ]
     },
     "metadata": {},
     "output_type": "display_data"
    }
   ],
   "source": [
    "# Compute macro-average ROC curve and ROC area\n",
    "\n",
    "# First aggregate all false positive rates\n",
    "all_fpr = np.unique(np.concatenate([fpr[i] for i in range(n_classes)]))\n",
    "\n",
    "# Then interpolate all ROC curves at this points\n",
    "mean_tpr = np.zeros_like(all_fpr)\n",
    "for i in range(n_classes):\n",
    "    mean_tpr += interp(all_fpr, fpr[i], tpr[i])\n",
    "\n",
    "# Finally average it and compute AUC\n",
    "mean_tpr /= n_classes\n",
    "\n",
    "fpr[\"macro\"] = all_fpr\n",
    "tpr[\"macro\"] = mean_tpr\n",
    "roc_auc[\"macro\"] = auc(fpr[\"macro\"], tpr[\"macro\"])\n",
    "\n",
    "# Plot all ROC curves\n",
    "plt.figure()\n",
    "plt.plot(fpr[\"micro\"], tpr[\"micro\"],\n",
    "         label='micro-average ROC curve (area = {0:0.2f})'\n",
    "               ''.format(roc_auc[\"micro\"]),\n",
    "         color='deeppink', linestyle=':', linewidth=4)\n",
    "\n",
    "plt.plot(fpr[\"macro\"], tpr[\"macro\"],\n",
    "         label='macro-average ROC curve (area = {0:0.2f})'\n",
    "               ''.format(roc_auc[\"macro\"]),\n",
    "         color='navy', linestyle=':', linewidth=4)\n",
    "\n",
    "colors = cycle(['aqua', 'darkorange', 'cornflowerblue'])\n",
    "for i, color in zip(range(n_classes), colors):\n",
    "    plt.plot(fpr[i], tpr[i], color=color, lw=lw,\n",
    "             label='ROC curve of class {0} (area = {1:0.2f})'\n",
    "             ''.format(i, roc_auc[i]))\n",
    "\n",
    "plt.plot([0, 1], [0, 1], 'k--', lw=lw)\n",
    "plt.xlim([0.0, 1.0])\n",
    "plt.ylim([0.0, 1.05])\n",
    "plt.xlabel('False Positive Rate')\n",
    "plt.ylabel('True Positive Rate')\n",
    "plt.title('Some extension of Receiver operating characteristic to multi-class')\n",
    "plt.legend(loc=\"lower right\")\n",
    "plt.show()"
   ]
  },
  {
   "cell_type": "code",
   "execution_count": null,
   "metadata": {
    "collapsed": true
   },
   "outputs": [],
   "source": []
  }
 ],
 "metadata": {
  "kernelspec": {
   "display_name": "Python 3",
   "language": "python",
   "name": "python3"
  },
  "language_info": {
   "codemirror_mode": {
    "name": "ipython",
    "version": 3
   },
   "file_extension": ".py",
   "mimetype": "text/x-python",
   "name": "python",
   "nbconvert_exporter": "python",
   "pygments_lexer": "ipython3",
   "version": "3.6.4"
  }
 },
 "nbformat": 4,
 "nbformat_minor": 2
}
